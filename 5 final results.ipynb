{
 "cells": [
  {
   "cell_type": "code",
   "execution_count": 1,
   "metadata": {},
   "outputs": [],
   "source": [
    "from epi_model.common_imports import *"
   ]
  },
  {
   "cell_type": "code",
   "execution_count": 2,
   "metadata": {},
   "outputs": [],
   "source": [
    "from simulation_manager import simulation_manager"
   ]
  },
  {
   "cell_type": "code",
   "execution_count": 3,
   "metadata": {},
   "outputs": [],
   "source": [
    "from frozendict import frozendict as fzd"
   ]
  },
  {
   "cell_type": "markdown",
   "metadata": {},
   "source": [
    "# models"
   ]
  },
  {
   "cell_type": "code",
   "execution_count": 33,
   "metadata": {},
   "outputs": [],
   "source": [
    "modelsets = {}"
   ]
  },
  {
   "cell_type": "code",
   "execution_count": 34,
   "metadata": {},
   "outputs": [
    {
     "name": "stdout",
     "output_type": "stream",
     "text": [
      "loading HS1_expand300\n",
      "loading HS2\n",
      "loading synthetic_3\n"
     ]
    }
   ],
   "source": [
    "for name in names:\n",
    "    print(f'loading {name}')\n",
    "    sim_m = simulation_manager()\n",
    "    sim_m.load_models(name)\n",
    "    \n",
    "    modelsets[name] = sim_m"
   ]
  },
  {
   "cell_type": "markdown",
   "metadata": {},
   "source": [
    "# various params"
   ]
  },
  {
   "cell_type": "code",
   "execution_count": 4,
   "metadata": {},
   "outputs": [],
   "source": [
    "names = [\n",
    "    'HS1_expand300',\n",
    "    'HS2',\n",
    "    'synthetic_3'\n",
    "]"
   ]
  },
  {
   "cell_type": "code",
   "execution_count": 5,
   "metadata": {},
   "outputs": [],
   "source": [
    "comparisons = {\n",
    "    'VACCINATE_P': [0.05, 0.10, 0.20, 0.50],\n",
    "    'R0_mean': [1, 2.5, 4],\n",
    "    'INITIAL_INFECT': [5, 10, 20]\n",
    "}"
   ]
  },
  {
   "cell_type": "code",
   "execution_count": 50,
   "metadata": {},
   "outputs": [],
   "source": [
    "defaults = {\n",
    "    'R0_mean': 2.5,\n",
    "    'VACCINATE_P': 0.20,\n",
    "    'INITIAL_INFECT': 20\n",
    "}"
   ]
  },
  {
   "cell_type": "code",
   "execution_count": 51,
   "metadata": {},
   "outputs": [],
   "source": [
    "titles = {\n",
    "    \"HS1_expand300\": \"HS-1\",\n",
    "    \"HS2\": \"HS-2\",\n",
    "    \"synthetic_3\": \"the synthetic network\",\n",
    "}\n",
    "titlestr = sorted(titles)"
   ]
  },
  {
   "cell_type": "code",
   "execution_count": 52,
   "metadata": {},
   "outputs": [],
   "source": [
    "strat_print = {\n",
    "    'friend': \"NR\",\n",
    "    'friendHighDegRandTop5': \"NP(N=5)\",\n",
    "    'friendHighDegRandTop3': \"NP(N=3)\",\n",
    "    'friendHighDegNormalErr20': \"NP(ε=20)\",\n",
    "    'friendHighDegNormalErr10': \"NP(ε=10)\",\n",
    "    'friendHighDeg': \"NP\",\n",
    "    'friendHighDegChain': \"NP(c)\",\n",
    "    'targeted': \"D\"\n",
    "}"
   ]
  },
  {
   "cell_type": "markdown",
   "metadata": {},
   "source": [
    "# some first descriptives"
   ]
  },
  {
   "cell_type": "code",
   "execution_count": 118,
   "metadata": {},
   "outputs": [],
   "source": [
    "def comma_and(X):\n",
    "    return \", \".join( X[:-1] ) + \", and \" + X[-1]"
   ]
  },
  {
   "cell_type": "code",
   "execution_count": 133,
   "metadata": {},
   "outputs": [],
   "source": [
    "desc = \"\"\"\n",
    "First we present the relative effectiveness of these vaccination strategies under one scenario. \n",
    "That is, with the \n",
    "    average infectiousness R0 = 2.5 (with coefficient of variance = 0.2), and \n",
    "    initially infecting 20 individuals.\"\"\"\n",
    "#,     and vaccinating 20% of the population.\n",
    "\n",
    "d = dict(defaults)\n",
    "d['strat'] = 'none'\n",
    "d = fzd(d)\n",
    "\n",
    "means = []\n",
    "for ts in titlestr:\n",
    "    m = modelsets[ts]\n",
    "    inf = m.info(d)\n",
    "    means.append(f\"{inf['mean']:0.1f} +/- {inf['stderr']:0.1f} of the {inf['init_sus']} remaining susceptible in {titles[ts]} ({inf['mean']/inf['init_sus']:0.1%})\")\n",
    "means = comma_and( means )\n",
    "\n",
    "desc += f\"\"\"\n",
    "The average numbers of individuals infected in each context when we do not vaccinate at all, across 300 simulations, are {means}.\"\"\""
   ]
  },
  {
   "cell_type": "code",
   "execution_count": 134,
   "metadata": {},
   "outputs": [],
   "source": [
    "pcts = []\n",
    "for ts in titlestr:\n",
    "    m = modelsets[ts]\n",
    "    inf = m.info(d)\n",
    "    pct = np.sum( np.array(inf['ninf']) >= inf['init_sus']*0.25 ) / inf['Nsims']\n",
    "    pcts.append( f'{pct:0.1%} ({titles[ts]})' )\n",
    "pcts = comma_and( pcts )\n",
    "\n",
    "desc += f\"\"\"\n",
    "More than 25% of the population is infected in {pcts} of simulations.\"\"\""
   ]
  },
  {
   "cell_type": "code",
   "execution_count": 135,
   "metadata": {},
   "outputs": [
    {
     "data": {
      "text/markdown": [
       "\n",
       "First we present the relative effectiveness of these vaccination strategies under one scenario. \n",
       "That is, with the \n",
       "    average infectiousness R0 = 2.5 (with coefficient of variance = 0.2), and \n",
       "    initially infecting 20 individuals.\n",
       "The average numbers of individuals infected in each context when we do not vaccinate at all, across 300 simulations, are 27.5 +/- 0.7 of the 290 remaining susceptible in HS-1 (9.5%), 158.3 +/- 4.7 of the 764 remaining susceptible in HS-2 (20.7%), and 108.3 +/- 4.6 of the 980 remaining susceptible in the synthetic network (11.1%).\n",
       "More than 25% of the population is infected in 0.3% (HS-1), 35.0% (HS-2), and 6.7% (the synthetic network) of simulations."
      ],
      "text/plain": [
       "<IPython.core.display.Markdown object>"
      ]
     },
     "metadata": {},
     "output_type": "display_data"
    }
   ],
   "source": [
    "display(Markdown(desc))"
   ]
  },
  {
   "cell_type": "code",
   "execution_count": 136,
   "metadata": {},
   "outputs": [],
   "source": [
    "d2 = dict(defaults)\n",
    "d2['strat'] = 'rand'\n",
    "d2 = fzd(d2)\n",
    "\n",
    "pcts = []\n",
    "for ts in titlestr:\n",
    "    m = modelsets[ts]\n",
    "    \n",
    "    inf1 = m.info(d)\n",
    "    inf2 = m.info(d2)\n",
    "    \n",
    "    pct = 1 - inf2['P_sus_inf'] / inf1['P_sus_inf']\n",
    "    var = ( inf2['stderr'] / inf2['init_sus'] ) / inf1['P_sus_inf']\n",
    "    pcts.append( f'{pct:0.1%} +/- {var:0.1%} ({titles[ts]})' )\n",
    "    \n",
    "pcts = comma_and( pcts )\n",
    "\n",
    "desc += f\"\"\"\n",
    "Vaccinating 20% of the population randomly will decrease the average number of infections after 100 days by {pcts}.\"\"\""
   ]
  },
  {
   "cell_type": "code",
   "execution_count": 137,
   "metadata": {},
   "outputs": [
    {
     "data": {
      "text/markdown": [
       "\n",
       "First we present the relative effectiveness of these vaccination strategies under one scenario. \n",
       "That is, with the \n",
       "    average infectiousness R0 = 2.5 (with coefficient of variance = 0.2), and \n",
       "    initially infecting 20 individuals.\n",
       "The average numbers of individuals infected in each context when we do not vaccinate at all, across 300 simulations, are 27.5 +/- 0.7 of the 290 remaining susceptible in HS-1 (9.5%), 158.3 +/- 4.7 of the 764 remaining susceptible in HS-2 (20.7%), and 108.3 +/- 4.6 of the 980 remaining susceptible in the synthetic network (11.1%).\n",
       "More than 25% of the population is infected in 0.3% (HS-1), 35.0% (HS-2), and 6.7% (the synthetic network) of simulations.\n",
       "Vaccinating 20% of the population randomly will decrease the average number of infections after 100 days by 19.8% +/- 2.2% (HS-1), 54.4% +/- 1.6% (HS-2), and 54.0% +/- 2.0% (the synthetic network)."
      ],
      "text/plain": [
       "<IPython.core.display.Markdown object>"
      ]
     },
     "metadata": {},
     "output_type": "display_data"
    }
   ],
   "source": [
    "display(Markdown(desc))"
   ]
  },
  {
   "cell_type": "code",
   "execution_count": 138,
   "metadata": {},
   "outputs": [],
   "source": [
    "d3 = dict(defaults)\n",
    "d3['strat'] = 'friendHighDeg'\n",
    "d3 = fzd(d3)\n",
    "\n",
    "pcts = []\n",
    "for ts in titlestr:\n",
    "    m = modelsets[ts]\n",
    "    \n",
    "    inf = m.info(d3)\n",
    "\n",
    "    pct = 1 - inf['P_sus_inf_rel_rand']\n",
    "    var = inf['P_sus_inf_rel_rand_err']\n",
    "    pcts.append( f'{pct:0.1%} +/- {var:0.1%} ({titles[ts]})' )\n",
    "    \n",
    "pcts = comma_and( pcts )\n",
    "\n",
    "desc += f\"\"\"\n",
    "And crucially for the purposes of this paper, nomination of most popular contacts (NP) does significantly better than random vaccination. \n",
    "Vaccinating 20% of the population in this way decreases the average number of infections after 100 days by a *further* {pcts}, relative to random vaccination.\"\"\""
   ]
  },
  {
   "cell_type": "code",
   "execution_count": 139,
   "metadata": {},
   "outputs": [
    {
     "data": {
      "text/markdown": [
       "\n",
       "First we present the relative effectiveness of these vaccination strategies under one scenario. \n",
       "That is, with the \n",
       "    average infectiousness R0 = 2.5 (with coefficient of variance = 0.2), and \n",
       "    initially infecting 20 individuals.\n",
       "The average numbers of individuals infected in each context when we do not vaccinate at all, across 300 simulations, are 27.5 +/- 0.7 of the 290 remaining susceptible in HS-1 (9.5%), 158.3 +/- 4.7 of the 764 remaining susceptible in HS-2 (20.7%), and 108.3 +/- 4.6 of the 980 remaining susceptible in the synthetic network (11.1%).\n",
       "More than 25% of the population is infected in 0.3% (HS-1), 35.0% (HS-2), and 6.7% (the synthetic network) of simulations.\n",
       "Vaccinating 20% of the population randomly will decrease the average number of infections after 100 days by 19.8% +/- 2.2% (HS-1), 54.4% +/- 1.6% (HS-2), and 54.0% +/- 2.0% (the synthetic network).\n",
       "And crucially for the purposes of this paper, nomination of most popular contacts (NP) does significantly better than random vaccination. \n",
       "Vaccinating 20% of the population in this way decreases the average number of infections after 100 days by a *further* 20.4% +/- 2.3% (HS-1), 22.1% +/- 2.8% (HS-2), and 43.6% +/- 2.4% (the synthetic network), relative to random vaccination."
      ],
      "text/plain": [
       "<IPython.core.display.Markdown object>"
      ]
     },
     "metadata": {},
     "output_type": "display_data"
    }
   ],
   "source": [
    "display(Markdown(desc))"
   ]
  },
  {
   "cell_type": "code",
   "execution_count": null,
   "metadata": {},
   "outputs": [],
   "source": []
  }
 ],
 "metadata": {
  "kernelspec": {
   "display_name": "Python 3",
   "language": "python",
   "name": "python3"
  },
  "language_info": {
   "codemirror_mode": {
    "name": "ipython",
    "version": 3
   },
   "file_extension": ".py",
   "mimetype": "text/x-python",
   "name": "python",
   "nbconvert_exporter": "python",
   "pygments_lexer": "ipython3",
   "version": "3.7.5"
  }
 },
 "nbformat": 4,
 "nbformat_minor": 4
}
