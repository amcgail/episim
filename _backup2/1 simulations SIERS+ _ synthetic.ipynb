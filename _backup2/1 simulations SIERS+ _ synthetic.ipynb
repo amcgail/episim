{
 "cells": [
  {
   "cell_type": "markdown",
   "metadata": {},
   "source": [
    "## Set basic parameters"
   ]
  },
  {
   "cell_type": "markdown",
   "metadata": {},
   "source": [
    "Set the total population size"
   ]
  },
  {
   "cell_type": "code",
   "execution_count": 1,
   "metadata": {},
   "outputs": [],
   "source": [
    "NN = 2000"
   ]
  },
  {
   "cell_type": "code",
   "execution_count": 2,
   "metadata": {},
   "outputs": [],
   "source": [
    "T = 100"
   ]
  },
  {
   "cell_type": "markdown",
   "metadata": {},
   "source": [
    "Here we set the initial prevalence to be 1% of the population."
   ]
  },
  {
   "cell_type": "code",
   "execution_count": 3,
   "metadata": {},
   "outputs": [],
   "source": [
    "INIT_EXPOSED = int(NN*0.05)\n",
    "INIT_VACCINATED = int(NN*0.20)\n",
    "N = NN"
   ]
  },
  {
   "cell_type": "markdown",
   "metadata": {},
   "source": [
    "-------"
   ]
  },
  {
   "cell_type": "markdown",
   "metadata": {},
   "source": [
    "# Extended SEIRS Community TTI Demo\n",
    "\n",
    "**In this demonstration we will explore the effect of testing, tracing, and isolation interventions on disease transmission in the setting of an age-stratified population with a realistic contact network structured by households and work/school communities.**\n",
    "\n",
    "This notebook provides a demonstration of the functionality of the [Extended SEIRS Network Model](https://github.com/ryansmcgee/seirsplus/wiki/Extended-SEIRS-Model-Description) and the [TTI Simulation Loop](https://github.com/ryansmcgee/seirsplus/wiki/TTI-Simulation-Loop). This notebook also offers a sandbox for starting to explore TTI scenarios of your own. \n",
    "For a more thorough walkthrough of the model, simulation loop, and use of this package, refer to the [SEIRS+ Wiki](https://github.com/ryansmcgee/seirsplus/wiki)."
   ]
  },
  {
   "cell_type": "markdown",
   "metadata": {},
   "source": [
    "### Installing and importing the model code\n",
    "\n",
    "All of the code needed to run the model is imported from the ```models``` module of this package.\n",
    "\n",
    "In this demo we will also use features from the `networks`, `sim_loops`, and `utilities` modules.\n",
    "\n",
    "#### Install the package using ```pip```\n",
    "The package can be installed on your machine by entering this in the command line:\n",
    "\n",
    "```pip install seirsplus```\n",
    "\n",
    "Then, the ```models```, `networks`, `sim_loops`, and `utilities` modules can be imported as shown here:"
   ]
  },
  {
   "cell_type": "code",
   "execution_count": 4,
   "metadata": {},
   "outputs": [],
   "source": [
    "from seirsplus.models import *\n",
    "from seirsplus.networks import *\n",
    "from seirsplus.sim_loops import *\n",
    "from seirsplus.utilities import *\n",
    "import networkx\n",
    "import matplotlib.pyplot as pyplot"
   ]
  },
  {
   "cell_type": "markdown",
   "metadata": {},
   "source": [
    "#### *Alternatively, manually copy the code to your machine*\n",
    "*You can use the model code without installing a package by copying the ```models.py``` module file to a directory on your machine. For some of the features used in this demo you will also need the `networks`, `sim_loops`, and `utilities` modules. In this case, the easiest way to use the modules is to place your scripts in the same directory as the modules, and import the modules as shown here:*\n",
    "```python\n",
    "from models import *\n",
    "from networks import *\n",
    "from sim_loops import *\n",
    "from utilities import *\n",
    "```"
   ]
  },
  {
   "cell_type": "markdown",
   "metadata": {},
   "source": [
    "-------\n",
    "\n",
    "## Specifying contact networks\n",
    "\n",
    "This package implements models epidemic dynamics for populations with a structured [contact network](Extended-SEIRS-Model-Description#contact-networks). Individuals are represented as nodes in a network, and parameters, contacts, and interventions can be specified on a targeted individual basis. A graph specifying the contact network must be specified, where each node represents an individual in the population and edges connect individuals who have regular interactions.\n",
    "\n",
    "This model also supports scenarios where individuals enter quarantine states in which their parameters and interactions may be different from baseline, and a separate graph defining the interactions for individuals in quarantine can be specified (i.e., the [quarantine contact network](Extended-SEIRS-Model-Description#quarantine-contacts)).\n",
    "\n",
    "**_Note:_** *Simulation time increases with network size. Small networks simulate quickly, but have more stochastic volatility. Networks with ~10,000 are large enough to produce per-capita population dynamics that are generally consistent with those of larger networks, but small enough to simulate quickly. We recommend using networks with ~10,000 nodes for prototyping parameters and scenarios, which can then be run on larger networks if more precision is required.*\n",
    "\n",
    "### Demographic Community Contact Network\n",
    "\n",
    "Here we use the [**demographic community network generator**](https://github.com/ryansmcgee/seirsplus/wiki/Network-Generation#demographic-community-network) defined in the SEIRS+ package. This function generates community-level contact networks with realistic network properties as well as age-stratification, households, and communities (e.g., schools, workplaces) that are calibrated to demographic statistics for a population of interest.\n",
    "\n",
    "Each node is assigned an age bracket (0-9, 10-19, … 70-79, 80+) according to population-level age distribution (e.g. from census data). [FARZ](https://github.com/ryansmcgee/seirsplus/wiki/network-generation#farz-networks) network layers are generated to represent the out-of-household regular contacts amongst individuals of certain age groups (i.e., children, adults, seniors). FARZ networks have a community structure, parameterized in this function such that half of an individuals connections are with members of their own community and half of their connections are with individuals from outside their own community. Separate FARZ network layers are generated for the 0-9 age group (communities can be thought of as primary schools), the 10-19 age group (communities can be thought of as secondary schools), the 20-59 age group (communities can be thought of as workplaces), and the 60+ age group. The degree distribution of these networks are broad with a heavy tail. The mean degree for each layer is calibrated to avaverage number of contacts by age group from [this study](https://journals.plos.org/plosmedicine/article?id=10.1371/journal.pmed.0050074).\n",
    "\n",
    "Nodes are divvied up into households, such that the distribution of household sizes and the household age demographics data provided to the function. All of the nodes in a household are strongly connected, which rivots together the layers for each age group. In the SEIRS+ network models, there is also a probability *p* of well-mixed [global interactions](https://github.com/ryansmcgee/seirsplus/wiki/Extended-SEIRS-Model-Description#global-transmission) (nodes interacting with a randomly drawn node from anywhere in the network), which is an avenue for both within- and between-age-group contacts. \n",
    "\n",
    "We also use the `distancing_scales` argument to generate a quarantine version of the network where a majority of the out-of-household edges have been removed. The distancing scale value of `0.7` is chosen so that ~95% of individuals have no more than a single out-of-household contact (edge) in the quarantine network."
   ]
  },
  {
   "cell_type": "code",
   "execution_count": 5,
   "metadata": {},
   "outputs": [
    {
     "name": "stdout",
     "output_type": "stream",
     "text": [
      "Generated overall age distribution:\n",
      "0-9: 0.1265\t(0.0055 from target)\n",
      "10-19: 0.1220\t(-0.0090 from target)\n",
      "20-29: 0.1320\t(-0.0050 from target)\n",
      "30-39: 0.1305\t(-0.0025 from target)\n",
      "40-49: 0.1160\t(-0.0080 from target)\n",
      "50-59: 0.1245\t(-0.0065 from target)\n",
      "60-69: 0.1205\t(0.0055 from target)\n",
      "70-79: 0.0840\t(0.0140 from target)\n",
      "80+: 0.0440\t(0.0060 from target)\n",
      "\n",
      "Generated household size distribution:\n",
      "1: 0.2822\t(-0.0015 from target)\n",
      "2: 0.3382\t(-0.0069 from target)\n",
      "3: 0.1642\t(0.0136 from target)\n",
      "4: 0.1363\t(0.0086 from target)\n",
      "5: 0.0487\t(-0.0091 from target)\n",
      "6: 0.0195\t(-0.0032 from target)\n",
      "7: 0.0109\t(-0.0015 from target)\n",
      "Num households: 822\n",
      "mean household size: 2.448393594\n",
      "\n",
      "Generating graph for 0-9...\n",
      "Generating graph for 10-19...\n",
      "Generating graph for 20-59...\n",
      "Generating graph for 60+...\n"
     ]
    }
   ],
   "source": [
    "demographic_graphs, individual_ageGroups, households = generate_demographic_contact_network(\n",
    "                                                            N=N, demographic_data=household_country_data('US'), \n",
    "                                                            distancing_scales=[0.7], isolation_groups=[])\n",
    "\n",
    "G_baseline   = demographic_graphs['baseline']\n",
    "G_quarantine = demographic_graphs['distancingScale0.7']\n",
    "\n",
    "households_indices = [household['indices'] for household in households]"
   ]
  },
  {
   "cell_type": "code",
   "execution_count": 6,
   "metadata": {},
   "outputs": [
    {
     "name": "stdout",
     "output_type": "stream",
     "text": [
      "Baseline:\n",
      "Degree: mean = 13.89, std = 14.77, 95% CI = (2.00, 56.02)\n",
      "        coeff var = 1.06\n",
      "Assortativity:    0.03\n",
      "Clustering coeff: 0.32\n",
      "\n"
     ]
    },
    {
     "data": {
      "image/png": "[encoded data removed]",
      "text/plain": [
       "<Figure size 432x288 with 1 Axes>"
      ]
     },
     "metadata": {
      "needs_background": "light"
     },
     "output_type": "display_data"
    }
   ],
   "source": [
    "network_info(G_baseline, \"Baseline\", plot=True)"
   ]
  },
  {
   "cell_type": "code",
   "execution_count": 7,
   "metadata": {},
   "outputs": [
    {
     "name": "stdout",
     "output_type": "stream",
     "text": [
      "Quarantine:\n",
      "Degree: mean = 2.23, std = 1.52, 95% CI = (0.00, 6.00)\n",
      "        coeff var = 0.68\n",
      "Assortativity:    0.97\n",
      "Clustering coeff: 0.59\n",
      "\n"
     ]
    },
    {
     "data": {
      "image/png": "[encoded data removed]",
      "text/plain": [
       "<Figure size 432x288 with 1 Axes>"
      ]
     },
     "metadata": {
      "needs_background": "light"
     },
     "output_type": "display_data"
    }
   ],
   "source": [
    "network_info(G_quarantine, \"Quarantine\", plot=True)"
   ]
  },
  {
   "cell_type": "markdown",
   "metadata": {},
   "source": [
    "-------"
   ]
  },
  {
   "cell_type": "markdown",
   "metadata": {},
   "source": [
    "## Specifying parameters\n",
    "\n",
    "**_The parameter values used in this notebook reflect rough estimates of parameter values for the COVID-19 epidemic (as of 9 Aug 2020)._**"
   ]
  },
  {
   "cell_type": "markdown",
   "metadata": {},
   "source": [
    "### Set disease progression rate parameters:"
   ]
  },
  {
   "cell_type": "markdown",
   "metadata": {},
   "source": [
    "Parameter values are assigned to members of the population on an individual basis. Parameter values can be [specified to the `ExtSEIRSNetworkModel`](https://github.com/ryansmcgee/seirsplus/wiki/ExtSEIRSNetworkModel-Class#specifying-parameters) by providing a list of values that gives the *N* values to assign to each individual. The population may be either homogeneous or heterogeneous for a given parameter at the user's discretion. \n",
    "\n",
    "**Here we generate distributions of values for each parameter, and some parameter value are specified in an age-stratified manner, thus specifying a realistically heterogeneous population.**"
   ]
  },
  {
   "cell_type": "markdown",
   "metadata": {},
   "source": [
    "Generate a distribution of expected latent periods (time in Exposed state) and presymptomatic periods (time in Pre-symptomatic infectious state). The `sigma` and `lamda` rates are calculated as the inverse of the expected exposed and pre-symptomatic periods assigned to each individual, respectively."
   ]
  },
  {
   "cell_type": "code",
   "execution_count": 8,
   "metadata": {},
   "outputs": [
    {
     "name": "stdout",
     "output_type": "stream",
     "text": [
      "latent period:  mean = 2.18, std = 1.09, 95% CI = (0.59, 4.78)\n",
      "\n",
      "pre-symptomatic period:  mean = 2.96, std = 1.81, 95% CI = (0.52, 7.27)\n",
      "\n",
      "total incubation period:  mean = 5.13, std = 2.13, 95% CI = (2.04, 9.92)\n",
      "\n"
     ]
    },
    {
     "data": {
      "image/png": "[encoded data removed]",
      "text/plain": [
       "<Figure size 432x288 with 1 Axes>"
      ]
     },
     "metadata": {
      "needs_background": "light"
     },
     "output_type": "display_data"
    }
   ],
   "source": [
    "latentPeriod_mean, latentPeriod_coeffvar = 3.0, 0.6\n",
    "SIGMA   = 1 / gamma_dist(latentPeriod_mean, latentPeriod_coeffvar, N)\n",
    "\n",
    "presymptomaticPeriod_mean, presymptomaticPeriod_coeffvar = 2.2, 0.5\n",
    "LAMDA   = 1 / gamma_dist(presymptomaticPeriod_mean, presymptomaticPeriod_coeffvar, N)\n",
    "\n",
    "dist_info([1/LAMDA, 1/SIGMA, 1/LAMDA+1/SIGMA], [\"latent period\", \"pre-symptomatic period\", \"total incubation period\"], plot=True, colors=['gold', 'darkorange', 'black'], reverse_plot=True)"
   ]
  },
  {
   "cell_type": "markdown",
   "metadata": {},
   "source": [
    "Generate a distribution of expected (a)symptomatic periods (time in symptomatic or asymptomatic state). The `gamma` rates are calculated as the inverse of the expected (a)symptomatic periods assigned to each individual. \n",
    "\n",
    "The expected total infectious period for each individual is the sum of their expected pre-symptomatic and (a)symptomatic periods."
   ]
  },
  {
   "cell_type": "code",
   "execution_count": 10,
   "metadata": {},
   "outputs": [
    {
     "name": "stdout",
     "output_type": "stream",
     "text": [
      "pre-symptomatic period:  mean = 2.18, std = 1.09, 95% CI = (0.59, 4.78)\n",
      "\n",
      "(a)symptomatic period:  mean = 4.01, std = 1.65, 95% CI = (1.44, 7.83)\n",
      "\n",
      "total infectious period:  mean = 6.19, std = 1.98, 95% CI = (2.96, 10.51)\n",
      "\n"
     ]
    },
    {
     "data": {
      "image/png": "[encoded data removed]",
      "text/plain": [
       "<Figure size 432x288 with 1 Axes>"
      ]
     },
     "metadata": {
      "needs_background": "light"
     },
     "output_type": "display_data"
    }
   ],
   "source": [
    "symptomaticPeriod_mean, symptomaticPeriod_coeffvar = 4.0, 0.4\n",
    "GAMMA   = 1 / gamma_dist(symptomaticPeriod_mean, symptomaticPeriod_coeffvar, N)\n",
    "\n",
    "infectiousPeriod = 1/LAMDA + 1/GAMMA\n",
    "\n",
    "dist_info([1/LAMDA, 1/GAMMA, 1/LAMDA+1/GAMMA], [\"pre-symptomatic period\", \"(a)symptomatic period\", \"total infectious period\"], plot=True, colors=['darkorange', 'crimson', 'black'], reverse_plot=True)"
   ]
  },
  {
   "cell_type": "code",
   "execution_count": null,
   "metadata": {},
   "outputs": [],
   "source": [
    "1/GAMMA"
   ]
  },
  {
   "cell_type": "code",
   "execution_count": 16,
   "metadata": {},
   "outputs": [
    {
     "data": {
      "text/plain": [
       "1.1905074472747648"
      ]
     },
     "execution_count": 16,
     "metadata": {},
     "output_type": "execute_result"
    }
   ],
   "source": []
  },
  {
   "cell_type": "code",
   "execution_count": 23,
   "metadata": {},
   "outputs": [
    {
     "data": {
      "text/plain": [
       "(2.1779041498059697, 4.010285827395646)"
      ]
     },
     "execution_count": 23,
     "metadata": {},
     "output_type": "execute_result"
    }
   ],
   "source": [
    "(1/LAMDA).mean(), (1/GAMMA).mean()"
   ]
  },
  {
   "cell_type": "code",
   "execution_count": 26,
   "metadata": {},
   "outputs": [
    {
     "data": {
      "text/plain": [
       "0.6343136186007133"
      ]
     },
     "execution_count": 26,
     "metadata": {},
     "output_type": "execute_result"
    }
   ],
   "source": [
    "infectiousPeriod.var() / infectiousPeriod.mean()"
   ]
  },
  {
   "cell_type": "markdown",
   "metadata": {},
   "source": [
    "Generate a distribution of expected onset-to-hospitalization periods (time in symptomatic state before entering hospitalized state for those with severe cases) and hospitalization-to-discharge periods (time in hospitalized state for those with non-fatal cases). The `eta` and `gamma_H` rates are calculated as the inverse of the expected onset-to-hospitalization periods and hospitalization-to-discharge periods assigned to each individual, respectively."
   ]
  },
  {
   "cell_type": "code",
   "execution_count": 10,
   "metadata": {},
   "outputs": [
    {
     "name": "stdout",
     "output_type": "stream",
     "text": [
      "onset-to-hospitalization period:  mean = 11.02, std = 4.91, 95% CI = (3.62, 22.71)\n",
      "\n",
      "hospitalization-to-discharge period:  mean = 11.21, std = 5.10, 95% CI = (3.68, 23.41)\n",
      "\n",
      "onset-to-discharge period:  mean = 22.22, std = 6.99, 95% CI = (11.07, 38.11)\n",
      "\n"
     ]
    },
    {
     "data": {
      "image/png": "[encoded data removed]",
      "text/plain": [
       "<Figure size 432x288 with 1 Axes>"
      ]
     },
     "metadata": {
      "needs_background": "light"
     },
     "output_type": "display_data"
    }
   ],
   "source": [
    "onsetToHospitalizationPeriod_mean, onsetToHospitalizationPeriod_coeffvar = 11.0, 0.45\n",
    "ETA     = 1 / gamma_dist(onsetToHospitalizationPeriod_mean, onsetToHospitalizationPeriod_coeffvar, N)\n",
    "\n",
    "hospitalizationToDischargePeriod_mean, hospitalizationToDischargePeriod_coeffvar = 11.0, 0.45\n",
    "GAMMA_H = 1 / gamma_dist(hospitalizationToDischargePeriod_mean, hospitalizationToDischargePeriod_coeffvar, N)\n",
    "\n",
    "dist_info([1/ETA, 1/GAMMA_H, 1/ETA+1/GAMMA_H], [\"onset-to-hospitalization period\", \"hospitalization-to-discharge period\", \"onset-to-discharge period\"], plot=True, colors=['crimson', 'violet', 'black'], reverse_plot=True)"
   ]
  },
  {
   "cell_type": "markdown",
   "metadata": {},
   "source": [
    "Generate a distribution of hospitalization-to-death periods (time in hospitalized state for those with fatal cases). The `mu_H` rates are calculated as the inverse of the expected hospitalization-to-death periods."
   ]
  },
  {
   "cell_type": "code",
   "execution_count": 11,
   "metadata": {},
   "outputs": [
    {
     "name": "stdout",
     "output_type": "stream",
     "text": [
      "onset-to-hospitalization period:  mean = 11.02, std = 4.91, 95% CI = (3.62, 22.71)\n",
      "\n",
      "hospitalization-to-death period:  mean = 7.02, std = 3.15, 95% CI = (2.26, 13.89)\n",
      "\n",
      "onset-to-death period:  mean = 18.03, std = 5.82, 95% CI = (8.36, 31.04)\n",
      "\n"
     ]
    },
    {
     "data": {
      "image/png": "[encoded data removed]",
      "text/plain": [
       "<Figure size 432x288 with 1 Axes>"
      ]
     },
     "metadata": {
      "needs_background": "light"
     },
     "output_type": "display_data"
    }
   ],
   "source": [
    "hospitalizationToDeathPeriod_mean, hospitalizationToDeathPeriod_coeffvar = 7.0, 0.45\n",
    "MU_H    = 1 / gamma_dist(hospitalizationToDeathPeriod_mean, hospitalizationToDeathPeriod_coeffvar, N)\n",
    "\n",
    "dist_info([1/ETA, 1/MU_H, 1/ETA+1/MU_H], [\"onset-to-hospitalization period\", \"hospitalization-to-death period\", \"onset-to-death period\"], plot=True, colors=['crimson', 'darkgray', 'black'], reverse_plot=True)"
   ]
  },
  {
   "cell_type": "markdown",
   "metadata": {},
   "source": [
    "### Set severity parameters"
   ]
  },
  {
   "cell_type": "markdown",
   "metadata": {},
   "source": [
    "Specify the percentage of cases that are asymptomatic. This percentage of case will progress from the pre-symptomatic state to the asymptomatic state, rather than to the symptomatic state."
   ]
  },
  {
   "cell_type": "code",
   "execution_count": 12,
   "metadata": {},
   "outputs": [],
   "source": [
    "PCT_ASYMPTOMATIC = 0.25"
   ]
  },
  {
   "cell_type": "markdown",
   "metadata": {},
   "source": [
    "Here we age-stratify our definition of asymptomatic rate by setting the percent of asymptomatic cases for children to be 80% while the rest of the adult population remains set at 25%.\n",
    "\n",
    "The `individual_ageGroups` variable is returned by the [`generate_demographic_contact_network()` function](https://github.com/ryansmcgee/seirsplus/wiki/Network-generation#demographic-community-network) and holds a list of the age group labels assigned to each individual. This is useful for assigning parameters in an age-group-dependent way as we do for the following severity parameters."
   ]
  },
  {
   "cell_type": "code",
   "execution_count": 13,
   "metadata": {},
   "outputs": [],
   "source": [
    "PCT_ASYMPTOMATIC = [0.8 if age in ['0-9', '10-19'] else PCT_ASYMPTOMATIC for age in individual_ageGroups]"
   ]
  },
  {
   "cell_type": "markdown",
   "metadata": {},
   "source": [
    "Here we specify age-stratified case hospitalization rates using rates taken from [Verity et al. (2020)](https://www.thelancet.com/journals/laninf/article/PIIS1473-3099(20)30243-7/fulltext)."
   ]
  },
  {
   "cell_type": "code",
   "execution_count": 14,
   "metadata": {},
   "outputs": [],
   "source": [
    "ageGroup_pctHospitalized = {'0-9':      0.0000,\n",
    "                            '10-19':    0.0004,\n",
    "                            '20-29':    0.0104,\n",
    "                            '30-39':    0.0343,\n",
    "                            '40-49':    0.0425,\n",
    "                            '50-59':    0.0816,\n",
    "                            '60-69':    0.118,\n",
    "                            '70-79':    0.166,\n",
    "                            '80+':      0.184 }\n",
    "PCT_HOSPITALIZED = [ageGroup_pctHospitalized[ageGroup] for ageGroup in individual_ageGroups]"
   ]
  },
  {
   "cell_type": "markdown",
   "metadata": {},
   "source": [
    "Here we specify fatality rates for hospitalized cases, again using rates taken from [Verity et al. (2020)](https://www.thelancet.com/journals/laninf/article/PIIS1473-3099(20)30243-7/fulltext)."
   ]
  },
  {
   "cell_type": "code",
   "execution_count": 15,
   "metadata": {},
   "outputs": [],
   "source": [
    "ageGroup_hospitalFatalityRate = {'0-9':     0.0000,\n",
    "                                 '10-19':   0.3627,\n",
    "                                 '20-29':   0.0577,\n",
    "                                 '30-39':   0.0426,\n",
    "                                 '40-49':   0.0694,\n",
    "                                 '50-59':   0.1532,\n",
    "                                 '60-69':   0.3381,\n",
    "                                 '70-79':   0.5187,\n",
    "                                 '80+':     0.7283 }\n",
    "PCT_FATALITY = [ageGroup_hospitalFatalityRate[ageGroup] for ageGroup in individual_ageGroups]"
   ]
  },
  {
   "cell_type": "markdown",
   "metadata": {},
   "source": [
    "### Set transmission parameters"
   ]
  },
  {
   "cell_type": "markdown",
   "metadata": {},
   "source": [
    "The [Extended SEIRS Network Model](https://github.com/ryansmcgee/seirsplus/wiki/Extended-SEIRS-Model-Description#stochastic-network-model-implementation) model considers two modes of disease transmission: a well-mixed mode of [global transmission](https://github.com/ryansmcgee/seirsplus/wiki/Extended-SEIRS-Model-Description#global-transmission) and a contact network based mode of [local transmission](https://github.com/ryansmcgee/seirsplus/wiki/Extended-SEIRS-Model-Description#local-transmission). The propensity for a given individual to become exposed due to global transmission depends on the mean transmissibility of all infectious individuals in the population; the propensity for a given individual to become exposed due to local transmission depends on the pairwise transmissibilities between the focal node and its infectious contacts in the network (see [Transmission](https://github.com/ryansmcgee/seirsplus/wiki/Extended-SEIRS-Model-Description#transmission) and [Model Equations](https://github.com/ryansmcgee/seirsplus/wiki/Extended-SEIRS-Model-Description#model-equations) for more information about these calculations). "
   ]
  },
  {
   "cell_type": "markdown",
   "metadata": {},
   "source": [
    "The transmissibility parameter *β* can be related to the basic reproduction number *R<sub>0</sub>* (i.e., the expected number of new infections generated by a single infectious individual in a completely susceptible population) by the standard formula: *β = R<sub>0</sub>𝛾*. *R<sub>0</sub>* is a more interpretable parameter, so we specify transmissibility in terms of *R<sub>0</sub>* and then calculate the corresponding *β* values.\n",
    "\n",
    "First, we generate a distribution of individual *R<sub>0</sub>* values (i.e., the expected number of new infections generated by a single *particular* infectious individual in a completely susceptible population). Of course, this means that transmissibility is heterogeneous in this population. The coefficient of variation is an important parameter for the individual *R<sub>0</sub>* distribution in that it tunes the degree of superspreading in the heterogeneous transmissibility. The distribution used in this example has a relatively low coefficient of variation, so most individuals have around the same degree of transmissibility. But a higher coefficient of variation (e.g., 2.0) would give a long right tail in idividual transmissibility representing a small number of individuals contributing many cases while the majority cases contribute less than 1 on average when they are infectious."
   ]
  },
  {
   "cell_type": "code",
   "execution_count": 16,
   "metadata": {},
   "outputs": [
    {
     "name": "stdout",
     "output_type": "stream",
     "text": [
      "Individual R0:  mean = 2.49, std = 0.49, 95% CI = (1.63, 3.54)\n",
      "\n"
     ]
    },
    {
     "data": {
      "image/png": "[encoded data removed]",
      "text/plain": [
       "<Figure size 432x288 with 1 Axes>"
      ]
     },
     "metadata": {
      "needs_background": "light"
     },
     "output_type": "display_data"
    }
   ],
   "source": [
    "R0_mean     = 2.5\n",
    "R0_coeffvar = 0.2\n",
    "\n",
    "R0 = gamma_dist(R0_mean, R0_coeffvar, N)\n",
    "\n",
    "dist_info(R0, \"Individual R0\", bin_size=0.1, plot=True, colors='crimson')"
   ]
  },
  {
   "cell_type": "markdown",
   "metadata": {},
   "source": [
    "Individuals are ultimately assigned an [*Individual Transmissibility Value*](https://github.com/ryansmcgee/seirsplus/wiki/ExtSEIRSNetworkModel-Class#transmissibility-parameters) (*β<sup>i</sup>*), which are stored in the `beta` attribute of the model object. \n",
    "\n",
    "The means of the Individual Transmissibility Values for infectious subpopulations are used to calculate the [global transmission](https://github.com/ryansmcgee/seirsplus/wiki/Extended-SEIRS-Model-Description#global-transmission) terms. Individual Transmissibility Values may also be used to generate the Pairwise Transmissibility Values used for [local transmission](https://github.com/ryansmcgee/seirsplus/wiki/Extended-SEIRS-Model-Description#local-transmission) terms, as we will specify in a few steps."
   ]
  },
  {
   "cell_type": "code",
   "execution_count": 17,
   "metadata": {},
   "outputs": [],
   "source": [
    "BETA = 1/infectiousPeriod * R0"
   ]
  },
  {
   "cell_type": "markdown",
   "metadata": {},
   "source": [
    "Individuals can be assigned different Individual Transmissibility Values for use when they are asymptomatic and quarantine states. \n",
    "\n",
    "Here we set the transmissibility of quarantined individuals such that the mean effective reproduction number for quarantined individuals is about 0.3. This supposes that individuals have different behavior, hygiene, etc. when they are quarantining relative to baseline."
   ]
  },
  {
   "cell_type": "code",
   "execution_count": 18,
   "metadata": {},
   "outputs": [],
   "source": [
    "BETA_Q = BETA * (0.3/R0_mean)"
   ]
  },
  {
   "cell_type": "markdown",
   "metadata": {},
   "source": [
    "Now we specify how we would like the [*Pairwise Transmissibility Values*](https://github.com/ryansmcgee/seirsplus/wiki/ExtSEIRSNetworkModel-Class#transmissibility-parameters) (*β<sup>i</sup>*), which define the local transmissibility for each pair of close contacts, to be calculated. There are [multiple ways to specify these pairwise transmissibilities](https://github.com/ryansmcgee/seirsplus/wiki/ExtSEIRSNetworkModel-Class#pairwise-transmissibility-values) (such as providing a matrix), but here we will set the `beta_pairwise_mode` argument of the `ExtSEIRSNetworkModel` constructor to `'infected'`, which will direct the model to automatically generate a matrix of Pairwise Transmissibility Values such that the transmissibility of each infectious-susceptible interaction is equal to the infected individual's transmissiblity."
   ]
  },
  {
   "cell_type": "code",
   "execution_count": 19,
   "metadata": {},
   "outputs": [],
   "source": [
    "BETA_PAIRWISE_MODE  = 'infected'"
   ]
  },
  {
   "cell_type": "markdown",
   "metadata": {},
   "source": [
    "Here we designate that we would like the model to automatically calculate [Connectivity Correction Factors](https://github.com/ryansmcgee/seirsplus/wiki/Extended-SEIRS-Model-Description#connectivity-correction-factor) for each pair of interacting close contacts. This pairwise factor is optional, but it can be used to weight the transmissibility of interactions according to the connectivity of the interacting individuals. Here we choose to weight interactions according to a ratio of the pair's mean degree to the population's mean degree (see [Specifying connectivity Correction Factors](https://github.com/ryansmcgee/seirsplus/wiki/ExtSEIRSNetworkModel-Class#connectivity-correction-factors) for more information). \n",
    "\n",
    "Using this definition, when two individuals whose average degree is an order of magnitude greater than the average degree of the population overall, then the propensity of exposure in their interaction is weighted to be twice that of two averagely-connected individuals. "
   ]
  },
  {
   "cell_type": "code",
   "execution_count": 20,
   "metadata": {},
   "outputs": [],
   "source": [
    "DELTA_PAIRWISE_MODE = 'mean'"
   ]
  },
  {
   "cell_type": "markdown",
   "metadata": {},
   "source": [
    "Here we set individual susceptibilities (default susceptibility is 1). \n",
    "\n",
    "In particular, we specify that children are half as susceptible as adults."
   ]
  },
  {
   "cell_type": "code",
   "execution_count": 21,
   "metadata": {},
   "outputs": [],
   "source": [
    "ALPHA = [0.5 if age in ['0-9', '10-19'] else 1.0 for age in individual_ageGroups]"
   ]
  },
  {
   "cell_type": "markdown",
   "metadata": {},
   "source": [
    "In the stochastic network model, an individual comes into contact with a random individual from the population at large (e.g., in a public space) with probability *p* or with an individual from their set of close contacts with probability *(1-p)*. Transmission that occurs between an individual and the population at large is referred to as [global transmission](https://github.com/ryansmcgee/seirsplus/wiki/Extended-SEIRS-Model-Description#global-transmission), and transmission between an individual and one of their close contacts (network neighbors) is referred to as [local transmission](https://github.com/ryansmcgee/seirsplus/wiki/Extended-SEIRS-Model-Description#local-transmission). The parameter *p* defines the locality of the network: for *p=0* an individual only interacts with their close contacts, while *p=1* represents a uniformly mixed population.\n",
    "\n",
    "Here we set *p* to reflect 20% of interactions being with incidental or casual contacts outside their set of close contacts."
   ]
  },
  {
   "cell_type": "code",
   "execution_count": 22,
   "metadata": {},
   "outputs": [],
   "source": [
    "P_GLOBALINTXN = 0.2 #AHHH DO I WANT THIS?!"
   ]
  },
  {
   "cell_type": "markdown",
   "metadata": {},
   "source": [
    "The parameter *q* (down)weights the rate of interactions with the population at large while one is in quarantine relative to baseline.\n",
    "\n",
    "Here we set *q* to 0.05, which supposes that global interactions are quite rare (but nonzero) for quarantined individuals."
   ]
  },
  {
   "cell_type": "code",
   "execution_count": 23,
   "metadata": {},
   "outputs": [],
   "source": [
    "Q_GLOBALINTXN = 0.05"
   ]
  },
  {
   "cell_type": "code",
   "execution_count": 24,
   "metadata": {},
   "outputs": [],
   "source": [
    "with open(\"SEIRS+_graph.pickle\", 'wb') as outf:\n",
    "    pickle.dump(G_baseline, outf)"
   ]
  },
  {
   "cell_type": "markdown",
   "metadata": {},
   "source": [
    "-------"
   ]
  },
  {
   "cell_type": "markdown",
   "metadata": {},
   "source": [
    "# start experimenting"
   ]
  },
  {
   "cell_type": "code",
   "execution_count": 25,
   "metadata": {},
   "outputs": [],
   "source": [
    "base_args = {\n",
    "    'G': G_baseline,\n",
    "    'p': P_GLOBALINTXN,\n",
    "    'beta': BETA,\n",
    "    'sigma': SIGMA,\n",
    "    'lamda': LAMDA,\n",
    "    'gamma': GAMMA,\n",
    "    'gamma_asym': GAMMA,\n",
    "    'eta':ETA,\n",
    "    'gamma_H':GAMMA_H,\n",
    "    'mu_H':MU_H,\n",
    "    'a':PCT_ASYMPTOMATIC,\n",
    "    'h':PCT_HOSPITALIZED,\n",
    "    'f':PCT_FATALITY,\n",
    "    'alpha':ALPHA,\n",
    "    'beta_pairwise_mode':BETA_PAIRWISE_MODE,\n",
    "    'delta_pairwise_mode':DELTA_PAIRWISE_MODE,\n",
    "    'G_Q':G_quarantine,\n",
    "    'q':0,\n",
    "    'beta_Q':BETA_Q,\n",
    "    'isolation_time':14,\n",
    "    'initI_asym':INIT_EXPOSED # note that I'm putting them into the asymptomatic infectious group, to be similar to the other...\n",
    "}"
   ]
  },
  {
   "cell_type": "code",
   "execution_count": 26,
   "metadata": {},
   "outputs": [],
   "source": [
    "model = ExtSEIRSNetworkModel(**base_args)"
   ]
  },
  {
   "cell_type": "code",
   "execution_count": 27,
   "metadata": {},
   "outputs": [],
   "source": [
    "from epi_model import *"
   ]
  },
  {
   "cell_type": "code",
   "execution_count": 29,
   "metadata": {},
   "outputs": [],
   "source": [
    "nodes = sorted(G_baseline.nodes)\n",
    "edges = list(G_baseline.edges)\n",
    "tnet = unweightedNetwork(nodes, edges, 1)"
   ]
  },
  {
   "cell_type": "code",
   "execution_count": 30,
   "metadata": {},
   "outputs": [],
   "source": [
    "p = dict(params.covid_estimate)\n",
    "sim = simulations.SEIR_daily(tnet, p)"
   ]
  },
  {
   "cell_type": "code",
   "execution_count": 31,
   "metadata": {},
   "outputs": [],
   "source": [
    "n2id = {n:i for i,n in enumerate(tnet.nodes)}"
   ]
  },
  {
   "cell_type": "code",
   "execution_count": 32,
   "metadata": {},
   "outputs": [],
   "source": [
    "attrs_to_keep = [k for k in model.__dict__ if 'num' == k[:3]]\n",
    "attrs_to_keep += ['tseries']"
   ]
  },
  {
   "cell_type": "code",
   "execution_count": 33,
   "metadata": {},
   "outputs": [],
   "source": [
    "def friendHighDegRandTop3(sim, vaccinateN):\n",
    "    return sampling.friendHighDegRandTopN(sim, vaccinateN, N=3)\n",
    "def friendHighDegRandTop5(sim, vaccinateN):\n",
    "    return sampling.friendHighDegRandTopN(sim, vaccinateN, N=5)"
   ]
  },
  {
   "cell_type": "code",
   "execution_count": 46,
   "metadata": {},
   "outputs": [],
   "source": [
    "strats = [\n",
    "    #sampling.friendClose,\n",
    "    #sampling.friendHighDegClose,\n",
    "    sampling.friendHighDeg,\n",
    "    sampling.targeted,\n",
    "    sampling.none,\n",
    "    sampling.rand,\n",
    "    #sampling.friendWeightedChain,\n",
    "]\n",
    "\n",
    "strats += 1*[\n",
    "    sampling.friend,\n",
    "    sampling.friendHighDegChain,\n",
    "    friendHighDegRandTop3,\n",
    "    friendHighDegRandTop5,\n",
    "]"
   ]
  },
  {
   "cell_type": "code",
   "execution_count": 48,
   "metadata": {},
   "outputs": [],
   "source": [
    "models = defaultdict(list)"
   ]
  },
  {
   "cell_type": "code",
   "execution_count": 50,
   "metadata": {},
   "outputs": [],
   "source": [
    "from time import time\n",
    "from frozendict import frozendict"
   ]
  },
  {
   "cell_type": "code",
   "execution_count": 51,
   "metadata": {},
   "outputs": [],
   "source": [
    "from simulation_helper import *"
   ]
  },
  {
   "cell_type": "code",
   "execution_count": 52,
   "metadata": {},
   "outputs": [
    {
     "name": "stdout",
     "output_type": "stream",
     "text": [
      "0 1 1\n",
      "0 1 1\n",
      "0 1 4\n",
      "0 4 8\n",
      "1 1 1\n",
      "1 1 1\n",
      "1 1 4\n",
      "1 4 8\n",
      "2 1 1\n",
      "2 1 1\n",
      "2 1 4\n",
      "2 4 8\n",
      "3 1 1\n",
      "3 1 1\n",
      "3 1 4\n",
      "3 4 8\n",
      "4 1 1\n",
      "4 1 1\n",
      "4 1 4\n",
      "4 4 8\n",
      "5 1 1\n",
      "5 1 1\n",
      "5 1 4\n",
      "5 4 8\n",
      "6 1 1\n",
      "6 1 1\n",
      "6 1 4\n",
      "6 4 8\n",
      "7 1 1\n",
      "7 1 1\n",
      "7 1 4\n",
      "7 4 8\n",
      "8 1 1\n",
      "8 1 1\n",
      "8 1 4\n",
      "8 4 8\n",
      "9 1 1\n",
      "9 1 1\n",
      "9 1 4\n",
      "9 4 8\n",
      "10 1 1\n",
      "10 1 1\n",
      "10 1 4\n",
      "10 4 8\n",
      "11 1 1\n",
      "11 1 1\n",
      "11 1 4\n",
      "11 4 8\n",
      "12 1 1\n",
      "12 1 1\n",
      "12 1 4\n",
      "12 4 8\n",
      "13 1 1\n",
      "13 1 1\n",
      "13 1 4\n",
      "13 4 8\n",
      "14 1 1\n",
      "14 1 1\n",
      "14 1 4\n",
      "14 4 8\n",
      "15 1 1\n",
      "15 1 1\n",
      "15 1 4\n",
      "15 4 8\n",
      "16 1 1\n",
      "16 1 1\n",
      "16 1 4\n",
      "16 4 8\n",
      "17 1 1\n",
      "17 1 1\n",
      "17 1 4\n",
      "17 4 8\n",
      "18 1 1\n",
      "18 1 1\n",
      "18 1 4\n",
      "18 4 8\n",
      "19 1 1\n",
      "19 1 1\n",
      "19 1 4\n",
      "19 4 8\n",
      "20 1 1\n",
      "20 1 1\n",
      "20 1 4\n",
      "20 4 8\n",
      "21 1 1\n",
      "21 1 1\n",
      "21 1 4\n",
      "21 4 8\n",
      "22 1 1\n",
      "22 1 1\n",
      "22 1 4\n",
      "22 4 8\n",
      "23 1 1\n",
      "23 1 1\n",
      "23 1 4\n",
      "23 4 8\n",
      "24 1 1\n",
      "24 1 1\n",
      "24 1 4\n",
      "24 4 8\n",
      "25 1 1\n",
      "25 1 1\n",
      "25 1 4\n",
      "25 4 8\n",
      "26 1 1\n",
      "26 1 1\n",
      "26 1 4\n",
      "26 4 8\n",
      "27 1 1\n",
      "27 1 1\n",
      "27 1 4\n",
      "27 4 8\n",
      "28 1 1\n",
      "28 1 1\n",
      "28 1 4\n",
      "28 4 8\n",
      "29 1 1\n",
      "29 1 1\n",
      "29 1 4\n",
      "29 4 8\n",
      "30 1 1\n",
      "30 1 1\n",
      "30 1 4\n",
      "30 4 8\n",
      "31 1 1\n",
      "31 1 1\n",
      "31 1 4\n",
      "31 4 8\n",
      "0 1 1\n",
      "0 1 3\n",
      "0 3 1\n",
      "0 3 8\n",
      "1 1 1\n",
      "1 1 3\n",
      "1 3 1\n",
      "1 3 8\n",
      "2 1 1\n",
      "2 1 3\n",
      "2 3 1\n",
      "2 3 8\n",
      "3 1 1\n",
      "3 1 3\n",
      "3 3 1\n",
      "3 3 8\n",
      "4 1 1\n",
      "4 1 3\n",
      "4 3 1\n",
      "4 3 8\n",
      "5 1 1\n",
      "5 1 3\n",
      "5 3 1\n",
      "5 3 8\n",
      "6 1 1\n",
      "6 1 3\n",
      "6 3 1\n",
      "6 3 8\n",
      "7 1 1\n",
      "7 1 3\n",
      "7 3 1\n",
      "7 3 8\n",
      "8 1 1\n",
      "8 1 3\n",
      "8 3 1\n",
      "8 3 8\n",
      "9 1 1\n",
      "9 1 3\n",
      "9 3 1\n",
      "9 3 8\n",
      "10 1 1\n",
      "10 1 3\n",
      "10 3 1\n",
      "10 3 8\n",
      "11 1 1\n",
      "11 1 3\n",
      "11 3 1\n",
      "11 3 8\n",
      "12 1 1\n",
      "12 1 3\n",
      "12 3 1\n",
      "12 3 8\n",
      "13 1 1\n",
      "13 1 3\n",
      "13 3 1\n",
      "13 3 8\n",
      "14 1 1\n",
      "14 1 3\n",
      "14 3 1\n",
      "14 3 8\n",
      "15 1 1\n",
      "15 1 3\n",
      "15 3 1\n",
      "15 3 8\n",
      "16 1 1\n",
      "16 1 3\n",
      "16 3 1\n",
      "16 3 8\n",
      "17 1 1\n",
      "17 1 3\n",
      "17 3 1\n",
      "17 3 8\n",
      "18 1 1\n",
      "18 1 3\n",
      "18 3 1\n",
      "18 3 8\n",
      "19 1 1\n",
      "19 1 3\n",
      "19 3 1\n",
      "19 3 8\n",
      "20 1 1\n",
      "20 1 3\n",
      "20 3 1\n",
      "20 3 8\n",
      "21 1 1\n",
      "21 1 3\n",
      "21 3 1\n",
      "21 3 8\n",
      "22 1 1\n",
      "22 1 3\n",
      "22 3 1\n",
      "22 3 8\n",
      "23 1 1\n",
      "23 1 3\n",
      "23 3 1\n",
      "23 3 8\n",
      "0 1 3\n",
      "0 3 1\n",
      "0 3 1\n",
      "0 3 8\n",
      "1 1 3\n",
      "1 3 1\n",
      "1 3 1\n",
      "1 3 8\n",
      "2 1 3\n",
      "2 3 1\n",
      "2 3 1\n",
      "2 3 8\n",
      "3 1 3\n",
      "3 3 1\n",
      "3 3 1\n",
      "3 3 8\n",
      "4 1 3\n",
      "4 3 1\n",
      "4 3 1\n",
      "4 3 8\n",
      "5 1 3\n",
      "5 3 1\n",
      "5 3 1\n",
      "5 3 8\n",
      "6 1 3\n",
      "6 3 1\n",
      "6 3 1\n",
      "6 3 8\n",
      "7 1 3\n",
      "7 3 1\n",
      "7 3 1\n",
      "7 3 8\n",
      "8 1 3\n",
      "8 3 1\n",
      "8 3 1\n",
      "8 3 8\n",
      "9 1 3\n",
      "9 3 1\n",
      "9 3 1\n",
      "9 3 8\n",
      "10 1 3\n",
      "10 3 1\n",
      "10 3 1\n",
      "10 3 8\n",
      "11 1 3\n",
      "11 3 1\n",
      "11 3 1\n",
      "11 3 8\n",
      "12 1 3\n",
      "12 3 1\n",
      "12 3 1\n",
      "12 3 8\n",
      "13 1 3\n",
      "13 3 1\n",
      "13 3 1\n",
      "13 3 8\n",
      "14 1 3\n",
      "14 3 1\n",
      "14 3 1\n",
      "14 3 8\n",
      "15 1 3\n",
      "15 3 1\n",
      "15 3 1\n",
      "15 3 8\n",
      "16 1 3\n",
      "16 3 1\n",
      "16 3 1\n",
      "16 3 8\n",
      "17 1 3\n",
      "17 3 1\n",
      "17 3 1\n",
      "17 3 8\n",
      "18 1 3\n",
      "18 3 1\n",
      "18 3 1\n",
      "18 3 8\n",
      "19 1 3\n",
      "19 3 1\n",
      "19 3 1\n",
      "19 3 8\n",
      "20 1 3\n",
      "20 3 1\n",
      "20 3 1\n",
      "20 3 8\n",
      "21 1 3\n",
      "21 3 1\n",
      "21 3 1\n",
      "21 3 8\n",
      "22 1 3\n",
      "22 3 1\n",
      "22 3 1\n",
      "22 3 8\n",
      "23 1 3\n",
      "23 3 1\n",
      "23 3 1\n",
      "23 3 8\n"
     ]
    },
    {
     "data": {
      "text/plain": [
       "80"
      ]
     },
     "execution_count": 52,
     "metadata": {},
     "output_type": "execute_result"
    }
   ],
   "source": [
    "argset1 = iter_args({\n",
    "    'strat': {x.__name__: x for x in strats},\n",
    "    'R0_mean': 2.5,\n",
    "    'VACCINATE_P': [0.05, 0.10, 0.20, 0.50],\n",
    "    'INITIAL_INFECT': 20\n",
    "})\n",
    "len(argset1)\n",
    "\n",
    "argset2 = iter_args({\n",
    "    'strat': {x.__name__: x for x in strats},\n",
    "    'R0_mean': [1, 2.5, 4],\n",
    "    'VACCINATE_P': 0.20,\n",
    "    'INITIAL_INFECT': 20\n",
    "})\n",
    "len(argset2)\n",
    "\n",
    "argset3 = iter_args({\n",
    "    'strat': {x.__name__: x for x in strats},\n",
    "    'R0_mean': 2.5,\n",
    "    'VACCINATE_P': 0.20,\n",
    "    'INITIAL_INFECT': [5, 10, 20]\n",
    "})\n",
    "len(argset3)\n",
    "\n",
    "argsets = argset1 + argset2 + argset3\n",
    "len(argsets)"
   ]
  },
  {
   "cell_type": "code",
   "execution_count": 60,
   "metadata": {},
   "outputs": [],
   "source": [
    "N_PER = 200"
   ]
  },
  {
   "cell_type": "code",
   "execution_count": 61,
   "metadata": {},
   "outputs": [
    {
     "data": {
      "text/plain": [
       "16000"
      ]
     },
     "execution_count": 61,
     "metadata": {},
     "output_type": "execute_result"
    }
   ],
   "source": [
    "N_iters = len(argsets) * N_PER\n",
    "N_iters"
   ]
  },
  {
   "cell_type": "code",
   "execution_count": 62,
   "metadata": {},
   "outputs": [],
   "source": [
    "Nn = len(G_baseline.nodes)"
   ]
  },
  {
   "cell_type": "code",
   "execution_count": 63,
   "metadata": {},
   "outputs": [
    {
     "name": "stdout",
     "output_type": "stream",
     "text": [
      "Doing frozendict({'INITIAL_INFECT': 20, 'R0_mean': 2.5, 'VACCINATE_P': 0.05, 'strat': 'friend'}). 0/80. 150 to do.\n",
      "17.7 seconds for first simulation. At that rate it'll take 78.6 hours.\n",
      "Doing frozendict({'INITIAL_INFECT': 20, 'R0_mean': 2.5, 'VACCINATE_P': 0.1, 'strat': 'friend'}). 1/80. 150 to do.\n",
      "15.0 seconds for first simulation. At that rate it'll take 66.6 hours.\n",
      "Doing frozendict({'INITIAL_INFECT': 20, 'R0_mean': 2.5, 'VACCINATE_P': 0.2, 'strat': 'friend'}). 2/80. 150 to do.\n",
      "9.8 seconds for first simulation. At that rate it'll take 43.8 hours.\n",
      "Doing frozendict({'INITIAL_INFECT': 20, 'R0_mean': 2.5, 'VACCINATE_P': 0.5, 'strat': 'friend'}). 3/80. 150 to do.\n",
      "2.7 seconds for first simulation. At that rate it'll take 12.1 hours.\n",
      "Doing frozendict({'INITIAL_INFECT': 20, 'R0_mean': 2.5, 'VACCINATE_P': 0.05, 'strat': 'friendHighDeg'}). 4/80. 150 to do.\n",
      "17.4 seconds for first simulation. At that rate it'll take 77.4 hours.\n",
      "Doing frozendict({'INITIAL_INFECT': 20, 'R0_mean': 2.5, 'VACCINATE_P': 0.1, 'strat': 'friendHighDeg'}). 5/80. 150 to do.\n",
      "13.6 seconds for first simulation. At that rate it'll take 60.3 hours.\n",
      "Doing frozendict({'INITIAL_INFECT': 20, 'R0_mean': 2.5, 'VACCINATE_P': 0.2, 'strat': 'friendHighDeg'}). 6/80. 150 to do.\n",
      "6.7 seconds for first simulation. At that rate it'll take 29.6 hours.\n",
      "Doing frozendict({'INITIAL_INFECT': 20, 'R0_mean': 2.5, 'VACCINATE_P': 0.5, 'strat': 'friendHighDeg'}). 7/80. 150 to do.\n",
      "2.3 seconds for first simulation. At that rate it'll take 10.4 hours.\n",
      "Doing frozendict({'INITIAL_INFECT': 20, 'R0_mean': 2.5, 'VACCINATE_P': 0.05, 'strat': 'friendHighDegChain'}). 8/80. 150 to do.\n",
      "18.1 seconds for first simulation. At that rate it'll take 80.5 hours.\n",
      "Doing frozendict({'INITIAL_INFECT': 20, 'R0_mean': 2.5, 'VACCINATE_P': 0.1, 'strat': 'friendHighDegChain'}). 9/80. 150 to do.\n",
      "16.4 seconds for first simulation. At that rate it'll take 72.8 hours.\n",
      "Doing frozendict({'INITIAL_INFECT': 20, 'R0_mean': 2.5, 'VACCINATE_P': 0.2, 'strat': 'friendHighDegChain'}). 10/80. 150 to do.\n",
      "9.4 seconds for first simulation. At that rate it'll take 41.8 hours.\n",
      "Doing frozendict({'INITIAL_INFECT': 20, 'R0_mean': 2.5, 'VACCINATE_P': 0.5, 'strat': 'friendHighDegChain'}). 11/80. 150 to do.\n",
      "4.5 seconds for first simulation. At that rate it'll take 20.2 hours.\n",
      "Doing frozendict({'INITIAL_INFECT': 20, 'R0_mean': 2.5, 'VACCINATE_P': 0.05, 'strat': 'friendHighDegRandTop3'}). 12/80. 150 to do.\n",
      "22.8 seconds for first simulation. At that rate it'll take 101.4 hours.\n",
      "Doing frozendict({'INITIAL_INFECT': 20, 'R0_mean': 2.5, 'VACCINATE_P': 0.1, 'strat': 'friendHighDegRandTop3'}). 13/80. 150 to do.\n",
      "20.0 seconds for first simulation. At that rate it'll take 88.7 hours.\n",
      "Doing frozendict({'INITIAL_INFECT': 20, 'R0_mean': 2.5, 'VACCINATE_P': 0.2, 'strat': 'friendHighDegRandTop3'}). 14/80. 150 to do.\n",
      "18.6 seconds for first simulation. At that rate it'll take 82.7 hours.\n",
      "Doing frozendict({'INITIAL_INFECT': 20, 'R0_mean': 2.5, 'VACCINATE_P': 0.5, 'strat': 'friendHighDegRandTop3'}). 15/80. 150 to do.\n",
      "3.5 seconds for first simulation. At that rate it'll take 15.4 hours.\n",
      "Doing frozendict({'INITIAL_INFECT': 20, 'R0_mean': 2.5, 'VACCINATE_P': 0.05, 'strat': 'friendHighDegRandTop5'}). 16/80. 150 to do.\n",
      "30.9 seconds for first simulation. At that rate it'll take 137.3 hours.\n",
      "Doing frozendict({'INITIAL_INFECT': 20, 'R0_mean': 2.5, 'VACCINATE_P': 0.1, 'strat': 'friendHighDegRandTop5'}). 17/80. 150 to do.\n",
      "35.1 seconds for first simulation. At that rate it'll take 156.1 hours.\n",
      "Doing frozendict({'INITIAL_INFECT': 20, 'R0_mean': 2.5, 'VACCINATE_P': 0.2, 'strat': 'friendHighDegRandTop5'}). 18/80. 150 to do.\n",
      "19.8 seconds for first simulation. At that rate it'll take 88.0 hours.\n",
      "Doing frozendict({'INITIAL_INFECT': 20, 'R0_mean': 2.5, 'VACCINATE_P': 0.5, 'strat': 'friendHighDegRandTop5'}). 19/80. 150 to do.\n",
      "3.5 seconds for first simulation. At that rate it'll take 15.6 hours.\n",
      "Doing frozendict({'INITIAL_INFECT': 20, 'R0_mean': 2.5, 'VACCINATE_P': 0.05, 'strat': 'none'}). 20/80. 150 to do.\n",
      "26.1 seconds for first simulation. At that rate it'll take 116.0 hours.\n",
      "Doing frozendict({'INITIAL_INFECT': 20, 'R0_mean': 2.5, 'VACCINATE_P': 0.1, 'strat': 'none'}). 21/80. 150 to do.\n",
      "28.9 seconds for first simulation. At that rate it'll take 128.4 hours.\n",
      "Doing frozendict({'INITIAL_INFECT': 20, 'R0_mean': 2.5, 'VACCINATE_P': 0.2, 'strat': 'none'}). 22/80. 150 to do.\n",
      "35.6 seconds for first simulation. At that rate it'll take 158.1 hours.\n",
      "Doing frozendict({'INITIAL_INFECT': 20, 'R0_mean': 2.5, 'VACCINATE_P': 0.5, 'strat': 'none'}). 23/80. 150 to do.\n",
      "33.7 seconds for first simulation. At that rate it'll take 149.8 hours.\n",
      "Doing frozendict({'INITIAL_INFECT': 20, 'R0_mean': 2.5, 'VACCINATE_P': 0.05, 'strat': 'rand'}). 24/80. 150 to do.\n",
      "36.8 seconds for first simulation. At that rate it'll take 163.8 hours.\n",
      "Doing frozendict({'INITIAL_INFECT': 20, 'R0_mean': 2.5, 'VACCINATE_P': 0.1, 'strat': 'rand'}). 25/80. 150 to do.\n",
      "23.8 seconds for first simulation. At that rate it'll take 105.9 hours.\n",
      "Doing frozendict({'INITIAL_INFECT': 20, 'R0_mean': 2.5, 'VACCINATE_P': 0.2, 'strat': 'rand'}). 26/80. 150 to do.\n",
      "27.5 seconds for first simulation. At that rate it'll take 122.4 hours.\n",
      "Doing frozendict({'INITIAL_INFECT': 20, 'R0_mean': 2.5, 'VACCINATE_P': 0.5, 'strat': 'rand'}). 27/80. 150 to do.\n",
      "5.3 seconds for first simulation. At that rate it'll take 23.5 hours.\n",
      "Doing frozendict({'INITIAL_INFECT': 20, 'R0_mean': 2.5, 'VACCINATE_P': 0.05, 'strat': 'targeted'}). 28/80. 150 to do.\n",
      "33.7 seconds for first simulation. At that rate it'll take 149.9 hours.\n",
      "Doing frozendict({'INITIAL_INFECT': 20, 'R0_mean': 2.5, 'VACCINATE_P': 0.1, 'strat': 'targeted'}). 29/80. 150 to do.\n",
      "27.8 seconds for first simulation. At that rate it'll take 123.4 hours.\n",
      "Doing frozendict({'INITIAL_INFECT': 20, 'R0_mean': 2.5, 'VACCINATE_P': 0.2, 'strat': 'targeted'}). 30/80. 150 to do.\n",
      "16.5 seconds for first simulation. At that rate it'll take 73.3 hours.\n",
      "Doing frozendict({'INITIAL_INFECT': 20, 'R0_mean': 2.5, 'VACCINATE_P': 0.5, 'strat': 'targeted'}). 31/80. 150 to do.\n",
      "3.2 seconds for first simulation. At that rate it'll take 14.4 hours.\n",
      "Doing frozendict({'INITIAL_INFECT': 20, 'R0_mean': 1, 'VACCINATE_P': 0.2, 'strat': 'friend'}). 32/80. 150 to do.\n",
      "25.2 seconds for first simulation. At that rate it'll take 112.2 hours.\n",
      "Doing frozendict({'INITIAL_INFECT': 20, 'R0_mean': 2.5, 'VACCINATE_P': 0.2, 'strat': 'friend'}). 33/80. 0 to do.\n",
      "Doing frozendict({'INITIAL_INFECT': 20, 'R0_mean': 4, 'VACCINATE_P': 0.2, 'strat': 'friend'}). 34/80. 150 to do.\n",
      "29.4 seconds for first simulation. At that rate it'll take 130.9 hours.\n",
      "Doing frozendict({'INITIAL_INFECT': 20, 'R0_mean': 1, 'VACCINATE_P': 0.2, 'strat': 'friendHighDeg'}). 35/80. 150 to do.\n",
      "23.2 seconds for first simulation. At that rate it'll take 103.1 hours.\n",
      "Doing frozendict({'INITIAL_INFECT': 20, 'R0_mean': 2.5, 'VACCINATE_P': 0.2, 'strat': 'friendHighDeg'}). 36/80. 0 to do.\n",
      "Doing frozendict({'INITIAL_INFECT': 20, 'R0_mean': 4, 'VACCINATE_P': 0.2, 'strat': 'friendHighDeg'}). 37/80. 150 to do.\n",
      "19.6 seconds for first simulation. At that rate it'll take 87.1 hours.\n",
      "Doing frozendict({'INITIAL_INFECT': 20, 'R0_mean': 1, 'VACCINATE_P': 0.2, 'strat': 'friendHighDegChain'}). 38/80. 150 to do.\n",
      "21.8 seconds for first simulation. At that rate it'll take 96.9 hours.\n"
     ]
    },
    {
     "ename": "KeyboardInterrupt",
     "evalue": "",
     "output_type": "error",
     "traceback": [
      "\u001b[1;31m---------------------------------------------------------------------------\u001b[0m",
      "\u001b[1;31mKeyboardInterrupt\u001b[0m                         Traceback (most recent call last)",
      "\u001b[1;32m<ipython-input-63-bb9d80e862e4>\u001b[0m in \u001b[0;36m<module>\u001b[1;34m\u001b[0m\n\u001b[0;32m     34\u001b[0m \u001b[1;33m\u001b[0m\u001b[0m\n\u001b[0;32m     35\u001b[0m         \u001b[0mst\u001b[0m \u001b[1;33m=\u001b[0m \u001b[0mtime\u001b[0m\u001b[1;33m(\u001b[0m\u001b[1;33m)\u001b[0m\u001b[1;33m\u001b[0m\u001b[1;33m\u001b[0m\u001b[0m\n\u001b[1;32m---> 36\u001b[1;33m         \u001b[0mmodel\u001b[0m\u001b[1;33m.\u001b[0m\u001b[0mrun\u001b[0m\u001b[1;33m(\u001b[0m\u001b[1;36m100\u001b[0m\u001b[1;33m,\u001b[0m\u001b[0mverbose\u001b[0m\u001b[1;33m=\u001b[0m\u001b[1;32mFalse\u001b[0m\u001b[1;33m)\u001b[0m\u001b[1;33m\u001b[0m\u001b[1;33m\u001b[0m\u001b[0m\n\u001b[0m\u001b[0;32m     37\u001b[0m         \u001b[1;32mif\u001b[0m \u001b[0mfirst_it\u001b[0m\u001b[1;33m:\u001b[0m\u001b[1;33m\u001b[0m\u001b[1;33m\u001b[0m\u001b[0m\n\u001b[0;32m     38\u001b[0m             \u001b[0mt_iter\u001b[0m \u001b[1;33m=\u001b[0m \u001b[0mtime\u001b[0m\u001b[1;33m(\u001b[0m\u001b[1;33m)\u001b[0m\u001b[1;33m-\u001b[0m\u001b[0mst\u001b[0m\u001b[1;33m\u001b[0m\u001b[1;33m\u001b[0m\u001b[0m\n",
      "\u001b[1;32mc:\\users\\amcga\\envs\\citation-deaths\\lib\\site-packages\\seirsplus\\models.py\u001b[0m in \u001b[0;36mrun\u001b[1;34m(self, T, checkpoints, print_interval, verbose)\u001b[0m\n\u001b[0;32m   2767\u001b[0m         \u001b[1;32mwhile\u001b[0m \u001b[0mrunning\u001b[0m\u001b[1;33m:\u001b[0m\u001b[1;33m\u001b[0m\u001b[1;33m\u001b[0m\u001b[0m\n\u001b[0;32m   2768\u001b[0m \u001b[1;33m\u001b[0m\u001b[0m\n\u001b[1;32m-> 2769\u001b[1;33m             \u001b[0mrunning\u001b[0m \u001b[1;33m=\u001b[0m \u001b[0mself\u001b[0m\u001b[1;33m.\u001b[0m\u001b[0mrun_iteration\u001b[0m\u001b[1;33m(\u001b[0m\u001b[1;33m)\u001b[0m\u001b[1;33m\u001b[0m\u001b[1;33m\u001b[0m\u001b[0m\n\u001b[0m\u001b[0;32m   2770\u001b[0m \u001b[1;33m\u001b[0m\u001b[0m\n\u001b[0;32m   2771\u001b[0m             \u001b[1;31m#~~~~~~~~~~~~~~~~~~~~~~~~~~~~~~~~~~~~~~~~\u001b[0m\u001b[1;33m\u001b[0m\u001b[1;33m\u001b[0m\u001b[1;33m\u001b[0m\u001b[0m\n",
      "\u001b[1;32mc:\\users\\amcga\\envs\\citation-deaths\\lib\\site-packages\\seirsplus\\models.py\u001b[0m in \u001b[0;36mrun_iteration\u001b[1;34m(self)\u001b[0m\n\u001b[0;32m   2608\u001b[0m             \u001b[1;31m# Calculate alpha\u001b[0m\u001b[1;33m\u001b[0m\u001b[1;33m\u001b[0m\u001b[1;33m\u001b[0m\u001b[0m\n\u001b[0;32m   2609\u001b[0m             \u001b[1;31m#~~~~~~~~~~~~~~~~~~~~~~~~~~~~~~~~~~~~~~~~\u001b[0m\u001b[1;33m\u001b[0m\u001b[1;33m\u001b[0m\u001b[1;33m\u001b[0m\u001b[0m\n\u001b[1;32m-> 2610\u001b[1;33m             \u001b[0mpropensities_flat\u001b[0m   \u001b[1;33m=\u001b[0m \u001b[0mpropensities\u001b[0m\u001b[1;33m.\u001b[0m\u001b[0mravel\u001b[0m\u001b[1;33m(\u001b[0m\u001b[0morder\u001b[0m\u001b[1;33m=\u001b[0m\u001b[1;34m'F'\u001b[0m\u001b[1;33m)\u001b[0m\u001b[1;33m\u001b[0m\u001b[1;33m\u001b[0m\u001b[0m\n\u001b[0m\u001b[0;32m   2611\u001b[0m             \u001b[0mcumsum\u001b[0m              \u001b[1;33m=\u001b[0m \u001b[0mpropensities_flat\u001b[0m\u001b[1;33m.\u001b[0m\u001b[0mcumsum\u001b[0m\u001b[1;33m(\u001b[0m\u001b[1;33m)\u001b[0m\u001b[1;33m\u001b[0m\u001b[1;33m\u001b[0m\u001b[0m\n\u001b[0;32m   2612\u001b[0m             \u001b[0malpha\u001b[0m               \u001b[1;33m=\u001b[0m \u001b[0mpropensities_flat\u001b[0m\u001b[1;33m.\u001b[0m\u001b[0msum\u001b[0m\u001b[1;33m(\u001b[0m\u001b[1;33m)\u001b[0m\u001b[1;33m\u001b[0m\u001b[1;33m\u001b[0m\u001b[0m\n",
      "\u001b[1;31mKeyboardInterrupt\u001b[0m: "
     ]
    }
   ],
   "source": [
    "for argseti, (sname, argset) in enumerate(argsets):\n",
    "    locals().update(argset)\n",
    "    \n",
    "    #if (argseti+1)%int(len(argsets)/100) == 0:\n",
    "    print(f'Doing {sname}. {argseti}/{len(argsets)}. {N_PER - len(models[sname])} to do.')\n",
    "    first_it = True\n",
    "\n",
    "    for i in range(N_PER - len(models[sname])):\n",
    "\n",
    "        ns_to_remove = strat(sim, int(Nn*VACCINATE_P))\n",
    "        ns_to_remove = [n2id[x] for x in ns_to_remove]\n",
    "\n",
    "        ALPHA = [0.5 if i not in ns_to_remove else 0 for i in range(Nn)]\n",
    "\n",
    "        args = dict(base_args)\n",
    "        args['alpha'] = ALPHA\n",
    "        #args['initI_asym'] = INITIAL_INFECT\n",
    "        \n",
    "        'R0_mean': 2.5,\n",
    "\n",
    "        model = ExtSEIRSNetworkModel(**args)\n",
    "\n",
    "        # reconstruct X myself\n",
    "        ns_to_infect = sample( [i for i in range(Nn) if i not in ns_to_remove], INITIAL_INFECT )\n",
    "\n",
    "        for i in range(Nn):\n",
    "            if i in ns_to_infect:\n",
    "                model.X[i] = model.I_sym\n",
    "\n",
    "        # hard-code this to avoid ridiculousness\n",
    "        model.A_deltabeta = model.A\n",
    "\n",
    "        # sanity checks\n",
    "        assert all( 0<=i<=Nn for i in ns_to_remove )\n",
    "        assert all( 0<=i<=Nn for i in ns_to_infect )\n",
    "\n",
    "        st = time()\n",
    "        model.run(100,verbose=False)\n",
    "        if first_it:\n",
    "            t_iter = time()-st\n",
    "            print(f'{t_iter:0.1f} seconds for first simulation. At that rate it\\'ll take {N_iters*t_iter/3600:0.1f} hours.')\n",
    "            first_it = False\n",
    "\n",
    "        models[sname].append({\n",
    "            k: getattr(model, k)\n",
    "            for k in attrs_to_keep\n",
    "        })"
   ]
  },
  {
   "cell_type": "code",
   "execution_count": 64,
   "metadata": {},
   "outputs": [],
   "source": [
    "NAME = 'synthetic_2'\n",
    "\n",
    "with open(f'simulation_results/{NAME}.pickle', 'wb') as outf:\n",
    "    pickle.dump(models, outf)"
   ]
  },
  {
   "cell_type": "code",
   "execution_count": 66,
   "metadata": {},
   "outputs": [],
   "source": [
    "# bleh...\n",
    "class NumpyEncoder(json.JSONEncoder):\n",
    "    def default(self, obj):\n",
    "        if hasattr(obj, 'tolist'):\n",
    "            return obj.tolist()\n",
    "        if type(obj) == nx.classes.graph.Graph:\n",
    "            return 'graph'\n",
    "        return json.JSONEncoder.default(self, obj)\n",
    "    "
   ]
  },
  {
   "cell_type": "code",
   "execution_count": 67,
   "metadata": {},
   "outputs": [],
   "source": [
    "import json\n",
    "with open(f'simulation_results/{NAME}.args.json', 'w', encoding='utf8') as outf:\n",
    "    json.dump(base_args, outf, cls=NumpyEncoder)"
   ]
  },
  {
   "cell_type": "code",
   "execution_count": null,
   "metadata": {},
   "outputs": [],
   "source": [
    "break"
   ]
  },
  {
   "cell_type": "code",
   "execution_count": null,
   "metadata": {},
   "outputs": [],
   "source": [
    "strats = [\n",
    "    sampling.rand,\n",
    "    sampling.targeted,\n",
    "    sampling.friend,\n",
    "    sampling.friendHighDeg,\n",
    "    sampling.none,\n",
    "]"
   ]
  },
  {
   "cell_type": "code",
   "execution_count": null,
   "metadata": {},
   "outputs": [],
   "source": [
    "overwrite = True"
   ]
  },
  {
   "cell_type": "code",
   "execution_count": null,
   "metadata": {},
   "outputs": [],
   "source": [
    "\"\"\"\n",
    "base_args = {\n",
    "    'G': G_baseline,\n",
    "    'p': P_GLOBALINTXN,\n",
    "    'beta': BETA,\n",
    "    #'beta_local': wmat_scaled,\n",
    "    'sigma': SIGMA,\n",
    "    'lamda': LAMDA,\n",
    "    'gamma': GAMMA,\n",
    "    'gamma_asym': GAMMA,\n",
    "    'eta':ETA,\n",
    "    'gamma_H':GAMMA_H,\n",
    "    'mu_H':MU_H,\n",
    "    'a':PCT_ASYMPTOMATIC,\n",
    "    'h':PCT_HOSPITALIZED,\n",
    "    'f':PCT_FATALITY,\n",
    "    'alpha':ALPHA,\n",
    "    'beta_pairwise_mode':BETA_PAIRWISE_MODE,\n",
    "    'delta_pairwise_mode':DELTA_PAIRWISE_MODE,\n",
    "    'delta': DELTA,\n",
    "    'G_Q':G_quarantine,\n",
    "    'q':Q_GLOBALINTXN,\n",
    "    'beta_Q':BETA_Q,\n",
    "    'isolation_time':14,\n",
    "    #'initI_asym':INIT_EXPOSED # note that I'm putting them into the asymptomatic infectious group, to be similar to the other...\n",
    "}\n",
    "\"\"\";"
   ]
  },
  {
   "cell_type": "code",
   "execution_count": null,
   "metadata": {},
   "outputs": [],
   "source": [
    "with open('4c seirs args.pickle', 'wb') as outf:\n",
    "    base_args = {\n",
    "        'G': G_baseline,\n",
    "        'p': P_GLOBALINTXN,\n",
    "        'beta': BETA,\n",
    "        'sigma': SIGMA,\n",
    "        'lamda': LAMDA,\n",
    "        'gamma': GAMMA,\n",
    "        'gamma_asym': GAMMA,\n",
    "        'eta':ETA,\n",
    "        'gamma_H':GAMMA_H,\n",
    "        'mu_H':MU_H,\n",
    "        'a':PCT_ASYMPTOMATIC,\n",
    "        'h':PCT_HOSPITALIZED,\n",
    "        'f':PCT_FATALITY,\n",
    "        'alpha':ALPHA,\n",
    "        'beta_pairwise_mode':BETA_PAIRWISE_MODE,\n",
    "        'delta_pairwise_mode':DELTA_PAIRWISE_MODE,\n",
    "        'G_Q':G_quarantine,\n",
    "        'q':0,\n",
    "        'beta_Q':BETA_Q,\n",
    "        'isolation_time':14,\n",
    "        'initI_asym':INIT_EXPOSED # note that I'm putting them into the asymptomatic infectious group, to be similar to the other...\n",
    "    }\n",
    "    pickle.dump(base_args,outf)"
   ]
  },
  {
   "cell_type": "code",
   "execution_count": null,
   "metadata": {},
   "outputs": [],
   "source": [
    "model = ExtSEIRSNetworkModel(G=G_baseline, p=P_GLOBALINTXN,\n",
    "          beta=BETA, sigma=SIGMA, lamda=LAMDA, gamma=GAMMA) # a dummy for numks to resolve"
   ]
  },
  {
   "cell_type": "code",
   "execution_count": null,
   "metadata": {},
   "outputs": [],
   "source": [
    "attrs_to_keep = [k for k in model.__dict__ if 'num' == k[:3]]\n",
    "attrs_to_keep += ['tseries']"
   ]
  },
  {
   "cell_type": "code",
   "execution_count": null,
   "metadata": {},
   "outputs": [],
   "source": [
    "models = defaultdict(list)"
   ]
  },
  {
   "cell_type": "code",
   "execution_count": null,
   "metadata": {},
   "outputs": [],
   "source": [
    "Nn = len(G_baseline.nodes)\n",
    "print(Nn)"
   ]
  },
  {
   "cell_type": "code",
   "execution_count": null,
   "metadata": {},
   "outputs": [],
   "source": [
    "network_info(G_baseline, \"Baseline\", plot=True)"
   ]
  },
  {
   "cell_type": "markdown",
   "metadata": {},
   "source": [
    "# run some simulations"
   ]
  },
  {
   "cell_type": "code",
   "execution_count": null,
   "metadata": {},
   "outputs": [],
   "source": [
    "tnet = net"
   ]
  },
  {
   "cell_type": "code",
   "execution_count": null,
   "metadata": {},
   "outputs": [],
   "source": [
    "p = dict(params.covid_estimate)\n",
    "sim = simulations.SEIR_daily(net, p)"
   ]
  },
  {
   "cell_type": "code",
   "execution_count": null,
   "metadata": {},
   "outputs": [],
   "source": [
    "n2id = {n:i for i,n in enumerate(tnet.nodes)}"
   ]
  },
  {
   "cell_type": "code",
   "execution_count": null,
   "metadata": {},
   "outputs": [],
   "source": [
    "model = ExtSEIRSNetworkModel(G=G_baseline, p=P_GLOBALINTXN,\n",
    "          beta=BETA, sigma=SIGMA, lamda=LAMDA, gamma=GAMMA) # a dummy for numks to resolve"
   ]
  },
  {
   "cell_type": "code",
   "execution_count": null,
   "metadata": {},
   "outputs": [],
   "source": [
    "attrs_to_keep = [k for k in model.__dict__ if 'num' == k[:3]]\n",
    "attrs_to_keep += ['tseries']"
   ]
  },
  {
   "cell_type": "code",
   "execution_count": null,
   "metadata": {},
   "outputs": [],
   "source": [
    "def friendHighDegRandTop3(sim, vaccinateN):\n",
    "    return sampling.friendHighDegRandTopN(sim, vaccinateN, N=3)\n",
    "def friendHighDegRandTop5(sim, vaccinateN):\n",
    "    return sampling.friendHighDegRandTopN(sim, vaccinateN, N=5)"
   ]
  },
  {
   "cell_type": "code",
   "execution_count": null,
   "metadata": {},
   "outputs": [],
   "source": [
    "strats = [\n",
    "    sampling.friendHighDeg,\n",
    "    sampling.targeted,\n",
    "    sampling.none,\n",
    "    sampling.rand,\n",
    "    #sampling.friendHighDegClose,\n",
    "    #sampling.friendClose,\n",
    "    #sampling.friendWeightedChain,\n",
    "]\n",
    "\n",
    "strats += 1*[\n",
    "    sampling.friend,\n",
    "    sampling.friendHighDegChain,\n",
    "    friendHighDegRandTop3,\n",
    "    friendHighDegRandTop5,\n",
    "]"
   ]
  },
  {
   "cell_type": "code",
   "execution_count": null,
   "metadata": {},
   "outputs": [],
   "source": [
    "models = defaultdict(list)"
   ]
  },
  {
   "cell_type": "code",
   "execution_count": null,
   "metadata": {},
   "outputs": [],
   "source": [
    "N_PER = 5"
   ]
  },
  {
   "cell_type": "code",
   "execution_count": null,
   "metadata": {},
   "outputs": [],
   "source": [
    "N_iters = 4 * 3 * len(strats) * N_PER\n",
    "N_iters"
   ]
  },
  {
   "cell_type": "code",
   "execution_count": null,
   "metadata": {},
   "outputs": [],
   "source": [
    "from time import time\n",
    "\n",
    "for strat in strats:\n",
    "    print('Starting', strat.__name__)\n",
    "    st_full = time()\n",
    "    first_it = True\n",
    "    for VACCINATE_P in [0.05, 0.10, 0.20, 0.50]:\n",
    "        for INITIAL_INFECT in [5, 10, 20]:\n",
    "            \n",
    "            sname = (strat.__name__, f\"vacc={VACCINATE_P:0.2f}\", f\"inf={INITIAL_INFECT:d}\")\n",
    "\n",
    "            for i in range(N_PER - len(models[sname])):\n",
    "\n",
    "                ns_to_remove = strat(sim, int(Nn*VACCINATE_P))\n",
    "                ns_to_remove = [n2id[x] for x in ns_to_remove]\n",
    "\n",
    "                ALPHA = [0.5 if i not in ns_to_remove else 0 for i in range(Nn)]\n",
    "\n",
    "                args = dict(base_args)\n",
    "                args['alpha'] = ALPHA\n",
    "                #args['initI_asym'] = INITIAL_INFECT\n",
    "\n",
    "                model = ExtSEIRSNetworkModel(**args)\n",
    "                \n",
    "                # reconstruct X myself\n",
    "                ns_to_infect = sample( [i for i in range(Nn) if i not in ns_to_remove], INITIAL_INFECT )\n",
    "                \n",
    "                for i in range(Nn):\n",
    "                    if i in ns_to_infect:\n",
    "                        model.X[i] = model.I_sym\n",
    "                \n",
    "                # hard-code this to avoid ridiculousness\n",
    "                model.A_deltabeta = model.A\n",
    "                \n",
    "                # sanity checks\n",
    "                assert all( 0<=i<=Nn for i in ns_to_remove )\n",
    "                assert all( 0<=i<=Nn for i in ns_to_infect )\n",
    "\n",
    "                st = time()\n",
    "                model.run(100,verbose=False)\n",
    "                if first_it:\n",
    "                    t_iter = time()-st\n",
    "                    print(f'\\t{t_iter:0.1f} seconds for first simulation. At that rate it\\'ll take {N_iters*t_iter/3600:0.1f} hours.')\n",
    "                    first_it = False\n",
    "                    \n",
    "                models[sname].append({\n",
    "                    k: getattr(model, k)\n",
    "                    for k in attrs_to_keep\n",
    "                })\n",
    "                \n",
    "    print( f'{sname} finished after {time() - st_full:0.1f} seconds' )"
   ]
  },
  {
   "cell_type": "code",
   "execution_count": null,
   "metadata": {},
   "outputs": [],
   "source": [
    "# sanity checks\n",
    "who_got_infected = [x['infected_node'] for x in model.infectionsLog]\n",
    "\n",
    "print(\n",
    "    all( x in range(Nn) for x in strat(sim, 5) ),\n",
    "    #all( n2id[ nodes[x] ] == x for x in strat(sim,100) ),\n",
    "    tuple(sorted(sim.tnet.G.nodes)) == tuple(range(Nn)),\n",
    "    all( x in range(Nn) for x in ns_to_remove ),\n",
    "    tuple(sorted(tnet.G.edges)) == tuple(sorted(G.edges)), # this is crutial wtf...\n",
    "    any(i in ns_to_remove for i in who_got_infected),\n",
    "    len(who_got_infected), len(ns_to_infect), model.numS[:5], model.numS[-5:],\n",
    "    all(i in ns_to_infect for i in who_got_infected),\n",
    ")"
   ]
  },
  {
   "cell_type": "code",
   "execution_count": null,
   "metadata": {},
   "outputs": [],
   "source": [
    "print([(k,len(m)) for k,m in models.items()])"
   ]
  },
  {
   "cell_type": "code",
   "execution_count": null,
   "metadata": {},
   "outputs": [],
   "source": [
    "plt.figure(figsize=(20,20))\n",
    "\n",
    "nsqrs = np.ceil( np.sqrt(len(models)) )\n",
    "\n",
    "for ki,k in enumerate(sorted(models)):\n",
    "    plt.subplot(nsqrs, nsqrs, ki+1)\n",
    "    for i in range( min(30,len(models[k])) ):\n",
    "        m = models[k][i]\n",
    "\n",
    "        plt.plot(m['tseries'], m['numNodes'] - m['numS'], label=i, linewidth=1, color='black', alpha=0.5)\n",
    "    #plt.legend()\n",
    "    plt.title(k, fontsize=8)\n",
    "    plt.ylim(0,m['numNodes'])"
   ]
  },
  {
   "cell_type": "code",
   "execution_count": null,
   "metadata": {},
   "outputs": [],
   "source": [
    "with open('simulation_results/synthetic_1.pickle', 'wb') as outf:\n",
    "    pickle.dump(models, outf)"
   ]
  },
  {
   "cell_type": "code",
   "execution_count": null,
   "metadata": {},
   "outputs": [],
   "source": []
  }
 ],
 "metadata": {
  "kernelspec": {
   "display_name": "Python 3",
   "language": "python",
   "name": "python3"
  },
  "language_info": {
   "codemirror_mode": {
    "name": "ipython",
    "version": 3
   },
   "file_extension": ".py",
   "mimetype": "text/x-python",
   "name": "python",
   "nbconvert_exporter": "python",
   "pygments_lexer": "ipython3",
   "version": "3.7.5"
  }
 },
 "nbformat": 4,
 "nbformat_minor": 4
}
