{
 "cells": [
  {
   "cell_type": "markdown",
   "id": "863b6213-daba-48e1-94b9-34177cf5a57b",
   "metadata": {},
   "source": [
    "some basic todos resulting from this:\n",
    "\n",
    "+ Get together a clear model & method, understand the code and the simulations you are running\n",
    "+ Clarify for yourself how the coefficients in a differential equation thing should match to my model"
   ]
  },
  {
   "cell_type": "code",
   "execution_count": 13,
   "id": "4b7db9b8-54b5-4ab4-b4c1-ca40af2d773e",
   "metadata": {},
   "outputs": [],
   "source": [
    "import numpy as np\n",
    "import networkx as nx\n",
    "from collections import defaultdict"
   ]
  },
  {
   "cell_type": "code",
   "execution_count": 156,
   "id": "6caf0c40-d33d-4bb5-92ea-9c753b03b498",
   "metadata": {},
   "outputs": [],
   "source": [
    "# network and group sizes\n",
    "N = 500\n",
    "p1 = 0.1\n",
    "\n",
    "N1 = int(N*p1)\n",
    "N2 = N-N1\n",
    "\n",
    "# p(inf | mode1, mode2 interaction)\n",
    "b = {\n",
    "    1:1,\n",
    "    2:0.3\n",
    "}\n",
    "\n",
    "# interaction within and between groups\n",
    "p11, p12, p22 = 0.8, 0.1, 0.3\n",
    "\n",
    "# g1, g2, mode\n",
    "p = {\n",
    "    (1,1,1): 0.8,\n",
    "    (1,2,1): 0.1,\n",
    "    (2,2,1): 0.3,\n",
    "    (1,1,2): 0.25,\n",
    "    (1,2,2): 0.1,\n",
    "    (2,2,2): 0.25,\n",
    "}"
   ]
  },
  {
   "cell_type": "code",
   "execution_count": 157,
   "id": "ab9b6355-9219-4bac-8146-fa248475cb81",
   "metadata": {},
   "outputs": [],
   "source": [
    "es = []\n",
    "ns = list(range(N))"
   ]
  },
  {
   "cell_type": "code",
   "execution_count": 158,
   "id": "8f6b79f1-de97-4c7e-afcc-c74bc9f523fe",
   "metadata": {},
   "outputs": [],
   "source": [
    "grp = [\n",
    "    1 + (ii >= N1)\n",
    "    for ii in ns\n",
    "]"
   ]
  },
  {
   "cell_type": "code",
   "execution_count": 159,
   "id": "365fbc7c-bfe3-436e-8803-dad323b73b49",
   "metadata": {},
   "outputs": [],
   "source": [
    "g = defaultdict(set)\n",
    "for ii in ns:\n",
    "    g[ grp[ii] ].add(ii)"
   ]
  },
  {
   "cell_type": "markdown",
   "id": "c39f9e29-8960-44e1-b2ba-7f9017bac051",
   "metadata": {},
   "source": [
    "# generate a definite network"
   ]
  },
  {
   "cell_type": "code",
   "execution_count": 160,
   "id": "a9fc95c4-d105-48ca-8203-b2e4d769fa69",
   "metadata": {},
   "outputs": [],
   "source": [
    "from random import random as rnd"
   ]
  },
  {
   "cell_type": "code",
   "execution_count": 161,
   "id": "69340987-9178-4f3f-9ef7-992dc97ccac2",
   "metadata": {},
   "outputs": [],
   "source": [
    "for i in ns:\n",
    "    for j in ns:\n",
    "        if i >= j: continue\n",
    "        \n",
    "        for mode in (1,2):\n",
    "            if rnd() < p[ (grp[i], grp[j], mode) ]:\n",
    "                es.append( (i,j, mode) )"
   ]
  },
  {
   "cell_type": "code",
   "execution_count": 162,
   "id": "1965b429-df6a-43ee-8af3-25cdc4095604",
   "metadata": {},
   "outputs": [
    {
     "data": {
      "text/plain": [
       "6"
      ]
     },
     "execution_count": 162,
     "metadata": {},
     "output_type": "execute_result"
    }
   ],
   "source": [
    "np.product([1,2,3])"
   ]
  },
  {
   "cell_type": "code",
   "execution_count": 163,
   "id": "1eee587c-4b6d-49aa-9638-43e1c9702f3d",
   "metadata": {},
   "outputs": [],
   "source": [
    "from itertools import groupby"
   ]
  },
  {
   "cell_type": "code",
   "execution_count": 164,
   "id": "9324de78-fb45-4270-88ad-7b235a9d2618",
   "metadata": {},
   "outputs": [
    {
     "data": {
      "text/plain": [
       "[(0, 1),\n",
       " (0, 1),\n",
       " (0, 2),\n",
       " (0, 3),\n",
       " (0, 4),\n",
       " (0, 6),\n",
       " (0, 8),\n",
       " (0, 9),\n",
       " (0, 9),\n",
       " (0, 10)]"
      ]
     },
     "execution_count": 164,
     "metadata": {},
     "output_type": "execute_result"
    }
   ],
   "source": [
    "[x[:2] for x in es[:10]]"
   ]
  },
  {
   "cell_type": "code",
   "execution_count": 165,
   "id": "8cb46449-8960-4b0b-b7d1-2da87fa5ddf1",
   "metadata": {},
   "outputs": [],
   "source": [
    "es_tot = [\n",
    "    (a1,a2, 1 - np.product( [b[mode] for (a1,a2,mode) in g] ))\n",
    "    for (a1,a2), g in groupby(sorted(es), key=lambda x:x[:2])\n",
    "]"
   ]
  },
  {
   "cell_type": "code",
   "execution_count": 166,
   "id": "0866897c-5ae8-420e-aece-8a553511d1a4",
   "metadata": {},
   "outputs": [
    {
     "data": {
      "text/plain": [
       "(61520, 53360)"
      ]
     },
     "execution_count": 166,
     "metadata": {},
     "output_type": "execute_result"
    }
   ],
   "source": [
    "len(es), len(es_tot)"
   ]
  },
  {
   "cell_type": "code",
   "execution_count": 167,
   "id": "598507f1-1e59-4546-8e5b-1cd8b175390a",
   "metadata": {},
   "outputs": [],
   "source": [
    "G = nx.Graph()"
   ]
  },
  {
   "cell_type": "code",
   "execution_count": 168,
   "id": "135c8ec0-6a68-4642-a3ef-ae72d6aca83e",
   "metadata": {},
   "outputs": [],
   "source": [
    "G.add_nodes_from(ns)\n",
    "G.add_weighted_edges_from(es_tot)"
   ]
  },
  {
   "cell_type": "markdown",
   "id": "536fdff8-ae24-4900-9e62-1b1c14cda021",
   "metadata": {},
   "source": [
    "# try to simulate some disease spreading"
   ]
  },
  {
   "cell_type": "code",
   "execution_count": 169,
   "id": "5cf0af7c-376c-4868-95c1-ffe73268f312",
   "metadata": {},
   "outputs": [],
   "source": [
    "from epi_model import *"
   ]
  },
  {
   "cell_type": "code",
   "execution_count": 170,
   "id": "d6cb81dd-e6cc-4c86-b817-cefdd6e16b0c",
   "metadata": {},
   "outputs": [],
   "source": [
    "from random import sample"
   ]
  },
  {
   "cell_type": "code",
   "execution_count": 171,
   "id": "02e337c6-0102-4f10-b52d-8bf16f0884d2",
   "metadata": {},
   "outputs": [],
   "source": [
    "net = weightedNetwork(ns, es_tot)"
   ]
  },
  {
   "cell_type": "code",
   "execution_count": 172,
   "id": "3e4bcee0-b69e-45d6-b17e-143159629d1d",
   "metadata": {},
   "outputs": [],
   "source": [
    "#sim = SEIR_daily(net, {'s2e':1, 'e2i':0.01, 'i2r':0})\n",
    "sim = SEIR_daily(net, params.covid_estimate)"
   ]
  },
  {
   "cell_type": "code",
   "execution_count": 173,
   "id": "ebe2aebb-cf98-45d8-8505-338a49ab9844",
   "metadata": {},
   "outputs": [],
   "source": [
    "for ii in sample(ns, int(N*0.2)):\n",
    "    sim.state_change(ii, 'inf')\n",
    "sim.run(50)"
   ]
  },
  {
   "cell_type": "code",
   "execution_count": 175,
   "id": "341ccb30-afb5-4d99-b02d-802c5e2dc9bd",
   "metadata": {},
   "outputs": [
    {
     "data": {
      "text/plain": [
       "{'s2e': 0.0006, 'e2i': 2.3148148148148147e-05, 'i2r': 1.6534391534391536e-05}"
      ]
     },
     "execution_count": 175,
     "metadata": {},
     "output_type": "execute_result"
    }
   ],
   "source": [
    "params.covid_estimate"
   ]
  },
  {
   "cell_type": "code",
   "execution_count": 174,
   "id": "13e278ba-b114-47f0-b6b1-038ca030d190",
   "metadata": {},
   "outputs": [
    {
     "data": {
      "text/plain": [
       "[<matplotlib.lines.Line2D at 0x1fc5a4c0a30>]"
      ]
     },
     "execution_count": 174,
     "metadata": {},
     "output_type": "execute_result"
    },
    {
     "data": {
      "image/png": "[encoded data removed]",
      "text/plain": [
       "<Figure size 640x480 with 1 Axes>"
      ]
     },
     "metadata": {},
     "output_type": "display_data"
    }
   ],
   "source": [
    "plt.plot( sim.meas['inf'] )"
   ]
  }
 ],
 "metadata": {
  "kernelspec": {
   "display_name": "Python 3 (ipykernel)",
   "language": "python",
   "name": "python3"
  },
  "language_info": {
   "codemirror_mode": {
    "name": "ipython",
    "version": 3
   },
   "file_extension": ".py",
   "mimetype": "text/x-python",
   "name": "python",
   "nbconvert_exporter": "python",
   "pygments_lexer": "ipython3",
   "version": "3.10.5"
  }
 },
 "nbformat": 4,
 "nbformat_minor": 5
}
