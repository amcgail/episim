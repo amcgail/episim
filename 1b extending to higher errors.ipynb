{
 "cells": [
  {
   "cell_type": "code",
   "execution_count": 1,
   "metadata": {},
   "outputs": [],
   "source": [
    "from simulation_manager import *"
   ]
  },
  {
   "cell_type": "code",
   "execution_count": 2,
   "metadata": {},
   "outputs": [],
   "source": [
    "from epi_model import *"
   ]
  },
  {
   "cell_type": "code",
   "execution_count": 3,
   "metadata": {},
   "outputs": [],
   "source": [
    "from simulation_helper import *"
   ]
  },
  {
   "cell_type": "code",
   "execution_count": 4,
   "metadata": {},
   "outputs": [],
   "source": [
    "def friendHighDegRandTop3(sim, vaccinateN):\n",
    "    return sampling.friendHighDegRandTopN(sim, vaccinateN, N=3)\n",
    "def friendHighDegRandTop5(sim, vaccinateN):\n",
    "    return sampling.friendHighDegRandTopN(sim, vaccinateN, N=5)\n",
    "def friendHighDegRandTop10(sim, vaccinateN):\n",
    "    return sampling.friendHighDegRandTopN(sim, vaccinateN, N=10)\n",
    "def friendHighDegRandTop20(sim, vaccinateN):\n",
    "    return sampling.friendHighDegRandTopN(sim, vaccinateN, N=20)\n",
    "def friendHighDegRandTop35(sim, vaccinateN):\n",
    "    return sampling.friendHighDegRandTopN(sim, vaccinateN, N=35)\n",
    "def friendHighDegRandTop50(sim, vaccinateN):\n",
    "    return sampling.friendHighDegRandTopN(sim, vaccinateN, N=50)\n",
    "\n",
    "def friendHighDegNormalErr10(sim, vaccinateN):\n",
    "    return sampling.friendHighDegNormalErr(sim, vaccinateN, sigma=10)\n",
    "def friendHighDegNormalErr20(sim, vaccinateN):\n",
    "    return sampling.friendHighDegNormalErr(sim, vaccinateN, sigma=20)\n",
    "def friendHighDegNormalErr30(sim, vaccinateN):\n",
    "    return sampling.friendHighDegNormalErr(sim, vaccinateN, sigma=30)\n",
    "def friendHighDegNormalErr40(sim, vaccinateN):\n",
    "    return sampling.friendHighDegNormalErr(sim, vaccinateN, sigma=40)\n",
    "def friendHighDegNormalErr50(sim, vaccinateN):\n",
    "    return sampling.friendHighDegNormalErr(sim, vaccinateN, sigma=50)"
   ]
  },
  {
   "cell_type": "code",
   "execution_count": 5,
   "metadata": {},
   "outputs": [],
   "source": [
    "strats = [\n",
    "    friendHighDegRandTop3,\n",
    "    friendHighDegRandTop5,\n",
    "    friendHighDegRandTop10,\n",
    "    friendHighDegRandTop20,\n",
    "    friendHighDegRandTop35,\n",
    "    friendHighDegRandTop50,\n",
    "    friendHighDegNormalErr10,\n",
    "    friendHighDegNormalErr20,\n",
    "    friendHighDegNormalErr30,\n",
    "    friendHighDegNormalErr40,\n",
    "    friendHighDegNormalErr50,\n",
    "    sampling.rand,\n",
    "    sampling.friend\n",
    "]"
   ]
  },
  {
   "cell_type": "code",
   "execution_count": 6,
   "metadata": {},
   "outputs": [],
   "source": [
    "argset = iter_args({\n",
    "    'strat': {x.__name__: x for x in strats},\n",
    "    'R0_mean': 2.5,\n",
    "    'VACCINATE_P': 0.20,\n",
    "    'INITIAL_INFECT': 20,\n",
    "    'R0_coeffvar': 0.2\n",
    "})"
   ]
  },
  {
   "cell_type": "code",
   "execution_count": 7,
   "metadata": {},
   "outputs": [],
   "source": [
    "models_names = ['HS1', 'HS2', 'synthetic_3000']"
   ]
  },
  {
   "cell_type": "code",
   "execution_count": 8,
   "metadata": {},
   "outputs": [
    {
     "name": "stdout",
     "output_type": "stream",
     "text": [
      "Loading from checkpoint HS1\n",
      "Loading from checkpoint HS2\n",
      "Loading from checkpoint synthetic_3000\n"
     ]
    }
   ],
   "source": [
    "# when new\n",
    "managers = {} \n",
    "for name in models_names:\n",
    "    manager = simulation_manager()\n",
    "    \n",
    "    next_fn = Path(f\"simulation_results/{name}-more_err.pickle\")\n",
    "    if next_fn.exists():\n",
    "        print(f\"Loading from checkpoint {name}\")\n",
    "        manager.load_models(name+\"-more_err\")\n",
    "    else:\n",
    "        print(f\"Loading from original {name}\")    \n",
    "        manager.load_models(name)\n",
    "        \n",
    "    managers[name] = manager"
   ]
  },
  {
   "cell_type": "code",
   "execution_count": 9,
   "metadata": {},
   "outputs": [],
   "source": [
    "if False:\n",
    "    # clear everything lol...\n",
    "    for m in managers.values():\n",
    "        m.models = defaultdict(list)"
   ]
  },
  {
   "cell_type": "code",
   "execution_count": 14,
   "metadata": {},
   "outputs": [],
   "source": [
    "from frozendict import frozendict as fzd"
   ]
  },
  {
   "cell_type": "code",
   "execution_count": 15,
   "metadata": {},
   "outputs": [
    {
     "data": {
      "text/plain": [
       "['HS1', 'HS2', 'synthetic_3000']"
      ]
     },
     "execution_count": 15,
     "metadata": {},
     "output_type": "execute_result"
    }
   ],
   "source": [
    "list(managers)"
   ]
  },
  {
   "cell_type": "code",
   "execution_count": 16,
   "metadata": {},
   "outputs": [
    {
     "name": "stdout",
     "output_type": "stream",
     "text": [
      "Starting on HS1\n",
      "starting at 310\n",
      "Checkpointing after 310/500 simulations\n",
      "Checkpointing after 320/500 simulations\n",
      "Checkpointing after 330/500 simulations\n",
      "Checkpointing after 340/500 simulations\n",
      "Checkpointing after 350/500 simulations\n",
      "Checkpointing after 360/500 simulations\n",
      "Checkpointing after 370/500 simulations\n",
      "Checkpointing after 380/500 simulations\n",
      "Checkpointing after 390/500 simulations\n",
      "Checkpointing after 400/500 simulations\n",
      "Checkpointing after 410/500 simulations\n",
      "Checkpointing after 420/500 simulations\n",
      "Checkpointing after 430/500 simulations\n",
      "Checkpointing after 440/500 simulations\n",
      "Checkpointing after 450/500 simulations\n",
      "Checkpointing after 460/500 simulations\n",
      "Checkpointing after 470/500 simulations\n",
      "Checkpointing after 480/500 simulations\n",
      "Checkpointing after 490/500 simulations\n",
      "Checkpointing after 500/500 simulations\n",
      "Starting on HS2\n",
      "starting at 310\n",
      "Checkpointing after 310/500 simulations\n",
      "Checkpointing after 320/500 simulations\n",
      "Checkpointing after 330/500 simulations\n",
      "Checkpointing after 340/500 simulations\n",
      "Checkpointing after 350/500 simulations\n",
      "Checkpointing after 360/500 simulations\n",
      "Checkpointing after 370/500 simulations\n",
      "Checkpointing after 380/500 simulations\n",
      "Checkpointing after 390/500 simulations\n",
      "Checkpointing after 400/500 simulations\n",
      "Checkpointing after 410/500 simulations\n",
      "Checkpointing after 420/500 simulations\n",
      "Checkpointing after 430/500 simulations\n",
      "Checkpointing after 440/500 simulations\n",
      "Checkpointing after 450/500 simulations\n",
      "Checkpointing after 460/500 simulations\n",
      "Checkpointing after 470/500 simulations\n",
      "Checkpointing after 480/500 simulations\n",
      "Checkpointing after 490/500 simulations\n",
      "Checkpointing after 500/500 simulations\n",
      "Starting on synthetic_3000\n",
      "starting at 310\n",
      "Checkpointing after 310/500 simulations\n",
      "Checkpointing after 320/500 simulations\n",
      "Checkpointing after 330/500 simulations\n",
      "Checkpointing after 340/500 simulations\n",
      "Checkpointing after 350/500 simulations\n",
      "Checkpointing after 360/500 simulations\n",
      "Checkpointing after 370/500 simulations\n",
      "Checkpointing after 380/500 simulations\n",
      "Checkpointing after 390/500 simulations\n",
      "Checkpointing after 400/500 simulations\n",
      "Checkpointing after 410/500 simulations\n",
      "Checkpointing after 420/500 simulations\n",
      "Checkpointing after 430/500 simulations\n",
      "Checkpointing after 440/500 simulations\n",
      "Checkpointing after 450/500 simulations\n",
      "Checkpointing after 460/500 simulations\n",
      "Checkpointing after 470/500 simulations\n",
      "Checkpointing after 480/500 simulations\n",
      "Checkpointing after 490/500 simulations\n",
      "Checkpointing after 500/500 simulations\n"
     ]
    }
   ],
   "source": [
    "for mname, m in managers.items():\n",
    "    print(f'Starting on {mname}')\n",
    "    m.run_and_checkpoint(\n",
    "        argset, \n",
    "        N_PER=500, \n",
    "        interval=10, \n",
    "        verbose=False, \n",
    "        dump_name=mname+\"-more_err\"\n",
    "    )"
   ]
  }
 ],
 "metadata": {
  "kernelspec": {
   "display_name": "Python 3 (ipykernel)",
   "language": "python",
   "name": "python3"
  },
  "language_info": {
   "codemirror_mode": {
    "name": "ipython",
    "version": 3
   },
   "file_extension": ".py",
   "mimetype": "text/x-python",
   "name": "python",
   "nbconvert_exporter": "python",
   "pygments_lexer": "ipython3",
   "version": "3.8.9"
  }
 },
 "nbformat": 4,
 "nbformat_minor": 4
}
