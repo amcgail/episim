{
 "cells": [
  {
   "cell_type": "code",
   "execution_count": 1,
   "metadata": {},
   "outputs": [],
   "source": [
    "import sys; sys.path.append(\"..\")\n",
    "from epi_model import *"
   ]
  },
  {
   "cell_type": "code",
   "execution_count": 2,
   "metadata": {},
   "outputs": [],
   "source": [
    "import pickle\n",
    "with open('2 full_run.pickle', 'rb') as inp:\n",
    "    ms = pickle.load(inp)"
   ]
  },
  {
   "cell_type": "code",
   "execution_count": 3,
   "metadata": {},
   "outputs": [],
   "source": [
    "tnets = sorted(set(x[0] for x in ms.keys()))\n",
    "s2es = sorted(set(x[1] for x in ms.keys()))\n",
    "n_vaccs = sorted(set(x[2] for x in ms.keys()))\n",
    "names = sorted(set(x[3] for x in ms.keys()))"
   ]
  },
  {
   "cell_type": "code",
   "execution_count": 4,
   "metadata": {},
   "outputs": [
    {
     "data": {
      "text/plain": [
       "([0, 1],\n",
       " [0.05, 0.1, 0.15, 0.2],\n",
       " [15, 31, 39, 46, 62, 78, 117, 156],\n",
       " ['friendHighDeg_2',\n",
       "  'friend_1',\n",
       "  'local_betweenness_4',\n",
       "  'nominate_local_betweenness_5',\n",
       "  'none_6',\n",
       "  'rand_0',\n",
       "  'targeted_3'])"
      ]
     },
     "execution_count": 4,
     "metadata": {},
     "output_type": "execute_result"
    }
   ],
   "source": [
    "(tnets,s2es,n_vaccs,names)"
   ]
  },
  {
   "cell_type": "code",
   "execution_count": 5,
   "metadata": {},
   "outputs": [],
   "source": [
    "k, v = list(ms.items())[0]"
   ]
  },
  {
   "cell_type": "code",
   "execution_count": 6,
   "metadata": {},
   "outputs": [],
   "source": [
    "df = pd.DataFrame.from_records([\n",
    "    list(k)+[np.mean([run[-1] for run in m])]\n",
    "    for k,m in ms.items()\n",
    "    if len(m)\n",
    "], columns= ['tnet','s2e','n_vacc','name','m'])"
   ]
  },
  {
   "cell_type": "code",
   "execution_count": 7,
   "metadata": {},
   "outputs": [
    {
     "data": {
      "text/plain": [
       "{39, 78, 117, 156}"
      ]
     },
     "execution_count": 7,
     "metadata": {},
     "output_type": "execute_result"
    }
   ],
   "source": [
    "set(df[df.tnet==1].n_vacc)"
   ]
  },
  {
   "cell_type": "code",
   "execution_count": 8,
   "metadata": {},
   "outputs": [
    {
     "data": {
      "text/html": [
       "<div>\n",
       "<style scoped>\n",
       "    .dataframe tbody tr th:only-of-type {\n",
       "        vertical-align: middle;\n",
       "    }\n",
       "\n",
       "    .dataframe tbody tr th {\n",
       "        vertical-align: top;\n",
       "    }\n",
       "\n",
       "    .dataframe thead th {\n",
       "        text-align: right;\n",
       "    }\n",
       "</style>\n",
       "<table border=\"1\" class=\"dataframe\">\n",
       "  <thead>\n",
       "    <tr style=\"text-align: right;\">\n",
       "      <th></th>\n",
       "      <th>tnet</th>\n",
       "      <th>s2e</th>\n",
       "      <th>n_vacc</th>\n",
       "      <th>name</th>\n",
       "      <th>m</th>\n",
       "    </tr>\n",
       "  </thead>\n",
       "  <tbody>\n",
       "    <tr>\n",
       "      <th>0</th>\n",
       "      <td>0</td>\n",
       "      <td>0.05</td>\n",
       "      <td>15</td>\n",
       "      <td>rand_0</td>\n",
       "      <td>40.38</td>\n",
       "    </tr>\n",
       "    <tr>\n",
       "      <th>1</th>\n",
       "      <td>0</td>\n",
       "      <td>0.05</td>\n",
       "      <td>15</td>\n",
       "      <td>friend_1</td>\n",
       "      <td>40.69</td>\n",
       "    </tr>\n",
       "    <tr>\n",
       "      <th>2</th>\n",
       "      <td>0</td>\n",
       "      <td>0.05</td>\n",
       "      <td>15</td>\n",
       "      <td>friendHighDeg_2</td>\n",
       "      <td>38.32</td>\n",
       "    </tr>\n",
       "    <tr>\n",
       "      <th>3</th>\n",
       "      <td>0</td>\n",
       "      <td>0.05</td>\n",
       "      <td>15</td>\n",
       "      <td>targeted_3</td>\n",
       "      <td>37.69</td>\n",
       "    </tr>\n",
       "    <tr>\n",
       "      <th>4</th>\n",
       "      <td>0</td>\n",
       "      <td>0.05</td>\n",
       "      <td>15</td>\n",
       "      <td>local_betweenness_4</td>\n",
       "      <td>37.50</td>\n",
       "    </tr>\n",
       "  </tbody>\n",
       "</table>\n",
       "</div>"
      ],
      "text/plain": [
       "   tnet   s2e  n_vacc                 name      m\n",
       "0     0  0.05      15               rand_0  40.38\n",
       "1     0  0.05      15             friend_1  40.69\n",
       "2     0  0.05      15      friendHighDeg_2  38.32\n",
       "3     0  0.05      15           targeted_3  37.69\n",
       "4     0  0.05      15  local_betweenness_4  37.50"
      ]
     },
     "execution_count": 8,
     "metadata": {},
     "output_type": "execute_result"
    }
   ],
   "source": [
    "df.head()"
   ]
  },
  {
   "cell_type": "code",
   "execution_count": 11,
   "metadata": {},
   "outputs": [
    {
     "data": {
      "image/png": "[encoded data removed]",
      "text/plain": [
       "<Figure size 432x288 with 1 Axes>"
      ]
     },
     "metadata": {
      "needs_background": "light"
     },
     "output_type": "display_data"
    }
   ],
   "source": [
    "ax = plt.axes()\n",
    "for s2e in s2es:\n",
    "    df[(\n",
    "        (df.tnet==0)&\n",
    "        (df.s2e==s2e)&\n",
    "        (df.n_vacc==46)\n",
    "    )].plot.scatter(\"name\",\"m\", label=s2e, ax=ax)\n",
    "\n",
    "    plt.xticks(rotation = 90)\n",
    "plt.show()"
   ]
  },
  {
   "cell_type": "code",
   "execution_count": 10,
   "metadata": {},
   "outputs": [],
   "source": [
    "x1 = np.mean([x[-1] for x in ms[(0,0.05,15,'none_6')]]) - 20\n",
    "x2 = np.mean([x[-1] for x in ms[(0,0.2,15,'none_6')]]) - 20"
   ]
  },
  {
   "cell_type": "code",
   "execution_count": 11,
   "metadata": {},
   "outputs": [],
   "source": [
    "tnets = [\n",
    "    temporalNetwork.load('high school').range(1,2),\n",
    "    temporalNetwork.load('high school2')\n",
    "]"
   ]
  },
  {
   "cell_type": "code",
   "execution_count": 12,
   "metadata": {},
   "outputs": [],
   "source": [
    "x1 = (np.mean([x[-1] for x in ms[(0,0.05,15,'none_6')]]) - 20, tnets[0].Nnodes - 20)\n",
    "x2 = (np.mean([x[-1] for x in ms[(0,0.2,15,'none_6')]]) - 20, tnets[0].Nnodes - 20)\n",
    "x3 = (np.mean([x[-1] for x in ms[(1,0.05,39,'none_6')]]) - 20, tnets[1].Nnodes - 20)\n",
    "x4 = (np.mean([x[-1] for x in ms[(1,0.2,39,'none_6')]]) - 20, tnets[1].Nnodes - 20)"
   ]
  },
  {
   "cell_type": "code",
   "execution_count": 13,
   "metadata": {},
   "outputs": [
    {
     "data": {
      "text/markdown": [
       "\n",
       "Without any vaccinations and 20 initial infections, \n",
       "    the *Mastrandrea2015* high school will gain on average an additional\n",
       "        22.0 / 290 infections (8%)\n",
       "        after 100 days\n",
       "        considering a daily infection rate of 0.05 (the minimum considered in this paper),\n",
       "    and an additional\n",
       "        132.2 / 290 infections (46%)\n",
       "        after 100 days\n",
       "        considering a daily infection rate of 0.2 (the maximum considered in this paper).\n",
       "Without any vaccinations and 20 initial infections, \n",
       "    the *Salathé2010* high school will gain on average an additional\n",
       "        78.8 / 764 infections (10%)\n",
       "        after 100 days\n",
       "        considering a daily infection rate of 0.05,\n",
       "    and an additional\n",
       "        565.4 / 764 infections (74%)\n",
       "        after 100 days\n",
       "        considering a daily infection rate of 0.2.\n"
      ],
      "text/plain": [
       "<IPython.core.display.Markdown object>"
      ]
     },
     "metadata": {},
     "output_type": "display_data"
    }
   ],
   "source": [
    "display(Markdown(f\"\"\"\n",
    "Without any vaccinations and 20 initial infections, \n",
    "    the *Mastrandrea2015* high school will gain on average an additional\n",
    "        {x1[0]:0.1f} / {x1[1]} infections ({x1[0]/x1[1]:0.0%})\n",
    "        after 100 days\n",
    "        considering a daily infection rate of 0.05 (the minimum considered in this paper),\n",
    "    and an additional\n",
    "        {x2[0]:0.1f} / {x2[1]} infections ({x2[0]/x2[1]:0.0%})\n",
    "        after 100 days\n",
    "        considering a daily infection rate of 0.2 (the maximum considered in this paper).\n",
    "Without any vaccinations and 20 initial infections, \n",
    "    the *Salathé2010* high school will gain on average an additional\n",
    "        {x3[0]:0.1f} / {x3[1]} infections ({x3[0]/x3[1]:0.0%})\n",
    "        after 100 days\n",
    "        considering a daily infection rate of 0.05,\n",
    "    and an additional\n",
    "        {x4[0]:0.1f} / {x4[1]} infections ({x4[0]/x4[1]:0.0%})\n",
    "        after 100 days\n",
    "        considering a daily infection rate of 0.2.\n",
    "\"\"\"))"
   ]
  },
  {
   "cell_type": "code",
   "execution_count": 14,
   "metadata": {},
   "outputs": [],
   "source": [
    "vacc_ps = [0.05, 0.10, 0.15, 0.20]\n",
    "\n",
    "actual_ns = sorted(set(df[df.tnet==0].n_vacc))\n",
    "\n",
    "for a, p in zip(actual_ns, vacc_ps):\n",
    "    df.loc[(df.tnet==0)&(df.n_vacc==a), 'n_vacc'] = p"
   ]
  },
  {
   "cell_type": "code",
   "execution_count": 15,
   "metadata": {},
   "outputs": [],
   "source": [
    "actual_ns = sorted(set(df[df.tnet==1].n_vacc))\n",
    "\n",
    "for a, p in zip(actual_ns, vacc_ps):\n",
    "    df.loc[(df.tnet==1)&(df.n_vacc==a), 'n_vacc'] = p"
   ]
  },
  {
   "cell_type": "markdown",
   "metadata": {},
   "source": [
    "# simple vaccination steps"
   ]
  },
  {
   "cell_type": "code",
   "execution_count": 18,
   "metadata": {},
   "outputs": [
    {
     "data": {
      "text/markdown": [
       "\n",
       "Randomly distributed vaccinations have some effect on the spread of this disease.\n",
       "In the case of highest infectiousness (0.2 daily probability),\n",
       "    vaccinating students in the *Mastrandrea2015* high school \n",
       "        reduces average infections after 100 days among the unvaccinated from \n",
       "    45.6% (no vaccination)\n",
       "    to 42.6% (5% vaccinated), 39.7% (10% vaccinated), 37.6% (15% vaccinated) and 35.0% (20% vaccinated).\n",
       "Likewise, vaccinating students in the *Salathé2010* high school \n",
       "    reduces average infections after 100 days among the unvaccinated from \n",
       "    74.0% (no vaccination)\n",
       "    to 71.7% (5% vaccinated), 71.6% (10% vaccinated), 69.0% (15% vaccinated) and 67.7% (20% vaccinated).\n"
      ],
      "text/plain": [
       "<IPython.core.display.Markdown object>"
      ]
     },
     "metadata": {},
     "output_type": "display_data"
    }
   ],
   "source": [
    "s_add = []\n",
    "\n",
    "ns = sorted(set([\n",
    "    x[2] for x,v in ms.items()\n",
    "    if x[0] == 0\n",
    "    if len(v)\n",
    "]))\n",
    "\n",
    "for p, N_vacc in zip(vacc_ps, ns):\n",
    "    res = (np.mean([x[-1] for x in ms[(0,0.2,N_vacc,'rand_0')]]) - 20 ) / (tnets[0].Nnodes - 20 - N_vacc)\n",
    "    s_add.append( f\"{res:0.1%} ({p:0.0%} vaccinated)\" )\n",
    "    \n",
    "s_add = \", \".join(s_add[:-1]) + f\" and {s_add[-1]}\"\n",
    "\n",
    "\n",
    "\n",
    "s_add_2 = []\n",
    "\n",
    "ns = sorted(set([\n",
    "    x[2] for x,v in ms.items()\n",
    "    if x[0] == 1\n",
    "    if len(v)\n",
    "]))\n",
    "\n",
    "for p, N_vacc in zip(vacc_ps, ns):\n",
    "    res = (np.mean([x[-1] for x in ms[(1,0.2,N_vacc,'rand_0')]]) - 20 ) / (tnets[1].Nnodes - 20 - N_vacc)\n",
    "    s_add_2.append( f\"{res:0.1%} ({p:0.0%} vaccinated)\" )\n",
    "    \n",
    "s_add_2 = \", \".join(s_add_2[:-1]) + f\" and {s_add_2[-1]}\"\n",
    "\n",
    "\n",
    "display(Markdown(f\"\"\"\n",
    "Randomly distributed vaccinations have some effect on the spread of this disease.\n",
    "In the case of highest infectiousness (0.2 daily probability),\n",
    "    vaccinating students in the *Mastrandrea2015* high school \n",
    "        reduces average infections after 100 days among the unvaccinated from \n",
    "    {(np.mean([x[-1] for x in ms[(0,0.2,15,'none_6')]]) - 20) / (tnets[0].Nnodes - 20):0.1%} (no vaccination)\n",
    "    to {s_add}.\n",
    "Likewise, vaccinating students in the *Salathé2010* high school \n",
    "    reduces average infections after 100 days among the unvaccinated from \n",
    "    {(np.mean([x[-1] for x in ms[(1,0.2,39,'none_6')]]) - 20) / (tnets[1].Nnodes - 20):0.1%} (no vaccination)\n",
    "    to {s_add_2}.\n",
    "\"\"\"))"
   ]
  },
  {
   "cell_type": "markdown",
   "metadata": {},
   "source": [
    "# which were most effective?"
   ]
  },
  {
   "cell_type": "code",
   "execution_count": 19,
   "metadata": {},
   "outputs": [
    {
     "data": {
      "image/png": "[encoded data removed]",
      "text/plain": [
       "<Figure size 1080x360 with 2 Axes>"
      ]
     },
     "metadata": {
      "needs_background": "light"
     },
     "output_type": "display_data"
    }
   ],
   "source": [
    "plt.figure(figsize=(15,5))\n",
    "ns = sorted(set([\n",
    "    x[2] for x,v in ms.items()\n",
    "    if x[0] == 0\n",
    "    if len(v)\n",
    "]))\n",
    "\n",
    "names = sorted(names, key=lambda x:-np.array(ms[(0,0.2,ns[-1],x)]).mean(axis=0)[-1])\n",
    "\n",
    "plt.subplot(1,2,1)\n",
    "for name in names:\n",
    "    Y = np.array(ms[(0,0.2,ns[-1],name)]).mean(axis=0)\n",
    "    plt.plot(Y, label=\" \".join(name.split(\"_\")[:-1]))\n",
    "plt.legend()\n",
    "plt.xlabel(\"time (days)\")\n",
    "plt.ylabel(\"# inf + rec\")\n",
    "\n",
    "ns = sorted(set([\n",
    "    x[2] for x,v in ms.items()\n",
    "    if x[0] == 1\n",
    "    if len(v)\n",
    "]))\n",
    "\n",
    "names = sorted(names, key=lambda x:-np.array(ms[(1,0.2,ns[-1],x)]).mean(axis=0)[-1])\n",
    "\n",
    "plt.subplot(1,2,2)\n",
    "for name in names:\n",
    "    Y = np.array(ms[(1,0.2,ns[-1],name)]).mean(axis=0)\n",
    "    plt.plot(Y, label=\" \".join(name.split(\"_\")[:-1]))\n",
    "plt.legend()\n",
    "plt.xlabel(\"time (days)\")\n",
    "plt.ylabel(\"# inf + rec\")\n",
    "\n",
    "plt.savefig(\"2a inf_over_time.png\")"
   ]
  },
  {
   "cell_type": "code",
   "execution_count": 20,
   "metadata": {},
   "outputs": [
    {
     "data": {
      "text/plain": [
       "['none_6',\n",
       " 'rand_0',\n",
       " 'friend_1',\n",
       " 'friendHighDeg_2',\n",
       " 'nominate_local_betweenness_5',\n",
       " 'targeted_3',\n",
       " 'local_betweenness_4']"
      ]
     },
     "execution_count": 20,
     "metadata": {},
     "output_type": "execute_result"
    }
   ],
   "source": [
    "names"
   ]
  },
  {
   "cell_type": "code",
   "execution_count": 21,
   "metadata": {},
   "outputs": [],
   "source": [
    "s_add = []\n",
    "\n",
    "ns = sorted(set([\n",
    "    x[2] for x,v in ms.items()\n",
    "    if x[0] == 0\n",
    "    if len(v)\n",
    "]))\n",
    "\n",
    "for p, N_vacc in zip(vacc_ps, ns):\n",
    "    res_nlb = (np.mean([x[-1] for x in ms[(0,0.2,N_vacc,'nominate_local_betweenness_5')]]) - 20 ) / (tnets[0].Nnodes - 20 - N_vacc)\n",
    "    res_rand = (np.mean([x[-1] for x in ms[(0,0.2,N_vacc,'rand_0')]]) - 20 ) / (tnets[0].Nnodes - 20 - N_vacc)\n",
    "    s_add.append( f\"{1-res_nlb/res_rand:0.1%} ({p:0.0%} vaccinated)\" )\n",
    "    \n",
    "s_add = \", \".join(s_add[:-1]) + f\" and {s_add[-1]}\""
   ]
  },
  {
   "cell_type": "code",
   "execution_count": 33,
   "metadata": {},
   "outputs": [],
   "source": [
    "def get_stats(XX):\n",
    "\n",
    "    s_add = []\n",
    "\n",
    "    ns = sorted(set([\n",
    "        x[2] for x,v in ms.items()\n",
    "        if x[0] == 0\n",
    "        if len(v)\n",
    "    ]))\n",
    "\n",
    "    for p, N_vacc in zip(vacc_ps, ns):\n",
    "        den = (tnets[0].Nnodes - 20 - N_vacc)\n",
    "        if 'none_' in XX:\n",
    "            den = (tnets[0].Nnodes - 20)\n",
    "        res_nlb = (np.mean([x[-1] for x in ms[(0,0.2,N_vacc,XX)]]) - 20 ) / den\n",
    "        s_add.append( f\"{res_nlb:0.1%} ({p:0.0%} vaccinated)\" )\n",
    "\n",
    "    s_add = \", \".join(s_add[:-1]) + f\" and {s_add[-1]}\"\n",
    "\n",
    "    return s_add"
   ]
  },
  {
   "cell_type": "code",
   "execution_count": 34,
   "metadata": {},
   "outputs": [
    {
     "data": {
      "text/plain": [
       "[('none_6',\n",
       "  '45.6% (5% vaccinated), 44.2% (10% vaccinated), 45.4% (15% vaccinated) and 44.3% (20% vaccinated)'),\n",
       " ('rand_0',\n",
       "  '42.6% (5% vaccinated), 39.7% (10% vaccinated), 37.6% (15% vaccinated) and 35.0% (20% vaccinated)'),\n",
       " ('friend_1',\n",
       "  '40.9% (5% vaccinated), 38.1% (10% vaccinated), 35.2% (15% vaccinated) and 30.8% (20% vaccinated)'),\n",
       " ('friendHighDeg_2',\n",
       "  '36.7% (5% vaccinated), 30.3% (10% vaccinated), 25.1% (15% vaccinated) and 20.6% (20% vaccinated)'),\n",
       " ('nominate_local_betweenness_5',\n",
       "  '36.3% (5% vaccinated), 29.3% (10% vaccinated), 24.3% (15% vaccinated) and 20.1% (20% vaccinated)'),\n",
       " ('targeted_3',\n",
       "  '33.9% (5% vaccinated), 28.4% (10% vaccinated), 23.2% (15% vaccinated) and 19.5% (20% vaccinated)'),\n",
       " ('local_betweenness_4',\n",
       "  '34.3% (5% vaccinated), 28.5% (10% vaccinated), 23.3% (15% vaccinated) and 20.4% (20% vaccinated)')]"
      ]
     },
     "execution_count": 34,
     "metadata": {},
     "output_type": "execute_result"
    }
   ],
   "source": [
    "[(XX,get_stats(XX)) for XX in names]"
   ]
  },
  {
   "cell_type": "code",
   "execution_count": 22,
   "metadata": {},
   "outputs": [
    {
     "data": {
      "text/plain": [
       "['none_6',\n",
       " 'rand_0',\n",
       " 'friend_1',\n",
       " 'friendHighDeg_2',\n",
       " 'nominate_local_betweenness_5',\n",
       " 'targeted_3',\n",
       " 'local_betweenness_4']"
      ]
     },
     "execution_count": 22,
     "metadata": {},
     "output_type": "execute_result"
    }
   ],
   "source": [
    "names"
   ]
  },
  {
   "cell_type": "code",
   "execution_count": 23,
   "metadata": {},
   "outputs": [],
   "source": [
    "ns = sorted(set([\n",
    "    x[2] for x,v in ms.items()\n",
    "    if x[0] == 0\n",
    "    if len(v)\n",
    "]))"
   ]
  },
  {
   "cell_type": "code",
   "execution_count": 24,
   "metadata": {},
   "outputs": [],
   "source": [
    "x1 = (\n",
    "    np.mean([x[-1] for x in ms[(0,0.2,15,'none_6')]]) - 20,\n",
    "    tnets[0].Nnodes - 20\n",
    ")\n",
    "\n",
    "x2 = (\n",
    "    np.mean([x[-1] for x in ms[(0,0.2,ns[-1],'rand_0')]]) - 20,\n",
    "    tnets[0].Nnodes - 20 - ns[-1]\n",
    ")\n",
    "\n",
    "x3 = (\n",
    "    np.mean([x[-1] for x in ms[(0,0.2,ns[-1],'friendHighDeg_2')]]) - 20,\n",
    "    tnets[0].Nnodes - 20 - ns[-1]\n",
    ")"
   ]
  },
  {
   "cell_type": "code",
   "execution_count": 25,
   "metadata": {},
   "outputs": [
    {
     "data": {
      "text/markdown": [
       "\n",
       "Targeted vaccinations provide a significant additional protective effect in these school settings.\n",
       "The most effective strategies are essentially a tie between *local betweenness nomination*, *degree nomination*, *local betweenness* and *degree*.\n",
       "*Local betweenness nomination* of vaccinations to 20% of the student population in the *Mastrandrea2015* high school\n",
       "    reduces infections by a further 14.9% (5% vaccinated), 26.3% (10% vaccinated), 35.3% (15% vaccinated) and 42.5% (20% vaccinated)\n",
       "    compared to *random* distribution, \n",
       "    considering a daily infection rate of 0.2.\n",
       "Stated more directly, randomly vaccinating 20% of the student population in this high school \n",
       "    reduces infection among the unvaccinated from\n",
       "    an average of 132.2 new infections of the 290 susceptible students (46%)\n",
       "        when no students are vaccinated,\n",
       "    to 79.7 new infections of the 228 susceptible students (35%).\n",
       "Vaccinating 20% of students via *degree nomination*\n",
       "    reduces this average further to just 47.0 new infections of the 228 susceptible students (21%).\n"
      ],
      "text/plain": [
       "<IPython.core.display.Markdown object>"
      ]
     },
     "metadata": {},
     "output_type": "display_data"
    }
   ],
   "source": [
    "display(Markdown(f\"\"\"\n",
    "Targeted vaccinations provide a significant additional protective effect in these school settings.\n",
    "The most effective strategies are essentially a tie between *local betweenness nomination*, *degree nomination*, *local betweenness* and *degree*.\n",
    "*Local betweenness nomination* of vaccinations to 20% of the student population in the *Mastrandrea2015* high school\n",
    "    reduces infections by a further {s_add}\n",
    "    compared to *random* distribution, \n",
    "    considering a daily infection rate of 0.2.\n",
    "Stated more directly, randomly vaccinating 20% of the student population in this high school \n",
    "    reduces infection among the unvaccinated from\n",
    "    an average of {x1[0]:0.1f} new infections of the {x1[1]:d} susceptible students ({x1[0]/x1[1]:0.0%})\n",
    "        when no students are vaccinated,\n",
    "    to {x2[0]:0.1f} new infections of the {x2[1]:d} susceptible students ({x2[0]/x2[1]:0.0%}).\n",
    "Vaccinating 20% of students via *degree nomination*\n",
    "    reduces this average further to just {x3[0]:0.1f} new infections of the {x3[1]:d} susceptible students ({x3[0]/x3[1]:0.0%}).\n",
    "\"\"\"))"
   ]
  }
 ],
 "metadata": {
  "kernelspec": {
   "display_name": "Python 3 (ipykernel)",
   "language": "python",
   "name": "python3"
  },
  "language_info": {
   "codemirror_mode": {
    "name": "ipython",
    "version": 3
   },
   "file_extension": ".py",
   "mimetype": "text/x-python",
   "name": "python",
   "nbconvert_exporter": "python",
   "pygments_lexer": "ipython3",
   "version": "3.9.0"
  }
 },
 "nbformat": 4,
 "nbformat_minor": 4
}
