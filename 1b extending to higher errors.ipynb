{
 "cells": [
  {
   "cell_type": "code",
   "execution_count": 1,
   "metadata": {},
   "outputs": [],
   "source": [
    "from simulation_manager import *"
   ]
  },
  {
   "cell_type": "code",
   "execution_count": 2,
   "metadata": {},
   "outputs": [],
   "source": [
    "from epi_model import *"
   ]
  },
  {
   "cell_type": "code",
   "execution_count": 3,
   "metadata": {},
   "outputs": [],
   "source": [
    "from simulation_helper import *"
   ]
  },
  {
   "cell_type": "code",
   "execution_count": 7,
   "metadata": {},
   "outputs": [],
   "source": [
    "def friendHighDegRandTop3(sim, vaccinateN):\n",
    "    return sampling.friendHighDegRandTopN(sim, vaccinateN, N=3)\n",
    "def friendHighDegRandTop5(sim, vaccinateN):\n",
    "    return sampling.friendHighDegRandTopN(sim, vaccinateN, N=5)\n",
    "def friendHighDegRandTop10(sim, vaccinateN):\n",
    "    return sampling.friendHighDegRandTopN(sim, vaccinateN, N=10)\n",
    "def friendHighDegRandTop20(sim, vaccinateN):\n",
    "    return sampling.friendHighDegRandTopN(sim, vaccinateN, N=20)\n",
    "def friendHighDegRandTop35(sim, vaccinateN):\n",
    "    return sampling.friendHighDegRandTopN(sim, vaccinateN, N=35)\n",
    "def friendHighDegRandTop50(sim, vaccinateN):\n",
    "    return sampling.friendHighDegRandTopN(sim, vaccinateN, N=50)\n",
    "\n",
    "def friendHighDegNormalErr10(sim, vaccinateN):\n",
    "    return sampling.friendHighDegNormalErr(sim, vaccinateN, sigma=10)\n",
    "def friendHighDegNormalErr20(sim, vaccinateN):\n",
    "    return sampling.friendHighDegNormalErr(sim, vaccinateN, sigma=20)\n",
    "def friendHighDegNormalErr30(sim, vaccinateN):\n",
    "    return sampling.friendHighDegNormalErr(sim, vaccinateN, sigma=30)\n",
    "def friendHighDegNormalErr40(sim, vaccinateN):\n",
    "    return sampling.friendHighDegNormalErr(sim, vaccinateN, sigma=40)\n",
    "def friendHighDegNormalErr50(sim, vaccinateN):\n",
    "    return sampling.friendHighDegNormalErr(sim, vaccinateN, sigma=50)"
   ]
  },
  {
   "cell_type": "code",
   "execution_count": 24,
   "metadata": {},
   "outputs": [],
   "source": [
    "strats = [\n",
    "    friendHighDegRandTop3,\n",
    "    friendHighDegRandTop5,\n",
    "    friendHighDegRandTop10,\n",
    "    friendHighDegRandTop20,\n",
    "    friendHighDegRandTop35,\n",
    "    friendHighDegRandTop50,\n",
    "    friendHighDegNormalErr10,\n",
    "    friendHighDegNormalErr20,\n",
    "    friendHighDegNormalErr30,\n",
    "    friendHighDegNormalErr40,\n",
    "    friendHighDegNormalErr50,\n",
    "    sampling.rand,\n",
    "    sampling.friend\n",
    "]"
   ]
  },
  {
   "cell_type": "code",
   "execution_count": 25,
   "metadata": {},
   "outputs": [],
   "source": [
    "argset = iter_args({\n",
    "    'strat': {x.__name__: x for x in strats},\n",
    "    'R0_mean': 2.5,\n",
    "    'VACCINATE_P': 0.20,\n",
    "    'INITIAL_INFECT': 20,\n",
    "    'R0_coeffvar': 0.2\n",
    "})"
   ]
  },
  {
   "cell_type": "code",
   "execution_count": 26,
   "metadata": {},
   "outputs": [],
   "source": [
    "models_names = ['HS1', 'HS2', 'synthetic_3']"
   ]
  },
  {
   "cell_type": "code",
   "execution_count": 27,
   "metadata": {},
   "outputs": [
    {
     "name": "stdout",
     "output_type": "stream",
     "text": [
      "Loading from checkpoint HS1\n",
      "Loading from checkpoint HS2\n",
      "Loading from checkpoint synthetic_3\n"
     ]
    }
   ],
   "source": [
    "# when new\n",
    "managers = {} \n",
    "for name in models_names:\n",
    "    manager = simulation_manager()\n",
    "    \n",
    "    next_fn = Path(f\"simulation_results/{name}-more_err.pickle\")\n",
    "    if next_fn.exists():\n",
    "        print(f\"Loading from checkpoint {name}\")\n",
    "        manager.load_models(name+\"-more_err\")\n",
    "    else:\n",
    "        print(f\"Loading from original {name}\")    \n",
    "        manager.load_models(name)\n",
    "        \n",
    "    managers[name] = manager"
   ]
  },
  {
   "cell_type": "code",
   "execution_count": 15,
   "metadata": {},
   "outputs": [],
   "source": [
    "if True:\n",
    "    # clear everything lol...\n",
    "    for m in managers.values():\n",
    "        m.models = defaultdict(list)"
   ]
  },
  {
   "cell_type": "code",
   "execution_count": 28,
   "metadata": {},
   "outputs": [],
   "source": [
    "from frozendict import frozendict as fzd"
   ]
  },
  {
   "cell_type": "code",
   "execution_count": 29,
   "metadata": {},
   "outputs": [
    {
     "data": {
      "text/plain": [
       "['HS1', 'HS2', 'synthetic_3']"
      ]
     },
     "execution_count": 29,
     "metadata": {},
     "output_type": "execute_result"
    }
   ],
   "source": [
    "list(managers)"
   ]
  },
  {
   "cell_type": "code",
   "execution_count": 30,
   "metadata": {},
   "outputs": [
    {
     "name": "stdout",
     "output_type": "stream",
     "text": [
      "Starting on HS1\n",
      "starting at 10\n",
      "Checkpointing after 10/150 simulations\n",
      "Checkpointing after 20/150 simulations\n",
      "Checkpointing after 30/150 simulations\n",
      "Checkpointing after 40/150 simulations\n",
      "Checkpointing after 50/150 simulations\n",
      "Checkpointing after 60/150 simulations\n",
      "Checkpointing after 70/150 simulations\n",
      "Checkpointing after 80/150 simulations\n",
      "Checkpointing after 90/150 simulations\n",
      "Checkpointing after 100/150 simulations\n",
      "Checkpointing after 110/150 simulations\n",
      "Checkpointing after 120/150 simulations\n",
      "Checkpointing after 130/150 simulations\n",
      "Checkpointing after 140/150 simulations\n",
      "Checkpointing after 150/150 simulations\n",
      "Starting on HS2\n",
      "starting at 10\n",
      "Checkpointing after 10/150 simulations\n",
      "Checkpointing after 20/150 simulations\n",
      "Checkpointing after 30/150 simulations\n",
      "Checkpointing after 40/150 simulations\n",
      "Checkpointing after 50/150 simulations\n",
      "Checkpointing after 60/150 simulations\n",
      "Checkpointing after 70/150 simulations\n",
      "Checkpointing after 80/150 simulations\n",
      "Checkpointing after 90/150 simulations\n",
      "Checkpointing after 100/150 simulations\n",
      "Checkpointing after 110/150 simulations\n",
      "Checkpointing after 120/150 simulations\n",
      "Checkpointing after 130/150 simulations\n",
      "Checkpointing after 140/150 simulations\n",
      "Checkpointing after 150/150 simulations\n",
      "Starting on synthetic_3\n",
      "starting at 10\n",
      "Checkpointing after 10/150 simulations\n",
      "Checkpointing after 20/150 simulations\n",
      "Checkpointing after 30/150 simulations\n",
      "Checkpointing after 40/150 simulations\n",
      "Checkpointing after 50/150 simulations\n",
      "Checkpointing after 60/150 simulations\n",
      "Checkpointing after 70/150 simulations\n",
      "Checkpointing after 80/150 simulations\n",
      "Checkpointing after 90/150 simulations\n",
      "Checkpointing after 100/150 simulations\n",
      "Checkpointing after 110/150 simulations\n",
      "Checkpointing after 120/150 simulations\n",
      "Checkpointing after 130/150 simulations\n",
      "Checkpointing after 140/150 simulations\n",
      "Checkpointing after 150/150 simulations\n"
     ]
    }
   ],
   "source": [
    "for mname, m in managers.items():\n",
    "    print(f'Starting on {mname}')\n",
    "    m.run_and_checkpoint(\n",
    "        argset, \n",
    "        N_PER=150, \n",
    "        interval=10, \n",
    "        verbose=False, \n",
    "        dump_name=mname+\"-more_err\"\n",
    "    )"
   ]
  },
  {
   "cell_type": "code",
   "execution_count": 11,
   "metadata": {},
   "outputs": [
    {
     "name": "stdout",
     "output_type": "stream",
     "text": [
      "Starting on HS1\n",
      "Starting on HS2\n",
      "Starting on synthetic_3\n"
     ]
    }
   ],
   "source": [
    "for mname, m in managers.items():\n",
    "    m.dump_models(mname+\"-R0_coeffvar\")"
   ]
  },
  {
   "cell_type": "code",
   "execution_count": null,
   "metadata": {},
   "outputs": [],
   "source": [
    "if False:\n",
    "\n",
    "    # the annoying business of translating parameter dictionaries, because of the lack of defaults...\n",
    "    # it's always something...\n",
    "    for mname, m in managers.items():\n",
    "        todel = []\n",
    "        toset = []\n",
    "        for k,v in m.models.items():\n",
    "            if 'R0_coeffvar' not in k:\n",
    "                k2 = dict(k)\n",
    "                k2['R0_coeffvar'] = 0.2\n",
    "                k2 = fzd(k2)\n",
    "                toset.append((k2, v))\n",
    "                todel.append(k)\n",
    "\n",
    "        for k in todel:\n",
    "            del m.models[k]\n",
    "\n",
    "        for k2,v in toset:\n",
    "            m.models[k2] = v"
   ]
  }
 ],
 "metadata": {
  "kernelspec": {
   "display_name": "Python 3",
   "language": "python",
   "name": "python3"
  },
  "language_info": {
   "codemirror_mode": {
    "name": "ipython",
    "version": 3
   },
   "file_extension": ".py",
   "mimetype": "text/x-python",
   "name": "python",
   "nbconvert_exporter": "python",
   "pygments_lexer": "ipython3",
   "version": "3.7.5"
  }
 },
 "nbformat": 4,
 "nbformat_minor": 4
}
