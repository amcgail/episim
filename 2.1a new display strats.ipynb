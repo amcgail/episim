{
 "cells": [
  {
   "cell_type": "code",
   "execution_count": 1,
   "metadata": {},
   "outputs": [],
   "source": [
    "import sys; sys.path.append(\"..\")\n",
    "from epi_model import *"
   ]
  },
  {
   "cell_type": "code",
   "execution_count": 3,
   "metadata": {},
   "outputs": [],
   "source": [
    "import pickle\n",
    "import os\n",
    "\n",
    "ms = dict()\n",
    "\n",
    "for f in Path(\".\").glob(\"full_run_*.pickle\"):\n",
    "    if not os.path.getsize(f):\n",
    "        continue\n",
    "    with f.open('rb') as inf:\n",
    "        ms_m = pickle.load( inf )\n",
    "        for k,v in ms_m.items():\n",
    "            ms[k] = v"
   ]
  },
  {
   "cell_type": "code",
   "execution_count": 6,
   "metadata": {},
   "outputs": [
    {
     "data": {
      "text/plain": [
       "['friend',\n",
       " 'friendClose',\n",
       " 'friendCloseChain',\n",
       " 'friendCloseChain_5',\n",
       " 'friendHighDeg',\n",
       " 'friendHighDegClose',\n",
       " 'friendHighDegCloseChain',\n",
       " 'friendWeighted',\n",
       " 'friendWeightedChain',\n",
       " 'local_betweenness',\n",
       " 'nominate_local_betweenness',\n",
       " 'none',\n",
       " 'rand',\n",
       " 'targeted']"
      ]
     },
     "execution_count": 6,
     "metadata": {},
     "output_type": "execute_result"
    }
   ],
   "source": [
    "sorted(set(x[-1] for x in ms.keys()))"
   ]
  },
  {
   "cell_type": "code",
   "execution_count": 7,
   "metadata": {},
   "outputs": [
    {
     "data": {
      "text/plain": [
       "252"
      ]
     },
     "execution_count": 7,
     "metadata": {},
     "output_type": "execute_result"
    }
   ],
   "source": [
    "len(ms)"
   ]
  },
  {
   "cell_type": "code",
   "execution_count": 8,
   "metadata": {},
   "outputs": [],
   "source": [
    "strats = [\n",
    "    ('friend', 'nomination (random)'),\n",
    "    ('friendClose', 'nomination (random, close)'),\n",
    "    ('friendHighDeg', 'nomination (degree)'),\n",
    "    ('friendHighDegClose', 'nomination (degree, close)'),\n",
    "    ('nominate_local_betweenness', 'nomination (local betweenness)'),\n",
    "    ('local_betweenness', 'local betweenness'),\n",
    "    ('targeted', 'degree'),\n",
    "    ('rand', 'random'),\n",
    "    ('none', 'no intervention'),\n",
    "]"
   ]
  },
  {
   "cell_type": "code",
   "execution_count": 9,
   "metadata": {},
   "outputs": [],
   "source": [
    "statsd = dict(strats)"
   ]
  },
  {
   "cell_type": "code",
   "execution_count": 10,
   "metadata": {},
   "outputs": [],
   "source": [
    "K, KN = list(zip(*strats))"
   ]
  },
  {
   "cell_type": "code",
   "execution_count": 11,
   "metadata": {},
   "outputs": [],
   "source": [
    "ms_d = {}"
   ]
  },
  {
   "cell_type": "code",
   "execution_count": 12,
   "metadata": {},
   "outputs": [],
   "source": [
    "rows = []\n",
    "\n",
    "def met(x):\n",
    "    return x['inf'][-1] + x['exp'][-1] + x['rec'][-1]\n",
    "\n",
    "for (tnet, s2e, n_vacc, name), m in sorted(ms.items()):\n",
    "    xs = [met(x) for x in m]\n",
    "    \n",
    "    mn = np.mean(xs)\n",
    "    sd = np.std(xs)\n",
    "    \n",
    "    mx = max([met(x) for x in m])\n",
    "    \n",
    "    ms_d[ (tnet, s2e, n_vacc, name) ] = [mn,mx,sd]\n",
    "    \n",
    "    if name not in statsd:\n",
    "        continue\n",
    "    \n",
    "    rows.append([\n",
    "        tnet, s2e, n_vacc, statsd[name],\n",
    "        f\"{mn:0.1f} +/- {1.96 * sd / np.sqrt(len(xs)):0.1f}\",mx\n",
    "    ])"
   ]
  },
  {
   "cell_type": "code",
   "execution_count": 13,
   "metadata": {},
   "outputs": [],
   "source": [
    "from tabulate import tabulate"
   ]
  },
  {
   "cell_type": "code",
   "execution_count": 14,
   "metadata": {},
   "outputs": [
    {
     "data": {
      "text/html": [
       "<table>\n",
       "<tbody>\n",
       "<tr><td style=\"text-align: right;\">0</td><td style=\"text-align: right;\">0.05</td><td style=\"text-align: right;\">0.05</td><td>nomination (random)           </td><td>41.6 +/- 1.0 </td><td style=\"text-align: right;\"> 68</td></tr>\n",
       "<tr><td style=\"text-align: right;\">0</td><td style=\"text-align: right;\">0.05</td><td style=\"text-align: right;\">0.05</td><td>nomination (random, close)    </td><td>40.7 +/- 1.1 </td><td style=\"text-align: right;\"> 67</td></tr>\n",
       "<tr><td style=\"text-align: right;\">0</td><td style=\"text-align: right;\">0.05</td><td style=\"text-align: right;\">0.05</td><td>nomination (degree)           </td><td>40.1 +/- 1.0 </td><td style=\"text-align: right;\"> 63</td></tr>\n",
       "<tr><td style=\"text-align: right;\">0</td><td style=\"text-align: right;\">0.05</td><td style=\"text-align: right;\">0.05</td><td>nomination (degree, close)    </td><td>41.6 +/- 1.2 </td><td style=\"text-align: right;\"> 66</td></tr>\n",
       "<tr><td style=\"text-align: right;\">0</td><td style=\"text-align: right;\">0.05</td><td style=\"text-align: right;\">0.05</td><td>local betweenness             </td><td>38.9 +/- 1.0 </td><td style=\"text-align: right;\"> 58</td></tr>\n",
       "<tr><td style=\"text-align: right;\">0</td><td style=\"text-align: right;\">0.05</td><td style=\"text-align: right;\">0.05</td><td>nomination (local betweenness)</td><td>41.0 +/- 1.1 </td><td style=\"text-align: right;\"> 74</td></tr>\n",
       "<tr><td style=\"text-align: right;\">0</td><td style=\"text-align: right;\">0.05</td><td style=\"text-align: right;\">0.05</td><td>no intervention               </td><td>44.6 +/- 1.3 </td><td style=\"text-align: right;\"> 75</td></tr>\n",
       "<tr><td style=\"text-align: right;\">0</td><td style=\"text-align: right;\">0.05</td><td style=\"text-align: right;\">0.05</td><td>random                        </td><td>41.9 +/- 1.2 </td><td style=\"text-align: right;\"> 73</td></tr>\n",
       "<tr><td style=\"text-align: right;\">0</td><td style=\"text-align: right;\">0.05</td><td style=\"text-align: right;\">0.05</td><td>degree                        </td><td>38.9 +/- 1.0 </td><td style=\"text-align: right;\"> 62</td></tr>\n",
       "<tr><td style=\"text-align: right;\">0</td><td style=\"text-align: right;\">0.05</td><td style=\"text-align: right;\">0.1 </td><td>nomination (random)           </td><td>40.1 +/- 1.0 </td><td style=\"text-align: right;\"> 65</td></tr>\n",
       "<tr><td style=\"text-align: right;\">0</td><td style=\"text-align: right;\">0.05</td><td style=\"text-align: right;\">0.1 </td><td>nomination (random, close)    </td><td>38.0 +/- 0.9 </td><td style=\"text-align: right;\"> 57</td></tr>\n",
       "<tr><td style=\"text-align: right;\">0</td><td style=\"text-align: right;\">0.05</td><td style=\"text-align: right;\">0.1 </td><td>nomination (degree)           </td><td>36.2 +/- 0.9 </td><td style=\"text-align: right;\"> 62</td></tr>\n",
       "<tr><td style=\"text-align: right;\">0</td><td style=\"text-align: right;\">0.05</td><td style=\"text-align: right;\">0.1 </td><td>nomination (degree, close)    </td><td>38.1 +/- 1.1 </td><td style=\"text-align: right;\"> 60</td></tr>\n",
       "<tr><td style=\"text-align: right;\">0</td><td style=\"text-align: right;\">0.05</td><td style=\"text-align: right;\">0.1 </td><td>local betweenness             </td><td>35.9 +/- 0.9 </td><td style=\"text-align: right;\"> 60</td></tr>\n",
       "<tr><td style=\"text-align: right;\">0</td><td style=\"text-align: right;\">0.05</td><td style=\"text-align: right;\">0.1 </td><td>nomination (local betweenness)</td><td>36.2 +/- 0.9 </td><td style=\"text-align: right;\"> 58</td></tr>\n",
       "<tr><td style=\"text-align: right;\">0</td><td style=\"text-align: right;\">0.05</td><td style=\"text-align: right;\">0.1 </td><td>no intervention               </td><td>44.5 +/- 1.3 </td><td style=\"text-align: right;\"> 68</td></tr>\n",
       "<tr><td style=\"text-align: right;\">0</td><td style=\"text-align: right;\">0.05</td><td style=\"text-align: right;\">0.1 </td><td>random                        </td><td>40.9 +/- 1.2 </td><td style=\"text-align: right;\"> 63</td></tr>\n",
       "<tr><td style=\"text-align: right;\">0</td><td style=\"text-align: right;\">0.05</td><td style=\"text-align: right;\">0.1 </td><td>degree                        </td><td>35.5 +/- 0.8 </td><td style=\"text-align: right;\"> 54</td></tr>\n",
       "<tr><td style=\"text-align: right;\">0</td><td style=\"text-align: right;\">0.05</td><td style=\"text-align: right;\">0.2 </td><td>nomination (random)           </td><td>35.1 +/- 0.8 </td><td style=\"text-align: right;\"> 53</td></tr>\n",
       "<tr><td style=\"text-align: right;\">0</td><td style=\"text-align: right;\">0.05</td><td style=\"text-align: right;\">0.2 </td><td>nomination (random, close)    </td><td>32.4 +/- 0.8 </td><td style=\"text-align: right;\"> 53</td></tr>\n",
       "<tr><td style=\"text-align: right;\">0</td><td style=\"text-align: right;\">0.05</td><td style=\"text-align: right;\">0.2 </td><td>nomination (degree)           </td><td>31.2 +/- 0.7 </td><td style=\"text-align: right;\"> 48</td></tr>\n",
       "<tr><td style=\"text-align: right;\">0</td><td style=\"text-align: right;\">0.05</td><td style=\"text-align: right;\">0.2 </td><td>nomination (degree, close)    </td><td>32.6 +/- 0.7 </td><td style=\"text-align: right;\"> 45</td></tr>\n",
       "<tr><td style=\"text-align: right;\">0</td><td style=\"text-align: right;\">0.05</td><td style=\"text-align: right;\">0.2 </td><td>local betweenness             </td><td>31.5 +/- 0.7 </td><td style=\"text-align: right;\"> 51</td></tr>\n",
       "<tr><td style=\"text-align: right;\">0</td><td style=\"text-align: right;\">0.05</td><td style=\"text-align: right;\">0.2 </td><td>nomination (local betweenness)</td><td>31.3 +/- 0.7 </td><td style=\"text-align: right;\"> 47</td></tr>\n",
       "<tr><td style=\"text-align: right;\">0</td><td style=\"text-align: right;\">0.05</td><td style=\"text-align: right;\">0.2 </td><td>no intervention               </td><td>45.1 +/- 1.3 </td><td style=\"text-align: right;\"> 73</td></tr>\n",
       "<tr><td style=\"text-align: right;\">0</td><td style=\"text-align: right;\">0.05</td><td style=\"text-align: right;\">0.2 </td><td>random                        </td><td>36.7 +/- 1.0 </td><td style=\"text-align: right;\"> 55</td></tr>\n",
       "<tr><td style=\"text-align: right;\">0</td><td style=\"text-align: right;\">0.05</td><td style=\"text-align: right;\">0.2 </td><td>degree                        </td><td>31.7 +/- 0.7 </td><td style=\"text-align: right;\"> 48</td></tr>\n",
       "<tr><td style=\"text-align: right;\">0</td><td style=\"text-align: right;\">0.1 </td><td style=\"text-align: right;\">0.05</td><td>nomination (random)           </td><td>73.2 +/- 2.1 </td><td style=\"text-align: right;\">114</td></tr>\n",
       "<tr><td style=\"text-align: right;\">0</td><td style=\"text-align: right;\">0.1 </td><td style=\"text-align: right;\">0.05</td><td>nomination (random, close)    </td><td>71.4 +/- 2.2 </td><td style=\"text-align: right;\">110</td></tr>\n",
       "<tr><td style=\"text-align: right;\">0</td><td style=\"text-align: right;\">0.1 </td><td style=\"text-align: right;\">0.05</td><td>nomination (degree)           </td><td>66.2 +/- 2.0 </td><td style=\"text-align: right;\">109</td></tr>\n",
       "<tr><td style=\"text-align: right;\">0</td><td style=\"text-align: right;\">0.1 </td><td style=\"text-align: right;\">0.05</td><td>nomination (degree, close)    </td><td>72.8 +/- 2.0 </td><td style=\"text-align: right;\">105</td></tr>\n",
       "<tr><td style=\"text-align: right;\">0</td><td style=\"text-align: right;\">0.1 </td><td style=\"text-align: right;\">0.05</td><td>local betweenness             </td><td>64.3 +/- 1.9 </td><td style=\"text-align: right;\">103</td></tr>\n",
       "<tr><td style=\"text-align: right;\">0</td><td style=\"text-align: right;\">0.1 </td><td style=\"text-align: right;\">0.05</td><td>nomination (local betweenness)</td><td>65.4 +/- 2.0 </td><td style=\"text-align: right;\">105</td></tr>\n",
       "<tr><td style=\"text-align: right;\">0</td><td style=\"text-align: right;\">0.1 </td><td style=\"text-align: right;\">0.05</td><td>no intervention               </td><td>80.0 +/- 2.2 </td><td style=\"text-align: right;\">127</td></tr>\n",
       "<tr><td style=\"text-align: right;\">0</td><td style=\"text-align: right;\">0.1 </td><td style=\"text-align: right;\">0.05</td><td>random                        </td><td>77.6 +/- 2.2 </td><td style=\"text-align: right;\">116</td></tr>\n",
       "<tr><td style=\"text-align: right;\">0</td><td style=\"text-align: right;\">0.1 </td><td style=\"text-align: right;\">0.05</td><td>degree                        </td><td>64.5 +/- 1.9 </td><td style=\"text-align: right;\">104</td></tr>\n",
       "<tr><td style=\"text-align: right;\">0</td><td style=\"text-align: right;\">0.1 </td><td style=\"text-align: right;\">0.1 </td><td>nomination (random)           </td><td>65.1 +/- 2.0 </td><td style=\"text-align: right;\">115</td></tr>\n",
       "<tr><td style=\"text-align: right;\">0</td><td style=\"text-align: right;\">0.1 </td><td style=\"text-align: right;\">0.1 </td><td>nomination (random, close)    </td><td>61.3 +/- 1.9 </td><td style=\"text-align: right;\"> 97</td></tr>\n",
       "<tr><td style=\"text-align: right;\">0</td><td style=\"text-align: right;\">0.1 </td><td style=\"text-align: right;\">0.1 </td><td>nomination (degree)           </td><td>57.5 +/- 1.6 </td><td style=\"text-align: right;\"> 89</td></tr>\n",
       "<tr><td style=\"text-align: right;\">0</td><td style=\"text-align: right;\">0.1 </td><td style=\"text-align: right;\">0.1 </td><td>nomination (degree, close)    </td><td>62.8 +/- 2.0 </td><td style=\"text-align: right;\"> 94</td></tr>\n",
       "<tr><td style=\"text-align: right;\">0</td><td style=\"text-align: right;\">0.1 </td><td style=\"text-align: right;\">0.1 </td><td>local betweenness             </td><td>55.3 +/- 1.7 </td><td style=\"text-align: right;\"> 94</td></tr>\n",
       "<tr><td style=\"text-align: right;\">0</td><td style=\"text-align: right;\">0.1 </td><td style=\"text-align: right;\">0.1 </td><td>nomination (local betweenness)</td><td>58.7 +/- 1.8 </td><td style=\"text-align: right;\"> 94</td></tr>\n",
       "<tr><td style=\"text-align: right;\">0</td><td style=\"text-align: right;\">0.1 </td><td style=\"text-align: right;\">0.1 </td><td>no intervention               </td><td>79.6 +/- 2.2 </td><td style=\"text-align: right;\">135</td></tr>\n",
       "<tr><td style=\"text-align: right;\">0</td><td style=\"text-align: right;\">0.1 </td><td style=\"text-align: right;\">0.1 </td><td>random                        </td><td>70.1 +/- 2.1 </td><td style=\"text-align: right;\">111</td></tr>\n",
       "<tr><td style=\"text-align: right;\">0</td><td style=\"text-align: right;\">0.1 </td><td style=\"text-align: right;\">0.1 </td><td>degree                        </td><td>52.9 +/- 1.4 </td><td style=\"text-align: right;\"> 83</td></tr>\n",
       "<tr><td style=\"text-align: right;\">0</td><td style=\"text-align: right;\">0.1 </td><td style=\"text-align: right;\">0.2 </td><td>nomination (random)           </td><td>54.2 +/- 1.6 </td><td style=\"text-align: right;\"> 84</td></tr>\n",
       "<tr><td style=\"text-align: right;\">0</td><td style=\"text-align: right;\">0.1 </td><td style=\"text-align: right;\">0.2 </td><td>nomination (random, close)    </td><td>47.9 +/- 1.4 </td><td style=\"text-align: right;\"> 88</td></tr>\n",
       "<tr><td style=\"text-align: right;\">0</td><td style=\"text-align: right;\">0.1 </td><td style=\"text-align: right;\">0.2 </td><td>nomination (degree)           </td><td>44.1 +/- 1.1 </td><td style=\"text-align: right;\"> 63</td></tr>\n",
       "<tr><td style=\"text-align: right;\">0</td><td style=\"text-align: right;\">0.1 </td><td style=\"text-align: right;\">0.2 </td><td>nomination (degree, close)    </td><td>47.1 +/- 1.4 </td><td style=\"text-align: right;\"> 85</td></tr>\n",
       "<tr><td style=\"text-align: right;\">0</td><td style=\"text-align: right;\">0.1 </td><td style=\"text-align: right;\">0.2 </td><td>local betweenness             </td><td>43.4 +/- 1.1 </td><td style=\"text-align: right;\"> 67</td></tr>\n",
       "<tr><td style=\"text-align: right;\">0</td><td style=\"text-align: right;\">0.1 </td><td style=\"text-align: right;\">0.2 </td><td>nomination (local betweenness)</td><td>42.0 +/- 1.0 </td><td style=\"text-align: right;\"> 63</td></tr>\n",
       "<tr><td style=\"text-align: right;\">0</td><td style=\"text-align: right;\">0.1 </td><td style=\"text-align: right;\">0.2 </td><td>no intervention               </td><td>82.5 +/- 2.3 </td><td style=\"text-align: right;\">126</td></tr>\n",
       "<tr><td style=\"text-align: right;\">0</td><td style=\"text-align: right;\">0.1 </td><td style=\"text-align: right;\">0.2 </td><td>random                        </td><td>58.4 +/- 1.7 </td><td style=\"text-align: right;\"> 99</td></tr>\n",
       "<tr><td style=\"text-align: right;\">0</td><td style=\"text-align: right;\">0.1 </td><td style=\"text-align: right;\">0.2 </td><td>degree                        </td><td>44.0 +/- 1.1 </td><td style=\"text-align: right;\"> 69</td></tr>\n",
       "<tr><td style=\"text-align: right;\">0</td><td style=\"text-align: right;\">0.2 </td><td style=\"text-align: right;\">0.05</td><td>nomination (random)           </td><td>145.4 +/- 2.9</td><td style=\"text-align: right;\">199</td></tr>\n",
       "<tr><td style=\"text-align: right;\">0</td><td style=\"text-align: right;\">0.2 </td><td style=\"text-align: right;\">0.05</td><td>nomination (random, close)    </td><td>143.0 +/- 2.9</td><td style=\"text-align: right;\">204</td></tr>\n",
       "<tr><td style=\"text-align: right;\">0</td><td style=\"text-align: right;\">0.2 </td><td style=\"text-align: right;\">0.05</td><td>nomination (degree)           </td><td>132.9 +/- 2.9</td><td style=\"text-align: right;\">186</td></tr>\n",
       "<tr><td style=\"text-align: right;\">0</td><td style=\"text-align: right;\">0.2 </td><td style=\"text-align: right;\">0.05</td><td>nomination (degree, close)    </td><td>142.6 +/- 2.8</td><td style=\"text-align: right;\">181</td></tr>\n",
       "<tr><td style=\"text-align: right;\">0</td><td style=\"text-align: right;\">0.2 </td><td style=\"text-align: right;\">0.05</td><td>local betweenness             </td><td>125.7 +/- 3.0</td><td style=\"text-align: right;\">180</td></tr>\n",
       "<tr><td style=\"text-align: right;\">0</td><td style=\"text-align: right;\">0.2 </td><td style=\"text-align: right;\">0.05</td><td>nomination (local betweenness)</td><td>128.6 +/- 2.9</td><td style=\"text-align: right;\">180</td></tr>\n",
       "<tr><td style=\"text-align: right;\">0</td><td style=\"text-align: right;\">0.2 </td><td style=\"text-align: right;\">0.05</td><td>no intervention               </td><td>165.5 +/- 2.9</td><td style=\"text-align: right;\">207</td></tr>\n",
       "<tr><td style=\"text-align: right;\">0</td><td style=\"text-align: right;\">0.2 </td><td style=\"text-align: right;\">0.05</td><td>random                        </td><td>151.1 +/- 2.9</td><td style=\"text-align: right;\">199</td></tr>\n",
       "<tr><td style=\"text-align: right;\">0</td><td style=\"text-align: right;\">0.2 </td><td style=\"text-align: right;\">0.05</td><td>degree                        </td><td>125.0 +/- 2.9</td><td style=\"text-align: right;\">181</td></tr>\n",
       "<tr><td style=\"text-align: right;\">0</td><td style=\"text-align: right;\">0.2 </td><td style=\"text-align: right;\">0.1 </td><td>nomination (random)           </td><td>127.7 +/- 2.7</td><td style=\"text-align: right;\">177</td></tr>\n",
       "<tr><td style=\"text-align: right;\">0</td><td style=\"text-align: right;\">0.2 </td><td style=\"text-align: right;\">0.1 </td><td>nomination (random, close)    </td><td>123.6 +/- 2.6</td><td style=\"text-align: right;\">166</td></tr>\n",
       "<tr><td style=\"text-align: right;\">0</td><td style=\"text-align: right;\">0.2 </td><td style=\"text-align: right;\">0.1 </td><td>nomination (degree)           </td><td>105.2 +/- 2.5</td><td style=\"text-align: right;\">154</td></tr>\n",
       "<tr><td style=\"text-align: right;\">0</td><td style=\"text-align: right;\">0.2 </td><td style=\"text-align: right;\">0.1 </td><td>nomination (degree, close)    </td><td>121.7 +/- 2.7</td><td style=\"text-align: right;\">167</td></tr>\n",
       "<tr><td style=\"text-align: right;\">0</td><td style=\"text-align: right;\">0.2 </td><td style=\"text-align: right;\">0.1 </td><td>local betweenness             </td><td>101.8 +/- 2.6</td><td style=\"text-align: right;\">152</td></tr>\n",
       "<tr><td style=\"text-align: right;\">0</td><td style=\"text-align: right;\">0.2 </td><td style=\"text-align: right;\">0.1 </td><td>nomination (local betweenness)</td><td>105.1 +/- 2.6</td><td style=\"text-align: right;\">147</td></tr>\n",
       "<tr><td style=\"text-align: right;\">0</td><td style=\"text-align: right;\">0.2 </td><td style=\"text-align: right;\">0.1 </td><td>no intervention               </td><td>163.2 +/- 3.1</td><td style=\"text-align: right;\">217</td></tr>\n",
       "<tr><td style=\"text-align: right;\">0</td><td style=\"text-align: right;\">0.2 </td><td style=\"text-align: right;\">0.1 </td><td>random                        </td><td>134.6 +/- 2.6</td><td style=\"text-align: right;\">180</td></tr>\n",
       "<tr><td style=\"text-align: right;\">0</td><td style=\"text-align: right;\">0.2 </td><td style=\"text-align: right;\">0.1 </td><td>degree                        </td><td>98.5 +/- 2.4 </td><td style=\"text-align: right;\">149</td></tr>\n",
       "<tr><td style=\"text-align: right;\">0</td><td style=\"text-align: right;\">0.2 </td><td style=\"text-align: right;\">0.2 </td><td>nomination (random)           </td><td>96.0 +/- 2.4 </td><td style=\"text-align: right;\">142</td></tr>\n",
       "<tr><td style=\"text-align: right;\">0</td><td style=\"text-align: right;\">0.2 </td><td style=\"text-align: right;\">0.2 </td><td>nomination (random, close)    </td><td>89.4 +/- 2.2 </td><td style=\"text-align: right;\">136</td></tr>\n",
       "<tr><td style=\"text-align: right;\">0</td><td style=\"text-align: right;\">0.2 </td><td style=\"text-align: right;\">0.2 </td><td>nomination (degree)           </td><td>68.2 +/- 1.8 </td><td style=\"text-align: right;\"> 98</td></tr>\n",
       "<tr><td style=\"text-align: right;\">0</td><td style=\"text-align: right;\">0.2 </td><td style=\"text-align: right;\">0.2 </td><td>nomination (degree, close)    </td><td>87.9 +/- 2.4 </td><td style=\"text-align: right;\">132</td></tr>\n",
       "<tr><td style=\"text-align: right;\">0</td><td style=\"text-align: right;\">0.2 </td><td style=\"text-align: right;\">0.2 </td><td>local betweenness             </td><td>67.5 +/- 1.8 </td><td style=\"text-align: right;\">101</td></tr>\n",
       "<tr><td style=\"text-align: right;\">0</td><td style=\"text-align: right;\">0.2 </td><td style=\"text-align: right;\">0.2 </td><td>nomination (local betweenness)</td><td>69.5 +/- 1.9 </td><td style=\"text-align: right;\">111</td></tr>\n",
       "<tr><td style=\"text-align: right;\">0</td><td style=\"text-align: right;\">0.2 </td><td style=\"text-align: right;\">0.2 </td><td>no intervention               </td><td>163.9 +/- 3.1</td><td style=\"text-align: right;\">220</td></tr>\n",
       "<tr><td style=\"text-align: right;\">0</td><td style=\"text-align: right;\">0.2 </td><td style=\"text-align: right;\">0.2 </td><td>random                        </td><td>109.2 +/- 2.7</td><td style=\"text-align: right;\">152</td></tr>\n",
       "<tr><td style=\"text-align: right;\">0</td><td style=\"text-align: right;\">0.2 </td><td style=\"text-align: right;\">0.2 </td><td>degree                        </td><td>68.5 +/- 1.8 </td><td style=\"text-align: right;\">102</td></tr>\n",
       "<tr><td style=\"text-align: right;\">1</td><td style=\"text-align: right;\">0.05</td><td style=\"text-align: right;\">0.05</td><td>nomination (random)           </td><td>110.8 +/- 4.1</td><td style=\"text-align: right;\">190</td></tr>\n",
       "<tr><td style=\"text-align: right;\">1</td><td style=\"text-align: right;\">0.05</td><td style=\"text-align: right;\">0.05</td><td>nomination (random, close)    </td><td>111.3 +/- 4.1</td><td style=\"text-align: right;\">214</td></tr>\n",
       "<tr><td style=\"text-align: right;\">1</td><td style=\"text-align: right;\">0.05</td><td style=\"text-align: right;\">0.05</td><td>nomination (degree)           </td><td>102.4 +/- 3.5</td><td style=\"text-align: right;\">165</td></tr>\n",
       "<tr><td style=\"text-align: right;\">1</td><td style=\"text-align: right;\">0.05</td><td style=\"text-align: right;\">0.05</td><td>nomination (degree, close)    </td><td>109.8 +/- 3.7</td><td style=\"text-align: right;\">189</td></tr>\n",
       "<tr><td style=\"text-align: right;\">1</td><td style=\"text-align: right;\">0.05</td><td style=\"text-align: right;\">0.05</td><td>local betweenness             </td><td>101.2 +/- 3.7</td><td style=\"text-align: right;\">176</td></tr>\n",
       "<tr><td style=\"text-align: right;\">1</td><td style=\"text-align: right;\">0.05</td><td style=\"text-align: right;\">0.05</td><td>nomination (local betweenness)</td><td>102.8 +/- 3.7</td><td style=\"text-align: right;\">182</td></tr>\n",
       "<tr><td style=\"text-align: right;\">1</td><td style=\"text-align: right;\">0.05</td><td style=\"text-align: right;\">0.05</td><td>no intervention               </td><td>123.2 +/- 4.3</td><td style=\"text-align: right;\">211</td></tr>\n",
       "<tr><td style=\"text-align: right;\">1</td><td style=\"text-align: right;\">0.05</td><td style=\"text-align: right;\">0.05</td><td>random                        </td><td>115.9 +/- 4.0</td><td style=\"text-align: right;\">225</td></tr>\n",
       "<tr><td style=\"text-align: right;\">1</td><td style=\"text-align: right;\">0.05</td><td style=\"text-align: right;\">0.05</td><td>degree                        </td><td>103.8 +/- 3.7</td><td style=\"text-align: right;\">184</td></tr>\n",
       "<tr><td style=\"text-align: right;\">1</td><td style=\"text-align: right;\">0.05</td><td style=\"text-align: right;\">0.1 </td><td>nomination (random)           </td><td>103.0 +/- 3.6</td><td style=\"text-align: right;\">169</td></tr>\n",
       "<tr><td style=\"text-align: right;\">1</td><td style=\"text-align: right;\">0.05</td><td style=\"text-align: right;\">0.1 </td><td>nomination (random, close)    </td><td>96.6 +/- 3.2 </td><td style=\"text-align: right;\">162</td></tr>\n",
       "<tr><td style=\"text-align: right;\">1</td><td style=\"text-align: right;\">0.05</td><td style=\"text-align: right;\">0.1 </td><td>nomination (degree)           </td><td>86.0 +/- 2.8 </td><td style=\"text-align: right;\">140</td></tr>\n",
       "<tr><td style=\"text-align: right;\">1</td><td style=\"text-align: right;\">0.05</td><td style=\"text-align: right;\">0.1 </td><td>nomination (degree, close)    </td><td>98.8 +/- 3.6 </td><td style=\"text-align: right;\">160</td></tr>\n",
       "<tr><td style=\"text-align: right;\">1</td><td style=\"text-align: right;\">0.05</td><td style=\"text-align: right;\">0.1 </td><td>local betweenness             </td><td>86.9 +/- 2.8 </td><td style=\"text-align: right;\">146</td></tr>\n",
       "<tr><td style=\"text-align: right;\">1</td><td style=\"text-align: right;\">0.05</td><td style=\"text-align: right;\">0.1 </td><td>nomination (local betweenness)</td><td>90.2 +/- 3.5 </td><td style=\"text-align: right;\">159</td></tr>\n",
       "<tr><td style=\"text-align: right;\">1</td><td style=\"text-align: right;\">0.05</td><td style=\"text-align: right;\">0.1 </td><td>no intervention               </td><td>130.2 +/- 4.4</td><td style=\"text-align: right;\">205</td></tr>\n",
       "<tr><td style=\"text-align: right;\">1</td><td style=\"text-align: right;\">0.05</td><td style=\"text-align: right;\">0.1 </td><td>random                        </td><td>103.7 +/- 3.4</td><td style=\"text-align: right;\">199</td></tr>\n",
       "<tr><td style=\"text-align: right;\">1</td><td style=\"text-align: right;\">0.05</td><td style=\"text-align: right;\">0.1 </td><td>degree                        </td><td>87.0 +/- 3.0 </td><td style=\"text-align: right;\">147</td></tr>\n",
       "<tr><td style=\"text-align: right;\">1</td><td style=\"text-align: right;\">0.05</td><td style=\"text-align: right;\">0.2 </td><td>nomination (random)           </td><td>84.3 +/- 3.1 </td><td style=\"text-align: right;\">146</td></tr>\n",
       "<tr><td style=\"text-align: right;\">1</td><td style=\"text-align: right;\">0.05</td><td style=\"text-align: right;\">0.2 </td><td>nomination (random, close)    </td><td>74.8 +/- 2.8 </td><td style=\"text-align: right;\">147</td></tr>\n",
       "<tr><td style=\"text-align: right;\">1</td><td style=\"text-align: right;\">0.05</td><td style=\"text-align: right;\">0.2 </td><td>nomination (degree)           </td><td>64.5 +/- 2.0 </td><td style=\"text-align: right;\">116</td></tr>\n",
       "<tr><td style=\"text-align: right;\">1</td><td style=\"text-align: right;\">0.05</td><td style=\"text-align: right;\">0.2 </td><td>nomination (degree, close)    </td><td>76.5 +/- 2.6 </td><td style=\"text-align: right;\">131</td></tr>\n",
       "<tr><td style=\"text-align: right;\">1</td><td style=\"text-align: right;\">0.05</td><td style=\"text-align: right;\">0.2 </td><td>local betweenness             </td><td>62.1 +/- 2.0 </td><td style=\"text-align: right;\">112</td></tr>\n",
       "<tr><td style=\"text-align: right;\">1</td><td style=\"text-align: right;\">0.05</td><td style=\"text-align: right;\">0.2 </td><td>nomination (local betweenness)</td><td>63.3 +/- 2.0 </td><td style=\"text-align: right;\">108</td></tr>\n",
       "<tr><td style=\"text-align: right;\">1</td><td style=\"text-align: right;\">0.05</td><td style=\"text-align: right;\">0.2 </td><td>no intervention               </td><td>128.5 +/- 4.5</td><td style=\"text-align: right;\">213</td></tr>\n",
       "<tr><td style=\"text-align: right;\">1</td><td style=\"text-align: right;\">0.05</td><td style=\"text-align: right;\">0.2 </td><td>random                        </td><td>86.9 +/- 2.9 </td><td style=\"text-align: right;\">164</td></tr>\n",
       "<tr><td style=\"text-align: right;\">1</td><td style=\"text-align: right;\">0.05</td><td style=\"text-align: right;\">0.2 </td><td>degree                        </td><td>61.7 +/- 2.1 </td><td style=\"text-align: right;\">112</td></tr>\n",
       "<tr><td style=\"text-align: right;\">1</td><td style=\"text-align: right;\">0.1 </td><td style=\"text-align: right;\">0.05</td><td>nomination (random)           </td><td>366.5 +/- 7.0</td><td style=\"text-align: right;\">468</td></tr>\n",
       "<tr><td style=\"text-align: right;\">1</td><td style=\"text-align: right;\">0.1 </td><td style=\"text-align: right;\">0.05</td><td>nomination (random, close)    </td><td>362.9 +/- 7.2</td><td style=\"text-align: right;\">489</td></tr>\n",
       "<tr><td style=\"text-align: right;\">1</td><td style=\"text-align: right;\">0.1 </td><td style=\"text-align: right;\">0.05</td><td>nomination (degree)           </td><td>328.5 +/- 7.2</td><td style=\"text-align: right;\">445</td></tr>\n",
       "<tr><td style=\"text-align: right;\">1</td><td style=\"text-align: right;\">0.1 </td><td style=\"text-align: right;\">0.05</td><td>nomination (degree, close)    </td><td>361.1 +/- 7.8</td><td style=\"text-align: right;\">498</td></tr>\n",
       "<tr><td style=\"text-align: right;\">1</td><td style=\"text-align: right;\">0.1 </td><td style=\"text-align: right;\">0.05</td><td>local betweenness             </td><td>329.8 +/- 7.5</td><td style=\"text-align: right;\">444</td></tr>\n",
       "<tr><td style=\"text-align: right;\">1</td><td style=\"text-align: right;\">0.1 </td><td style=\"text-align: right;\">0.05</td><td>nomination (local betweenness)</td><td>332.8 +/- 7.0</td><td style=\"text-align: right;\">461</td></tr>\n",
       "<tr><td style=\"text-align: right;\">1</td><td style=\"text-align: right;\">0.1 </td><td style=\"text-align: right;\">0.05</td><td>no intervention               </td><td>420.0 +/- 7.1</td><td style=\"text-align: right;\">525</td></tr>\n",
       "<tr><td style=\"text-align: right;\">1</td><td style=\"text-align: right;\">0.1 </td><td style=\"text-align: right;\">0.05</td><td>random                        </td><td>372.5 +/- 7.1</td><td style=\"text-align: right;\">485</td></tr>\n",
       "<tr><td style=\"text-align: right;\">1</td><td style=\"text-align: right;\">0.1 </td><td style=\"text-align: right;\">0.05</td><td>degree                        </td><td>334.1 +/- 6.7</td><td style=\"text-align: right;\">448</td></tr>\n",
       "<tr><td style=\"text-align: right;\">1</td><td style=\"text-align: right;\">0.1 </td><td style=\"text-align: right;\">0.1 </td><td>nomination (random)           </td><td>322.4 +/- 7.0</td><td style=\"text-align: right;\">450</td></tr>\n",
       "<tr><td style=\"text-align: right;\">1</td><td style=\"text-align: right;\">0.1 </td><td style=\"text-align: right;\">0.1 </td><td>nomination (random, close)    </td><td>305.4 +/- 6.6</td><td style=\"text-align: right;\">444</td></tr>\n",
       "<tr><td style=\"text-align: right;\">1</td><td style=\"text-align: right;\">0.1 </td><td style=\"text-align: right;\">0.1 </td><td>nomination (degree)           </td><td>270.5 +/- 7.3</td><td style=\"text-align: right;\">412</td></tr>\n",
       "<tr><td style=\"text-align: right;\">1</td><td style=\"text-align: right;\">0.1 </td><td style=\"text-align: right;\">0.1 </td><td>nomination (degree, close)    </td><td>308.9 +/- 6.9</td><td style=\"text-align: right;\">432</td></tr>\n",
       "<tr><td style=\"text-align: right;\">1</td><td style=\"text-align: right;\">0.1 </td><td style=\"text-align: right;\">0.1 </td><td>local betweenness             </td><td>276.6 +/- 7.0</td><td style=\"text-align: right;\">391</td></tr>\n",
       "<tr><td style=\"text-align: right;\">1</td><td style=\"text-align: right;\">0.1 </td><td style=\"text-align: right;\">0.1 </td><td>nomination (local betweenness)</td><td>271.9 +/- 6.5</td><td style=\"text-align: right;\">389</td></tr>\n",
       "<tr><td style=\"text-align: right;\">1</td><td style=\"text-align: right;\">0.1 </td><td style=\"text-align: right;\">0.1 </td><td>no intervention               </td><td>412.1 +/- 7.8</td><td style=\"text-align: right;\">524</td></tr>\n",
       "<tr><td style=\"text-align: right;\">1</td><td style=\"text-align: right;\">0.1 </td><td style=\"text-align: right;\">0.1 </td><td>random                        </td><td>329.7 +/- 6.9</td><td style=\"text-align: right;\">418</td></tr>\n",
       "<tr><td style=\"text-align: right;\">1</td><td style=\"text-align: right;\">0.1 </td><td style=\"text-align: right;\">0.1 </td><td>degree                        </td><td>265.5 +/- 7.2</td><td style=\"text-align: right;\">391</td></tr>\n",
       "<tr><td style=\"text-align: right;\">1</td><td style=\"text-align: right;\">0.1 </td><td style=\"text-align: right;\">0.2 </td><td>nomination (random)           </td><td>242.8 +/- 6.0</td><td style=\"text-align: right;\">350</td></tr>\n",
       "<tr><td style=\"text-align: right;\">1</td><td style=\"text-align: right;\">0.1 </td><td style=\"text-align: right;\">0.2 </td><td>nomination (random, close)    </td><td>216.3 +/- 6.0</td><td style=\"text-align: right;\">321</td></tr>\n",
       "<tr><td style=\"text-align: right;\">1</td><td style=\"text-align: right;\">0.1 </td><td style=\"text-align: right;\">0.2 </td><td>nomination (degree)           </td><td>177.5 +/- 5.8</td><td style=\"text-align: right;\">285</td></tr>\n",
       "<tr><td style=\"text-align: right;\">1</td><td style=\"text-align: right;\">0.1 </td><td style=\"text-align: right;\">0.2 </td><td>nomination (degree, close)    </td><td>224.7 +/- 5.7</td><td style=\"text-align: right;\">348</td></tr>\n",
       "<tr><td style=\"text-align: right;\">1</td><td style=\"text-align: right;\">0.1 </td><td style=\"text-align: right;\">0.2 </td><td>local betweenness             </td><td>174.4 +/- 5.3</td><td style=\"text-align: right;\">311</td></tr>\n",
       "<tr><td style=\"text-align: right;\">1</td><td style=\"text-align: right;\">0.1 </td><td style=\"text-align: right;\">0.2 </td><td>nomination (local betweenness)</td><td>176.1 +/- 5.2</td><td style=\"text-align: right;\">276</td></tr>\n",
       "<tr><td style=\"text-align: right;\">1</td><td style=\"text-align: right;\">0.1 </td><td style=\"text-align: right;\">0.2 </td><td>no intervention               </td><td>413.2 +/- 7.4</td><td style=\"text-align: right;\">536</td></tr>\n",
       "<tr><td style=\"text-align: right;\">1</td><td style=\"text-align: right;\">0.1 </td><td style=\"text-align: right;\">0.2 </td><td>random                        </td><td>256.0 +/- 6.2</td><td style=\"text-align: right;\">368</td></tr>\n",
       "<tr><td style=\"text-align: right;\">1</td><td style=\"text-align: right;\">0.1 </td><td style=\"text-align: right;\">0.2 </td><td>degree                        </td><td>180.0 +/- 5.2</td><td style=\"text-align: right;\">297</td></tr>\n",
       "<tr><td style=\"text-align: right;\">1</td><td style=\"text-align: right;\">0.2 </td><td style=\"text-align: right;\">0.05</td><td>nomination (random)           </td><td>645.7 +/- 1.5</td><td style=\"text-align: right;\">669</td></tr>\n",
       "<tr><td style=\"text-align: right;\">1</td><td style=\"text-align: right;\">0.2 </td><td style=\"text-align: right;\">0.05</td><td>nomination (random, close)    </td><td>643.3 +/- 1.5</td><td style=\"text-align: right;\">667</td></tr>\n",
       "<tr><td style=\"text-align: right;\">1</td><td style=\"text-align: right;\">0.2 </td><td style=\"text-align: right;\">0.05</td><td>nomination (degree)           </td><td>635.9 +/- 1.8</td><td style=\"text-align: right;\">667</td></tr>\n",
       "<tr><td style=\"text-align: right;\">1</td><td style=\"text-align: right;\">0.2 </td><td style=\"text-align: right;\">0.05</td><td>nomination (degree, close)    </td><td>643.0 +/- 1.6</td><td style=\"text-align: right;\">669</td></tr>\n",
       "<tr><td style=\"text-align: right;\">1</td><td style=\"text-align: right;\">0.2 </td><td style=\"text-align: right;\">0.05</td><td>local betweenness             </td><td>635.7 +/- 2.0</td><td style=\"text-align: right;\">667</td></tr>\n",
       "<tr><td style=\"text-align: right;\">1</td><td style=\"text-align: right;\">0.2 </td><td style=\"text-align: right;\">0.05</td><td>nomination (local betweenness)</td><td>636.3 +/- 1.8</td><td style=\"text-align: right;\">669</td></tr>\n",
       "<tr><td style=\"text-align: right;\">1</td><td style=\"text-align: right;\">0.2 </td><td style=\"text-align: right;\">0.05</td><td>no intervention               </td><td>688.2 +/- 1.4</td><td style=\"text-align: right;\">711</td></tr>\n",
       "<tr><td style=\"text-align: right;\">1</td><td style=\"text-align: right;\">0.2 </td><td style=\"text-align: right;\">0.05</td><td>random                        </td><td>648.6 +/- 1.6</td><td style=\"text-align: right;\">675</td></tr>\n",
       "<tr><td style=\"text-align: right;\">1</td><td style=\"text-align: right;\">0.2 </td><td style=\"text-align: right;\">0.05</td><td>degree                        </td><td>636.9 +/- 1.9</td><td style=\"text-align: right;\">665</td></tr>\n",
       "<tr><td style=\"text-align: right;\">1</td><td style=\"text-align: right;\">0.2 </td><td style=\"text-align: right;\">0.1 </td><td>nomination (random)           </td><td>600.7 +/- 1.8</td><td style=\"text-align: right;\">627</td></tr>\n",
       "<tr><td style=\"text-align: right;\">1</td><td style=\"text-align: right;\">0.2 </td><td style=\"text-align: right;\">0.1 </td><td>nomination (random, close)    </td><td>595.2 +/- 1.7</td><td style=\"text-align: right;\">616</td></tr>\n",
       "<tr><td style=\"text-align: right;\">1</td><td style=\"text-align: right;\">0.2 </td><td style=\"text-align: right;\">0.1 </td><td>nomination (degree)           </td><td>581.9 +/- 2.5</td><td style=\"text-align: right;\">617</td></tr>\n",
       "<tr><td style=\"text-align: right;\">1</td><td style=\"text-align: right;\">0.2 </td><td style=\"text-align: right;\">0.1 </td><td>nomination (degree, close)    </td><td>596.5 +/- 1.6</td><td style=\"text-align: right;\">620</td></tr>\n",
       "<tr><td style=\"text-align: right;\">1</td><td style=\"text-align: right;\">0.2 </td><td style=\"text-align: right;\">0.1 </td><td>local betweenness             </td><td>579.6 +/- 2.6</td><td style=\"text-align: right;\">613</td></tr>\n",
       "<tr><td style=\"text-align: right;\">1</td><td style=\"text-align: right;\">0.2 </td><td style=\"text-align: right;\">0.1 </td><td>nomination (local betweenness)</td><td>582.1 +/- 2.5</td><td style=\"text-align: right;\">622</td></tr>\n",
       "<tr><td style=\"text-align: right;\">1</td><td style=\"text-align: right;\">0.2 </td><td style=\"text-align: right;\">0.1 </td><td>no intervention               </td><td>689.2 +/- 1.3</td><td style=\"text-align: right;\">709</td></tr>\n",
       "<tr><td style=\"text-align: right;\">1</td><td style=\"text-align: right;\">0.2 </td><td style=\"text-align: right;\">0.1 </td><td>random                        </td><td>607.9 +/- 1.7</td><td style=\"text-align: right;\">634</td></tr>\n",
       "<tr><td style=\"text-align: right;\">1</td><td style=\"text-align: right;\">0.2 </td><td style=\"text-align: right;\">0.1 </td><td>degree                        </td><td>581.3 +/- 2.1</td><td style=\"text-align: right;\">616</td></tr>\n",
       "<tr><td style=\"text-align: right;\">1</td><td style=\"text-align: right;\">0.2 </td><td style=\"text-align: right;\">0.2 </td><td>nomination (random)           </td><td>507.9 +/- 2.2</td><td style=\"text-align: right;\">539</td></tr>\n",
       "<tr><td style=\"text-align: right;\">1</td><td style=\"text-align: right;\">0.2 </td><td style=\"text-align: right;\">0.2 </td><td>nomination (random, close)    </td><td>492.2 +/- 3.2</td><td style=\"text-align: right;\">540</td></tr>\n",
       "<tr><td style=\"text-align: right;\">1</td><td style=\"text-align: right;\">0.2 </td><td style=\"text-align: right;\">0.2 </td><td>nomination (degree)           </td><td>454.8 +/- 4.7</td><td style=\"text-align: right;\">525</td></tr>\n",
       "<tr><td style=\"text-align: right;\">1</td><td style=\"text-align: right;\">0.2 </td><td style=\"text-align: right;\">0.2 </td><td>nomination (degree, close)    </td><td>493.9 +/- 2.6</td><td style=\"text-align: right;\">535</td></tr>\n",
       "<tr><td style=\"text-align: right;\">1</td><td style=\"text-align: right;\">0.2 </td><td style=\"text-align: right;\">0.2 </td><td>local betweenness             </td><td>452.9 +/- 3.9</td><td style=\"text-align: right;\">514</td></tr>\n",
       "<tr><td style=\"text-align: right;\">1</td><td style=\"text-align: right;\">0.2 </td><td style=\"text-align: right;\">0.2 </td><td>nomination (local betweenness)</td><td>458.2 +/- 3.9</td><td style=\"text-align: right;\">514</td></tr>\n",
       "<tr><td style=\"text-align: right;\">1</td><td style=\"text-align: right;\">0.2 </td><td style=\"text-align: right;\">0.2 </td><td>no intervention               </td><td>689.3 +/- 1.3</td><td style=\"text-align: right;\">715</td></tr>\n",
       "<tr><td style=\"text-align: right;\">1</td><td style=\"text-align: right;\">0.2 </td><td style=\"text-align: right;\">0.2 </td><td>random                        </td><td>522.7 +/- 2.1</td><td style=\"text-align: right;\">551</td></tr>\n",
       "<tr><td style=\"text-align: right;\">1</td><td style=\"text-align: right;\">0.2 </td><td style=\"text-align: right;\">0.2 </td><td>degree                        </td><td>455.3 +/- 4.1</td><td style=\"text-align: right;\">513</td></tr>\n",
       "</tbody>\n",
       "</table>"
      ],
      "text/plain": [
       "<IPython.core.display.HTML object>"
      ]
     },
     "metadata": {},
     "output_type": "display_data"
    }
   ],
   "source": [
    "display(HTML(tabulate(rows, tablefmt='html')))"
   ]
  },
  {
   "cell_type": "code",
   "execution_count": 15,
   "metadata": {},
   "outputs": [
    {
     "data": {
      "text/plain": [
       "[(0, 0.05, 0.05, 'friend'),\n",
       " (0, 0.05, 0.05, 'friendClose'),\n",
       " (0, 0.05, 0.05, 'friendCloseChain'),\n",
       " (0, 0.05, 0.05, 'friendCloseChain_5'),\n",
       " (0, 0.05, 0.05, 'friendHighDeg')]"
      ]
     },
     "execution_count": 15,
     "metadata": {},
     "output_type": "execute_result"
    }
   ],
   "source": [
    "sorted(ms)[:5]"
   ]
  },
  {
   "cell_type": "code",
   "execution_count": 20,
   "metadata": {},
   "outputs": [],
   "source": [
    "types = ['o', 'v', '^', '<', '>', '8', 's', 'p', '*', 'h', 'H', 'D', 'd', 'P', 'X']"
   ]
  },
  {
   "cell_type": "code",
   "execution_count": 22,
   "metadata": {},
   "outputs": [],
   "source": [
    "from itertools import groupby\n",
    "grps = groupby(sorted(ms.items()), key=lambda x:list(x[0])[:-1])"
   ]
  },
  {
   "cell_type": "code",
   "execution_count": 23,
   "metadata": {},
   "outputs": [],
   "source": [
    "grps = [ (a, list(b)) for a,b in grps ]"
   ]
  },
  {
   "cell_type": "code",
   "execution_count": 24,
   "metadata": {},
   "outputs": [],
   "source": [
    "to_show = ['rand', 'friend', 'friendHighDeg', 'local_betweenness', 'none']"
   ]
  },
  {
   "cell_type": "code",
   "execution_count": 25,
   "metadata": {},
   "outputs": [],
   "source": [
    "order = range(100)"
   ]
  },
  {
   "cell_type": "code",
   "execution_count": 26,
   "metadata": {},
   "outputs": [],
   "source": [
    "order = list(np.argsort([\n",
    "    np.mean([v[0] for kk,v in ms_d.items() if kk[-1]==k]) \n",
    "    for k in to_show\n",
    "]))"
   ]
  },
  {
   "cell_type": "code",
   "execution_count": 27,
   "metadata": {},
   "outputs": [],
   "source": [
    "# geesh everything is mixed...\n",
    "#to_show = sorted(to_show, key=lambda k:-np.mean([v[0] for kk,v in ms_d.items() if kk[-1]==k]))"
   ]
  },
  {
   "cell_type": "code",
   "execution_count": 40,
   "metadata": {},
   "outputs": [],
   "source": [
    "\"\"\"\n",
    "['friend',\n",
    " 'friendClose',\n",
    " 'friendCloseChain',\n",
    " 'friendCloseChain_5',\n",
    " 'friendHighDeg',\n",
    " 'friendHighDegClose',\n",
    " 'friendHighDegCloseChain',\n",
    " 'friendWeighted',\n",
    " 'friendWeightedChain',\n",
    " 'local_betweenness',\n",
    " 'nominate_local_betweenness',\n",
    " 'none',\n",
    " 'rand',\n",
    " 'targeted']\n",
    "\"\"\"\n",
    "\n",
    "to_show = ['none', 'rand', 'friend', 'friendHighDegClose', 'friendHighDeg', 'friendHighDegClose','friendHighDegCloseChain','friendCloseChain', 'friendCloseChain_5', 'friendWeighted', 'local_betweenness']"
   ]
  },
  {
   "cell_type": "code",
   "execution_count": 29,
   "metadata": {},
   "outputs": [],
   "source": [
    "from matplotlib import patches"
   ]
  },
  {
   "cell_type": "code",
   "execution_count": 30,
   "metadata": {},
   "outputs": [],
   "source": [
    "alph = 'ABCDEFGHIJKLMNOPQRSTUVWXYZabcdefghijklmnop'"
   ]
  },
  {
   "cell_type": "code",
   "execution_count": 31,
   "metadata": {},
   "outputs": [],
   "source": [
    "Nnodesx = [310, 784]\n",
    "\n",
    "def met_rel(k):\n",
    "    Nn = Nnodesx[k[0]]\n",
    "    Nvac = int(Nn * k[2])\n",
    "    \n",
    "    return np.mean( [x['inf'][-1] + x['exp'][-1] + x['rec'][-1] for x in ms[k]] ) / ( Nn - Nvac - 20 )"
   ]
  },
  {
   "cell_type": "code",
   "execution_count": 32,
   "metadata": {},
   "outputs": [
    {
     "name": "stdout",
     "output_type": "stream",
     "text": [
      "[0, 0.05, 0.05]\n",
      "[0, 0.05, 0.1]\n",
      "[0, 0.05, 0.2]\n",
      "[0, 0.1, 0.05]\n",
      "[0, 0.1, 0.1]\n",
      "[0, 0.1, 0.2]\n",
      "[0, 0.2, 0.05]\n",
      "[0, 0.2, 0.1]\n",
      "[0, 0.2, 0.2]\n",
      "[1, 0.05, 0.05]\n",
      "[1, 0.05, 0.1]\n",
      "[1, 0.05, 0.2]\n",
      "[1, 0.1, 0.05]\n",
      "[1, 0.1, 0.1]\n",
      "[1, 0.1, 0.2]\n",
      "[1, 0.2, 0.05]\n",
      "[1, 0.2, 0.1]\n",
      "[1, 0.2, 0.2]\n"
     ]
    },
    {
     "data": {
      "image/png": "[encoded data removed]",
      "text/plain": [
       "<Figure size 1152x216 with 1 Axes>"
      ]
     },
     "metadata": {
      "needs_background": "light"
     },
     "output_type": "display_data"
    }
   ],
   "source": [
    "fig = plt.figure(figsize=(16,3))\n",
    "ax = plt.axes()\n",
    "plt.box(False)\n",
    "\n",
    "col = 0\n",
    "for a,b in sorted( grps, key=lambda x:x[0] )[:30]:\n",
    "    base_k = tuple( a + ['none'] )\n",
    "    if base_k not in ms_d:\n",
    "        continue\n",
    "        \n",
    "    print(a)\n",
    "        \n",
    "    #base = #ms_d[base_k][0]\n",
    "    base = met_rel(base_k)\n",
    "    for i,kk in enumerate(to_show):            \n",
    "        k = tuple(a + [kk])\n",
    "            \n",
    "        x,y = col*1.1 + i*0.15, met_rel(k) / base\n",
    "        plt.text(x,y, str(i+1), verticalalignment='center')#, marker=types[i])\n",
    "        #plt.scatter(x,y+0.1, s=5, color='black', edgecolors=None)\n",
    "        \n",
    "    col += 1\n",
    "    #print(i)\n",
    "    \n",
    "    rect = patches.Rectangle(\n",
    "        ((col-1)*1.1, 0), 1, 1.1, \n",
    "        linewidth=1, \n",
    "        edgecolor='none', facecolor='grey', alpha=0.2)\n",
    "    #plt.scatter(2,0.5)\n",
    "    # Add the patch to the Axes\n",
    "    ax.add_patch(rect)\n",
    "    #plt.text((col-1.1/2)*1.1, -0.1, alph[col-1])\n",
    "    #print(alph[col-1])\n",
    "    \n",
    "plt.xlim(-0.2,col*1.2)\n",
    "plt.ylim(0,1.1)\n",
    "plt.grid(True, 'major','y')\n",
    "plt.xticks([]);"
   ]
  },
  {
   "cell_type": "code",
   "execution_count": 120,
   "metadata": {},
   "outputs": [],
   "source": [
    "types = ['o', '*','s', 'v', 'p', '*', 'h', 'H', 'D', 'd', 'P', 'X']"
   ]
  },
  {
   "cell_type": "code",
   "execution_count": 41,
   "metadata": {},
   "outputs": [
    {
     "name": "stdout",
     "output_type": "stream",
     "text": [
      "[0, 0.05, 0.05]\n",
      "[0, 0.05, 0.1]\n",
      "[0, 0.05, 0.2]\n",
      "[0, 0.1, 0.05]\n",
      "[0, 0.1, 0.1]\n",
      "[0, 0.1, 0.2]\n",
      "[0, 0.2, 0.05]\n",
      "[0, 0.2, 0.1]\n",
      "[0, 0.2, 0.2]\n",
      "[1, 0.05, 0.05]\n",
      "[1, 0.05, 0.1]\n",
      "[1, 0.05, 0.2]\n",
      "[1, 0.1, 0.05]\n",
      "[1, 0.1, 0.1]\n",
      "[1, 0.1, 0.2]\n",
      "[1, 0.2, 0.05]\n",
      "[1, 0.2, 0.1]\n",
      "[1, 0.2, 0.2]\n"
     ]
    },
    {
     "data": {
      "image/png": "[encoded data removed]",
      "text/plain": [
       "<Figure size 1152x216 with 1 Axes>"
      ]
     },
     "metadata": {
      "needs_background": "light"
     },
     "output_type": "display_data"
    }
   ],
   "source": [
    "fig = plt.figure(figsize=(16,3))\n",
    "ax = plt.axes()\n",
    "plt.box(False)\n",
    "\n",
    "plt.grid(True, 'major','y')\n",
    "\n",
    "col = 0\n",
    "for a,b in sorted( grps, key=lambda x:x[0] )[:30]:\n",
    "    base_k = tuple( a + ['none'] )\n",
    "    if base_k not in ms_d:\n",
    "        continue\n",
    "        \n",
    "    print(a)\n",
    "        \n",
    "    #base = #ms_d[base_k][0]\n",
    "    base = met_rel(base_k)\n",
    "    for i,kk in enumerate(to_show):            \n",
    "        k = tuple(a + [kk])\n",
    "            \n",
    "        x,y = col*1.1 + i*0.101, met_rel(k) / base\n",
    "        #plt.text(x,y, str(i+1), verticalalignment='center')#, marker=types[i])\n",
    "        plt.scatter(x,y, s=3, color='black', edgecolors=None)\n",
    "        if i in {1,4}:\n",
    "            plt.scatter(x,y, s=[20,50][[1,4].index(i)], color='black', edgecolors=None, marker=['s','*'][[1,4].index(i)])\n",
    "        \n",
    "    col += 1\n",
    "    #print(i)\n",
    "    \n",
    "    rect = patches.Rectangle(\n",
    "        ((col-1)*1.1, 0), 1, 1.1, \n",
    "        linewidth=1, \n",
    "        edgecolor='none', facecolor='grey', alpha=0.2)\n",
    "    #plt.scatter(2,0.5)\n",
    "    # Add the patch to the Axes\n",
    "    ax.add_patch(rect)\n",
    "    #plt.text((col-1.1/2)*1.1, -0.1, alph[col-1])\n",
    "    #print(alph[col-1])\n",
    "    \n",
    "plt.xlim(-0.2,col*1.2)\n",
    "plt.ylim(0,1.1)\n",
    "plt.xticks([]);"
   ]
  },
  {
   "cell_type": "code",
   "execution_count": 137,
   "metadata": {},
   "outputs": [
    {
     "name": "stdout",
     "output_type": "stream",
     "text": [
      "[0, 0.05, 0.05]\n",
      "[0, 0.05, 0.1]\n",
      "[0, 0.05, 0.2]\n",
      "[0, 0.1, 0.05]\n",
      "[0, 0.1, 0.1]\n",
      "[0, 0.1, 0.2]\n",
      "[0, 0.2, 0.05]\n",
      "[0, 0.2, 0.1]\n",
      "[0, 0.2, 0.2]\n",
      "[1, 0.05, 0.05]\n",
      "[1, 0.05, 0.1]\n",
      "[1, 0.05, 0.2]\n",
      "[1, 0.1, 0.05]\n",
      "[1, 0.1, 0.1]\n",
      "[1, 0.1, 0.2]\n",
      "[1, 0.2, 0.05]\n",
      "[1, 0.2, 0.1]\n",
      "[1, 0.2, 0.2]\n"
     ]
    },
    {
     "data": {
      "image/png": "[encoded data removed]",
      "text/plain": [
       "<Figure size 1152x216 with 1 Axes>"
      ]
     },
     "metadata": {
      "needs_background": "light"
     },
     "output_type": "display_data"
    }
   ],
   "source": [
    "fig = plt.figure(figsize=(16,3))\n",
    "ax = plt.axes()\n",
    "plt.box(False)\n",
    "\n",
    "col_spacing = 0.25\n",
    "\n",
    "plt.grid(True, 'major','y')\n",
    "\n",
    "col = 0\n",
    "for a,b in sorted( grps, key=lambda x:x[0] )[:30]:\n",
    "    base_k = tuple( a + ['none'] )\n",
    "    if base_k not in ms_d:\n",
    "        continue\n",
    "        \n",
    "    print(a)\n",
    "        \n",
    "    #base = #ms_d[base_k][0]\n",
    "    base = met_rel(base_k)\n",
    "    for i,kk in enumerate(to_show):            \n",
    "        k = tuple(a + [kk])\n",
    "            \n",
    "        x,y = col*1.1+(col//3)*col_spacing + i*0.18, met_rel(k) / base\n",
    "        #plt.text(x,y, str(i+1), verticalalignment='center')#, marker=types[i])\n",
    "        if i in {1,4}:\n",
    "            plt.scatter(x,y, s=[30,60][[1,4].index(i)], color='none', edgecolors='black', marker=['s','*'][[1,4].index(i)])\n",
    "        else:\n",
    "            plt.scatter(x,y, s=10, color='black', edgecolors=None)\n",
    "        \n",
    "    col += 1\n",
    "    #print(i)\n",
    "    \n",
    "    rect = patches.Rectangle(\n",
    "        ((col-1)*1.1+((col-1)//3)*col_spacing, 0), 1, 1.1, \n",
    "        linewidth=1, \n",
    "        edgecolor='none', facecolor='grey', alpha=0.2)\n",
    "    #plt.scatter(2,0.5)\n",
    "    # Add the patch to the Axes\n",
    "    ax.add_patch(rect)\n",
    "    #plt.text((col-1.1/2)*1.1, -0.1, alph[col-1])\n",
    "    #print(alph[col-1])\n",
    "    \n",
    "plt.xlim(-0.2,col*1.2+(col//3)*col_spacing)\n",
    "plt.ylim(0,1.1)\n",
    "plt.xticks([]);"
   ]
  },
  {
   "cell_type": "code",
   "execution_count": 143,
   "metadata": {},
   "outputs": [
    {
     "name": "stdout",
     "output_type": "stream",
     "text": [
      "[0, 0.05, 0.05]\n",
      "[0, 0.05, 0.1]\n",
      "[0, 0.05, 0.2]\n",
      "[0, 0.1, 0.05]\n",
      "[0, 0.1, 0.1]\n",
      "[0, 0.1, 0.2]\n",
      "[0, 0.2, 0.05]\n",
      "[0, 0.2, 0.1]\n",
      "[0, 0.2, 0.2]\n",
      "[1, 0.05, 0.05]\n",
      "[1, 0.05, 0.1]\n",
      "[1, 0.05, 0.2]\n",
      "[1, 0.1, 0.05]\n",
      "[1, 0.1, 0.1]\n",
      "[1, 0.1, 0.2]\n",
      "[1, 0.2, 0.05]\n",
      "[1, 0.2, 0.1]\n",
      "[1, 0.2, 0.2]\n"
     ]
    },
    {
     "data": {
      "image/png": "[encoded data removed]",
      "text/plain": [
       "<Figure size 1152x216 with 1 Axes>"
      ]
     },
     "metadata": {
      "needs_background": "light"
     },
     "output_type": "display_data"
    }
   ],
   "source": [
    "fig = plt.figure(figsize=(16,3))\n",
    "ax = plt.axes()\n",
    "plt.box(False)\n",
    "\n",
    "col_spacing = 0.25\n",
    "\n",
    "plt.grid(True, 'major','y')\n",
    "\n",
    "col = 0\n",
    "for a,b in sorted( grps, key=lambda x:x[0] )[:30]:\n",
    "    base_k = tuple( a + ['none'] )\n",
    "    if base_k not in ms_d:\n",
    "        continue\n",
    "        \n",
    "    print(a)\n",
    "        \n",
    "    #base = #ms_d[base_k][0]\n",
    "    base = met_rel(base_k)\n",
    "    for i,kk in enumerate(to_show):            \n",
    "        k = tuple(a + [kk])\n",
    "            \n",
    "        x,y = col*1.1+(col//3)*col_spacing + i*0.18, met_rel(k) / base\n",
    "        #plt.text(x,y, str(i+1), verticalalignment='center')#, marker=types[i])\n",
    "        if i in {1,4}:\n",
    "            plt.scatter(x,y, s=[25,70][[1,4].index(i)], color='black', edgecolors='black', marker=['s','*'][[1,4].index(i)])\n",
    "        else:\n",
    "            plt.scatter(x,y, s=10, color='black', edgecolors=None)\n",
    "        \n",
    "    col += 1\n",
    "    #print(i)\n",
    "    \n",
    "    rect = patches.Rectangle(\n",
    "        ((col-1)*1.1+((col-1)//3)*col_spacing, 0), 1, 1.1, \n",
    "        linewidth=1, \n",
    "        edgecolor='none', facecolor='grey', alpha=0.2)\n",
    "    #plt.scatter(2,0.5)\n",
    "    # Add the patch to the Axes\n",
    "    ax.add_patch(rect)\n",
    "    #plt.text((col-1.1/2)*1.1, -0.1, alph[col-1])\n",
    "    #print(alph[col-1])\n",
    "    \n",
    "plt.xlim(-0.2,col*1.2+(col//3)*col_spacing)\n",
    "plt.ylim(0,1.1)\n",
    "plt.xticks([]);"
   ]
  },
  {
   "cell_type": "code",
   "execution_count": 133,
   "metadata": {},
   "outputs": [
    {
     "name": "stdout",
     "output_type": "stream",
     "text": [
      "[0, 0.05, 0.05]\n",
      "[0, 0.05, 0.1]\n",
      "[0, 0.05, 0.2]\n",
      "[0, 0.1, 0.05]\n",
      "[0, 0.1, 0.1]\n",
      "[0, 0.1, 0.2]\n",
      "[0, 0.2, 0.05]\n",
      "[0, 0.2, 0.1]\n",
      "[0, 0.2, 0.2]\n",
      "[1, 0.05, 0.05]\n",
      "[1, 0.05, 0.1]\n",
      "[1, 0.05, 0.2]\n",
      "[1, 0.1, 0.05]\n",
      "[1, 0.1, 0.1]\n",
      "[1, 0.1, 0.2]\n",
      "[1, 0.2, 0.05]\n",
      "[1, 0.2, 0.1]\n",
      "[1, 0.2, 0.2]\n"
     ]
    },
    {
     "data": {
      "image/png": "[encoded data removed]",
      "text/plain": [
       "<Figure size 1152x216 with 1 Axes>"
      ]
     },
     "metadata": {
      "needs_background": "light"
     },
     "output_type": "display_data"
    }
   ],
   "source": [
    "fig = plt.figure(figsize=(16,3))\n",
    "ax = plt.axes()\n",
    "plt.box(False)\n",
    "\n",
    "col_spacing = 0.25\n",
    "\n",
    "plt.grid(True, 'major','y')\n",
    "\n",
    "col = 0\n",
    "for a,b in sorted( grps, key=lambda x:x[0] )[:30]:\n",
    "    base_k = tuple( a + ['none'] )\n",
    "    if base_k not in ms_d:\n",
    "        continue\n",
    "        \n",
    "    print(a)\n",
    "        \n",
    "    #base = #ms_d[base_k][0]\n",
    "    base = met_rel(base_k)\n",
    "    for i,kk in enumerate(to_show):            \n",
    "        k = tuple(a + [kk])\n",
    "            \n",
    "        x,y = col*1.1+(col//3)*col_spacing + i*0.18, met_rel(k) / base\n",
    "        #plt.text(x,y, str(i+1), verticalalignment='center')#, marker=types[i])\n",
    "        plt.scatter(x,y, s=3, color='black', edgecolors=None)\n",
    "        if i in {1,4}:\n",
    "            plt.scatter(x,y, s=[20,50][[1,4].index(i)], color='black', edgecolors=None, marker=['s','*'][[1,4].index(i)])\n",
    "        \n",
    "    col += 1\n",
    "    #print(i)\n",
    "    \n",
    "    rect = patches.Rectangle(\n",
    "        ((col-1)*1.1+((col-1)//3)*col_spacing, 0), 1, 1.1, \n",
    "        linewidth=1, \n",
    "        edgecolor='none', facecolor='grey', alpha=0.2)\n",
    "    #plt.scatter(2,0.5)\n",
    "    # Add the patch to the Axes\n",
    "    ax.add_patch(rect)\n",
    "    #plt.text((col-1.1/2)*1.1, -0.1, alph[col-1])\n",
    "    #print(alph[col-1])\n",
    "    \n",
    "plt.xlim(-0.2,col*1.2+(col//3)*col_spacing)\n",
    "plt.ylim(0,1.1)\n",
    "plt.xticks([]);"
   ]
  },
  {
   "cell_type": "code",
   "execution_count": 110,
   "metadata": {},
   "outputs": [
    {
     "name": "stdout",
     "output_type": "stream",
     "text": [
      "[0, 0.05, 0.05]\n",
      "[0, 0.05, 0.1]\n",
      "[0, 0.05, 0.2]\n",
      "[0, 0.1, 0.05]\n",
      "[0, 0.1, 0.1]\n",
      "[0, 0.1, 0.2]\n",
      "[0, 0.2, 0.05]\n",
      "[0, 0.2, 0.1]\n",
      "[0, 0.2, 0.2]\n",
      "[1, 0.05, 0.05]\n",
      "[1, 0.05, 0.1]\n",
      "[1, 0.05, 0.2]\n",
      "[1, 0.1, 0.05]\n",
      "[1, 0.1, 0.1]\n",
      "[1, 0.1, 0.2]\n",
      "[1, 0.2, 0.05]\n",
      "[1, 0.2, 0.1]\n",
      "[1, 0.2, 0.2]\n"
     ]
    },
    {
     "data": {
      "image/png": "[encoded data removed]",
      "text/plain": [
       "<Figure size 1152x216 with 1 Axes>"
      ]
     },
     "metadata": {
      "needs_background": "light"
     },
     "output_type": "display_data"
    }
   ],
   "source": [
    "fig = plt.figure(figsize=(16,3))\n",
    "ax = plt.axes()\n",
    "plt.box(False)\n",
    "\n",
    "col = 0\n",
    "for a,b in sorted( grps, key=lambda x:x[0] )[:30]:\n",
    "    base_k = tuple( a + ['none'] )\n",
    "    if base_k not in ms_d:\n",
    "        continue\n",
    "        \n",
    "    print(a)\n",
    "        \n",
    "    #base = #ms_d[base_k][0]\n",
    "    base = met_rel(base_k)\n",
    "    for i,kk in enumerate(to_show):            \n",
    "        k = tuple(a + [kk])\n",
    "            \n",
    "        x,y = col*1.5 + i*0.25, met_rel(k) / base\n",
    "        plt.text(x,y, str(i+1), verticalalignment='center')#, marker=types[i])\n",
    "        #plt.scatter(x,y,c=)\n",
    "        plt.scatter(x-0.05,y, s=1, color='black', edgecolors=None)\n",
    "        \n",
    "    col += 1\n",
    "    #print(i)\n",
    "    \n",
    "    rect = patches.Rectangle(\n",
    "        ((col-1)*1.5-0.1, 0), 1.4, 1, \n",
    "        linewidth=1, \n",
    "        edgecolor='none', facecolor='grey', alpha=0.2)\n",
    "    #plt.scatter(2,0.5)\n",
    "    # Add the patch to the Axes\n",
    "    ax.add_patch(rect)\n",
    "    #plt.text((col-1.1/2)*1.1, -0.1, alph[col-1])\n",
    "    #print(alph[col-1])\n",
    "    \n",
    "plt.xlim(-0.2,col*1.6)\n",
    "plt.ylim(0,1.1)\n",
    "plt.grid(True, 'major','y')\n",
    "plt.xticks([]);"
   ]
  },
  {
   "cell_type": "code",
   "execution_count": 78,
   "metadata": {},
   "outputs": [
    {
     "data": {
      "text/plain": [
       "[(0, 0.05, 15, 'rand_0'),\n",
       " (0, 0.05, 15, 'friend_1'),\n",
       " (0, 0.05, 15, 'friendHighDeg_2'),\n",
       " (0, 0.05, 15, 'targeted_3'),\n",
       " (0, 0.05, 15, 'local_betweenness_4'),\n",
       " (0, 0.05, 15, 'nominate_local_betweenness_5'),\n",
       " (0, 0.05, 15, 'none_6')]"
      ]
     },
     "execution_count": 78,
     "metadata": {},
     "output_type": "execute_result"
    }
   ],
   "source": [
    "[x[0] for x in b]"
   ]
  },
  {
   "cell_type": "code",
   "execution_count": 5,
   "metadata": {},
   "outputs": [],
   "source": [
    "tnets = sorted(set(x[0] for x in ms.keys()))\n",
    "s2es = sorted(set(x[1] for x in ms.keys()))\n",
    "n_vaccs = sorted(set(x[2] for x in ms.keys()))\n",
    "names = sorted(set(x[3] for x in ms.keys()))"
   ]
  },
  {
   "cell_type": "code",
   "execution_count": 6,
   "metadata": {},
   "outputs": [
    {
     "data": {
      "text/plain": [
       "([0, 1],\n",
       " [0.05, 0.1, 0.15, 0.2],\n",
       " [15, 31, 39, 46, 62, 78, 117, 156],\n",
       " ['friendHighDeg_2',\n",
       "  'friend_1',\n",
       "  'local_betweenness_4',\n",
       "  'nominate_local_betweenness_5',\n",
       "  'none_6',\n",
       "  'rand_0',\n",
       "  'targeted_3'])"
      ]
     },
     "execution_count": 6,
     "metadata": {},
     "output_type": "execute_result"
    }
   ],
   "source": [
    "(tnets,s2es,n_vaccs,names)"
   ]
  },
  {
   "cell_type": "code",
   "execution_count": 7,
   "metadata": {},
   "outputs": [],
   "source": [
    "k, v = list(ms.items())[0]"
   ]
  },
  {
   "cell_type": "markdown",
   "metadata": {},
   "source": [
    "# percentage differences"
   ]
  },
  {
   "cell_type": "code",
   "execution_count": 144,
   "metadata": {},
   "outputs": [],
   "source": [
    "from itertools import groupby\n",
    "grps = groupby(ms.items(), key=lambda x:list(x[0])[:-1])"
   ]
  },
  {
   "cell_type": "code",
   "execution_count": 145,
   "metadata": {},
   "outputs": [],
   "source": [
    "grps = [ (a, list(b)) for a,b in grps ]"
   ]
  },
  {
   "cell_type": "code",
   "execution_count": 146,
   "metadata": {},
   "outputs": [
    {
     "data": {
      "text/plain": [
       "(0, 0.2, 0.05, 'friend')"
      ]
     },
     "execution_count": 146,
     "metadata": {},
     "output_type": "execute_result"
    }
   ],
   "source": [
    "grps[0][1][0][0]"
   ]
  },
  {
   "cell_type": "code",
   "execution_count": 147,
   "metadata": {},
   "outputs": [
    {
     "data": {
      "text/plain": [
       "{'friend',\n",
       " 'friendClose',\n",
       " 'friendHighDeg',\n",
       " 'friendHighDegClose',\n",
       " 'local_betweenness',\n",
       " 'nominate_local_betweenness',\n",
       " 'none',\n",
       " 'rand',\n",
       " 'targeted'}"
      ]
     },
     "execution_count": 147,
     "metadata": {},
     "output_type": "execute_result"
    }
   ],
   "source": [
    "set(x[-1] for x in ms.keys())"
   ]
  },
  {
   "cell_type": "code",
   "execution_count": 148,
   "metadata": {},
   "outputs": [],
   "source": [
    "to_show = ['none', 'rand', 'friend', 'nominate_local_betweenness', 'targeted', 'friendHighDeg']"
   ]
  },
  {
   "cell_type": "code",
   "execution_count": 149,
   "metadata": {},
   "outputs": [],
   "source": [
    "#mat = np.zeros(  )\n",
    "\n",
    "mat = np.zeros( (len(to_show),len(grps)) ) \n",
    "\n",
    "for i, (kk,gg) in enumerate(grps):\n",
    "    for ki,k in enumerate(to_show):\n",
    "        my_key = tuple(kk+[k])\n",
    "        if my_key not in ms_d:\n",
    "            continue\n",
    "        mat[ki,i] = ms_d[my_key][0]            "
   ]
  },
  {
   "cell_type": "code",
   "execution_count": 150,
   "metadata": {},
   "outputs": [
    {
     "data": {
      "text/plain": [
       "(6, 155)"
      ]
     },
     "execution_count": 150,
     "metadata": {},
     "output_type": "execute_result"
    }
   ],
   "source": [
    "mat.shape"
   ]
  },
  {
   "cell_type": "code",
   "execution_count": 151,
   "metadata": {},
   "outputs": [
    {
     "data": {
      "text/plain": [
       "6"
      ]
     },
     "execution_count": 151,
     "metadata": {},
     "output_type": "execute_result"
    }
   ],
   "source": [
    "len(to_show)"
   ]
  },
  {
   "cell_type": "code",
   "execution_count": 152,
   "metadata": {},
   "outputs": [
    {
     "data": {
      "text/plain": [
       "array([165.495,  44.59 ,  80.025, 420.04 , 688.205, 123.155, 165.495,\n",
       "        44.59 ,  80.025, 165.495, 163.215,  44.59 ,  80.025, 163.215,\n",
       "        44.48 ,  79.59 , 163.92 ,  44.48 ,  79.59 , 163.92 ,  44.48 ,\n",
       "        79.59 ,  82.475,  45.1  ,  82.475,  45.1  ,  82.475, 688.205,\n",
       "       420.04 , 123.155, 688.205, 420.04 , 123.155, 689.22 , 412.13 ,\n",
       "       130.155, 689.22 , 412.13 , 130.155, 689.22 , 412.13 , 130.155,\n",
       "       689.275, 413.185, 128.47 , 689.275, 413.185, 689.275, 413.185,\n",
       "       128.47 ,  80.025, 165.495,  44.59 , 420.04 , 688.205, 123.155,\n",
       "       165.495,  44.59 ,  80.025, 163.215,  44.48 ,  79.59 , 163.92 ,\n",
       "        44.48 , 163.92 ,  79.59 ,  45.1  ,  82.475,  45.1  ,  82.475,\n",
       "       688.205, 420.04 , 123.155, 689.22 , 412.13 , 130.155, 689.22 ,\n",
       "       412.13 , 130.155, 689.275, 413.185, 128.47 , 689.275, 413.185,\n",
       "       128.47 , 165.495,  44.59 ,  80.025, 420.04 , 688.205, 123.155,\n",
       "       165.495,  44.59 ,  80.025, 163.215,  79.59 ,  44.48 , 163.92 ,\n",
       "        44.48 ,  79.59 , 163.92 ,  45.1  ,  82.475,  45.1  ,  82.475,\n",
       "       688.205, 420.04 , 123.155, 689.22 , 412.13 , 130.155, 689.22 ,\n",
       "       412.13 , 130.155, 689.275, 413.185, 128.47 , 689.275, 413.185,\n",
       "       128.47 , 165.495,  44.59 ,  80.025, 420.04 , 688.205, 123.155,\n",
       "       165.495,  44.59 ,  80.025, 163.215,  79.59 ,  44.48 , 163.92 ,\n",
       "        79.59 , 163.92 ,  44.48 ,  82.475,  45.1  ,  82.475,  45.1  ,\n",
       "       688.205, 420.04 , 123.155, 689.22 , 412.13 , 130.155, 689.22 ,\n",
       "       412.13 , 130.155, 413.185, 689.275, 128.47 , 413.185, 689.275,\n",
       "       128.47 ])"
      ]
     },
     "execution_count": 152,
     "metadata": {},
     "output_type": "execute_result"
    }
   ],
   "source": [
    "mat[0,:]"
   ]
  },
  {
   "cell_type": "code",
   "execution_count": 153,
   "metadata": {},
   "outputs": [],
   "source": [
    "divs = (mat / mat[0,:]).T"
   ]
  },
  {
   "cell_type": "code",
   "execution_count": 154,
   "metadata": {},
   "outputs": [
    {
     "data": {
      "text/plain": [
       "(155, 6)"
      ]
     },
     "execution_count": 154,
     "metadata": {},
     "output_type": "execute_result"
    }
   ],
   "source": [
    "divs.shape"
   ]
  },
  {
   "cell_type": "code",
   "execution_count": 155,
   "metadata": {},
   "outputs": [],
   "source": [
    "wid,hei = divs.shape"
   ]
  },
  {
   "cell_type": "code",
   "execution_count": 156,
   "metadata": {},
   "outputs": [
    {
     "data": {
      "image/png": "[encoded data removed]",
      "text/plain": [
       "<Figure size 432x288 with 1 Axes>"
      ]
     },
     "metadata": {
      "needs_background": "light"
     },
     "output_type": "display_data"
    }
   ],
   "source": [
    "for i in range(1,hei):\n",
    "    plt.scatter(divs[:,i], [i]*wid)"
   ]
  },
  {
   "cell_type": "code",
   "execution_count": 157,
   "metadata": {},
   "outputs": [
    {
     "data": {
      "image/png": "[encoded data removed]",
      "text/plain": [
       "<Figure size 432x288 with 1 Axes>"
      ]
     },
     "metadata": {
      "needs_background": "light"
     },
     "output_type": "display_data"
    }
   ],
   "source": [
    "from random import random\n",
    "\n",
    "for i in range(1,hei):\n",
    "    plt.scatter(mat[i,:] / mat[i-1,:], [i + ij*0.01 for ij in range(wid)],\n",
    "               s=4, color='black')\n",
    "plt.yticks(range(1,hei), to_show[1:])\n",
    "plt.xlim(0.5,1.05)\n",
    "plt.grid(True,'major','x')"
   ]
  },
  {
   "cell_type": "markdown",
   "metadata": {},
   "source": [
    "# just simple stuff..."
   ]
  },
  {
   "cell_type": "code",
   "execution_count": 97,
   "metadata": {},
   "outputs": [],
   "source": [
    "basek = [0,0.2,0.2]"
   ]
  },
  {
   "cell_type": "code",
   "execution_count": 43,
   "metadata": {},
   "outputs": [],
   "source": [
    "Nnodesx = [310, 784]\n",
    "\n",
    "def met_rel(k):\n",
    "    Nn = Nnodesx[k[0]]\n",
    "    Nvac = int(Nn * k[2])\n",
    "    \n",
    "    if k[-1] == 'none':\n",
    "        Nvac = 0\n",
    "    \n",
    "    return np.mean( [x['inf'][-1] + x['exp'][-1] + x['rec'][-1] for x in ms[k]] ) / ( Nn - Nvac - 20 )\n",
    "\n",
    "def met_rel_num(k):\n",
    "    Nn = Nnodesx[k[0]]\n",
    "    Nvac = int(Nn * k[2])\n",
    "    \n",
    "    if k[-1] == 'none':\n",
    "        Nvac = 0\n",
    "    \n",
    "    return np.mean( [x['inf'][-1] + x['exp'][-1] + x['rec'][-1] for x in ms[k]] ), ( Nn - Nvac - 20 )"
   ]
  },
  {
   "cell_type": "code",
   "execution_count": 44,
   "metadata": {},
   "outputs": [],
   "source": [
    "def err(kk):\n",
    "    k = tuple( basek+[kk] )\n",
    "    return np.std( [x['inf'][-1] + x['exp'][-1] + x['rec'][-1] for x in ms[k]] ) / np.sqrt(len(ms[k]))"
   ]
  },
  {
   "cell_type": "code",
   "execution_count": 45,
   "metadata": {},
   "outputs": [],
   "source": [
    "def getit(kk):\n",
    "    return met_rel(tuple( basek+[kk] ))"
   ]
  },
  {
   "cell_type": "code",
   "execution_count": 46,
   "metadata": {},
   "outputs": [],
   "source": [
    "def getit_num(kk):\n",
    "    return met_rel_num(tuple( basek+[kk] ))"
   ]
  },
  {
   "cell_type": "code",
   "execution_count": 31,
   "metadata": {},
   "outputs": [
    {
     "data": {
      "text/markdown": [
       "\n",
       "Distributing vaccines randomly to 20% of the population \n",
       "does have some effect on the spread of this disease. \n",
       "On average, it reduces the number of infections \n",
       "among the unvaccinated from \n",
       "    56.5% to 47.9%.\n"
      ],
      "text/plain": [
       "<IPython.core.display.Markdown object>"
      ]
     },
     "metadata": {},
     "output_type": "display_data"
    }
   ],
   "source": [
    "display(Markdown(f\"\"\"\n",
    "Distributing vaccines randomly to 20% of the population \n",
    "does have some effect on the spread of this disease. \n",
    "On average, it reduces the number of infections \n",
    "among the unvaccinated from \n",
    "    {getit('none'):0.1%} to {getit('rand'):0.1%}.\n",
    "\"\"\"))"
   ]
  },
  {
   "cell_type": "code",
   "execution_count": 22,
   "metadata": {},
   "outputs": [
    {
     "data": {
      "text/markdown": [
       "\n",
       "In this school, \n",
       "    vaccinating random contacts of random individuals \n",
       "    reduces the average number of infections among the unvaccinated from \n",
       "    47.9% (*random vaccination*) to 42.1%.\n"
      ],
      "text/plain": [
       "<IPython.core.display.Markdown object>"
      ]
     },
     "metadata": {},
     "output_type": "display_data"
    }
   ],
   "source": [
    "display(Markdown(f\"\"\"\n",
    "In this school, \n",
    "    vaccinating random contacts of random individuals \n",
    "    reduces the average number of infections among the unvaccinated from \n",
    "    {getit('rand'):0.1%} (*random vaccination*) to {getit('friend'):0.1%}.\n",
    "\"\"\"))"
   ]
  },
  {
   "cell_type": "code",
   "execution_count": 107,
   "metadata": {},
   "outputs": [
    {
     "data": {
      "text/plain": [
       "[0, 0.2, 0.2]"
      ]
     },
     "execution_count": 107,
     "metadata": {},
     "output_type": "execute_result"
    }
   ],
   "source": [
    "basek"
   ]
  },
  {
   "cell_type": "code",
   "execution_count": 108,
   "metadata": {},
   "outputs": [
    {
     "data": {
      "text/plain": [
       "0.5652413793103448"
      ]
     },
     "execution_count": 108,
     "metadata": {},
     "output_type": "execute_result"
    }
   ],
   "source": [
    "getit('none')"
   ]
  },
  {
   "cell_type": "code",
   "execution_count": 109,
   "metadata": {},
   "outputs": [
    {
     "data": {
      "text/plain": [
       "(163.92, 290)"
      ]
     },
     "execution_count": 109,
     "metadata": {},
     "output_type": "execute_result"
    }
   ],
   "source": [
    "getit_num('none')"
   ]
  },
  {
   "cell_type": "code",
   "execution_count": 110,
   "metadata": {},
   "outputs": [
    {
     "data": {
      "text/plain": [
       "(109.2, 228)"
      ]
     },
     "execution_count": 110,
     "metadata": {},
     "output_type": "execute_result"
    }
   ],
   "source": [
    "getit_num('rand')"
   ]
  },
  {
   "cell_type": "code",
   "execution_count": 111,
   "metadata": {},
   "outputs": [
    {
     "data": {
      "text/plain": [
       "0.5366716025996353"
      ]
     },
     "execution_count": 111,
     "metadata": {},
     "output_type": "execute_result"
    }
   ],
   "source": [
    "100 * err('none') / 290"
   ]
  },
  {
   "cell_type": "code",
   "execution_count": 112,
   "metadata": {},
   "outputs": [
    {
     "data": {
      "text/plain": [
       "0.4789473684210526"
      ]
     },
     "execution_count": 112,
     "metadata": {},
     "output_type": "execute_result"
    }
   ],
   "source": [
    "getit('rand')"
   ]
  },
  {
   "cell_type": "code",
   "execution_count": 105,
   "metadata": {},
   "outputs": [
    {
     "data": {
      "text/plain": [
       "(109.2, 228)"
      ]
     },
     "execution_count": 105,
     "metadata": {},
     "output_type": "execute_result"
    }
   ],
   "source": [
    "getit_num('rand')"
   ]
  },
  {
   "cell_type": "code",
   "execution_count": 103,
   "metadata": {},
   "outputs": [
    {
     "data": {
      "text/plain": [
       "0.5971439282428"
      ]
     },
     "execution_count": 103,
     "metadata": {},
     "output_type": "execute_result"
    }
   ],
   "source": [
    "100 * err('rand') / 228"
   ]
  },
  {
   "cell_type": "code",
   "execution_count": 113,
   "metadata": {},
   "outputs": [
    {
     "data": {
      "text/plain": [
       "0.3003728070175439"
      ]
     },
     "execution_count": 113,
     "metadata": {},
     "output_type": "execute_result"
    }
   ],
   "source": [
    "getit('targeted')"
   ]
  },
  {
   "cell_type": "code",
   "execution_count": 114,
   "metadata": {},
   "outputs": [
    {
     "data": {
      "text/plain": [
       "0.39920687253297926"
      ]
     },
     "execution_count": 114,
     "metadata": {},
     "output_type": "execute_result"
    }
   ],
   "source": [
    "100 * err('targeted') / 228"
   ]
  },
  {
   "cell_type": "code",
   "execution_count": 116,
   "metadata": {},
   "outputs": [
    {
     "data": {
      "text/plain": [
       "0.42098684210526316"
      ]
     },
     "execution_count": 116,
     "metadata": {},
     "output_type": "execute_result"
    }
   ],
   "source": [
    "getit('friend')"
   ]
  },
  {
   "cell_type": "code",
   "execution_count": 117,
   "metadata": {},
   "outputs": [
    {
     "data": {
      "text/plain": [
       "0.5265302697120587"
      ]
     },
     "execution_count": 117,
     "metadata": {},
     "output_type": "execute_result"
    }
   ],
   "source": [
    "100 * err('friend') / 228"
   ]
  },
  {
   "cell_type": "code",
   "execution_count": 48,
   "metadata": {},
   "outputs": [
    {
     "data": {
      "text/plain": [
       "0.41396172929086"
      ]
     },
     "execution_count": 48,
     "metadata": {},
     "output_type": "execute_result"
    }
   ],
   "source": [
    "100 * err('friend') / 228"
   ]
  },
  {
   "cell_type": "code",
   "execution_count": 118,
   "metadata": {},
   "outputs": [
    {
     "data": {
      "text/plain": [
       "0.4191885964912281"
      ]
     },
     "execution_count": 118,
     "metadata": {},
     "output_type": "execute_result"
    }
   ],
   "source": [
    "getit('friendWeighted')"
   ]
  },
  {
   "cell_type": "code",
   "execution_count": 119,
   "metadata": {},
   "outputs": [
    {
     "data": {
      "text/plain": [
       "0.5331377820961187"
      ]
     },
     "execution_count": 119,
     "metadata": {},
     "output_type": "execute_result"
    }
   ],
   "source": [
    "100 * err('friendWeighted') / 228"
   ]
  },
  {
   "cell_type": "code",
   "execution_count": 54,
   "metadata": {},
   "outputs": [
    {
     "data": {
      "text/plain": [
       "(68.21, 228)"
      ]
     },
     "execution_count": 54,
     "metadata": {},
     "output_type": "execute_result"
    }
   ],
   "source": [
    "getit_num('friendHighDeg')"
   ]
  },
  {
   "cell_type": "code",
   "execution_count": 120,
   "metadata": {},
   "outputs": [
    {
     "data": {
      "text/plain": [
       "0.29916666666666664"
      ]
     },
     "execution_count": 120,
     "metadata": {},
     "output_type": "execute_result"
    }
   ],
   "source": [
    "getit('friendHighDeg')"
   ]
  },
  {
   "cell_type": "code",
   "execution_count": 121,
   "metadata": {},
   "outputs": [
    {
     "data": {
      "text/plain": [
       "0.3167405154101054"
      ]
     },
     "execution_count": 121,
     "metadata": {},
     "output_type": "execute_result"
    }
   ],
   "source": [
    "100 * err('friendHighDeg') / 290"
   ]
  },
  {
   "cell_type": "code",
   "execution_count": 124,
   "metadata": {},
   "outputs": [
    {
     "data": {
      "text/plain": [
       "15.266754000667849"
      ]
     },
     "execution_count": 124,
     "metadata": {},
     "output_type": "execute_result"
    }
   ],
   "source": [
    "100*(1 - getit('rand') / getit('none'))"
   ]
  },
  {
   "cell_type": "code",
   "execution_count": 125,
   "metadata": {},
   "outputs": [
    {
     "data": {
      "text/plain": [
       "47.07275906946479"
      ]
     },
     "execution_count": 125,
     "metadata": {},
     "output_type": "execute_result"
    }
   ],
   "source": [
    "100*(1 - getit('friendHighDeg') / getit('none'))"
   ]
  },
  {
   "cell_type": "code",
   "execution_count": 23,
   "metadata": {},
   "outputs": [
    {
     "data": {
      "text/markdown": [
       "\n",
       "reduces the average number of infections among the unvaccinated from \n",
       "    47.9% (*random vaccination*) to just 29.9%.\n"
      ],
      "text/plain": [
       "<IPython.core.display.Markdown object>"
      ]
     },
     "metadata": {},
     "output_type": "display_data"
    }
   ],
   "source": [
    "display(Markdown(f\"\"\"\n",
    "reduces the average number of infections among the unvaccinated from \n",
    "    {getit('rand'):0.1%} (*random vaccination*) to just {getit('friendHighDeg'):0.1%}.\n",
    "\"\"\"))"
   ]
  },
  {
   "cell_type": "code",
   "execution_count": 24,
   "metadata": {},
   "outputs": [
    {
     "data": {
      "text/plain": [
       "(163.92, 290)"
      ]
     },
     "execution_count": 24,
     "metadata": {},
     "output_type": "execute_result"
    }
   ],
   "source": [
    "getit_num('none')"
   ]
  },
  {
   "cell_type": "code",
   "execution_count": 29,
   "metadata": {},
   "outputs": [
    {
     "data": {
      "text/plain": [
       "1.5563476475389424"
      ]
     },
     "execution_count": 29,
     "metadata": {},
     "output_type": "execute_result"
    }
   ],
   "source": [
    "err('none')"
   ]
  },
  {
   "cell_type": "markdown",
   "metadata": {},
   "source": [
    "# let's go to texas"
   ]
  },
  {
   "cell_type": "code",
   "execution_count": 57,
   "metadata": {},
   "outputs": [],
   "source": [
    "basek = [1,0.2,0.2]"
   ]
  },
  {
   "cell_type": "code",
   "execution_count": 74,
   "metadata": {},
   "outputs": [
    {
     "data": {
      "text/plain": [
       "(689.275, 764)"
      ]
     },
     "execution_count": 74,
     "metadata": {},
     "output_type": "execute_result"
    }
   ],
   "source": [
    "getit_num('none')"
   ]
  },
  {
   "cell_type": "code",
   "execution_count": 76,
   "metadata": {},
   "outputs": [
    {
     "data": {
      "text/plain": [
       "0.9021924083769634"
      ]
     },
     "execution_count": 76,
     "metadata": {},
     "output_type": "execute_result"
    }
   ],
   "source": [
    "getit('none')"
   ]
  },
  {
   "cell_type": "code",
   "execution_count": 78,
   "metadata": {},
   "outputs": [
    {
     "data": {
      "text/plain": [
       "0.08408062313996313"
      ]
     },
     "execution_count": 78,
     "metadata": {},
     "output_type": "execute_result"
    }
   ],
   "source": [
    "100 * err('none') / 764"
   ]
  },
  {
   "cell_type": "code",
   "execution_count": 79,
   "metadata": {},
   "outputs": [
    {
     "data": {
      "text/plain": [
       "0.8597450657894737"
      ]
     },
     "execution_count": 79,
     "metadata": {},
     "output_type": "execute_result"
    }
   ],
   "source": [
    "getit('rand')"
   ]
  },
  {
   "cell_type": "code",
   "execution_count": 84,
   "metadata": {},
   "outputs": [
    {
     "data": {
      "text/plain": [
       "(522.725, 608)"
      ]
     },
     "execution_count": 84,
     "metadata": {},
     "output_type": "execute_result"
    }
   ],
   "source": [
    "getit_num('rand')"
   ]
  },
  {
   "cell_type": "code",
   "execution_count": 88,
   "metadata": {},
   "outputs": [
    {
     "data": {
      "text/plain": [
       "0.17909869241215806"
      ]
     },
     "execution_count": 88,
     "metadata": {},
     "output_type": "execute_result"
    }
   ],
   "source": [
    "100 * err('rand') / 608"
   ]
  },
  {
   "cell_type": "code",
   "execution_count": 89,
   "metadata": {},
   "outputs": [
    {
     "data": {
      "text/plain": [
       "0.34451630443758285"
      ]
     },
     "execution_count": 89,
     "metadata": {},
     "output_type": "execute_result"
    }
   ],
   "source": [
    "100 * err('targeted') / 608"
   ]
  },
  {
   "cell_type": "code",
   "execution_count": 90,
   "metadata": {},
   "outputs": [
    {
     "data": {
      "text/plain": [
       "0.1854959848293532"
      ]
     },
     "execution_count": 90,
     "metadata": {},
     "output_type": "execute_result"
    }
   ],
   "source": [
    "100 * err('friend') / 608"
   ]
  },
  {
   "cell_type": "code",
   "execution_count": 91,
   "metadata": {},
   "outputs": [
    {
     "data": {
      "text/plain": [
       "0.1854959848293532"
      ]
     },
     "execution_count": 91,
     "metadata": {},
     "output_type": "execute_result"
    }
   ],
   "source": [
    "100 * err('friend') / 608"
   ]
  },
  {
   "cell_type": "code",
   "execution_count": 92,
   "metadata": {},
   "outputs": [
    {
     "data": {
      "text/plain": [
       "0.8327549342105263"
      ]
     },
     "execution_count": 92,
     "metadata": {},
     "output_type": "execute_result"
    }
   ],
   "source": [
    "getit('friendWeighted')"
   ]
  },
  {
   "cell_type": "code",
   "execution_count": 93,
   "metadata": {},
   "outputs": [
    {
     "data": {
      "text/plain": [
       "0.18595194817175073"
      ]
     },
     "execution_count": 93,
     "metadata": {},
     "output_type": "execute_result"
    }
   ],
   "source": [
    "100 * err('friendWeighted') / 608"
   ]
  },
  {
   "cell_type": "code",
   "execution_count": 94,
   "metadata": {},
   "outputs": [
    {
     "data": {
      "text/plain": [
       "(454.815, 608)"
      ]
     },
     "execution_count": 94,
     "metadata": {},
     "output_type": "execute_result"
    }
   ],
   "source": [
    "getit_num('friendHighDeg')"
   ]
  },
  {
   "cell_type": "code",
   "execution_count": 95,
   "metadata": {},
   "outputs": [
    {
     "data": {
      "text/plain": [
       "0.7480509868421052"
      ]
     },
     "execution_count": 95,
     "metadata": {},
     "output_type": "execute_result"
    }
   ],
   "source": [
    "getit('friendHighDeg')"
   ]
  },
  {
   "cell_type": "code",
   "execution_count": 96,
   "metadata": {},
   "outputs": [
    {
     "data": {
      "text/plain": [
       "0.3943615909276939"
      ]
     },
     "execution_count": 96,
     "metadata": {},
     "output_type": "execute_result"
    }
   ],
   "source": [
    "100 * err('friendHighDeg') / 608"
   ]
  },
  {
   "cell_type": "code",
   "execution_count": 69,
   "metadata": {},
   "outputs": [
    {
     "data": {
      "text/markdown": [
       "\n",
       "reduces the average number of infections among the unvaccinated from \n",
       "    86.0% (*random vaccination*) to just 74.8%.\n"
      ],
      "text/plain": [
       "<IPython.core.display.Markdown object>"
      ]
     },
     "metadata": {},
     "output_type": "display_data"
    }
   ],
   "source": [
    "display(Markdown(f\"\"\"\n",
    "reduces the average number of infections among the unvaccinated from \n",
    "    {getit('rand'):0.1%} (*random vaccination*) to just {getit('friendHighDeg'):0.1%}.\n",
    "\"\"\"))"
   ]
  },
  {
   "cell_type": "code",
   "execution_count": 70,
   "metadata": {},
   "outputs": [
    {
     "data": {
      "text/plain": [
       "(689.275, 764)"
      ]
     },
     "execution_count": 70,
     "metadata": {},
     "output_type": "execute_result"
    }
   ],
   "source": [
    "getit_num('none')"
   ]
  },
  {
   "cell_type": "code",
   "execution_count": 71,
   "metadata": {},
   "outputs": [
    {
     "data": {
      "text/plain": [
       "0.6423759607893184"
      ]
     },
     "execution_count": 71,
     "metadata": {},
     "output_type": "execute_result"
    }
   ],
   "source": [
    "err('none')"
   ]
  }
 ],
 "metadata": {
  "kernelspec": {
   "display_name": "Python 3 (ipykernel)",
   "language": "python",
   "name": "python3"
  },
  "language_info": {
   "codemirror_mode": {
    "name": "ipython",
    "version": 3
   },
   "file_extension": ".py",
   "mimetype": "text/x-python",
   "name": "python",
   "nbconvert_exporter": "python",
   "pygments_lexer": "ipython3",
   "version": "3.9.0"
  }
 },
 "nbformat": 4,
 "nbformat_minor": 4
}
