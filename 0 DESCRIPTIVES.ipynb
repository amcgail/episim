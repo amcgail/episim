{
 "cells": [
  {
   "cell_type": "code",
   "execution_count": 3,
   "metadata": {},
   "outputs": [
    {
     "ename": "ModuleNotFoundError",
     "evalue": "No module named 'pandas'",
     "output_type": "error",
     "traceback": [
      "\u001b[1;31m---------------------------------------------------------------------------\u001b[0m",
      "\u001b[1;31mModuleNotFoundError\u001b[0m                       Traceback (most recent call last)",
      "\u001b[1;32m~\\AppData\\Local\\Temp/ipykernel_6756/827910663.py\u001b[0m in \u001b[0;36m<module>\u001b[1;34m\u001b[0m\n\u001b[0;32m      1\u001b[0m \u001b[1;31m#import sys; sys.path.append(\"..\")\u001b[0m\u001b[1;33m\u001b[0m\u001b[1;33m\u001b[0m\u001b[1;33m\u001b[0m\u001b[0m\n\u001b[1;32m----> 2\u001b[1;33m \u001b[1;32mfrom\u001b[0m \u001b[0mepi_model\u001b[0m \u001b[1;32mimport\u001b[0m \u001b[1;33m*\u001b[0m\u001b[1;33m\u001b[0m\u001b[1;33m\u001b[0m\u001b[0m\n\u001b[0m",
      "\u001b[1;32m~\\GitHub\\episim\\epi_model\\__init__.py\u001b[0m in \u001b[0;36m<module>\u001b[1;34m\u001b[0m\n\u001b[1;32m----> 1\u001b[1;33m \u001b[1;32mfrom\u001b[0m \u001b[1;33m.\u001b[0m\u001b[0mcommon_imports\u001b[0m \u001b[1;32mimport\u001b[0m \u001b[1;33m*\u001b[0m\u001b[1;33m\u001b[0m\u001b[1;33m\u001b[0m\u001b[0m\n\u001b[0m\u001b[0;32m      2\u001b[0m \u001b[1;32mfrom\u001b[0m \u001b[1;33m.\u001b[0m\u001b[0mnetworks\u001b[0m \u001b[1;32mimport\u001b[0m \u001b[1;33m*\u001b[0m\u001b[1;33m\u001b[0m\u001b[1;33m\u001b[0m\u001b[0m\n\u001b[0;32m      3\u001b[0m \u001b[1;32mfrom\u001b[0m \u001b[1;33m.\u001b[0m\u001b[0msimulations\u001b[0m \u001b[1;32mimport\u001b[0m \u001b[1;33m*\u001b[0m\u001b[1;33m\u001b[0m\u001b[1;33m\u001b[0m\u001b[0m\n\u001b[0;32m      4\u001b[0m \u001b[1;33m\u001b[0m\u001b[0m\n\u001b[0;32m      5\u001b[0m \u001b[1;32mfrom\u001b[0m \u001b[1;33m.\u001b[0m \u001b[1;32mimport\u001b[0m \u001b[0manimate\u001b[0m\u001b[1;33m\u001b[0m\u001b[1;33m\u001b[0m\u001b[0m\n",
      "\u001b[1;32m~\\GitHub\\episim\\epi_model\\common_imports.py\u001b[0m in \u001b[0;36m<module>\u001b[1;34m\u001b[0m\n\u001b[0;32m      2\u001b[0m \u001b[1;32mfrom\u001b[0m \u001b[0mcsv\u001b[0m \u001b[1;32mimport\u001b[0m \u001b[0mreader\u001b[0m\u001b[1;33m\u001b[0m\u001b[1;33m\u001b[0m\u001b[0m\n\u001b[0;32m      3\u001b[0m \u001b[1;32mimport\u001b[0m \u001b[0mpickle\u001b[0m\u001b[1;33m\u001b[0m\u001b[1;33m\u001b[0m\u001b[0m\n\u001b[1;32m----> 4\u001b[1;33m \u001b[1;32mimport\u001b[0m \u001b[0mpandas\u001b[0m \u001b[1;32mas\u001b[0m \u001b[0mpd\u001b[0m\u001b[1;33m\u001b[0m\u001b[1;33m\u001b[0m\u001b[0m\n\u001b[0m\u001b[0;32m      5\u001b[0m \u001b[1;32mimport\u001b[0m \u001b[0mnumpy\u001b[0m \u001b[1;32mas\u001b[0m \u001b[0mnp\u001b[0m\u001b[1;33m\u001b[0m\u001b[1;33m\u001b[0m\u001b[0m\n\u001b[0;32m      6\u001b[0m \u001b[1;32mimport\u001b[0m \u001b[0mnetworkx\u001b[0m \u001b[1;32mas\u001b[0m \u001b[0mnx\u001b[0m\u001b[1;33m\u001b[0m\u001b[1;33m\u001b[0m\u001b[0m\n",
      "\u001b[1;31mModuleNotFoundError\u001b[0m: No module named 'pandas'"
     ]
    }
   ],
   "source": [
    "#import sys; sys.path.append(\"..\")\n",
    "from epi_model import *"
   ]
  },
  {
   "cell_type": "markdown",
   "metadata": {},
   "source": [
    "# Mastrandrea just Monday"
   ]
  },
  {
   "cell_type": "code",
   "execution_count": 2,
   "metadata": {},
   "outputs": [],
   "source": [
    "net = temporalNetwork.load('high school')"
   ]
  },
  {
   "cell_type": "code",
   "execution_count": 3,
   "metadata": {},
   "outputs": [],
   "source": [
    "net2 = net.range( 1, 2 )"
   ]
  },
  {
   "cell_type": "code",
   "execution_count": 4,
   "metadata": {},
   "outputs": [
    {
     "data": {
      "text/plain": [
       "[datetime.date(2013, 12, 3)]"
      ]
     },
     "execution_count": 4,
     "metadata": {},
     "output_type": "execute_result"
    }
   ],
   "source": [
    "net2.days"
   ]
  },
  {
   "cell_type": "code",
   "execution_count": 5,
   "metadata": {},
   "outputs": [
    {
     "data": {
      "text/plain": [
       "[-1260, 3060]"
      ]
     },
     "execution_count": 5,
     "metadata": {},
     "output_type": "execute_result"
    }
   ],
   "source": [
    "net2.day_breaks"
   ]
  },
  {
   "cell_type": "code",
   "execution_count": 6,
   "metadata": {},
   "outputs": [],
   "source": [
    "mat = nx.adjacency_matrix(net2.G)\n",
    "mat = mat.todense()\n",
    "mat = np.array(mat)"
   ]
  },
  {
   "cell_type": "code",
   "execution_count": 7,
   "metadata": {},
   "outputs": [],
   "source": [
    "deg = np.sum(mat>0, axis=0)\n",
    "deg_gt_med = np.sum(mat>np.median(mat[mat>0]), axis=0)\n",
    "deg_weighted = np.sum(mat, axis=0)\n",
    "\n",
    "m2 = np.matmul(mat,mat)\n",
    "m3 = np.matmul(m2,mat)\n",
    "\n",
    "deg2 = np.sum(np.matmul(mat>0,mat>0), axis=0)\n",
    "deg2_weighted = np.sum(m2, axis=0)"
   ]
  },
  {
   "cell_type": "code",
   "execution_count": 8,
   "metadata": {},
   "outputs": [
    {
     "data": {
      "text/plain": [
       "True"
      ]
     },
     "execution_count": 8,
     "metadata": {},
     "output_type": "execute_result"
    }
   ],
   "source": [
    "any(x%2!=0 for x in mat.flatten())"
   ]
  },
  {
   "cell_type": "code",
   "execution_count": 9,
   "metadata": {},
   "outputs": [],
   "source": [
    "nppl = net2.Nnodes\n",
    "ndays = 5\n",
    "mindeg = deg.min()\n",
    "maxdeg = deg.max()\n",
    "avgdeg = deg.mean()\n",
    "\n",
    "longest = mat.max() * 20 / 3600\n",
    "meant = mat[mat>0].mean() * 20 / 3600"
   ]
  },
  {
   "cell_type": "code",
   "execution_count": 10,
   "metadata": {},
   "outputs": [],
   "source": [
    "mean_day = mat.sum(axis=0).mean() *20 / (3600)"
   ]
  },
  {
   "cell_type": "code",
   "execution_count": 11,
   "metadata": {},
   "outputs": [],
   "source": [
    "max_day = mat.sum(axis=0).max() *20 / (3600)\n",
    "min_day = mat.sum(axis=0).min() *20 / (3600)"
   ]
  },
  {
   "cell_type": "code",
   "execution_count": 12,
   "metadata": {},
   "outputs": [
    {
     "data": {
      "text/plain": [
       "310"
      ]
     },
     "execution_count": 12,
     "metadata": {},
     "output_type": "execute_result"
    }
   ],
   "source": [
    "len(net2.G.nodes)"
   ]
  },
  {
   "cell_type": "code",
   "execution_count": 13,
   "metadata": {},
   "outputs": [
    {
     "data": {
      "text/markdown": [
       "\n",
       "The network recorded proximity throughout the school day for 327 French highschool students over the course of 5 days.\n",
       "Although the network was collected over the course of 5 days, some students were not present or participating on multiple of the 5 days.\n",
       "To diminish the effects of missing data, as well as the shortened collection period of the first day, I consider only the interaction profile for Tuesday, \n",
       "    assuming these interactions continue continuously through the period of the simulation.\n",
       "On Tuesday, students saw an average of 16.6 contacts for at least 20 seconds. \n",
       "The most was 43 contacts, and the least only 1.\n",
       "The pair who interacted most were together for a full 3.94 hours that day, but the mean accumulated contact time was only 6.13 minutes.\n",
       "Students spent 1.70 hours on average facing another person in this way. \n",
       "The most interacted for 8.11 hours on Tuesday, the least for 60 seconds total.\n"
      ],
      "text/plain": [
       "<IPython.core.display.Markdown object>"
      ]
     },
     "metadata": {},
     "output_type": "display_data"
    }
   ],
   "source": [
    "display(Markdown(f\"\"\"\n",
    "The network recorded proximity throughout the school day for {len(net.G.nodes):,} French highschool students over the course of {ndays:} days.\n",
    "Although the network was collected over the course of {ndays:} days, some students were not present or participating on multiple of the 5 days.\n",
    "To diminish the effects of missing data, as well as the shortened collection period of the first day, I consider only the interaction profile for Tuesday, \n",
    "    assuming these interactions continue continuously through the period of the simulation.\n",
    "On Tuesday, students saw an average of {avgdeg:0.1f} contacts for at least 20 seconds. \n",
    "The most was {maxdeg:,} contacts, and the least only {mindeg:,}.\n",
    "The pair who interacted most were together for a full {longest:0.2f} hours that day, but the mean accumulated contact time was only {meant*60:0.2f} minutes.\n",
    "Students spent {mean_day:0.2f} hours on average facing another person in this way. \n",
    "The most interacted for {max_day:0.2f} hours on Tuesday, the least for {min_day*3600:0.0f} seconds total.\n",
    "\"\"\"))"
   ]
  },
  {
   "cell_type": "markdown",
   "metadata": {},
   "source": [
    "## Manstrea difference between days"
   ]
  },
  {
   "cell_type": "code",
   "execution_count": 14,
   "metadata": {},
   "outputs": [],
   "source": [
    "gs = [\n",
    "    net.range( i, i+1 ).G\n",
    "    for i in range(len(net.days))\n",
    "]"
   ]
  },
  {
   "cell_type": "code",
   "execution_count": 15,
   "metadata": {},
   "outputs": [
    {
     "data": {
      "image/png": "[encoded data removed]",
      "text/plain": [
       "<Figure size 432x288 with 2 Axes>"
      ]
     },
     "metadata": {
      "needs_background": "light"
     },
     "output_type": "display_data"
    }
   ],
   "source": [
    "plt.imshow([[\n",
    "    len(set(gs[i].nodes).difference(gs[j].nodes))\n",
    "    for i in range(len(net.days))\n",
    "] for j in range(len(net.days))])\n",
    "\n",
    "plt.xlabel('superset');\n",
    "plt.ylabel('subset');\n",
    "\n",
    "plt.colorbar();"
   ]
  },
  {
   "cell_type": "code",
   "execution_count": 16,
   "metadata": {},
   "outputs": [],
   "source": [
    "dsets = {}\n",
    "for d in range(len(net.day_breaks)-1):\n",
    "    filt = (\n",
    "        ( net.day_breaks[d] <= net.eldf[0] ) &\n",
    "        ( net.eldf[0] <= net.day_breaks[d+1] )\n",
    "    )\n",
    "    \n",
    "    dsets[d] = set( net.eldf[ filt ][1] )"
   ]
  },
  {
   "cell_type": "code",
   "execution_count": 17,
   "metadata": {},
   "outputs": [],
   "source": [
    "from itertools import chain\n",
    "c1 = Counter(chain.from_iterable(\n",
    "    dsets.values()\n",
    "))\n",
    "c2 = Counter(c1.values())"
   ]
  },
  {
   "cell_type": "code",
   "execution_count": 18,
   "metadata": {},
   "outputs": [],
   "source": [
    "rest = sum(c2.values()) - c2[5]-c2[4]"
   ]
  },
  {
   "cell_type": "code",
   "execution_count": 19,
   "metadata": {},
   "outputs": [],
   "source": [
    "biggest_day = max(dsets, key=lambda x:len(dsets[x]))\n",
    "days = [\n",
    "    'Monday',\n",
    "    'Tuesday','Wednesday','Thursday','Friday'\n",
    "]\n",
    "bds = days[biggest_day]\n",
    "bdn = len(dsets[biggest_day])"
   ]
  },
  {
   "cell_type": "code",
   "execution_count": 20,
   "metadata": {},
   "outputs": [
    {
     "data": {
      "text/markdown": [
       "\n",
       "250 students were present for all 5 days of data collection,\n",
       "51 missed one day,\n",
       "and 26 students missed more than one day.\n",
       "The most students were present on Monday: 312 students.\n"
      ],
      "text/plain": [
       "<IPython.core.display.Markdown object>"
      ]
     },
     "metadata": {},
     "output_type": "display_data"
    }
   ],
   "source": [
    "display(Markdown(\"\"\"\n",
    "{c2[5]:,} students were present for all 5 days of data collection,\n",
    "{c2[4]:,} missed one day,\n",
    "and {rest:,} students missed more than one day.\n",
    "The most students were present on {bds}: {bdn} students.\n",
    "\"\"\".format(**locals())))"
   ]
  },
  {
   "cell_type": "markdown",
   "metadata": {},
   "source": [
    "# Salathe"
   ]
  },
  {
   "cell_type": "code",
   "execution_count": 21,
   "metadata": {},
   "outputs": [],
   "source": [
    "net2 = temporalNetwork.load('high school2')"
   ]
  },
  {
   "cell_type": "code",
   "execution_count": 23,
   "metadata": {},
   "outputs": [],
   "source": [
    "mat = nx.adjacency_matrix(net2.G)\n",
    "mat = mat.todense()\n",
    "mat = np.array(mat)"
   ]
  },
  {
   "cell_type": "code",
   "execution_count": 24,
   "metadata": {},
   "outputs": [],
   "source": [
    "deg = np.sum(mat>0, axis=0)\n",
    "deg_gt_med = np.sum(mat>np.median(mat[mat>0]), axis=0)\n",
    "deg_weighted = np.sum(mat, axis=0)\n",
    "\n",
    "m2 = np.matmul(mat,mat)\n",
    "m3 = np.matmul(m2,mat)\n",
    "\n",
    "deg2 = np.sum(np.matmul(mat>0,mat>0), axis=0)\n",
    "deg2_weighted = np.sum(m2, axis=0)"
   ]
  },
  {
   "cell_type": "code",
   "execution_count": 25,
   "metadata": {},
   "outputs": [],
   "source": [
    "nppl = net2.Nnodes\n",
    "ndays = 5\n",
    "mindeg = deg.min()\n",
    "maxdeg = deg.max()\n",
    "avgdeg = deg.mean()\n",
    "\n",
    "longest = mat.max() * 20 / 3600\n",
    "meant = mat.mean() * 20 / 3600"
   ]
  },
  {
   "cell_type": "code",
   "execution_count": 26,
   "metadata": {},
   "outputs": [],
   "source": [
    "mean_day = mat.sum(axis=0).mean() *20 / (5*3600)"
   ]
  },
  {
   "cell_type": "code",
   "execution_count": 28,
   "metadata": {},
   "outputs": [],
   "source": [
    "max_day = mat.sum(axis=0).max() *20 / (5*3600)\n",
    "min_day = mat.sum(axis=0).min() *20 / (3600)"
   ]
  },
  {
   "cell_type": "code",
   "execution_count": 31,
   "metadata": {},
   "outputs": [],
   "source": [
    "\"\"\"\n",
    "From them:\n",
    "The dataset covers CPIs of 94% of the entire school population,\n",
    "representing 655 students, 73 teachers, 55 staff, and 5 other\n",
    "persons, and it contains 2,148,991 unique close proximity records\n",
    "(CPRs). A CPR represents one close (maximum of 3 m) proximity detection event between two motes. An interaction is defined as a continuous sequence (≥1) of CPRs between the same\n",
    "two motes, and a contact is the sum of all interactions between\n",
    "these two motes. \n",
    "\"\"\";"
   ]
  },
  {
   "cell_type": "code",
   "execution_count": 32,
   "metadata": {},
   "outputs": [],
   "source": [
    "n_type = Counter(net2.node_attr['role'].values())"
   ]
  },
  {
   "cell_type": "code",
   "execution_count": 33,
   "metadata": {},
   "outputs": [
    {
     "data": {
      "text/plain": [
       "Counter({'student': 656, 'staff': 56, 'teacher': 73, 'other': 5})"
      ]
     },
     "execution_count": 33,
     "metadata": {},
     "output_type": "execute_result"
    }
   ],
   "source": [
    "n_type"
   ]
  },
  {
   "cell_type": "code",
   "execution_count": 42,
   "metadata": {},
   "outputs": [
    {
     "data": {
      "text/markdown": [
       "\n",
       "The network was collected in a single day, recording proximity throughout the school day \n",
       "    for 656 students, 56 staff, 73 teachers, and 5 others\n",
       "    (784 total participants).\n",
       "Students saw an average of 96.9 contacts for at least 20 seconds. The most was 248 contacts, and the least only 1.\n",
       "The pair who interacted most were together for a full 2.79 hours that day, but the mean accumulated contact time between any interacting pair was only 0.87 minutes.\n",
       "Students spent 2.27 hours per day on average facing another person in this way. The most social individual was copresent for 6.48 hours that day, and the least for just 20 seconds.\n"
      ],
      "text/plain": [
       "<IPython.core.display.Markdown object>"
      ]
     },
     "metadata": {},
     "output_type": "display_data"
    }
   ],
   "source": [
    "display(Markdown(f\"\"\"\n",
    "The network was collected in a single day, recording proximity throughout the school day \n",
    "    for {n_type['student']} students, {n_type['staff']} staff, {n_type['teacher']} teachers, and {n_type['other']} others\n",
    "    ({net2.Nnodes} total participants).\n",
    "Students saw an average of {avgdeg:0.1f} contacts for at least 20 seconds. The most was {maxdeg:,} contacts, and the least only {mindeg:,}.\n",
    "The pair who interacted most were together for a full {longest:0.2f} hours that day, but the mean accumulated contact time between any interacting pair was only {meant*60:0.2f} minutes.\n",
    "Students spent {mean_day:0.2f} hours per day on average facing another person in this way. The most social individual was copresent for {max_day:0.2f} hours that day, and the least for just {min_day*3600:0.0f} seconds.\n",
    "\"\"\"))"
   ]
  }
 ],
 "metadata": {
  "kernelspec": {
   "display_name": "Python 3 (ipykernel)",
   "language": "python",
   "name": "python3"
  },
  "language_info": {
   "codemirror_mode": {
    "name": "ipython",
    "version": 3
   },
   "file_extension": ".py",
   "mimetype": "text/x-python",
   "name": "python",
   "nbconvert_exporter": "python",
   "pygments_lexer": "ipython3",
   "version": "3.9.0"
  }
 },
 "nbformat": 4,
 "nbformat_minor": 4
}
