{
 "cells": [
  {
   "cell_type": "code",
   "execution_count": 1,
   "metadata": {},
   "outputs": [],
   "source": [
    "import sys; sys.path.append(\"..\")\n",
    "from epi_model import *"
   ]
  },
  {
   "cell_type": "code",
   "execution_count": 2,
   "metadata": {},
   "outputs": [],
   "source": [
    "#my_fn = '2000 raw_stats-alph=0.1-high school2.pickle'"
   ]
  },
  {
   "cell_type": "code",
   "execution_count": 3,
   "metadata": {},
   "outputs": [],
   "source": [
    "tnets = [\n",
    "    temporalNetwork.load('high school').range(1,2),\n",
    "    temporalNetwork.load('high school2')\n",
    "]"
   ]
  },
  {
   "cell_type": "code",
   "execution_count": 4,
   "metadata": {},
   "outputs": [
    {
     "data": {
      "text/plain": [
       "310"
      ]
     },
     "execution_count": 4,
     "metadata": {},
     "output_type": "execute_result"
    }
   ],
   "source": [
    "tnets[0].Nnodes"
   ]
  },
  {
   "cell_type": "code",
   "execution_count": 5,
   "metadata": {},
   "outputs": [
    {
     "data": {
      "text/plain": [
       "(94676, 3)"
      ]
     },
     "execution_count": 5,
     "metadata": {},
     "output_type": "execute_result"
    }
   ],
   "source": [
    "tnets[0].edgelist.shape"
   ]
  },
  {
   "cell_type": "code",
   "execution_count": 6,
   "metadata": {},
   "outputs": [],
   "source": [
    "tt = temporalNetwork.load('high school')"
   ]
  },
  {
   "cell_type": "code",
   "execution_count": 7,
   "metadata": {},
   "outputs": [],
   "source": [
    "times = tt.edgelist[:,0]"
   ]
  },
  {
   "cell_type": "code",
   "execution_count": 8,
   "metadata": {},
   "outputs": [
    {
     "data": {
      "text/plain": [
       "(94676,)"
      ]
     },
     "execution_count": 8,
     "metadata": {},
     "output_type": "execute_result"
    }
   ],
   "source": [
    "times[(times>2500)&(times<7000)].shape"
   ]
  },
  {
   "cell_type": "code",
   "execution_count": 9,
   "metadata": {},
   "outputs": [
    {
     "data": {
      "image/png": "[encoded data removed]",
      "text/plain": [
       "<Figure size 432x288 with 1 Axes>"
      ]
     },
     "metadata": {
      "needs_background": "light"
     },
     "output_type": "display_data"
    }
   ],
   "source": [
    "plt.hist(tt.edgelist[:,0], bins=50);"
   ]
  },
  {
   "cell_type": "code",
   "execution_count": 10,
   "metadata": {},
   "outputs": [],
   "source": [
    "from threading import Thread"
   ]
  },
  {
   "cell_type": "code",
   "execution_count": 11,
   "metadata": {},
   "outputs": [],
   "source": [
    "daily_aranges = [0.05, 0.1, 0.15, 0.2]"
   ]
  },
  {
   "cell_type": "code",
   "execution_count": 12,
   "metadata": {},
   "outputs": [
    {
     "data": {
      "text/plain": [
       "{'s2e': 0.0006, 'e2i': 2.3148148148148147e-05, 'i2r': 1.6534391534391536e-05}"
      ]
     },
     "execution_count": 12,
     "metadata": {},
     "output_type": "execute_result"
    }
   ],
   "source": [
    "params.covid_estimate"
   ]
  },
  {
   "cell_type": "code",
   "execution_count": 13,
   "metadata": {},
   "outputs": [],
   "source": [
    "ms = defaultdict(list)"
   ]
  },
  {
   "cell_type": "code",
   "execution_count": 24,
   "metadata": {},
   "outputs": [
    {
     "data": {
      "text/plain": [
       "310"
      ]
     },
     "execution_count": 24,
     "metadata": {},
     "output_type": "execute_result"
    }
   ],
   "source": [
    "tnets[0].Nnodes"
   ]
  },
  {
   "cell_type": "code",
   "execution_count": 25,
   "metadata": {},
   "outputs": [
    {
     "data": {
      "text/plain": [
       "784"
      ]
     },
     "execution_count": 25,
     "metadata": {},
     "output_type": "execute_result"
    }
   ],
   "source": [
    "tnets[1].Nnodes"
   ]
  },
  {
   "cell_type": "code",
   "execution_count": 14,
   "metadata": {},
   "outputs": [],
   "source": [
    "strats = [\n",
    "    sampling.friendHighDegClose,\n",
    "    sampling.friendClose,\n",
    "]\n",
    "\n",
    "def start_worker(S2E, tneti):\n",
    "    tnet = tnets[tneti]\n",
    "    global ms\n",
    "    \n",
    "    print('loading network...')\n",
    "    \n",
    "    p = dict(params.covid_estimate)\n",
    "    p['s2e'] = params.daily_to_momentary(tnet, S2E)\n",
    "    sim = simulations.SEIR_daily(tnet, p)\n",
    "\n",
    "    for VACC_P in [0.05, 0.10, 0.20]:\n",
    "        N_T_VACC = int(tnet.Nnodes * VACC_P)\n",
    "\n",
    "        for i, strat in enumerate(strats):\n",
    "            NAME = strat.__name__#+(\"_%s\" % i)\n",
    "            NAME = (tneti, S2E, VACC_P, NAME)\n",
    "            print(\"Starting on \", NAME)\n",
    "\n",
    "            for i in range( 200 - len(ms[NAME]) ):\n",
    "                if (i+1)%20 == 0:\n",
    "                    print(\"simulation %s\" % (i+1))\n",
    "\n",
    "                sim.init_attributes()\n",
    "\n",
    "                to_vacc = strat(sim, vaccinateN=N_T_VACC)\n",
    "\n",
    "                for x in to_vacc:\n",
    "                    sim.state_change(x, 'vacc')\n",
    "\n",
    "                for who in sample([x for x in range(tnet.Nnodes) if not sim.vacc[x]], 20):\n",
    "                    sim.state_change(who, 'inf')\n",
    "\n",
    "                sim.run(100)\n",
    "                ms[NAME].append( sim.meas )"
   ]
  },
  {
   "cell_type": "code",
   "execution_count": 15,
   "metadata": {},
   "outputs": [],
   "source": [
    "from threading import Thread"
   ]
  },
  {
   "cell_type": "code",
   "execution_count": 16,
   "metadata": {},
   "outputs": [],
   "source": [
    "def _cart_prod(L1, L2):\n",
    "    if L1 == []:\n",
    "        return L2\n",
    "    if L2 == []:\n",
    "        return L1\n",
    "    \n",
    "    for x in L1:\n",
    "        for y in L2:\n",
    "            if type(x) != list:\n",
    "                x = [x]\n",
    "            if type(y) != list:\n",
    "                y = [y]\n",
    "            \n",
    "            yield x+y\n",
    "                \n",
    "def cart_prod(L1, L2):\n",
    "    return list(_cart_prod(L1,L2))\n",
    "def cp(L1, L2):\n",
    "    return cart_prod(L1, L2)\n",
    "def cp(*args):\n",
    "    res = args[0]\n",
    "    for a in args[1:]:\n",
    "        res = list(_cart_prod(res,a))\n",
    "    return res"
   ]
  },
  {
   "cell_type": "code",
   "execution_count": 17,
   "metadata": {},
   "outputs": [],
   "source": [
    "argsx = cp(\n",
    "    [0.05, 0.1, 0.2], # S2Es\n",
    "    [0,1]\n",
    ")"
   ]
  },
  {
   "cell_type": "code",
   "execution_count": 18,
   "metadata": {},
   "outputs": [
    {
     "name": "stdout",
     "output_type": "stream",
     "text": [
      "loading network...\n",
      "loading network...\n",
      "loading network...\n",
      "loading network...\n",
      "loading network...\n",
      "loading network...\n",
      "Starting on  (0, 0.1, 0.05, 'friendHighDegClose')\n",
      "Starting on  (0, 0.2, 0.05, 'friendHighDegClose')\n",
      "Starting on  (0, 0.05, 0.05, 'friendHighDegClose')\n",
      "simulation 20\n",
      "simulation 20\n",
      "simulation 20\n",
      "simulation 40\n",
      "simulation 40\n",
      "simulation 40\n",
      "Starting on  (1, 0.1, 0.05, 'friendHighDegClose')\n",
      "Starting on  (1, 0.2, 0.05, 'friendHighDegClose')\n",
      "simulation 60\n",
      "simulation 60\n",
      "simulation 60\n",
      "simulation 80\n",
      "Starting on  (1, 0.05, 0.05, 'friendHighDegClose')\n",
      "simulation 100\n",
      "simulation 80\n",
      "simulation 80\n",
      "simulation 120\n",
      "simulation 100\n",
      "simulation 100\n",
      "simulation 140\n",
      "simulation 160\n",
      "simulation 120\n",
      "simulation 120\n",
      "simulation 180\n",
      "simulation 200\n",
      "Starting on  (0, 0.2, 0.05, 'friendClose')\n",
      "simulation 140\n",
      "simulation 140\n",
      "simulation 20\n",
      "simulation 160\n",
      "simulation 160\n",
      "simulation 40\n",
      "simulation 60\n",
      "simulation 180simulation 180\n",
      "\n",
      "simulation 80\n",
      "simulation 100\n",
      "simulation 200\n",
      "Starting on simulation 200 \n",
      "(0, 0.05, 0.05, 'friendClose')\n",
      "Starting on  (0, 0.1, 0.05, 'friendClose')\n",
      "simulation 120\n",
      "simulation 20\n",
      "simulation 20\n",
      "simulation 140simulation 20\n",
      "\n",
      "simulation 20\n",
      "simulation 160\n",
      "simulation 40\n",
      "simulation 40\n",
      "simulation 180\n",
      "simulation 60simulation 200\n",
      "\n",
      "Starting on  (0, 0.2, 0.1, 'friendHighDegClose')\n",
      "simulation 60\n",
      "simulation 20\n",
      "simulation 80\n",
      "simulation 80\n",
      "simulation 40\n",
      "simulation 60\n",
      "simulation 100\n",
      "simulation 100\n",
      "simulation 80\n",
      "simulation 120\n",
      "simulation 100\n",
      "simulation 120\n",
      "simulation 120\n",
      "simulation 20\n",
      "simulation 140\n",
      "simulation 140\n",
      "simulation 140\n",
      "simulation 160\n",
      "simulation 160\n",
      "simulation 160\n",
      "simulation 180\n",
      "simulation 180\n",
      "simulation 200\n",
      "Starting on  (0, 0.2, 0.1, 'friendClose')\n",
      "simulation 180\n",
      "simulation 20\n",
      "simulation 200\n",
      "Starting on  (0, 0.05, 0.1, 'friendHighDegClose')\n",
      "simulation 40\n",
      "simulation 40\n",
      "simulation 200\n",
      "Starting on  (0, 0.1, 0.1, 'friendHighDegClose')\n",
      "simulation 40\n",
      "simulation 60\n",
      "simulation 20\n",
      "simulation 80\n",
      "simulation 20\n",
      "simulation 40\n",
      "simulation 100\n",
      "simulation 40\n",
      "simulation 120\n",
      "simulation 60\n",
      "simulation 140\n",
      "simulation 60\n",
      "simulation 80\n",
      "simulation 160\n",
      "simulation 180\n",
      "simulation 80\n",
      "simulation 100\n",
      "simulation 200\n",
      "Starting on  (0, 0.2, 0.2, 'friendHighDegClose')\n",
      "simulation 100\n",
      "simulation 20\n",
      "simulation 120\n",
      "simulation 40\n",
      "simulation 120\n",
      "simulation 60\n",
      "simulation 140\n",
      "simulation 80\n",
      "simulation 140\n",
      "simulation 160\n",
      "simulation 100\n",
      "simulation 120\n",
      "simulation 160\n",
      "simulation 180\n",
      "simulation 140\n",
      "simulation 60\n",
      "simulation 160\n",
      "simulation 180\n",
      "simulation 180simulation 200\n",
      "\n",
      "Starting on  (0, 0.05, 0.1, 'friendClose')\n",
      "simulation 60\n",
      "simulation 200\n",
      "Starting on  (0, 0.2, 0.2, 'friendClose')\n",
      "simulation 200\n",
      "Starting on  (0, 0.1, 0.1, 'friendClose')\n",
      "simulation 40\n",
      "simulation 20\n",
      "simulation 20\n",
      "simulation 40\n",
      "simulation 20\n",
      "simulation 40\n",
      "simulation 60\n",
      "simulation 80\n",
      "simulation 40\n",
      "simulation 60\n",
      "simulation 100\n",
      "simulation 60\n",
      "simulation 120\n",
      "simulation 80\n",
      "simulation 140\n",
      "simulation 80\n",
      "simulation 160\n",
      "simulation 100\n",
      "simulation 180\n",
      "simulation 100\n",
      "simulation 120\n",
      "simulation 200\n",
      "simulation 120\n",
      "simulation 140\n",
      "simulation 140\n",
      "simulation 160\n",
      "simulation 80\n",
      "simulation 160\n",
      "simulation 180\n",
      "simulation 80\n",
      "simulation 180\n",
      "simulation 200\n",
      "Starting on  (0, 0.05, 0.2, 'friendHighDegClose')\n",
      "simulation 200\n",
      "Starting on  (0, 0.1, 0.2, 'friendHighDegClose')\n",
      "simulation 20\n",
      "simulation 20\n",
      "simulation 40\n",
      "simulation 40\n",
      "simulation 60\n",
      "simulation 60\n",
      "simulation 80\n",
      "simulation 80\n",
      "simulation 100\n",
      "simulation 60\n",
      "simulation 100\n",
      "simulation 120\n",
      "simulation 100\n",
      "simulation 120\n",
      "simulation 140\n",
      "simulation 140\n",
      "simulation 160\n",
      "simulation 100\n",
      "simulation 160\n",
      "simulation 180\n",
      "simulation 180\n",
      "simulation 200\n",
      "Starting on  (0, 0.05, 0.2, 'friendClose')\n",
      "simulation 200\n",
      "Starting on  (0, 0.1, 0.2, 'friendClose')\n",
      "simulation 20\n",
      "simulation 20\n",
      "simulation 40\n",
      "simulation 40\n",
      "simulation 60\n",
      "simulation 60\n",
      "simulation 80\n",
      "simulation 80\n",
      "simulation 120\n",
      "simulation 100\n",
      "simulation 100\n",
      "simulation 120\n",
      "simulation 120\n",
      "simulation 120\n",
      "simulation 140\n",
      "simulation 140\n",
      "simulation 160\n",
      "simulation 160\n",
      "simulation 180\n",
      "simulation 180\n",
      "simulation 200\n",
      "simulation 200\n",
      "simulation 80\n",
      "simulation 140\n",
      "simulation 140\n",
      "simulation 100\n",
      "simulation 160\n",
      "simulation 160\n",
      "simulation 180\n",
      "simulation 120\n",
      "simulation 180\n",
      "simulation 200\n",
      "Starting on  (1, 0.2, 0.05, 'friendClose')\n",
      "simulation 140\n",
      "simulation 200\n",
      "Starting on  (1, 0.1, 0.05, 'friendClose')\n",
      "simulation 20\n",
      "simulation 160\n",
      "simulation 20\n",
      "simulation 40\n",
      "simulation 40\n",
      "simulation 180\n",
      "simulation 60\n",
      "simulation 60\n",
      "simulation 200\n",
      "Starting on  (1, 0.05, 0.05, 'friendClose')\n",
      "simulation 80\n",
      "simulation 80\n",
      "simulation 20\n",
      "simulation 100\n",
      "simulation 100\n",
      "simulation 40\n",
      "simulation 120\n",
      "simulation 120\n",
      "simulation 60\n",
      "simulation 140\n",
      "simulation 140\n",
      "simulation 80\n",
      "simulation 160\n",
      "simulation 160\n",
      "simulation 180\n",
      "simulation 100\n",
      "simulation 180\n",
      "simulation 200\n",
      "Starting on  (1, 0.2, 0.1, 'friendHighDegClose')\n",
      "simulation 120\n",
      "simulation 200\n",
      "Starting on  (1, 0.1, 0.1, 'friendHighDegClose')\n",
      "simulation 20\n",
      "simulation 140\n",
      "simulation 20\n",
      "simulation 40\n",
      "simulation 160\n",
      "simulation 40\n",
      "simulation 60\n",
      "simulation 180\n",
      "simulation 60\n",
      "simulation 80\n",
      "simulation 200\n",
      "Starting on  (1, 0.05, 0.1, 'friendHighDegClose')\n",
      "simulation 80\n",
      "simulation 100\n",
      "simulation 20\n",
      "simulation 100\n",
      "simulation 120\n",
      "simulation 40\n",
      "simulation 120\n",
      "simulation 140\n",
      "simulation 60\n",
      "simulation 140\n",
      "simulation 160\n",
      "simulation 180\n",
      "simulation 160\n",
      "simulation 80\n",
      "simulation 200\n",
      "simulation 180\n",
      "Starting on  (1, 0.2, 0.1, 'friendClose')\n",
      "simulation 100\n",
      "simulation 20\n",
      "simulation 200\n",
      "Starting on  (1, 0.1, 0.1, 'friendClose')\n",
      "simulation 120\n",
      "simulation 40\n",
      "simulation 20\n",
      "simulation 140\n",
      "simulation 60\n",
      "simulation 40\n",
      "simulation 160\n",
      "simulation 80\n",
      "simulation 60\n",
      "simulation 180\n",
      "simulation 100\n",
      "simulation 80\n",
      "simulation 200\n",
      "Starting on  (1, 0.05, 0.1, 'friendClose')\n",
      "simulation 120\n",
      "simulation 100\n",
      "simulation 20\n",
      "simulation 140\n",
      "simulation 120\n",
      "simulation 40\n",
      "simulation 160\n",
      "simulation 140\n",
      "simulation 60\n",
      "simulation 180\n",
      "simulation 160\n",
      "simulation 80\n",
      "simulation 200\n",
      "Starting on  (1, 0.2, 0.2, 'friendHighDegClose')\n",
      "simulation 180\n",
      "simulation 20\n",
      "simulation 100\n",
      "simulation 200\n",
      "Starting on  (1, 0.1, 0.2, 'friendHighDegClose')\n",
      "simulation 40\n",
      "simulation 120\n",
      "simulation 20\n",
      "simulation 60\n",
      "simulation 40\n",
      "simulation 140\n",
      "simulation 80\n",
      "simulation 60\n",
      "simulation 160\n",
      "simulation 100\n",
      "simulation 80\n",
      "simulation 180\n",
      "simulation 120\n",
      "simulation 100\n",
      "simulation 200\n",
      "simulation 140\n",
      "Starting on  (1, 0.05, 0.2, 'friendHighDegClose')\n",
      "simulation 120\n",
      "simulation 20\n",
      "simulation 160\n",
      "simulation 140\n",
      "simulation 180\n",
      "simulation 40\n",
      "simulation 160\n",
      "simulation 200\n",
      "Starting on  (1, 0.2, 0.2, 'friendClose')\n",
      "simulation 60\n",
      "simulation 180\n",
      "simulation 20\n",
      "simulation 200\n",
      "simulation 80\n",
      "Starting on  (1, 0.1, 0.2, 'friendClose')\n",
      "simulation 40\n",
      "simulation 20\n",
      "simulation 100\n",
      "simulation 40\n",
      "simulation 60\n",
      "simulation 120\n",
      "simulation 60\n",
      "simulation 80\n",
      "simulation 140\n",
      "simulation 80\n",
      "simulation 100\n",
      "simulation 160\n",
      "simulation 100\n",
      "simulation 120\n",
      "simulation 180\n",
      "simulation 120\n",
      "simulation 140\n",
      "simulation 200\n",
      "Starting on  (1, 0.05, 0.2, 'friendClose')\n",
      "simulation 140\n",
      "simulation 160\n",
      "simulation 20\n",
      "simulation 160\n",
      "simulation 180\n",
      "simulation 40\n",
      "simulation 180\n",
      "simulation 200\n",
      "simulation 60\n",
      "simulation 200\n",
      "simulation 80\n",
      "simulation 100\n",
      "simulation 120\n",
      "simulation 140\n",
      "simulation 160\n",
      "simulation 180\n",
      "simulation 200\n"
     ]
    }
   ],
   "source": [
    "threads = []\n",
    "for S2E, tneti in argsx:\n",
    "    t = Thread(target=start_worker, args=(S2E, tneti))\n",
    "    t.start()\n",
    "    threads.append(t)\n",
    "        \n",
    "for t in threads:\n",
    "    t.join()"
   ]
  },
  {
   "cell_type": "code",
   "execution_count": 22,
   "metadata": {},
   "outputs": [
    {
     "data": {
      "text/plain": [
       "36"
      ]
     },
     "execution_count": 22,
     "metadata": {},
     "output_type": "execute_result"
    }
   ],
   "source": [
    "len(ms)"
   ]
  },
  {
   "cell_type": "code",
   "execution_count": 19,
   "metadata": {},
   "outputs": [
    {
     "data": {
      "text/plain": [
       "200"
      ]
     },
     "execution_count": 19,
     "metadata": {},
     "output_type": "execute_result"
    }
   ],
   "source": [
    "len(ms[list(ms.keys())[0]])"
   ]
  },
  {
   "cell_type": "code",
   "execution_count": 21,
   "metadata": {},
   "outputs": [],
   "source": [
    "if True:\n",
    "    import pickle\n",
    "    with open('G:\\\\My Drive\\\\2020 ORGANISATION\\\\0. right now right now\\\\31 disease contact spread\\\\0.1 analysis\\\\full_run_2.pickle', 'wb') as outf:\n",
    "        pickle.dump( ms, outf )"
   ]
  },
  {
   "cell_type": "code",
   "execution_count": null,
   "metadata": {},
   "outputs": [],
   "source": []
  }
 ],
 "metadata": {
  "kernelspec": {
   "display_name": "Python 3 (ipykernel)",
   "language": "python",
   "name": "python3"
  },
  "language_info": {
   "codemirror_mode": {
    "name": "ipython",
    "version": 3
   },
   "file_extension": ".py",
   "mimetype": "text/x-python",
   "name": "python",
   "nbconvert_exporter": "python",
   "pygments_lexer": "ipython3",
   "version": "3.9.0"
  }
 },
 "nbformat": 4,
 "nbformat_minor": 4
}
