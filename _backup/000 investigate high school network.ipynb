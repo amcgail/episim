{
 "cells": [
  {
   "cell_type": "code",
   "execution_count": 1,
   "metadata": {},
   "outputs": [],
   "source": [
    "import sys; sys.path.append(\"..\")\n",
    "from epi_model import *"
   ]
  },
  {
   "cell_type": "code",
   "execution_count": 2,
   "metadata": {},
   "outputs": [],
   "source": [
    "a1 = temporalNetwork.load('high school')"
   ]
  },
  {
   "cell_type": "code",
   "execution_count": 33,
   "metadata": {},
   "outputs": [
    {
     "data": {
      "text/plain": [
       "[-1260, 3060, 7380, 11700, 16020, 20340]"
      ]
     },
     "execution_count": 33,
     "metadata": {},
     "output_type": "execute_result"
    }
   ],
   "source": [
    "a1.day_breaks"
   ]
  },
  {
   "cell_type": "code",
   "execution_count": 36,
   "metadata": {},
   "outputs": [
    {
     "data": {
      "text/plain": [
       "[(5218, 443, 637),\n",
       " (5218, 637, 443),\n",
       " (5218, 200, 998),\n",
       " (5218, 998, 200),\n",
       " (5218, 205, 894),\n",
       " (5218, 894, 205),\n",
       " (5218, 219, 605),\n",
       " (5218, 605, 219),\n",
       " (5218, 488, 492),\n",
       " (5218, 492, 488)]"
      ]
     },
     "execution_count": 36,
     "metadata": {},
     "output_type": "execute_result"
    }
   ],
   "source": [
    "[(t,u,v) for (t,u,v) in a1.edgelist if t <= 7380][-10:]"
   ]
  },
  {
   "cell_type": "code",
   "execution_count": 3,
   "metadata": {},
   "outputs": [],
   "source": [
    "a2 = a1.range(0,1)\n",
    "a3 = a1.range(1,2)\n",
    "a4 = a1.range(2,3)"
   ]
  },
  {
   "cell_type": "code",
   "execution_count": 29,
   "metadata": {},
   "outputs": [],
   "source": [
    "a5 = a1.range(3,4)\n",
    "a6 = a1.range(4,5)"
   ]
  },
  {
   "cell_type": "code",
   "execution_count": 31,
   "metadata": {},
   "outputs": [
    {
     "data": {
      "text/plain": [
       "377016"
      ]
     },
     "execution_count": 31,
     "metadata": {},
     "output_type": "execute_result"
    }
   ],
   "source": [
    "len(a1.edgelist)"
   ]
  },
  {
   "cell_type": "code",
   "execution_count": 32,
   "metadata": {},
   "outputs": [
    {
     "data": {
      "text/plain": [
       "377016"
      ]
     },
     "execution_count": 32,
     "metadata": {},
     "output_type": "execute_result"
    }
   ],
   "source": [
    "sum( [\n",
    "    len(xx.edgelist)\n",
    "    for xx in [a2,a3,a4,a5,a6]\n",
    "] )"
   ]
  },
  {
   "cell_type": "code",
   "execution_count": null,
   "metadata": {},
   "outputs": [],
   "source": [
    "#hmm everything is looking good now?"
   ]
  },
  {
   "cell_type": "code",
   "execution_count": 4,
   "metadata": {},
   "outputs": [
    {
     "data": {
      "text/plain": [
       "array([[  0, 454, 640],\n",
       "       [  0, 640, 454],\n",
       "       [  0,   1, 939],\n",
       "       [  0, 939,   1],\n",
       "       [  0, 185, 258]])"
      ]
     },
     "execution_count": 4,
     "metadata": {},
     "output_type": "execute_result"
    }
   ],
   "source": [
    "a1.edgelist[:5]"
   ]
  },
  {
   "cell_type": "code",
   "execution_count": 27,
   "metadata": {},
   "outputs": [
    {
     "data": {
      "text/plain": [
       "array([[  0, 640, 874],\n",
       "       [  0, 874, 640],\n",
       "       [  0, 376, 513],\n",
       "       [  0, 513, 376],\n",
       "       [  0,  20, 513]])"
      ]
     },
     "execution_count": 27,
     "metadata": {},
     "output_type": "execute_result"
    }
   ],
   "source": [
    "a3.edgelist[:5]"
   ]
  },
  {
   "cell_type": "code",
   "execution_count": 11,
   "metadata": {},
   "outputs": [
    {
     "data": {
      "text/plain": [
       "[-1260, 3060, 7380, 11700, 16020, 20340]"
      ]
     },
     "execution_count": 11,
     "metadata": {},
     "output_type": "execute_result"
    }
   ],
   "source": [
    "a1.day_breaks"
   ]
  },
  {
   "cell_type": "code",
   "execution_count": 14,
   "metadata": {},
   "outputs": [
    {
     "data": {
      "text/plain": [
       "{0: 0, 1: 3600, 2: 7920, 3: 12240, 4: 16560}"
      ]
     },
     "execution_count": 14,
     "metadata": {},
     "output_type": "execute_result"
    }
   ],
   "source": [
    "a1.mindayT"
   ]
  },
  {
   "cell_type": "code",
   "execution_count": 23,
   "metadata": {},
   "outputs": [
    {
     "data": {
      "text/plain": [
       "0.0"
      ]
     },
     "execution_count": 23,
     "metadata": {},
     "output_type": "execute_result"
    }
   ],
   "source": [
    "a2.time_start - a1.time_start"
   ]
  },
  {
   "cell_type": "code",
   "execution_count": 17,
   "metadata": {},
   "outputs": [
    {
     "data": {
      "text/plain": [
       "1385985600.0"
      ]
     },
     "execution_count": 17,
     "metadata": {},
     "output_type": "execute_result"
    }
   ],
   "source": [
    "a2.time_start"
   ]
  },
  {
   "cell_type": "code",
   "execution_count": 15,
   "metadata": {},
   "outputs": [
    {
     "data": {
      "text/plain": [
       "<matplotlib.collections.LineCollection at 0x1d7ea6cb208>"
      ]
     },
     "execution_count": 15,
     "metadata": {},
     "output_type": "execute_result"
    },
    {
     "data": {
      "image/png": "[encoded data removed]",
      "text/plain": [
       "<Figure size 432x288 with 1 Axes>"
      ]
     },
     "metadata": {
      "needs_background": "light"
     },
     "output_type": "display_data"
    }
   ],
   "source": [
    "plt.hist([t for t,u,v in a1.edgelist], bins=100);\n",
    "#plt.vlines(3673, 0, 25000)\n",
    "for db in a1.day_breaks:\n",
    "    plt.vlines(db, 0, 25000)\n",
    "    \n",
    "plt.vlines(3600, 0, 25000)\n",
    "#plt.xlim(2500,7500)"
   ]
  },
  {
   "cell_type": "code",
   "execution_count": 28,
   "metadata": {},
   "outputs": [
    {
     "data": {
      "text/plain": [
       "[array([146, 640, 874]),\n",
       " array([452, 640, 874]),\n",
       " array([454, 640, 874]),\n",
       " array([460, 640, 874]),\n",
       " array([472, 640, 874]),\n",
       " array([485, 640, 874]),\n",
       " array([486, 640, 874]),\n",
       " array([487, 640, 874]),\n",
       " array([488, 640, 874]),\n",
       " array([497, 640, 874]),\n",
       " array([522, 640, 874]),\n",
       " array([530, 640, 874]),\n",
       " array([579, 640, 874]),\n",
       " array([590, 640, 874]),\n",
       " array([591, 640, 874]),\n",
       " array([607, 640, 874]),\n",
       " array([649, 640, 874]),\n",
       " array([650, 640, 874]),\n",
       " array([3600,  640,  874]),\n",
       " array([8086,  640,  874]),\n",
       " array([8087,  640,  874]),\n",
       " array([8092,  640,  874]),\n",
       " array([8107,  640,  874]),\n",
       " array([8112,  640,  874]),\n",
       " array([8113,  640,  874]),\n",
       " array([8117,  640,  874]),\n",
       " array([8122,  640,  874]),\n",
       " array([8124,  640,  874]),\n",
       " array([8125,  640,  874]),\n",
       " array([8136,  640,  874]),\n",
       " array([8138,  640,  874]),\n",
       " array([8217,  640,  874]),\n",
       " array([8248,  640,  874]),\n",
       " array([8249,  640,  874]),\n",
       " array([8250,  640,  874]),\n",
       " array([8276,  640,  874]),\n",
       " array([8284,  640,  874]),\n",
       " array([8327,  640,  874])]"
      ]
     },
     "execution_count": 28,
     "metadata": {},
     "output_type": "execute_result"
    }
   ],
   "source": [
    "[x for x in a1.edgelist if x[1] == 640 and x[2] == 874]"
   ]
  },
  {
   "cell_type": "code",
   "execution_count": 5,
   "metadata": {},
   "outputs": [
    {
     "data": {
      "text/plain": [
       "array([[  0, 153, 201],\n",
       "       [  0, 201, 153],\n",
       "       [  0,   0, 263],\n",
       "       [  0, 263,   0],\n",
       "       [  0,  63,  97]])"
      ]
     },
     "execution_count": 5,
     "metadata": {},
     "output_type": "execute_result"
    }
   ],
   "source": [
    "a2.edgelist[:5]"
   ]
  },
  {
   "cell_type": "code",
   "execution_count": null,
   "metadata": {},
   "outputs": [],
   "source": []
  }
 ],
 "metadata": {
  "kernelspec": {
   "display_name": "Python 3",
   "language": "python",
   "name": "python3"
  },
  "language_info": {
   "codemirror_mode": {
    "name": "ipython",
    "version": 3
   },
   "file_extension": ".py",
   "mimetype": "text/x-python",
   "name": "python",
   "nbconvert_exporter": "python",
   "pygments_lexer": "ipython3",
   "version": "3.7.5"
  }
 },
 "nbformat": 4,
 "nbformat_minor": 4
}
