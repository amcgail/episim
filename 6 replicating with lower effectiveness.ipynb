{
 "cells": [
  {
   "cell_type": "code",
   "execution_count": 1,
   "id": "0ec1de6e-ccb1-4f4f-a663-895d78e92698",
   "metadata": {},
   "outputs": [],
   "source": [
    "from simulation_manager import *"
   ]
  },
  {
   "cell_type": "code",
   "execution_count": 2,
   "id": "6e893074-24e5-4440-a712-40c89ebd29ab",
   "metadata": {},
   "outputs": [],
   "source": [
    "from epi_model import *"
   ]
  },
  {
   "cell_type": "code",
   "execution_count": 3,
   "id": "3a9c5303-ef33-49f7-beaf-0f5cb7d43a82",
   "metadata": {},
   "outputs": [],
   "source": [
    "from simulation_helper import *"
   ]
  },
  {
   "cell_type": "code",
   "execution_count": 4,
   "id": "a81ab0fe-b7fb-409c-9bac-07c0bfb94236",
   "metadata": {},
   "outputs": [],
   "source": [
    "argset = iter_args({\n",
    "    'strat': {x.__name__: x for x in strats},\n",
    "    'R0_mean': 2.5,\n",
    "    'VACCINATE_P': 0.2,\n",
    "    'INITIAL_INFECT': 20,\n",
    "    'vaccinate_alpha': [0.5 - x*0.5 for x in [0.75, 0.85, 0.9, 0.95, 1]]\n",
    "})"
   ]
  },
  {
   "cell_type": "markdown",
   "id": "d586dab5-3fc9-4163-b0ca-cffecc19fa16",
   "metadata": {},
   "source": [
    "# high school 1"
   ]
  },
  {
   "cell_type": "code",
   "execution_count": 12,
   "id": "23b92812-d0b7-4b5d-8de3-4388ad5d0427",
   "metadata": {},
   "outputs": [],
   "source": [
    "manager = simulation_manager(generate_network=False)"
   ]
  },
  {
   "cell_type": "code",
   "execution_count": 13,
   "id": "a9235b61-4940-4255-97e2-ddbffb1d2825",
   "metadata": {},
   "outputs": [],
   "source": [
    "#manager.load_net('high school 1')\n",
    "manager.load_models('HS1-alpha')"
   ]
  },
  {
   "cell_type": "code",
   "execution_count": 14,
   "id": "556bc718-a305-4ca0-8c3b-8c074981363c",
   "metadata": {},
   "outputs": [
    {
     "name": "stdout",
     "output_type": "stream",
     "text": [
      "starting at 550\n",
      "Checkpointing after 550/1000 simulations\n",
      "Checkpointing after 600/1000 simulations\n",
      "Checkpointing after 650/1000 simulations\n",
      "Checkpointing after 700/1000 simulations\n",
      "Checkpointing after 750/1000 simulations\n",
      "Checkpointing after 800/1000 simulations\n",
      "Checkpointing after 850/1000 simulations\n",
      "Checkpointing after 900/1000 simulations\n",
      "Checkpointing after 950/1000 simulations\n",
      "Checkpointing after 1000/1000 simulations\n"
     ]
    }
   ],
   "source": [
    "manager.run_and_checkpoint(\n",
    "    argset, \n",
    "    N_PER=1000, \n",
    "    interval=50, \n",
    "    verbose=False, \n",
    "    dump_name='HS1-alpha'\n",
    ")"
   ]
  },
  {
   "cell_type": "markdown",
   "id": "13e970f8-ac4c-42af-8018-72e98064ebd7",
   "metadata": {},
   "source": [
    "# high school 2"
   ]
  },
  {
   "cell_type": "code",
   "execution_count": 5,
   "id": "0adf5330-50bd-41f4-a79e-970da9d2601d",
   "metadata": {},
   "outputs": [],
   "source": [
    "manager = simulation_manager(generate_network=False)"
   ]
  },
  {
   "cell_type": "code",
   "execution_count": 6,
   "id": "6d4a5c2d-4dc3-440f-a63a-1a47560fa48d",
   "metadata": {},
   "outputs": [],
   "source": [
    "#manager.load_net('high school 2')\n",
    "manager.load_models('HS2-alpha')"
   ]
  },
  {
   "cell_type": "code",
   "execution_count": 7,
   "id": "31ce6110-d2d3-471e-887e-2f01e95763db",
   "metadata": {},
   "outputs": [
    {
     "name": "stdout",
     "output_type": "stream",
     "text": [
      "starting at 1000\n"
     ]
    },
    {
     "name": "stderr",
     "output_type": "stream",
     "text": [
      "/Users/alecmcgail/envs/epi/lib/python3.8/site-packages/networkx/linalg/graphmatrix.py:187: FutureWarning: adjacency_matrix will return a scipy.sparse array instead of a matrix in Networkx 3.0.\n",
      "  return adjacency_matrix(G, nodelist, dtype, weight)\n"
     ]
    },
    {
     "name": "stdout",
     "output_type": "stream",
     "text": [
      "Checkpointing after 1000/1000 simulations\n"
     ]
    }
   ],
   "source": [
    "manager.run_and_checkpoint(\n",
    "    argset, \n",
    "    N_PER=1000, \n",
    "    interval=50, \n",
    "    verbose=False, \n",
    "    dump_name='HS2-alpha'\n",
    ")"
   ]
  },
  {
   "cell_type": "code",
   "execution_count": 8,
   "id": "aedd46b9-4d77-47c1-9499-1162de086f49",
   "metadata": {},
   "outputs": [],
   "source": [
    "manager.dump_models('HS2-alpha')"
   ]
  },
  {
   "cell_type": "code",
   "execution_count": null,
   "id": "be439713-9c3d-4fb4-a18b-bf2b326dc373",
   "metadata": {},
   "outputs": [],
   "source": []
  }
 ],
 "metadata": {
  "kernelspec": {
   "display_name": "Python 3 (ipykernel)",
   "language": "python",
   "name": "python3"
  },
  "language_info": {
   "codemirror_mode": {
    "name": "ipython",
    "version": 3
   },
   "file_extension": ".py",
   "mimetype": "text/x-python",
   "name": "python",
   "nbconvert_exporter": "python",
   "pygments_lexer": "ipython3",
   "version": "3.8.9"
  }
 },
 "nbformat": 4,
 "nbformat_minor": 5
}
