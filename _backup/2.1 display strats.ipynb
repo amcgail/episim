{
 "cells": [
  {
   "cell_type": "code",
   "execution_count": 2,
   "metadata": {},
   "outputs": [],
   "source": [
    "import sys; sys.path.append(\"..\")\n",
    "from epi_model import *"
   ]
  },
  {
   "cell_type": "code",
   "execution_count": 3,
   "metadata": {},
   "outputs": [],
   "source": [
    "import pickle\n",
    "with open('2.1a full_run.pickle', 'rb') as inf:\n",
    "    ms = pickle.load( inf )"
   ]
  },
  {
   "cell_type": "code",
   "execution_count": 4,
   "metadata": {},
   "outputs": [],
   "source": [
    "strats = [\n",
    "    ('friend', 'nomination (random)'),\n",
    "    ('friendHighDeg', 'nomination (degree)'),\n",
    "    ('nominate_local_betweenness', 'nomination (local betweenness)'),\n",
    "    ('local_betweenness', 'local betweenness'),\n",
    "    ('targeted', 'degree'),\n",
    "    ('rand', 'random'),\n",
    "    ('none', 'no intervention'),\n",
    "]"
   ]
  },
  {
   "cell_type": "code",
   "execution_count": 5,
   "metadata": {},
   "outputs": [],
   "source": [
    "statsd = dict(strats)"
   ]
  },
  {
   "cell_type": "code",
   "execution_count": 6,
   "metadata": {},
   "outputs": [],
   "source": [
    "K, KN = list(zip(*strats))"
   ]
  },
  {
   "cell_type": "code",
   "execution_count": 7,
   "metadata": {},
   "outputs": [],
   "source": [
    "ms_d = {}"
   ]
  },
  {
   "cell_type": "code",
   "execution_count": 8,
   "metadata": {},
   "outputs": [],
   "source": [
    "rows = []\n",
    "\n",
    "for (tnet, s2e, n_vacc, name), m in sorted(ms.items()):\n",
    "    xs = [x[-1] for x in m]\n",
    "    \n",
    "    mn = np.mean(xs)\n",
    "    sd = np.std(xs)\n",
    "    \n",
    "    mx = max([x[-1] for x in m])\n",
    "    \n",
    "    ms_d[ (tnet, s2e, n_vacc, name) ] = [mn,mx,sd]\n",
    "    \n",
    "    if name not in statsd:\n",
    "        continue\n",
    "    \n",
    "    rows.append([\n",
    "        tnet, s2e, n_vacc, statsd[name],\n",
    "        f\"{mn:0.1f} +/- {1.96 * sd / np.sqrt(len(xs)):0.1f}\",mx\n",
    "    ])"
   ]
  },
  {
   "cell_type": "code",
   "execution_count": 9,
   "metadata": {},
   "outputs": [],
   "source": [
    "from tabulate import tabulate"
   ]
  },
  {
   "cell_type": "code",
   "execution_count": 10,
   "metadata": {},
   "outputs": [
    {
     "data": {
      "text/html": [
       "<table>\n",
       "<tbody>\n",
       "<tr><td style=\"text-align: right;\">0</td><td style=\"text-align: right;\">0.05</td><td style=\"text-align: right;\">0.05</td><td>nomination (random)           </td><td>40.3 +/- 1.0  </td><td style=\"text-align: right;\"> 71</td></tr>\n",
       "<tr><td style=\"text-align: right;\">0</td><td style=\"text-align: right;\">0.05</td><td style=\"text-align: right;\">0.05</td><td>nomination (degree)           </td><td>38.8 +/- 0.8  </td><td style=\"text-align: right;\"> 65</td></tr>\n",
       "<tr><td style=\"text-align: right;\">0</td><td style=\"text-align: right;\">0.05</td><td style=\"text-align: right;\">0.05</td><td>local betweenness             </td><td>37.9 +/- 0.8  </td><td style=\"text-align: right;\"> 65</td></tr>\n",
       "<tr><td style=\"text-align: right;\">0</td><td style=\"text-align: right;\">0.05</td><td style=\"text-align: right;\">0.05</td><td>nomination (local betweenness)</td><td>38.6 +/- 0.8  </td><td style=\"text-align: right;\"> 72</td></tr>\n",
       "<tr><td style=\"text-align: right;\">0</td><td style=\"text-align: right;\">0.05</td><td style=\"text-align: right;\">0.05</td><td>no intervention               </td><td>43.0 +/- 0.9  </td><td style=\"text-align: right;\"> 73</td></tr>\n",
       "<tr><td style=\"text-align: right;\">0</td><td style=\"text-align: right;\">0.05</td><td style=\"text-align: right;\">0.05</td><td>random                        </td><td>41.1 +/- 0.9  </td><td style=\"text-align: right;\"> 71</td></tr>\n",
       "<tr><td style=\"text-align: right;\">0</td><td style=\"text-align: right;\">0.05</td><td style=\"text-align: right;\">0.05</td><td>degree                        </td><td>37.3 +/- 0.8  </td><td style=\"text-align: right;\"> 65</td></tr>\n",
       "<tr><td style=\"text-align: right;\">0</td><td style=\"text-align: right;\">0.05</td><td style=\"text-align: right;\">0.1 </td><td>nomination (random)           </td><td>38.1 +/- 0.8  </td><td style=\"text-align: right;\"> 72</td></tr>\n",
       "<tr><td style=\"text-align: right;\">0</td><td style=\"text-align: right;\">0.05</td><td style=\"text-align: right;\">0.1 </td><td>nomination (degree)           </td><td>36.4 +/- 0.7  </td><td style=\"text-align: right;\"> 55</td></tr>\n",
       "<tr><td style=\"text-align: right;\">0</td><td style=\"text-align: right;\">0.05</td><td style=\"text-align: right;\">0.1 </td><td>local betweenness             </td><td>34.6 +/- 0.7  </td><td style=\"text-align: right;\"> 54</td></tr>\n",
       "<tr><td style=\"text-align: right;\">0</td><td style=\"text-align: right;\">0.05</td><td style=\"text-align: right;\">0.1 </td><td>nomination (local betweenness)</td><td>35.9 +/- 0.7  </td><td style=\"text-align: right;\"> 55</td></tr>\n",
       "<tr><td style=\"text-align: right;\">0</td><td style=\"text-align: right;\">0.05</td><td style=\"text-align: right;\">0.1 </td><td>no intervention               </td><td>43.1 +/- 1.0  </td><td style=\"text-align: right;\"> 72</td></tr>\n",
       "<tr><td style=\"text-align: right;\">0</td><td style=\"text-align: right;\">0.05</td><td style=\"text-align: right;\">0.1 </td><td>random                        </td><td>38.7 +/- 0.8  </td><td style=\"text-align: right;\"> 63</td></tr>\n",
       "<tr><td style=\"text-align: right;\">0</td><td style=\"text-align: right;\">0.05</td><td style=\"text-align: right;\">0.1 </td><td>degree                        </td><td>34.3 +/- 0.7  </td><td style=\"text-align: right;\"> 54</td></tr>\n",
       "<tr><td style=\"text-align: right;\">0</td><td style=\"text-align: right;\">0.05</td><td style=\"text-align: right;\">0.15</td><td>nomination (random)           </td><td>37.0 +/- 0.8  </td><td style=\"text-align: right;\"> 64</td></tr>\n",
       "<tr><td style=\"text-align: right;\">0</td><td style=\"text-align: right;\">0.05</td><td style=\"text-align: right;\">0.15</td><td>nomination (degree)           </td><td>33.3 +/- 0.6  </td><td style=\"text-align: right;\"> 49</td></tr>\n",
       "<tr><td style=\"text-align: right;\">0</td><td style=\"text-align: right;\">0.05</td><td style=\"text-align: right;\">0.15</td><td>local betweenness             </td><td>32.4 +/- 0.6  </td><td style=\"text-align: right;\"> 51</td></tr>\n",
       "<tr><td style=\"text-align: right;\">0</td><td style=\"text-align: right;\">0.05</td><td style=\"text-align: right;\">0.15</td><td>nomination (local betweenness)</td><td>33.5 +/- 0.6  </td><td style=\"text-align: right;\"> 50</td></tr>\n",
       "<tr><td style=\"text-align: right;\">0</td><td style=\"text-align: right;\">0.05</td><td style=\"text-align: right;\">0.15</td><td>no intervention               </td><td>43.9 +/- 1.0  </td><td style=\"text-align: right;\"> 80</td></tr>\n",
       "<tr><td style=\"text-align: right;\">0</td><td style=\"text-align: right;\">0.05</td><td style=\"text-align: right;\">0.15</td><td>random                        </td><td>38.5 +/- 0.8  </td><td style=\"text-align: right;\"> 59</td></tr>\n",
       "<tr><td style=\"text-align: right;\">0</td><td style=\"text-align: right;\">0.05</td><td style=\"text-align: right;\">0.15</td><td>degree                        </td><td>33.0 +/- 0.6  </td><td style=\"text-align: right;\"> 49</td></tr>\n",
       "<tr><td style=\"text-align: right;\">0</td><td style=\"text-align: right;\">0.05</td><td style=\"text-align: right;\">0.2 </td><td>nomination (random)           </td><td>34.0 +/- 0.6  </td><td style=\"text-align: right;\"> 53</td></tr>\n",
       "<tr><td style=\"text-align: right;\">0</td><td style=\"text-align: right;\">0.05</td><td style=\"text-align: right;\">0.2 </td><td>nomination (degree)           </td><td>30.6 +/- 0.5  </td><td style=\"text-align: right;\"> 48</td></tr>\n",
       "<tr><td style=\"text-align: right;\">0</td><td style=\"text-align: right;\">0.05</td><td style=\"text-align: right;\">0.2 </td><td>local betweenness             </td><td>30.7 +/- 0.6  </td><td style=\"text-align: right;\"> 50</td></tr>\n",
       "<tr><td style=\"text-align: right;\">0</td><td style=\"text-align: right;\">0.05</td><td style=\"text-align: right;\">0.2 </td><td>nomination (local betweenness)</td><td>31.0 +/- 0.5  </td><td style=\"text-align: right;\"> 46</td></tr>\n",
       "<tr><td style=\"text-align: right;\">0</td><td style=\"text-align: right;\">0.05</td><td style=\"text-align: right;\">0.2 </td><td>no intervention               </td><td>42.8 +/- 1.0  </td><td style=\"text-align: right;\"> 77</td></tr>\n",
       "<tr><td style=\"text-align: right;\">0</td><td style=\"text-align: right;\">0.05</td><td style=\"text-align: right;\">0.2 </td><td>random                        </td><td>35.8 +/- 0.7  </td><td style=\"text-align: right;\"> 56</td></tr>\n",
       "<tr><td style=\"text-align: right;\">0</td><td style=\"text-align: right;\">0.05</td><td style=\"text-align: right;\">0.2 </td><td>degree                        </td><td>31.3 +/- 0.5  </td><td style=\"text-align: right;\"> 43</td></tr>\n",
       "<tr><td style=\"text-align: right;\">0</td><td style=\"text-align: right;\">0.1 </td><td style=\"text-align: right;\">0.05</td><td>nomination (random)           </td><td>68.6 +/- 1.7  </td><td style=\"text-align: right;\">105</td></tr>\n",
       "<tr><td style=\"text-align: right;\">0</td><td style=\"text-align: right;\">0.1 </td><td style=\"text-align: right;\">0.05</td><td>nomination (degree)           </td><td>62.4 +/- 1.4  </td><td style=\"text-align: right;\"> 97</td></tr>\n",
       "<tr><td style=\"text-align: right;\">0</td><td style=\"text-align: right;\">0.1 </td><td style=\"text-align: right;\">0.05</td><td>local betweenness             </td><td>60.3 +/- 1.4  </td><td style=\"text-align: right;\">107</td></tr>\n",
       "<tr><td style=\"text-align: right;\">0</td><td style=\"text-align: right;\">0.1 </td><td style=\"text-align: right;\">0.05</td><td>nomination (local betweenness)</td><td>63.5 +/- 1.5  </td><td style=\"text-align: right;\"> 97</td></tr>\n",
       "<tr><td style=\"text-align: right;\">0</td><td style=\"text-align: right;\">0.1 </td><td style=\"text-align: right;\">0.05</td><td>no intervention               </td><td>74.3 +/- 1.9  </td><td style=\"text-align: right;\">121</td></tr>\n",
       "<tr><td style=\"text-align: right;\">0</td><td style=\"text-align: right;\">0.1 </td><td style=\"text-align: right;\">0.05</td><td>random                        </td><td>70.8 +/- 1.7  </td><td style=\"text-align: right;\">109</td></tr>\n",
       "<tr><td style=\"text-align: right;\">0</td><td style=\"text-align: right;\">0.1 </td><td style=\"text-align: right;\">0.05</td><td>degree                        </td><td>61.2 +/- 1.4  </td><td style=\"text-align: right;\"> 92</td></tr>\n",
       "<tr><td style=\"text-align: right;\">0</td><td style=\"text-align: right;\">0.1 </td><td style=\"text-align: right;\">0.1 </td><td>nomination (random)           </td><td>61.1 +/- 1.4  </td><td style=\"text-align: right;\">100</td></tr>\n",
       "<tr><td style=\"text-align: right;\">0</td><td style=\"text-align: right;\">0.1 </td><td style=\"text-align: right;\">0.1 </td><td>nomination (degree)           </td><td>52.7 +/- 1.2  </td><td style=\"text-align: right;\"> 83</td></tr>\n",
       "<tr><td style=\"text-align: right;\">0</td><td style=\"text-align: right;\">0.1 </td><td style=\"text-align: right;\">0.1 </td><td>local betweenness             </td><td>53.0 +/- 1.2  </td><td style=\"text-align: right;\"> 85</td></tr>\n",
       "<tr><td style=\"text-align: right;\">0</td><td style=\"text-align: right;\">0.1 </td><td style=\"text-align: right;\">0.1 </td><td>nomination (local betweenness)</td><td>54.0 +/- 1.2  </td><td style=\"text-align: right;\"> 84</td></tr>\n",
       "<tr><td style=\"text-align: right;\">0</td><td style=\"text-align: right;\">0.1 </td><td style=\"text-align: right;\">0.1 </td><td>no intervention               </td><td>75.5 +/- 1.9  </td><td style=\"text-align: right;\">131</td></tr>\n",
       "<tr><td style=\"text-align: right;\">0</td><td style=\"text-align: right;\">0.1 </td><td style=\"text-align: right;\">0.1 </td><td>random                        </td><td>64.8 +/- 1.5  </td><td style=\"text-align: right;\">100</td></tr>\n",
       "<tr><td style=\"text-align: right;\">0</td><td style=\"text-align: right;\">0.1 </td><td style=\"text-align: right;\">0.1 </td><td>degree                        </td><td>51.0 +/- 1.2  </td><td style=\"text-align: right;\"> 92</td></tr>\n",
       "<tr><td style=\"text-align: right;\">0</td><td style=\"text-align: right;\">0.1 </td><td style=\"text-align: right;\">0.15</td><td>nomination (random)           </td><td>56.6 +/- 1.3  </td><td style=\"text-align: right;\"> 92</td></tr>\n",
       "<tr><td style=\"text-align: right;\">0</td><td style=\"text-align: right;\">0.1 </td><td style=\"text-align: right;\">0.15</td><td>nomination (degree)           </td><td>48.3 +/- 1.1  </td><td style=\"text-align: right;\"> 80</td></tr>\n",
       "<tr><td style=\"text-align: right;\">0</td><td style=\"text-align: right;\">0.1 </td><td style=\"text-align: right;\">0.15</td><td>local betweenness             </td><td>47.1 +/- 1.0  </td><td style=\"text-align: right;\"> 76</td></tr>\n",
       "<tr><td style=\"text-align: right;\">0</td><td style=\"text-align: right;\">0.1 </td><td style=\"text-align: right;\">0.15</td><td>nomination (local betweenness)</td><td>47.4 +/- 1.0  </td><td style=\"text-align: right;\"> 75</td></tr>\n",
       "<tr><td style=\"text-align: right;\">0</td><td style=\"text-align: right;\">0.1 </td><td style=\"text-align: right;\">0.15</td><td>no intervention               </td><td>75.8 +/- 1.8  </td><td style=\"text-align: right;\">123</td></tr>\n",
       "<tr><td style=\"text-align: right;\">0</td><td style=\"text-align: right;\">0.1 </td><td style=\"text-align: right;\">0.15</td><td>random                        </td><td>60.5 +/- 1.3  </td><td style=\"text-align: right;\"> 94</td></tr>\n",
       "<tr><td style=\"text-align: right;\">0</td><td style=\"text-align: right;\">0.1 </td><td style=\"text-align: right;\">0.15</td><td>degree                        </td><td>47.2 +/- 1.0  </td><td style=\"text-align: right;\"> 76</td></tr>\n",
       "<tr><td style=\"text-align: right;\">0</td><td style=\"text-align: right;\">0.1 </td><td style=\"text-align: right;\">0.2 </td><td>nomination (random)           </td><td>50.8 +/- 1.2  </td><td style=\"text-align: right;\"> 83</td></tr>\n",
       "<tr><td style=\"text-align: right;\">0</td><td style=\"text-align: right;\">0.1 </td><td style=\"text-align: right;\">0.2 </td><td>nomination (degree)           </td><td>41.0 +/- 0.8  </td><td style=\"text-align: right;\"> 60</td></tr>\n",
       "<tr><td style=\"text-align: right;\">0</td><td style=\"text-align: right;\">0.1 </td><td style=\"text-align: right;\">0.2 </td><td>local betweenness             </td><td>42.3 +/- 0.8  </td><td style=\"text-align: right;\"> 66</td></tr>\n",
       "<tr><td style=\"text-align: right;\">0</td><td style=\"text-align: right;\">0.1 </td><td style=\"text-align: right;\">0.2 </td><td>nomination (local betweenness)</td><td>42.7 +/- 0.9  </td><td style=\"text-align: right;\"> 64</td></tr>\n",
       "<tr><td style=\"text-align: right;\">0</td><td style=\"text-align: right;\">0.1 </td><td style=\"text-align: right;\">0.2 </td><td>no intervention               </td><td>77.3 +/- 1.7  </td><td style=\"text-align: right;\">118</td></tr>\n",
       "<tr><td style=\"text-align: right;\">0</td><td style=\"text-align: right;\">0.1 </td><td style=\"text-align: right;\">0.2 </td><td>random                        </td><td>54.5 +/- 1.3  </td><td style=\"text-align: right;\"> 96</td></tr>\n",
       "<tr><td style=\"text-align: right;\">0</td><td style=\"text-align: right;\">0.1 </td><td style=\"text-align: right;\">0.2 </td><td>degree                        </td><td>41.7 +/- 0.8  </td><td style=\"text-align: right;\"> 63</td></tr>\n",
       "<tr><td style=\"text-align: right;\">0</td><td style=\"text-align: right;\">0.15</td><td style=\"text-align: right;\">0.05</td><td>nomination (random)           </td><td>99.3 +/- 2.0  </td><td style=\"text-align: right;\">147</td></tr>\n",
       "<tr><td style=\"text-align: right;\">0</td><td style=\"text-align: right;\">0.15</td><td style=\"text-align: right;\">0.05</td><td>nomination (degree)           </td><td>90.2 +/- 1.9  </td><td style=\"text-align: right;\">130</td></tr>\n",
       "<tr><td style=\"text-align: right;\">0</td><td style=\"text-align: right;\">0.15</td><td style=\"text-align: right;\">0.05</td><td>local betweenness             </td><td>85.8 +/- 1.8  </td><td style=\"text-align: right;\">144</td></tr>\n",
       "<tr><td style=\"text-align: right;\">0</td><td style=\"text-align: right;\">0.15</td><td style=\"text-align: right;\">0.05</td><td>nomination (local betweenness)</td><td>91.0 +/- 1.9  </td><td style=\"text-align: right;\">142</td></tr>\n",
       "<tr><td style=\"text-align: right;\">0</td><td style=\"text-align: right;\">0.15</td><td style=\"text-align: right;\">0.05</td><td>no intervention               </td><td>114.3 +/- 2.3 </td><td style=\"text-align: right;\">165</td></tr>\n",
       "<tr><td style=\"text-align: right;\">0</td><td style=\"text-align: right;\">0.15</td><td style=\"text-align: right;\">0.05</td><td>random                        </td><td>102.9 +/- 2.2 </td><td style=\"text-align: right;\">155</td></tr>\n",
       "<tr><td style=\"text-align: right;\">0</td><td style=\"text-align: right;\">0.15</td><td style=\"text-align: right;\">0.05</td><td>degree                        </td><td>85.8 +/- 1.8  </td><td style=\"text-align: right;\">127</td></tr>\n",
       "<tr><td style=\"text-align: right;\">0</td><td style=\"text-align: right;\">0.15</td><td style=\"text-align: right;\">0.1 </td><td>nomination (random)           </td><td>89.3 +/- 2.0  </td><td style=\"text-align: right;\">145</td></tr>\n",
       "<tr><td style=\"text-align: right;\">0</td><td style=\"text-align: right;\">0.15</td><td style=\"text-align: right;\">0.1 </td><td>nomination (degree)           </td><td>74.3 +/- 1.8  </td><td style=\"text-align: right;\">124</td></tr>\n",
       "<tr><td style=\"text-align: right;\">0</td><td style=\"text-align: right;\">0.15</td><td style=\"text-align: right;\">0.1 </td><td>local betweenness             </td><td>72.1 +/- 1.6  </td><td style=\"text-align: right;\">109</td></tr>\n",
       "<tr><td style=\"text-align: right;\">0</td><td style=\"text-align: right;\">0.15</td><td style=\"text-align: right;\">0.1 </td><td>nomination (local betweenness)</td><td>75.3 +/- 1.7  </td><td style=\"text-align: right;\">117</td></tr>\n",
       "<tr><td style=\"text-align: right;\">0</td><td style=\"text-align: right;\">0.15</td><td style=\"text-align: right;\">0.1 </td><td>no intervention               </td><td>112.8 +/- 2.2 </td><td style=\"text-align: right;\">158</td></tr>\n",
       "<tr><td style=\"text-align: right;\">0</td><td style=\"text-align: right;\">0.15</td><td style=\"text-align: right;\">0.1 </td><td>random                        </td><td>92.8 +/- 2.1  </td><td style=\"text-align: right;\">142</td></tr>\n",
       "<tr><td style=\"text-align: right;\">0</td><td style=\"text-align: right;\">0.15</td><td style=\"text-align: right;\">0.1 </td><td>degree                        </td><td>70.3 +/- 1.6  </td><td style=\"text-align: right;\">110</td></tr>\n",
       "<tr><td style=\"text-align: right;\">0</td><td style=\"text-align: right;\">0.15</td><td style=\"text-align: right;\">0.15</td><td>nomination (random)           </td><td>79.7 +/- 1.8  </td><td style=\"text-align: right;\">128</td></tr>\n",
       "<tr><td style=\"text-align: right;\">0</td><td style=\"text-align: right;\">0.15</td><td style=\"text-align: right;\">0.15</td><td>nomination (degree)           </td><td>61.9 +/- 1.3  </td><td style=\"text-align: right;\"> 96</td></tr>\n",
       "<tr><td style=\"text-align: right;\">0</td><td style=\"text-align: right;\">0.15</td><td style=\"text-align: right;\">0.15</td><td>local betweenness             </td><td>61.3 +/- 1.3  </td><td style=\"text-align: right;\">102</td></tr>\n",
       "<tr><td style=\"text-align: right;\">0</td><td style=\"text-align: right;\">0.15</td><td style=\"text-align: right;\">0.15</td><td>nomination (local betweenness)</td><td>63.8 +/- 1.4  </td><td style=\"text-align: right;\">102</td></tr>\n",
       "<tr><td style=\"text-align: right;\">0</td><td style=\"text-align: right;\">0.15</td><td style=\"text-align: right;\">0.15</td><td>no intervention               </td><td>113.1 +/- 2.2 </td><td style=\"text-align: right;\">162</td></tr>\n",
       "<tr><td style=\"text-align: right;\">0</td><td style=\"text-align: right;\">0.15</td><td style=\"text-align: right;\">0.15</td><td>random                        </td><td>86.4 +/- 1.9  </td><td style=\"text-align: right;\">127</td></tr>\n",
       "<tr><td style=\"text-align: right;\">0</td><td style=\"text-align: right;\">0.15</td><td style=\"text-align: right;\">0.15</td><td>degree                        </td><td>60.2 +/- 1.3  </td><td style=\"text-align: right;\"> 89</td></tr>\n",
       "<tr><td style=\"text-align: right;\">0</td><td style=\"text-align: right;\">0.15</td><td style=\"text-align: right;\">0.2 </td><td>nomination (random)           </td><td>70.2 +/- 1.6  </td><td style=\"text-align: right;\">107</td></tr>\n",
       "<tr><td style=\"text-align: right;\">0</td><td style=\"text-align: right;\">0.15</td><td style=\"text-align: right;\">0.2 </td><td>nomination (degree)           </td><td>53.4 +/- 1.2  </td><td style=\"text-align: right;\"> 85</td></tr>\n",
       "<tr><td style=\"text-align: right;\">0</td><td style=\"text-align: right;\">0.15</td><td style=\"text-align: right;\">0.2 </td><td>local betweenness             </td><td>52.7 +/- 1.1  </td><td style=\"text-align: right;\"> 86</td></tr>\n",
       "<tr><td style=\"text-align: right;\">0</td><td style=\"text-align: right;\">0.15</td><td style=\"text-align: right;\">0.2 </td><td>nomination (local betweenness)</td><td>54.0 +/- 1.2  </td><td style=\"text-align: right;\"> 84</td></tr>\n",
       "<tr><td style=\"text-align: right;\">0</td><td style=\"text-align: right;\">0.15</td><td style=\"text-align: right;\">0.2 </td><td>no intervention               </td><td>113.8 +/- 2.1 </td><td style=\"text-align: right;\">163</td></tr>\n",
       "<tr><td style=\"text-align: right;\">0</td><td style=\"text-align: right;\">0.15</td><td style=\"text-align: right;\">0.2 </td><td>random                        </td><td>76.1 +/- 1.7  </td><td style=\"text-align: right;\">116</td></tr>\n",
       "<tr><td style=\"text-align: right;\">0</td><td style=\"text-align: right;\">0.15</td><td style=\"text-align: right;\">0.2 </td><td>degree                        </td><td>53.3 +/- 1.2  </td><td style=\"text-align: right;\"> 85</td></tr>\n",
       "<tr><td style=\"text-align: right;\">1</td><td style=\"text-align: right;\">0.05</td><td style=\"text-align: right;\">0.05</td><td>nomination (random)           </td><td>87.2 +/- 2.2  </td><td style=\"text-align: right;\">147</td></tr>\n",
       "<tr><td style=\"text-align: right;\">1</td><td style=\"text-align: right;\">0.05</td><td style=\"text-align: right;\">0.05</td><td>nomination (degree)           </td><td>80.8 +/- 2.1  </td><td style=\"text-align: right;\">142</td></tr>\n",
       "<tr><td style=\"text-align: right;\">1</td><td style=\"text-align: right;\">0.05</td><td style=\"text-align: right;\">0.05</td><td>local betweenness             </td><td>79.6 +/- 2.1  </td><td style=\"text-align: right;\">138</td></tr>\n",
       "<tr><td style=\"text-align: right;\">1</td><td style=\"text-align: right;\">0.05</td><td style=\"text-align: right;\">0.05</td><td>nomination (local betweenness)</td><td>80.0 +/- 2.3  </td><td style=\"text-align: right;\">142</td></tr>\n",
       "<tr><td style=\"text-align: right;\">1</td><td style=\"text-align: right;\">0.05</td><td style=\"text-align: right;\">0.05</td><td>no intervention               </td><td>97.6 +/- 2.7  </td><td style=\"text-align: right;\">171</td></tr>\n",
       "<tr><td style=\"text-align: right;\">1</td><td style=\"text-align: right;\">0.05</td><td style=\"text-align: right;\">0.05</td><td>random                        </td><td>89.2 +/- 2.4  </td><td style=\"text-align: right;\">176</td></tr>\n",
       "<tr><td style=\"text-align: right;\">1</td><td style=\"text-align: right;\">0.05</td><td style=\"text-align: right;\">0.05</td><td>degree                        </td><td>78.3 +/- 2.3  </td><td style=\"text-align: right;\">165</td></tr>\n",
       "<tr><td style=\"text-align: right;\">1</td><td style=\"text-align: right;\">0.05</td><td style=\"text-align: right;\">0.1 </td><td>nomination (random)           </td><td>80.0 +/- 2.1  </td><td style=\"text-align: right;\">151</td></tr>\n",
       "<tr><td style=\"text-align: right;\">1</td><td style=\"text-align: right;\">0.05</td><td style=\"text-align: right;\">0.1 </td><td>nomination (degree)           </td><td>70.2 +/- 1.8  </td><td style=\"text-align: right;\">115</td></tr>\n",
       "<tr><td style=\"text-align: right;\">1</td><td style=\"text-align: right;\">0.05</td><td style=\"text-align: right;\">0.1 </td><td>local betweenness             </td><td>71.4 +/- 1.9  </td><td style=\"text-align: right;\">116</td></tr>\n",
       "<tr><td style=\"text-align: right;\">1</td><td style=\"text-align: right;\">0.05</td><td style=\"text-align: right;\">0.1 </td><td>nomination (local betweenness)</td><td>71.7 +/- 1.8  </td><td style=\"text-align: right;\">128</td></tr>\n",
       "<tr><td style=\"text-align: right;\">1</td><td style=\"text-align: right;\">0.05</td><td style=\"text-align: right;\">0.1 </td><td>no intervention               </td><td>97.4 +/- 2.6  </td><td style=\"text-align: right;\">166</td></tr>\n",
       "<tr><td style=\"text-align: right;\">1</td><td style=\"text-align: right;\">0.05</td><td style=\"text-align: right;\">0.1 </td><td>random                        </td><td>82.2 +/- 2.2  </td><td style=\"text-align: right;\">142</td></tr>\n",
       "<tr><td style=\"text-align: right;\">1</td><td style=\"text-align: right;\">0.05</td><td style=\"text-align: right;\">0.1 </td><td>degree                        </td><td>70.1 +/- 1.9  </td><td style=\"text-align: right;\">125</td></tr>\n",
       "<tr><td style=\"text-align: right;\">1</td><td style=\"text-align: right;\">0.05</td><td style=\"text-align: right;\">0.15</td><td>nomination (random)           </td><td>72.3 +/- 2.0  </td><td style=\"text-align: right;\">129</td></tr>\n",
       "<tr><td style=\"text-align: right;\">1</td><td style=\"text-align: right;\">0.05</td><td style=\"text-align: right;\">0.15</td><td>nomination (degree)           </td><td>60.9 +/- 1.5  </td><td style=\"text-align: right;\">104</td></tr>\n",
       "<tr><td style=\"text-align: right;\">1</td><td style=\"text-align: right;\">0.05</td><td style=\"text-align: right;\">0.15</td><td>local betweenness             </td><td>59.7 +/- 1.4  </td><td style=\"text-align: right;\">108</td></tr>\n",
       "<tr><td style=\"text-align: right;\">1</td><td style=\"text-align: right;\">0.05</td><td style=\"text-align: right;\">0.15</td><td>nomination (local betweenness)</td><td>60.6 +/- 1.5  </td><td style=\"text-align: right;\">120</td></tr>\n",
       "<tr><td style=\"text-align: right;\">1</td><td style=\"text-align: right;\">0.05</td><td style=\"text-align: right;\">0.15</td><td>no intervention               </td><td>98.1 +/- 2.5  </td><td style=\"text-align: right;\">168</td></tr>\n",
       "<tr><td style=\"text-align: right;\">1</td><td style=\"text-align: right;\">0.05</td><td style=\"text-align: right;\">0.15</td><td>random                        </td><td>74.4 +/- 1.9  </td><td style=\"text-align: right;\">119</td></tr>\n",
       "<tr><td style=\"text-align: right;\">1</td><td style=\"text-align: right;\">0.05</td><td style=\"text-align: right;\">0.15</td><td>degree                        </td><td>61.4 +/- 1.7  </td><td style=\"text-align: right;\">100</td></tr>\n",
       "<tr><td style=\"text-align: right;\">1</td><td style=\"text-align: right;\">0.05</td><td style=\"text-align: right;\">0.2 </td><td>nomination (random)           </td><td>64.7 +/- 1.7  </td><td style=\"text-align: right;\">112</td></tr>\n",
       "<tr><td style=\"text-align: right;\">1</td><td style=\"text-align: right;\">0.05</td><td style=\"text-align: right;\">0.2 </td><td>nomination (degree)           </td><td>53.2 +/- 1.2  </td><td style=\"text-align: right;\"> 91</td></tr>\n",
       "<tr><td style=\"text-align: right;\">1</td><td style=\"text-align: right;\">0.05</td><td style=\"text-align: right;\">0.2 </td><td>local betweenness             </td><td>52.2 +/- 1.4  </td><td style=\"text-align: right;\"> 92</td></tr>\n",
       "<tr><td style=\"text-align: right;\">1</td><td style=\"text-align: right;\">0.05</td><td style=\"text-align: right;\">0.2 </td><td>nomination (local betweenness)</td><td>51.9 +/- 1.3  </td><td style=\"text-align: right;\"> 94</td></tr>\n",
       "<tr><td style=\"text-align: right;\">1</td><td style=\"text-align: right;\">0.05</td><td style=\"text-align: right;\">0.2 </td><td>no intervention               </td><td>94.9 +/- 2.6  </td><td style=\"text-align: right;\">158</td></tr>\n",
       "<tr><td style=\"text-align: right;\">1</td><td style=\"text-align: right;\">0.05</td><td style=\"text-align: right;\">0.2 </td><td>random                        </td><td>69.6 +/- 1.8  </td><td style=\"text-align: right;\">137</td></tr>\n",
       "<tr><td style=\"text-align: right;\">1</td><td style=\"text-align: right;\">0.05</td><td style=\"text-align: right;\">0.2 </td><td>degree                        </td><td>52.0 +/- 1.3  </td><td style=\"text-align: right;\"> 88</td></tr>\n",
       "<tr><td style=\"text-align: right;\">1</td><td style=\"text-align: right;\">0.1 </td><td style=\"text-align: right;\">0.05</td><td>nomination (random)           </td><td>257.8 +/- 4.7 </td><td style=\"text-align: right;\">366</td></tr>\n",
       "<tr><td style=\"text-align: right;\">1</td><td style=\"text-align: right;\">0.1 </td><td style=\"text-align: right;\">0.05</td><td>nomination (degree)           </td><td>236.5 +/- 4.9 </td><td style=\"text-align: right;\">332</td></tr>\n",
       "<tr><td style=\"text-align: right;\">1</td><td style=\"text-align: right;\">0.1 </td><td style=\"text-align: right;\">0.05</td><td>local betweenness             </td><td>231.4 +/- 4.9 </td><td style=\"text-align: right;\">371</td></tr>\n",
       "<tr><td style=\"text-align: right;\">1</td><td style=\"text-align: right;\">0.1 </td><td style=\"text-align: right;\">0.05</td><td>nomination (local betweenness)</td><td>232.7 +/- 5.0 </td><td style=\"text-align: right;\">354</td></tr>\n",
       "<tr><td style=\"text-align: right;\">1</td><td style=\"text-align: right;\">0.1 </td><td style=\"text-align: right;\">0.05</td><td>no intervention               </td><td>289.7 +/- 5.6 </td><td style=\"text-align: right;\">414</td></tr>\n",
       "<tr><td style=\"text-align: right;\">1</td><td style=\"text-align: right;\">0.1 </td><td style=\"text-align: right;\">0.05</td><td>random                        </td><td>264.8 +/- 5.1 </td><td style=\"text-align: right;\">359</td></tr>\n",
       "<tr><td style=\"text-align: right;\">1</td><td style=\"text-align: right;\">0.1 </td><td style=\"text-align: right;\">0.05</td><td>degree                        </td><td>229.2 +/- 4.8 </td><td style=\"text-align: right;\">340</td></tr>\n",
       "<tr><td style=\"text-align: right;\">1</td><td style=\"text-align: right;\">0.1 </td><td style=\"text-align: right;\">0.1 </td><td>nomination (random)           </td><td>227.4 +/- 4.7 </td><td style=\"text-align: right;\">346</td></tr>\n",
       "<tr><td style=\"text-align: right;\">1</td><td style=\"text-align: right;\">0.1 </td><td style=\"text-align: right;\">0.1 </td><td>nomination (degree)           </td><td>196.6 +/- 4.3 </td><td style=\"text-align: right;\">281</td></tr>\n",
       "<tr><td style=\"text-align: right;\">1</td><td style=\"text-align: right;\">0.1 </td><td style=\"text-align: right;\">0.1 </td><td>local betweenness             </td><td>195.6 +/- 4.2 </td><td style=\"text-align: right;\">304</td></tr>\n",
       "<tr><td style=\"text-align: right;\">1</td><td style=\"text-align: right;\">0.1 </td><td style=\"text-align: right;\">0.1 </td><td>nomination (local betweenness)</td><td>194.5 +/- 4.1 </td><td style=\"text-align: right;\">297</td></tr>\n",
       "<tr><td style=\"text-align: right;\">1</td><td style=\"text-align: right;\">0.1 </td><td style=\"text-align: right;\">0.1 </td><td>no intervention               </td><td>283.9 +/- 4.9 </td><td style=\"text-align: right;\">397</td></tr>\n",
       "<tr><td style=\"text-align: right;\">1</td><td style=\"text-align: right;\">0.1 </td><td style=\"text-align: right;\">0.1 </td><td>random                        </td><td>239.6 +/- 4.6 </td><td style=\"text-align: right;\">342</td></tr>\n",
       "<tr><td style=\"text-align: right;\">1</td><td style=\"text-align: right;\">0.1 </td><td style=\"text-align: right;\">0.1 </td><td>degree                        </td><td>192.8 +/- 4.0 </td><td style=\"text-align: right;\">283</td></tr>\n",
       "<tr><td style=\"text-align: right;\">1</td><td style=\"text-align: right;\">0.1 </td><td style=\"text-align: right;\">0.15</td><td>nomination (random)           </td><td>200.3 +/- 4.1 </td><td style=\"text-align: right;\">299</td></tr>\n",
       "<tr><td style=\"text-align: right;\">1</td><td style=\"text-align: right;\">0.1 </td><td style=\"text-align: right;\">0.15</td><td>nomination (degree)           </td><td>157.6 +/- 3.7 </td><td style=\"text-align: right;\">259</td></tr>\n",
       "<tr><td style=\"text-align: right;\">1</td><td style=\"text-align: right;\">0.1 </td><td style=\"text-align: right;\">0.15</td><td>local betweenness             </td><td>157.0 +/- 3.6 </td><td style=\"text-align: right;\">253</td></tr>\n",
       "<tr><td style=\"text-align: right;\">1</td><td style=\"text-align: right;\">0.1 </td><td style=\"text-align: right;\">0.15</td><td>nomination (local betweenness)</td><td>160.2 +/- 4.0 </td><td style=\"text-align: right;\">282</td></tr>\n",
       "<tr><td style=\"text-align: right;\">1</td><td style=\"text-align: right;\">0.1 </td><td style=\"text-align: right;\">0.15</td><td>no intervention               </td><td>295.9 +/- 5.1 </td><td style=\"text-align: right;\">401</td></tr>\n",
       "<tr><td style=\"text-align: right;\">1</td><td style=\"text-align: right;\">0.1 </td><td style=\"text-align: right;\">0.15</td><td>random                        </td><td>210.6 +/- 4.1 </td><td style=\"text-align: right;\">305</td></tr>\n",
       "<tr><td style=\"text-align: right;\">1</td><td style=\"text-align: right;\">0.1 </td><td style=\"text-align: right;\">0.15</td><td>degree                        </td><td>159.1 +/- 3.5 </td><td style=\"text-align: right;\">239</td></tr>\n",
       "<tr><td style=\"text-align: right;\">1</td><td style=\"text-align: right;\">0.1 </td><td style=\"text-align: right;\">0.2 </td><td>nomination (random)           </td><td>171.5 +/- 3.7 </td><td style=\"text-align: right;\">254</td></tr>\n",
       "<tr><td style=\"text-align: right;\">1</td><td style=\"text-align: right;\">0.1 </td><td style=\"text-align: right;\">0.2 </td><td>nomination (degree)           </td><td>130.5 +/- 3.0 </td><td style=\"text-align: right;\">196</td></tr>\n",
       "<tr><td style=\"text-align: right;\">1</td><td style=\"text-align: right;\">0.1 </td><td style=\"text-align: right;\">0.2 </td><td>local betweenness             </td><td>128.2 +/- 3.0 </td><td style=\"text-align: right;\">212</td></tr>\n",
       "<tr><td style=\"text-align: right;\">1</td><td style=\"text-align: right;\">0.1 </td><td style=\"text-align: right;\">0.2 </td><td>nomination (local betweenness)</td><td>128.0 +/- 3.1 </td><td style=\"text-align: right;\">202</td></tr>\n",
       "<tr><td style=\"text-align: right;\">1</td><td style=\"text-align: right;\">0.1 </td><td style=\"text-align: right;\">0.2 </td><td>no intervention               </td><td>290.5 +/- 5.1 </td><td style=\"text-align: right;\">404</td></tr>\n",
       "<tr><td style=\"text-align: right;\">1</td><td style=\"text-align: right;\">0.1 </td><td style=\"text-align: right;\">0.2 </td><td>random                        </td><td>187.1 +/- 4.0 </td><td style=\"text-align: right;\">304</td></tr>\n",
       "<tr><td style=\"text-align: right;\">1</td><td style=\"text-align: right;\">0.1 </td><td style=\"text-align: right;\">0.2 </td><td>degree                        </td><td>126.8 +/- 3.2 </td><td style=\"text-align: right;\">198</td></tr>\n",
       "<tr><td style=\"text-align: right;\">1</td><td style=\"text-align: right;\">0.15</td><td style=\"text-align: right;\">0.05</td><td>nomination (random)           </td><td>436.5 +/- 4.2 </td><td style=\"text-align: right;\">533</td></tr>\n",
       "<tr><td style=\"text-align: right;\">1</td><td style=\"text-align: right;\">0.15</td><td style=\"text-align: right;\">0.05</td><td>nomination (degree)           </td><td>406.6 +/- 4.9 </td><td style=\"text-align: right;\">508</td></tr>\n",
       "<tr><td style=\"text-align: right;\">1</td><td style=\"text-align: right;\">0.15</td><td style=\"text-align: right;\">0.05</td><td>local betweenness             </td><td>405.6 +/- 4.6 </td><td style=\"text-align: right;\">497</td></tr>\n",
       "<tr><td style=\"text-align: right;\">1</td><td style=\"text-align: right;\">0.15</td><td style=\"text-align: right;\">0.05</td><td>nomination (local betweenness)</td><td>409.1 +/- 4.6 </td><td style=\"text-align: right;\">507</td></tr>\n",
       "<tr><td style=\"text-align: right;\">1</td><td style=\"text-align: right;\">0.15</td><td style=\"text-align: right;\">0.05</td><td>no intervention               </td><td>483.4 +/- 3.9 </td><td style=\"text-align: right;\">559</td></tr>\n",
       "<tr><td style=\"text-align: right;\">1</td><td style=\"text-align: right;\">0.15</td><td style=\"text-align: right;\">0.05</td><td>random                        </td><td>441.6 +/- 3.8 </td><td style=\"text-align: right;\">521</td></tr>\n",
       "<tr><td style=\"text-align: right;\">1</td><td style=\"text-align: right;\">0.15</td><td style=\"text-align: right;\">0.05</td><td>degree                        </td><td>407.7 +/- 4.5 </td><td style=\"text-align: right;\">488</td></tr>\n",
       "<tr><td style=\"text-align: right;\">1</td><td style=\"text-align: right;\">0.15</td><td style=\"text-align: right;\">0.1 </td><td>nomination (random)           </td><td>394.2 +/- 4.1 </td><td style=\"text-align: right;\">480</td></tr>\n",
       "<tr><td style=\"text-align: right;\">1</td><td style=\"text-align: right;\">0.15</td><td style=\"text-align: right;\">0.1 </td><td>nomination (degree)           </td><td>352.5 +/- 4.1 </td><td style=\"text-align: right;\">447</td></tr>\n",
       "<tr><td style=\"text-align: right;\">1</td><td style=\"text-align: right;\">0.15</td><td style=\"text-align: right;\">0.1 </td><td>local betweenness             </td><td>349.0 +/- 4.8 </td><td style=\"text-align: right;\">454</td></tr>\n",
       "<tr><td style=\"text-align: right;\">1</td><td style=\"text-align: right;\">0.15</td><td style=\"text-align: right;\">0.1 </td><td>nomination (local betweenness)</td><td>349.9 +/- 5.0 </td><td style=\"text-align: right;\">437</td></tr>\n",
       "<tr><td style=\"text-align: right;\">1</td><td style=\"text-align: right;\">0.15</td><td style=\"text-align: right;\">0.1 </td><td>no intervention               </td><td>480.8 +/- 4.2 </td><td style=\"text-align: right;\">567</td></tr>\n",
       "<tr><td style=\"text-align: right;\">1</td><td style=\"text-align: right;\">0.15</td><td style=\"text-align: right;\">0.1 </td><td>random                        </td><td>402.1 +/- 4.7 </td><td style=\"text-align: right;\">495</td></tr>\n",
       "<tr><td style=\"text-align: right;\">1</td><td style=\"text-align: right;\">0.15</td><td style=\"text-align: right;\">0.1 </td><td>degree                        </td><td>351.2 +/- 4.5 </td><td style=\"text-align: right;\">445</td></tr>\n",
       "<tr><td style=\"text-align: right;\">1</td><td style=\"text-align: right;\">0.15</td><td style=\"text-align: right;\">0.15</td><td>nomination (random)           </td><td>349.6 +/- 4.3 </td><td style=\"text-align: right;\">424</td></tr>\n",
       "<tr><td style=\"text-align: right;\">1</td><td style=\"text-align: right;\">0.15</td><td style=\"text-align: right;\">0.15</td><td>nomination (degree)           </td><td>293.6 +/- 4.4 </td><td style=\"text-align: right;\">396</td></tr>\n",
       "<tr><td style=\"text-align: right;\">1</td><td style=\"text-align: right;\">0.15</td><td style=\"text-align: right;\">0.15</td><td>local betweenness             </td><td>289.2 +/- 4.3 </td><td style=\"text-align: right;\">389</td></tr>\n",
       "<tr><td style=\"text-align: right;\">1</td><td style=\"text-align: right;\">0.15</td><td style=\"text-align: right;\">0.15</td><td>nomination (local betweenness)</td><td>292.9 +/- 4.6 </td><td style=\"text-align: right;\">395</td></tr>\n",
       "<tr><td style=\"text-align: right;\">1</td><td style=\"text-align: right;\">0.15</td><td style=\"text-align: right;\">0.15</td><td>no intervention               </td><td>479.7 +/- 4.1 </td><td style=\"text-align: right;\">551</td></tr>\n",
       "<tr><td style=\"text-align: right;\">1</td><td style=\"text-align: right;\">0.15</td><td style=\"text-align: right;\">0.15</td><td>random                        </td><td>368.9 +/- 4.1 </td><td style=\"text-align: right;\">461</td></tr>\n",
       "<tr><td style=\"text-align: right;\">1</td><td style=\"text-align: right;\">0.15</td><td style=\"text-align: right;\">0.15</td><td>degree                        </td><td>290.0 +/- 4.6 </td><td style=\"text-align: right;\">388</td></tr>\n",
       "<tr><td style=\"text-align: right;\">1</td><td style=\"text-align: right;\">0.15</td><td style=\"text-align: right;\">0.2 </td><td>nomination (random)           </td><td>321.0 +/- 13.7</td><td style=\"text-align: right;\">396</td></tr>\n",
       "</tbody>\n",
       "</table>"
      ],
      "text/plain": [
       "<IPython.core.display.HTML object>"
      ]
     },
     "metadata": {},
     "output_type": "display_data"
    }
   ],
   "source": [
    "display(HTML(tabulate(rows, tablefmt='html')))"
   ]
  },
  {
   "cell_type": "code",
   "execution_count": 11,
   "metadata": {},
   "outputs": [],
   "source": [
    "types = ['o', 'v', '^', '<', '>', '8', 's', 'p', '*', 'h', 'H', 'D', 'd', 'P', 'X']"
   ]
  },
  {
   "cell_type": "code",
   "execution_count": 12,
   "metadata": {},
   "outputs": [],
   "source": [
    "from itertools import groupby\n",
    "grps = groupby(ms.items(), key=lambda x:list(x[0])[:-1])"
   ]
  },
  {
   "cell_type": "code",
   "execution_count": 13,
   "metadata": {},
   "outputs": [],
   "source": [
    "grps = [ (a, list(b)) for a,b in grps ]"
   ]
  },
  {
   "cell_type": "code",
   "execution_count": 14,
   "metadata": {},
   "outputs": [],
   "source": [
    "to_show = ['rand', 'friend', 'friendHighDeg', 'local_betweenness', 'none']"
   ]
  },
  {
   "cell_type": "code",
   "execution_count": 15,
   "metadata": {},
   "outputs": [],
   "source": [
    "order = range(100)"
   ]
  },
  {
   "cell_type": "code",
   "execution_count": 16,
   "metadata": {},
   "outputs": [],
   "source": [
    "order = list(np.argsort([\n",
    "    np.mean([v[0] for kk,v in ms_d.items() if kk[-1]==k]) \n",
    "    for k in to_show\n",
    "]))"
   ]
  },
  {
   "cell_type": "code",
   "execution_count": 17,
   "metadata": {},
   "outputs": [],
   "source": [
    "# geesh everything is mixed...\n",
    "#to_show = sorted(to_show, key=lambda k:-np.mean([v[0] for kk,v in ms_d.items() if kk[-1]==k]))"
   ]
  },
  {
   "cell_type": "code",
   "execution_count": 18,
   "metadata": {},
   "outputs": [],
   "source": [
    "to_show = ['none', 'rand', 'friend', 'friendHighDeg', 'local_betweenness']"
   ]
  },
  {
   "cell_type": "code",
   "execution_count": 19,
   "metadata": {},
   "outputs": [],
   "source": [
    "from matplotlib import patches"
   ]
  },
  {
   "cell_type": "code",
   "execution_count": 20,
   "metadata": {},
   "outputs": [],
   "source": [
    "alph = 'ABCDEFGHIJKLMNOPQRSTUVWXYZ'"
   ]
  },
  {
   "cell_type": "code",
   "execution_count": 22,
   "metadata": {},
   "outputs": [
    {
     "data": {
      "image/png": "[encoded data removed]",
      "text/plain": [
       "<Figure size 1080x216 with 1 Axes>"
      ]
     },
     "metadata": {
      "needs_background": "light"
     },
     "output_type": "display_data"
    }
   ],
   "source": [
    "fig = plt.figure(figsize=(15,3))\n",
    "ax = plt.axes()\n",
    "plt.box(False)\n",
    "\n",
    "col = 0\n",
    "for a,b in sorted( grps, key=lambda x:x[0] ):\n",
    "    base_k = tuple( a + ['none'] )\n",
    "    if base_k not in ms_d:\n",
    "        continue\n",
    "        \n",
    "    base = ms_d[base_k][0]\n",
    "    for i,kk in enumerate(to_show):            \n",
    "        k = tuple(a + [kk])\n",
    "            \n",
    "        x,y = col*1.1 + i*0.2, ms_d[k][0] / base\n",
    "        plt.text(x,y, str(i+1))#, marker=types[i])\n",
    "        #plt.scatter(x,y+0.1, s=5, color='black', edgecolors=None)\n",
    "        \n",
    "    col += 1\n",
    "    #print(i)\n",
    "    \n",
    "    rect = patches.Rectangle(\n",
    "        ((col-1)*1.1, 0), 1, 1.1, \n",
    "        linewidth=1, \n",
    "        edgecolor='none', facecolor='grey', alpha=0.2)\n",
    "    #plt.scatter(2,0.5)\n",
    "    # Add the patch to the Axes\n",
    "    ax.add_patch(rect)\n",
    "    plt.text((col-1.1/2)*1.1, -0.1, alph[col-1])\n",
    "    #print(alph[col-1])\n",
    "\n",
    "    \n",
    "plt.xlim(-1,col*1.2)\n",
    "plt.ylim(-0.1,1.1)\n",
    "plt.grid(True, 'major','y')\n",
    "plt.xticks([]);"
   ]
  },
  {
   "cell_type": "code",
   "execution_count": 78,
   "metadata": {},
   "outputs": [
    {
     "data": {
      "text/plain": [
       "[(0, 0.05, 15, 'rand_0'),\n",
       " (0, 0.05, 15, 'friend_1'),\n",
       " (0, 0.05, 15, 'friendHighDeg_2'),\n",
       " (0, 0.05, 15, 'targeted_3'),\n",
       " (0, 0.05, 15, 'local_betweenness_4'),\n",
       " (0, 0.05, 15, 'nominate_local_betweenness_5'),\n",
       " (0, 0.05, 15, 'none_6')]"
      ]
     },
     "execution_count": 78,
     "metadata": {},
     "output_type": "execute_result"
    }
   ],
   "source": [
    "[x[0] for x in b]"
   ]
  },
  {
   "cell_type": "code",
   "execution_count": 5,
   "metadata": {},
   "outputs": [],
   "source": [
    "tnets = sorted(set(x[0] for x in ms.keys()))\n",
    "s2es = sorted(set(x[1] for x in ms.keys()))\n",
    "n_vaccs = sorted(set(x[2] for x in ms.keys()))\n",
    "names = sorted(set(x[3] for x in ms.keys()))"
   ]
  },
  {
   "cell_type": "code",
   "execution_count": 6,
   "metadata": {},
   "outputs": [
    {
     "data": {
      "text/plain": [
       "([0, 1],\n",
       " [0.05, 0.1, 0.15, 0.2],\n",
       " [15, 31, 39, 46, 62, 78, 117, 156],\n",
       " ['friendHighDeg_2',\n",
       "  'friend_1',\n",
       "  'local_betweenness_4',\n",
       "  'nominate_local_betweenness_5',\n",
       "  'none_6',\n",
       "  'rand_0',\n",
       "  'targeted_3'])"
      ]
     },
     "execution_count": 6,
     "metadata": {},
     "output_type": "execute_result"
    }
   ],
   "source": [
    "(tnets,s2es,n_vaccs,names)"
   ]
  },
  {
   "cell_type": "code",
   "execution_count": 7,
   "metadata": {},
   "outputs": [],
   "source": [
    "k, v = list(ms.items())[0]"
   ]
  },
  {
   "cell_type": "markdown",
   "metadata": {},
   "source": [
    "# percentage differences"
   ]
  },
  {
   "cell_type": "code",
   "execution_count": 160,
   "metadata": {},
   "outputs": [],
   "source": [
    "from itertools import groupby\n",
    "grps = groupby(ms.items(), key=lambda x:list(x[0])[:-1])"
   ]
  },
  {
   "cell_type": "code",
   "execution_count": 161,
   "metadata": {},
   "outputs": [],
   "source": [
    "grps = [ (a, list(b)) for a,b in grps ]"
   ]
  },
  {
   "cell_type": "code",
   "execution_count": 165,
   "metadata": {},
   "outputs": [
    {
     "data": {
      "text/plain": [
       "(0, 0.05, 0.05, 'friendHighDegClose')"
      ]
     },
     "execution_count": 165,
     "metadata": {},
     "output_type": "execute_result"
    }
   ],
   "source": [
    "grps[0][1][0][0]"
   ]
  },
  {
   "cell_type": "code",
   "execution_count": 212,
   "metadata": {},
   "outputs": [
    {
     "data": {
      "text/plain": [
       "{'friend',\n",
       " 'friendClose',\n",
       " 'friendHighDeg',\n",
       " 'friendHighDegClose',\n",
       " 'local_betweenness',\n",
       " 'nominate_local_betweenness',\n",
       " 'none',\n",
       " 'rand',\n",
       " 'targeted'}"
      ]
     },
     "execution_count": 212,
     "metadata": {},
     "output_type": "execute_result"
    }
   ],
   "source": [
    "set(x[-1] for x in ms.keys())"
   ]
  },
  {
   "cell_type": "code",
   "execution_count": 244,
   "metadata": {},
   "outputs": [],
   "source": [
    "to_show = ['none', 'rand', 'friend', 'nominate_local_betweenness', 'targeted', 'friendHighDeg']"
   ]
  },
  {
   "cell_type": "code",
   "execution_count": 245,
   "metadata": {},
   "outputs": [],
   "source": [
    "#mat = np.zeros(  )\n",
    "\n",
    "mat = np.zeros( (len(to_show),len(grps)) ) \n",
    "\n",
    "for i, (kk,gg) in enumerate(grps):\n",
    "    for ki,k in enumerate(to_show):\n",
    "        my_key = tuple(kk+[k])\n",
    "        if my_key not in ms_d:\n",
    "            continue\n",
    "        mat[ki,i] = ms_d[my_key][0]            "
   ]
  },
  {
   "cell_type": "code",
   "execution_count": 246,
   "metadata": {},
   "outputs": [
    {
     "data": {
      "text/plain": [
       "(6, 24)"
      ]
     },
     "execution_count": 246,
     "metadata": {},
     "output_type": "execute_result"
    }
   ],
   "source": [
    "mat.shape"
   ]
  },
  {
   "cell_type": "code",
   "execution_count": 247,
   "metadata": {},
   "outputs": [
    {
     "data": {
      "text/plain": [
       "6"
      ]
     },
     "execution_count": 247,
     "metadata": {},
     "output_type": "execute_result"
    }
   ],
   "source": [
    "len(to_show)"
   ]
  },
  {
   "cell_type": "code",
   "execution_count": 248,
   "metadata": {},
   "outputs": [
    {
     "data": {
      "text/plain": [
       "array([ 43.01      ,  43.12666667,  43.85666667,  42.80666667,\n",
       "        97.58      ,  97.39666667,  98.07333333,  94.88      ,\n",
       "        74.29333333,  75.48666667,  75.80666667,  77.31666667,\n",
       "       289.69333333, 283.93666667, 295.94666667, 290.53333333,\n",
       "       114.30666667, 112.85      , 113.14333333, 113.81      ,\n",
       "       483.4       , 480.8       , 479.71666667,   0.        ])"
      ]
     },
     "execution_count": 248,
     "metadata": {},
     "output_type": "execute_result"
    }
   ],
   "source": [
    "mat[0,:]"
   ]
  },
  {
   "cell_type": "code",
   "execution_count": 249,
   "metadata": {},
   "outputs": [
    {
     "name": "stderr",
     "output_type": "stream",
     "text": [
      "c:\\users\\amcga\\envs\\citation-deaths\\lib\\site-packages\\ipykernel_launcher.py:1: RuntimeWarning: divide by zero encountered in true_divide\n",
      "  \"\"\"Entry point for launching an IPython kernel.\n",
      "c:\\users\\amcga\\envs\\citation-deaths\\lib\\site-packages\\ipykernel_launcher.py:1: RuntimeWarning: invalid value encountered in true_divide\n",
      "  \"\"\"Entry point for launching an IPython kernel.\n"
     ]
    }
   ],
   "source": [
    "divs = (mat / mat[0,:]).T"
   ]
  },
  {
   "cell_type": "code",
   "execution_count": 250,
   "metadata": {},
   "outputs": [
    {
     "data": {
      "text/plain": [
       "(24, 6)"
      ]
     },
     "execution_count": 250,
     "metadata": {},
     "output_type": "execute_result"
    }
   ],
   "source": [
    "divs.shape"
   ]
  },
  {
   "cell_type": "code",
   "execution_count": 251,
   "metadata": {},
   "outputs": [],
   "source": [
    "wid,hei = divs.shape"
   ]
  },
  {
   "cell_type": "code",
   "execution_count": 252,
   "metadata": {},
   "outputs": [
    {
     "data": {
      "image/png": "[encoded data removed]",
      "text/plain": [
       "<Figure size 432x288 with 1 Axes>"
      ]
     },
     "metadata": {
      "needs_background": "light"
     },
     "output_type": "display_data"
    }
   ],
   "source": [
    "for i in range(1,hei):\n",
    "    plt.scatter(divs[:,i], [i]*wid)"
   ]
  },
  {
   "cell_type": "code",
   "execution_count": 253,
   "metadata": {},
   "outputs": [
    {
     "name": "stderr",
     "output_type": "stream",
     "text": [
      "c:\\users\\amcga\\envs\\citation-deaths\\lib\\site-packages\\ipykernel_launcher.py:4: RuntimeWarning: invalid value encountered in true_divide\n",
      "  after removing the cwd from sys.path.\n",
      "c:\\users\\amcga\\envs\\citation-deaths\\lib\\site-packages\\ipykernel_launcher.py:4: RuntimeWarning: divide by zero encountered in true_divide\n",
      "  after removing the cwd from sys.path.\n"
     ]
    },
    {
     "data": {
      "image/png": "[encoded data removed]",
      "text/plain": [
       "<Figure size 432x288 with 1 Axes>"
      ]
     },
     "metadata": {
      "needs_background": "light"
     },
     "output_type": "display_data"
    }
   ],
   "source": [
    "from random import random\n",
    "\n",
    "for i in range(1,hei):\n",
    "    plt.scatter(mat[i,:] / mat[i-1,:], [i + ij*0.01 for ij in range(wid)],\n",
    "               s=4, color='black')\n",
    "plt.yticks(range(1,hei), to_show[1:])\n",
    "plt.xlim(0.5,1.05)\n",
    "plt.grid(True,'major','x')"
   ]
  }
 ],
 "metadata": {
  "kernelspec": {
   "display_name": "Python 3",
   "language": "python",
   "name": "python3"
  },
  "language_info": {
   "codemirror_mode": {
    "name": "ipython",
    "version": 3
   },
   "file_extension": ".py",
   "mimetype": "text/x-python",
   "name": "python",
   "nbconvert_exporter": "python",
   "pygments_lexer": "ipython3",
   "version": "3.7.5"
  }
 },
 "nbformat": 4,
 "nbformat_minor": 4
}
