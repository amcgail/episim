{
 "cells": [
  {
   "cell_type": "markdown",
   "metadata": {},
   "source": [
    "# Extended SEIRS Community TTI Demo\n",
    "\n",
    "**In this demonstration we will explore the effect of testing, tracing, and isolation interventions on disease transmission in the setting of an age-stratified population with a realistic contact network structured by households and work/school communities.**\n",
    "\n",
    "This notebook provides a demonstration of the functionality of the [Extended SEIRS Network Model](https://github.com/ryansmcgee/seirsplus/wiki/Extended-SEIRS-Model-Description) and the [TTI Simulation Loop](https://github.com/ryansmcgee/seirsplus/wiki/TTI-Simulation-Loop). This notebook also offers a sandbox for starting to explore TTI scenarios of your own. \n",
    "For a more thorough walkthrough of the model, simulation loop, and use of this package, refer to the [SEIRS+ Wiki](https://github.com/ryansmcgee/seirsplus/wiki)."
   ]
  },
  {
   "cell_type": "markdown",
   "metadata": {},
   "source": [
    "### Installing and importing the model code\n",
    "\n",
    "All of the code needed to run the model is imported from the ```models``` module of this package.\n",
    "\n",
    "In this demo we will also use features from the `networks`, `sim_loops`, and `utilities` modules.\n",
    "\n",
    "#### Install the package using ```pip```\n",
    "The package can be installed on your machine by entering this in the command line:\n",
    "\n",
    "```pip install seirsplus```\n",
    "\n",
    "Then, the ```models```, `networks`, `sim_loops`, and `utilities` modules can be imported as shown here:"
   ]
  },
  {
   "cell_type": "code",
   "execution_count": 1,
   "metadata": {},
   "outputs": [],
   "source": [
    "from seirsplus.models import *\n",
    "from seirsplus.networks import *\n",
    "from seirsplus.sim_loops import *\n",
    "from seirsplus.utilities import *\n",
    "import networkx\n",
    "import matplotlib.pyplot as pyplot"
   ]
  },
  {
   "cell_type": "markdown",
   "metadata": {},
   "source": [
    "#### *Alternatively, manually copy the code to your machine*\n",
    "*You can use the model code without installing a package by copying the ```models.py``` module file to a directory on your machine. For some of the features used in this demo you will also need the `networks`, `sim_loops`, and `utilities` modules. In this case, the easiest way to use the modules is to place your scripts in the same directory as the modules, and import the modules as shown here:*\n",
    "```python\n",
    "from models import *\n",
    "from networks import *\n",
    "from sim_loops import *\n",
    "from utilities import *\n",
    "```"
   ]
  },
  {
   "cell_type": "markdown",
   "metadata": {},
   "source": [
    "-------"
   ]
  },
  {
   "cell_type": "markdown",
   "metadata": {},
   "source": [
    "## Set basic parameters"
   ]
  },
  {
   "cell_type": "markdown",
   "metadata": {},
   "source": [
    "Set the total population size"
   ]
  },
  {
   "cell_type": "markdown",
   "metadata": {},
   "source": [
    "Here we set the initial prevalence to be 1% of the population."
   ]
  },
  {
   "cell_type": "markdown",
   "metadata": {},
   "source": [
    "Set the max simulation time to 100 days."
   ]
  },
  {
   "cell_type": "code",
   "execution_count": 2,
   "metadata": {},
   "outputs": [],
   "source": [
    "T = 100\n",
    "INIT_EXPOSED_PCT = 20/330"
   ]
  },
  {
   "cell_type": "markdown",
   "metadata": {},
   "source": [
    "-------\n",
    "\n",
    "## Specifying contact networks\n",
    "\n",
    "I'm doing it myself in this one"
   ]
  },
  {
   "cell_type": "code",
   "execution_count": 3,
   "metadata": {},
   "outputs": [],
   "source": [
    "from epi_model import *"
   ]
  },
  {
   "cell_type": "code",
   "execution_count": 4,
   "metadata": {},
   "outputs": [],
   "source": [
    "tnet = temporalNetwork.load('high school2')"
   ]
  },
  {
   "cell_type": "code",
   "execution_count": 5,
   "metadata": {},
   "outputs": [],
   "source": [
    "w = tnet.to_weighted()"
   ]
  },
  {
   "cell_type": "code",
   "execution_count": 6,
   "metadata": {},
   "outputs": [],
   "source": [
    "nodes = sorted(w.nodes)\n",
    "n2id = {n:i for i,n in enumerate(w.node_ids)}"
   ]
  },
  {
   "cell_type": "code",
   "execution_count": 7,
   "metadata": {},
   "outputs": [],
   "source": [
    "G = nx.Graph()"
   ]
  },
  {
   "cell_type": "code",
   "execution_count": 8,
   "metadata": {},
   "outputs": [],
   "source": [
    "weights = np.array([c for i,j,c in w.edgelist])"
   ]
  },
  {
   "cell_type": "code",
   "execution_count": 9,
   "metadata": {},
   "outputs": [],
   "source": [
    "atom = np.min(weights[weights>0])"
   ]
  },
  {
   "cell_type": "code",
   "execution_count": 10,
   "metadata": {},
   "outputs": [],
   "source": [
    "G.add_weighted_edges_from( [(n2id[i], n2id[j], c / (10 * atom * 60*15 / 20)) for i,j,c in w.edgelist] )"
   ]
  },
  {
   "cell_type": "code",
   "execution_count": 11,
   "metadata": {},
   "outputs": [],
   "source": [
    "#demographic_graphs, individual_ageGroups, households = generate_demographic_contact_network(\n",
    "#                                                            N=N, demographic_data=household_country_data('US'), \n",
    "#                                                            distancing_scales=[0.7], isolation_groups=[])\n",
    "                                      \n",
    "G_baseline = G\n",
    "G_quarantine = G_baseline.copy()\n",
    "\n",
    "#households_indices = [household['indices'] for household in households]"
   ]
  },
  {
   "cell_type": "code",
   "execution_count": 12,
   "metadata": {},
   "outputs": [
    {
     "name": "stdout",
     "output_type": "stream",
     "text": [
      "Baseline:\n",
      "Degree: mean = 96.94, std = 38.31, 95% CI = (10.00, 161.00)\n",
      "        coeff var = 0.40\n",
      "Assortativity:    0.13\n",
      "Clustering coeff: 0.27\n",
      "\n"
     ]
    },
    {
     "data": {
      "image/png": "[encoded data removed]",
      "text/plain": [
       "<Figure size 432x288 with 1 Axes>"
      ]
     },
     "metadata": {
      "needs_background": "light"
     },
     "output_type": "display_data"
    }
   ],
   "source": [
    "network_info(G_baseline, \"Baseline\", plot=True)"
   ]
  },
  {
   "cell_type": "code",
   "execution_count": 13,
   "metadata": {},
   "outputs": [
    {
     "name": "stdout",
     "output_type": "stream",
     "text": [
      "Quarantine:\n",
      "Degree: mean = 96.94, std = 38.31, 95% CI = (10.00, 161.00)\n",
      "        coeff var = 0.40\n",
      "Assortativity:    0.13\n",
      "Clustering coeff: 0.27\n",
      "\n"
     ]
    },
    {
     "data": {
      "image/png": "[encoded data removed]",
      "text/plain": [
       "<Figure size 432x288 with 1 Axes>"
      ]
     },
     "metadata": {
      "needs_background": "light"
     },
     "output_type": "display_data"
    }
   ],
   "source": [
    "network_info(G_quarantine, \"Quarantine\", plot=True)"
   ]
  },
  {
   "cell_type": "code",
   "execution_count": 14,
   "metadata": {},
   "outputs": [],
   "source": [
    "N = len(G.nodes)\n",
    "INIT_EXPOSED = int(N*INIT_EXPOSED_PCT)"
   ]
  },
  {
   "cell_type": "markdown",
   "metadata": {},
   "source": [
    "-------"
   ]
  },
  {
   "cell_type": "markdown",
   "metadata": {},
   "source": [
    "## Specifying parameters\n",
    "\n",
    "**_The parameter values used in this notebook reflect rough estimates of parameter values for the COVID-19 epidemic (as of 9 Aug 2020)._**"
   ]
  },
  {
   "cell_type": "markdown",
   "metadata": {},
   "source": [
    "### Set disease progression rate parameters:"
   ]
  },
  {
   "cell_type": "markdown",
   "metadata": {},
   "source": [
    "Parameter values are assigned to members of the population on an individual basis. Parameter values can be [specified to the `ExtSEIRSNetworkModel`](https://github.com/ryansmcgee/seirsplus/wiki/ExtSEIRSNetworkModel-Class#specifying-parameters) by providing a list of values that gives the *N* values to assign to each individual. The population may be either homogeneous or heterogeneous for a given parameter at the user's discretion. \n",
    "\n",
    "**Here we generate distributions of values for each parameter, and some parameter value are specified in an age-stratified manner, thus specifying a realistically heterogeneous population.**"
   ]
  },
  {
   "cell_type": "markdown",
   "metadata": {},
   "source": [
    "Generate a distribution of expected latent periods (time in Exposed state) and presymptomatic periods (time in Pre-symptomatic infectious state). The `sigma` and `lamda` rates are calculated as the inverse of the expected exposed and pre-symptomatic periods assigned to each individual, respectively."
   ]
  },
  {
   "cell_type": "code",
   "execution_count": 15,
   "metadata": {},
   "outputs": [
    {
     "name": "stdout",
     "output_type": "stream",
     "text": [
      "latent period:  mean = 2.20, std = 1.07, 95% CI = (0.60, 4.94)\n",
      "\n",
      "pre-symptomatic period:  mean = 2.92, std = 1.83, 95% CI = (0.57, 7.52)\n",
      "\n",
      "total incubation period:  mean = 5.12, std = 2.16, 95% CI = (1.85, 10.24)\n",
      "\n"
     ]
    },
    {
     "data": {
      "image/png": "[encoded data removed]",
      "text/plain": [
       "<Figure size 432x288 with 1 Axes>"
      ]
     },
     "metadata": {
      "needs_background": "light"
     },
     "output_type": "display_data"
    }
   ],
   "source": [
    "latentPeriod_mean, latentPeriod_coeffvar = 3.0, 0.6\n",
    "SIGMA   = 1 / gamma_dist(latentPeriod_mean, latentPeriod_coeffvar, N)\n",
    "\n",
    "presymptomaticPeriod_mean, presymptomaticPeriod_coeffvar = 2.2, 0.5\n",
    "LAMDA   = 1 / gamma_dist(presymptomaticPeriod_mean, presymptomaticPeriod_coeffvar, N)\n",
    "\n",
    "dist_info([1/LAMDA, 1/SIGMA, 1/LAMDA+1/SIGMA], [\"latent period\", \"pre-symptomatic period\", \"total incubation period\"], plot=True, colors=['gold', 'darkorange', 'black'], reverse_plot=True)"
   ]
  },
  {
   "cell_type": "markdown",
   "metadata": {},
   "source": [
    "Generate a distribution of expected (a)symptomatic periods (time in symptomatic or asymptomatic state). The `gamma` rates are calculated as the inverse of the expected (a)symptomatic periods assigned to each individual. \n",
    "\n",
    "The expected total infectious period for each individual is the sum of their expected pre-symptomatic and (a)symptomatic periods."
   ]
  },
  {
   "cell_type": "code",
   "execution_count": 16,
   "metadata": {},
   "outputs": [
    {
     "name": "stdout",
     "output_type": "stream",
     "text": [
      "pre-symptomatic period:  mean = 2.20, std = 1.07, 95% CI = (0.60, 4.94)\n",
      "\n",
      "(a)symptomatic period:  mean = 3.92, std = 1.60, 95% CI = (1.39, 7.69)\n",
      "\n",
      "total infectious period:  mean = 6.13, std = 1.91, 95% CI = (3.07, 10.31)\n",
      "\n"
     ]
    },
    {
     "data": {
      "image/png": "[encoded data removed]",
      "text/plain": [
       "<Figure size 432x288 with 1 Axes>"
      ]
     },
     "metadata": {
      "needs_background": "light"
     },
     "output_type": "display_data"
    }
   ],
   "source": [
    "symptomaticPeriod_mean, symptomaticPeriod_coeffvar = 4.0, 0.4\n",
    "GAMMA   = 1 / gamma_dist(symptomaticPeriod_mean, symptomaticPeriod_coeffvar, N)\n",
    "\n",
    "infectiousPeriod = 1/LAMDA + 1/GAMMA\n",
    "\n",
    "dist_info([1/LAMDA, 1/GAMMA, 1/LAMDA+1/GAMMA], [\"pre-symptomatic period\", \"(a)symptomatic period\", \"total infectious period\"], plot=True, colors=['darkorange', 'crimson', 'black'], reverse_plot=True)"
   ]
  },
  {
   "cell_type": "markdown",
   "metadata": {},
   "source": [
    "Generate a distribution of expected onset-to-hospitalization periods (time in symptomatic state before entering hospitalized state for those with severe cases) and hospitalization-to-discharge periods (time in hospitalized state for those with non-fatal cases). The `eta` and `gamma_H` rates are calculated as the inverse of the expected onset-to-hospitalization periods and hospitalization-to-discharge periods assigned to each individual, respectively."
   ]
  },
  {
   "cell_type": "code",
   "execution_count": 17,
   "metadata": {},
   "outputs": [
    {
     "name": "stdout",
     "output_type": "stream",
     "text": [
      "onset-to-hospitalization period:  mean = 11.64, std = 5.20, 95% CI = (4.00, 24.53)\n",
      "\n",
      "hospitalization-to-discharge period:  mean = 10.84, std = 4.88, 95% CI = (3.28, 20.87)\n",
      "\n",
      "onset-to-discharge period:  mean = 22.48, std = 7.10, 95% CI = (10.64, 39.78)\n",
      "\n"
     ]
    },
    {
     "data": {
      "image/png": "[encoded data removed]",
      "text/plain": [
       "<Figure size 432x288 with 1 Axes>"
      ]
     },
     "metadata": {
      "needs_background": "light"
     },
     "output_type": "display_data"
    }
   ],
   "source": [
    "onsetToHospitalizationPeriod_mean, onsetToHospitalizationPeriod_coeffvar = 11.0, 0.45\n",
    "ETA     = 1 / gamma_dist(onsetToHospitalizationPeriod_mean, onsetToHospitalizationPeriod_coeffvar, N)\n",
    "\n",
    "hospitalizationToDischargePeriod_mean, hospitalizationToDischargePeriod_coeffvar = 11.0, 0.45\n",
    "GAMMA_H = 1 / gamma_dist(hospitalizationToDischargePeriod_mean, hospitalizationToDischargePeriod_coeffvar, N)\n",
    "\n",
    "dist_info([1/ETA, 1/GAMMA_H, 1/ETA+1/GAMMA_H], [\"onset-to-hospitalization period\", \"hospitalization-to-discharge period\", \"onset-to-discharge period\"], plot=True, colors=['crimson', 'violet', 'black'], reverse_plot=True)"
   ]
  },
  {
   "cell_type": "markdown",
   "metadata": {},
   "source": [
    "Generate a distribution of hospitalization-to-death periods (time in hospitalized state for those with fatal cases). The `mu_H` rates are calculated as the inverse of the expected hospitalization-to-death periods."
   ]
  },
  {
   "cell_type": "code",
   "execution_count": 18,
   "metadata": {},
   "outputs": [
    {
     "name": "stdout",
     "output_type": "stream",
     "text": [
      "onset-to-hospitalization period:  mean = 11.64, std = 5.20, 95% CI = (4.00, 24.53)\n",
      "\n",
      "hospitalization-to-death period:  mean = 7.12, std = 3.16, 95% CI = (2.26, 14.37)\n",
      "\n",
      "onset-to-death period:  mean = 18.76, std = 6.18, 95% CI = (9.28, 33.03)\n",
      "\n"
     ]
    },
    {
     "data": {
      "image/png": "[encoded data removed]",
      "text/plain": [
       "<Figure size 432x288 with 1 Axes>"
      ]
     },
     "metadata": {
      "needs_background": "light"
     },
     "output_type": "display_data"
    }
   ],
   "source": [
    "hospitalizationToDeathPeriod_mean, hospitalizationToDeathPeriod_coeffvar = 7.0, 0.45\n",
    "MU_H    = 1 / gamma_dist(hospitalizationToDeathPeriod_mean, hospitalizationToDeathPeriod_coeffvar, N)\n",
    "\n",
    "dist_info([1/ETA, 1/MU_H, 1/ETA+1/MU_H], [\"onset-to-hospitalization period\", \"hospitalization-to-death period\", \"onset-to-death period\"], plot=True, colors=['crimson', 'darkgray', 'black'], reverse_plot=True)"
   ]
  },
  {
   "cell_type": "markdown",
   "metadata": {},
   "source": [
    "### Set severity parameters"
   ]
  },
  {
   "cell_type": "markdown",
   "metadata": {},
   "source": [
    "Specify the percentage of cases that are asymptomatic. This percentage of case will progress from the pre-symptomatic state to the asymptomatic state, rather than to the symptomatic state."
   ]
  },
  {
   "cell_type": "code",
   "execution_count": 19,
   "metadata": {},
   "outputs": [],
   "source": [
    "PCT_ASYMPTOMATIC = 0.8"
   ]
  },
  {
   "cell_type": "markdown",
   "metadata": {},
   "source": [
    "Here we age-stratify our definition of asymptomatic rate by setting the percent of asymptomatic cases for children to be 80% while the rest of the adult population remains set at 25%.\n",
    "\n",
    "The `individual_ageGroups` variable is returned by the [`generate_demographic_contact_network()` function](https://github.com/ryansmcgee/seirsplus/wiki/Network-generation#demographic-community-network) and holds a list of the age group labels assigned to each individual. This is useful for assigning parameters in an age-group-dependent way as we do for the following severity parameters."
   ]
  },
  {
   "cell_type": "code",
   "execution_count": 20,
   "metadata": {},
   "outputs": [],
   "source": [
    "PCT_HOSPITALIZED = 0.0004"
   ]
  },
  {
   "cell_type": "markdown",
   "metadata": {},
   "source": [
    "Here we specify fatality rates for hospitalized cases, again using rates taken from [Verity et al. (2020)](https://www.thelancet.com/journals/laninf/article/PIIS1473-3099(20)30243-7/fulltext)."
   ]
  },
  {
   "cell_type": "code",
   "execution_count": 21,
   "metadata": {},
   "outputs": [],
   "source": [
    "PCT_FATALITY = 0.3627"
   ]
  },
  {
   "cell_type": "markdown",
   "metadata": {},
   "source": [
    "### Set transmission parameters"
   ]
  },
  {
   "cell_type": "markdown",
   "metadata": {},
   "source": [
    "The [Extended SEIRS Network Model](https://github.com/ryansmcgee/seirsplus/wiki/Extended-SEIRS-Model-Description#stochastic-network-model-implementation) model considers two modes of disease transmission: a well-mixed mode of [global transmission](https://github.com/ryansmcgee/seirsplus/wiki/Extended-SEIRS-Model-Description#global-transmission) and a contact network based mode of [local transmission](https://github.com/ryansmcgee/seirsplus/wiki/Extended-SEIRS-Model-Description#local-transmission). The propensity for a given individual to become exposed due to global transmission depends on the mean transmissibility of all infectious individuals in the population; the propensity for a given individual to become exposed due to local transmission depends on the pairwise transmissibilities between the focal node and its infectious contacts in the network (see [Transmission](https://github.com/ryansmcgee/seirsplus/wiki/Extended-SEIRS-Model-Description#transmission) and [Model Equations](https://github.com/ryansmcgee/seirsplus/wiki/Extended-SEIRS-Model-Description#model-equations) for more information about these calculations). "
   ]
  },
  {
   "cell_type": "markdown",
   "metadata": {},
   "source": [
    "The transmissibility parameter *β* can be related to the basic reproduction number *R<sub>0</sub>* (i.e., the expected number of new infections generated by a single infectious individual in a completely susceptible population) by the standard formula: *β = R<sub>0</sub>𝛾*. *R<sub>0</sub>* is a more interpretable parameter, so we specify transmissibility in terms of *R<sub>0</sub>* and then calculate the corresponding *β* values.\n",
    "\n",
    "First, we generate a distribution of individual *R<sub>0</sub>* values (i.e., the expected number of new infections generated by a single *particular* infectious individual in a completely susceptible population). Of course, this means that transmissibility is heterogeneous in this population. The coefficient of variation is an important parameter for the individual *R<sub>0</sub>* distribution in that it tunes the degree of superspreading in the heterogeneous transmissibility. The distribution used in this example has a relatively low coefficient of variation, so most individuals have around the same degree of transmissibility. But a higher coefficient of variation (e.g., 2.0) would give a long right tail in idividual transmissibility representing a small number of individuals contributing many cases while the majority cases contribute less than 1 on average when they are infectious."
   ]
  },
  {
   "cell_type": "code",
   "execution_count": 22,
   "metadata": {},
   "outputs": [
    {
     "name": "stdout",
     "output_type": "stream",
     "text": [
      "Individual R0:  mean = 2.51, std = 0.51, 95% CI = (1.67, 3.64)\n",
      "\n"
     ]
    },
    {
     "data": {
      "image/png": "[encoded data removed]",
      "text/plain": [
       "<Figure size 432x288 with 1 Axes>"
      ]
     },
     "metadata": {
      "needs_background": "light"
     },
     "output_type": "display_data"
    }
   ],
   "source": [
    "R0_mean     = 2.5\n",
    "R0_coeffvar = 0.2\n",
    "\n",
    "R0 = gamma_dist(R0_mean, R0_coeffvar, N)\n",
    "\n",
    "dist_info(R0, \"Individual R0\", bin_size=0.1, plot=True, colors='crimson')"
   ]
  },
  {
   "cell_type": "markdown",
   "metadata": {},
   "source": [
    "Individuals are ultimately assigned an [*Individual Transmissibility Value*](https://github.com/ryansmcgee/seirsplus/wiki/ExtSEIRSNetworkModel-Class#transmissibility-parameters) (*β<sup>i</sup>*), which are stored in the `beta` attribute of the model object. \n",
    "\n",
    "The means of the Individual Transmissibility Values for infectious subpopulations are used to calculate the [global transmission](https://github.com/ryansmcgee/seirsplus/wiki/Extended-SEIRS-Model-Description#global-transmission) terms. Individual Transmissibility Values may also be used to generate the Pairwise Transmissibility Values used for [local transmission](https://github.com/ryansmcgee/seirsplus/wiki/Extended-SEIRS-Model-Description#local-transmission) terms, as we will specify in a few steps."
   ]
  },
  {
   "cell_type": "code",
   "execution_count": 23,
   "metadata": {},
   "outputs": [],
   "source": [
    "BETA = 1/infectiousPeriod * R0"
   ]
  },
  {
   "cell_type": "markdown",
   "metadata": {},
   "source": [
    "Individuals can be assigned different Individual Transmissibility Values for use when they are asymptomatic and quarantine states. \n",
    "\n",
    "Here we set the transmissibility of quarantined individuals such that the mean effective reproduction number for quarantined individuals is about 0.3. This supposes that individuals have different behavior, hygiene, etc. when they are quarantining relative to baseline."
   ]
  },
  {
   "cell_type": "code",
   "execution_count": 24,
   "metadata": {},
   "outputs": [],
   "source": [
    "BETA_Q = BETA * (0.3/R0_mean)"
   ]
  },
  {
   "cell_type": "markdown",
   "metadata": {},
   "source": [
    "Now we specify how we would like the [*Pairwise Transmissibility Values*](https://github.com/ryansmcgee/seirsplus/wiki/ExtSEIRSNetworkModel-Class#transmissibility-parameters) (*β<sup>i</sup>*), which define the local transmissibility for each pair of close contacts, to be calculated. There are [multiple ways to specify these pairwise transmissibilities](https://github.com/ryansmcgee/seirsplus/wiki/ExtSEIRSNetworkModel-Class#pairwise-transmissibility-values) (such as providing a matrix), but here we will set the `beta_pairwise_mode` argument of the `ExtSEIRSNetworkModel` constructor to `'infected'`, which will direct the model to automatically generate a matrix of Pairwise Transmissibility Values such that the transmissibility of each infectious-susceptible interaction is equal to the infected individual's transmissiblity."
   ]
  },
  {
   "cell_type": "code",
   "execution_count": 25,
   "metadata": {},
   "outputs": [],
   "source": [
    "BETA_PAIRWISE_MODE  = 'infected'"
   ]
  },
  {
   "cell_type": "markdown",
   "metadata": {},
   "source": [
    "Here we designate that we would like the model to automatically calculate [Connectivity Correction Factors](https://github.com/ryansmcgee/seirsplus/wiki/Extended-SEIRS-Model-Description#connectivity-correction-factor) for each pair of interacting close contacts. This pairwise factor is optional, but it can be used to weight the transmissibility of interactions according to the connectivity of the interacting individuals. Here we choose to weight interactions according to a ratio of the pair's mean degree to the population's mean degree (see [Specifying connectivity Correction Factors](https://github.com/ryansmcgee/seirsplus/wiki/ExtSEIRSNetworkModel-Class#connectivity-correction-factors) for more information). \n",
    "\n",
    "Using this definition, when two individuals whose average degree is an order of magnitude greater than the average degree of the population overall, then the propensity of exposure in their interaction is weighted to be twice that of two averagely-connected individuals. "
   ]
  },
  {
   "cell_type": "code",
   "execution_count": 26,
   "metadata": {},
   "outputs": [],
   "source": [
    "DELTA_PAIRWISE_MODE = 'mean'"
   ]
  },
  {
   "cell_type": "markdown",
   "metadata": {},
   "source": [
    "Here we set individual susceptibilities (default susceptibility is 1). \n",
    "\n",
    "In particular, we specify that children are half as susceptible as adults."
   ]
  },
  {
   "cell_type": "code",
   "execution_count": 27,
   "metadata": {},
   "outputs": [],
   "source": [
    "ALPHA = 1\n",
    "#ALPHA = 1.0"
   ]
  },
  {
   "cell_type": "markdown",
   "metadata": {},
   "source": [
    "In the stochastic network model, an individual comes into contact with a random individual from the population at large (e.g., in a public space) with probability *p* or with an individual from their set of close contacts with probability *(1-p)*. Transmission that occurs between an individual and the population at large is referred to as [global transmission](https://github.com/ryansmcgee/seirsplus/wiki/Extended-SEIRS-Model-Description#global-transmission), and transmission between an individual and one of their close contacts (network neighbors) is referred to as [local transmission](https://github.com/ryansmcgee/seirsplus/wiki/Extended-SEIRS-Model-Description#local-transmission). The parameter *p* defines the locality of the network: for *p=0* an individual only interacts with their close contacts, while *p=1* represents a uniformly mixed population.\n",
    "\n",
    "Here we set *p* to reflect 20% of interactions being with incidental or casual contacts outside their set of close contacts."
   ]
  },
  {
   "cell_type": "code",
   "execution_count": 28,
   "metadata": {},
   "outputs": [],
   "source": [
    "P_GLOBALINTXN = 0"
   ]
  },
  {
   "cell_type": "markdown",
   "metadata": {},
   "source": [
    "The parameter *q* (down)weights the rate of interactions with the population at large while one is in quarantine relative to baseline.\n",
    "\n",
    "Here we set *q* to 0.05, which supposes that global interactions are quite rare (but nonzero) for quarantined individuals."
   ]
  },
  {
   "cell_type": "code",
   "execution_count": 29,
   "metadata": {},
   "outputs": [],
   "source": [
    "Q_GLOBALINTXN = 0"
   ]
  },
  {
   "cell_type": "markdown",
   "metadata": {},
   "source": [
    "-------"
   ]
  },
  {
   "cell_type": "markdown",
   "metadata": {},
   "source": [
    "## Initializing the model"
   ]
  },
  {
   "cell_type": "code",
   "execution_count": 30,
   "metadata": {},
   "outputs": [
    {
     "name": "stdout",
     "output_type": "stream",
     "text": [
      "784\n"
     ]
    }
   ],
   "source": [
    "Nn = len(G_baseline.nodes)\n",
    "print(Nn)"
   ]
  },
  {
   "cell_type": "code",
   "execution_count": 31,
   "metadata": {},
   "outputs": [],
   "source": [
    "model = ExtSEIRSNetworkModel(G=G_baseline, p=P_GLOBALINTXN,\n",
    "                              beta=BETA, sigma=SIGMA, lamda=LAMDA, gamma=GAMMA, \n",
    "                              gamma_asym=GAMMA, eta=ETA, gamma_H=GAMMA_H, mu_H=MU_H, \n",
    "                              a=PCT_ASYMPTOMATIC, h=PCT_HOSPITALIZED, f=PCT_FATALITY,              \n",
    "                              alpha=ALPHA, beta_pairwise_mode=BETA_PAIRWISE_MODE, delta_pairwise_mode=DELTA_PAIRWISE_MODE,\n",
    "                              G_Q=G_quarantine, q=0, beta_Q=BETA_Q, isolation_time=14,\n",
    "                              initE=INIT_EXPOSED)"
   ]
  },
  {
   "cell_type": "markdown",
   "metadata": {},
   "source": [
    "-------"
   ]
  },
  {
   "cell_type": "code",
   "execution_count": 32,
   "metadata": {},
   "outputs": [],
   "source": [
    "#ALPHA = [1 for _ in range(len(G_baseline.nodes))]\n",
    "#ALPHA_SAVE = list(ALPHA)"
   ]
  },
  {
   "cell_type": "markdown",
   "metadata": {},
   "source": [
    "# do a lot"
   ]
  },
  {
   "cell_type": "code",
   "execution_count": 33,
   "metadata": {},
   "outputs": [],
   "source": [
    "weights = nx.get_edge_attributes(G_baseline,'weight')"
   ]
  },
  {
   "cell_type": "code",
   "execution_count": 34,
   "metadata": {},
   "outputs": [],
   "source": [
    "wmat = np.zeros((Nn, Nn))\n",
    "for i,(a,b) in enumerate(G_baseline.edges):\n",
    "    wmat[a,b] = weights[(a,b)]"
   ]
  },
  {
   "cell_type": "code",
   "execution_count": 35,
   "metadata": {},
   "outputs": [
    {
     "data": {
      "text/plain": [
       "576656"
      ]
     },
     "execution_count": 35,
     "metadata": {},
     "output_type": "execute_result"
    }
   ],
   "source": [
    "np.sum(wmat == 0)"
   ]
  },
  {
   "cell_type": "code",
   "execution_count": 36,
   "metadata": {},
   "outputs": [
    {
     "data": {
      "image/png": "[encoded data removed]",
      "text/plain": [
       "<Figure size 432x288 with 1 Axes>"
      ]
     },
     "metadata": {
      "needs_background": "light"
     },
     "output_type": "display_data"
    }
   ],
   "source": [
    "plt.hist((wmat[wmat>0]).flatten(), bins=100, log=True);"
   ]
  },
  {
   "cell_type": "code",
   "execution_count": 37,
   "metadata": {},
   "outputs": [],
   "source": [
    "#atom = np.min(wmat[wmat>0])\n",
    "#wmat_scaled = wmat / atom * 60*15 / 20\n",
    "#plt.hist((wmat_scaled[wmat_scaled>0]).flatten(), bins=100, log=True);"
   ]
  },
  {
   "cell_type": "code",
   "execution_count": 38,
   "metadata": {},
   "outputs": [],
   "source": [
    "INIT_EXPOSED = 30"
   ]
  },
  {
   "cell_type": "code",
   "execution_count": 39,
   "metadata": {},
   "outputs": [
    {
     "data": {
      "text/plain": [
       "array([0., 0., 0., ..., 0., 0., 0.])"
      ]
     },
     "execution_count": 39,
     "metadata": {},
     "output_type": "execute_result"
    }
   ],
   "source": [
    "model.numI_sym"
   ]
  },
  {
   "cell_type": "code",
   "execution_count": 40,
   "metadata": {},
   "outputs": [],
   "source": [
    "base_args = {\n",
    "    'G': G_baseline,\n",
    "    'p': P_GLOBALINTXN,\n",
    "    'beta': BETA,\n",
    "    #'beta_local': wmat_scaled,\n",
    "    'sigma': SIGMA,\n",
    "    'lamda': LAMDA,\n",
    "    'gamma': GAMMA,\n",
    "    'gamma_asym': GAMMA,\n",
    "    'eta':ETA,\n",
    "    'gamma_H':GAMMA_H,\n",
    "    'mu_H':MU_H,\n",
    "    'a':PCT_ASYMPTOMATIC,\n",
    "    'h':PCT_HOSPITALIZED,\n",
    "    'f':PCT_FATALITY,\n",
    "    'alpha':ALPHA,\n",
    "    'beta_pairwise_mode':BETA_PAIRWISE_MODE,\n",
    "    'delta_pairwise_mode':DELTA_PAIRWISE_MODE,\n",
    "    'G_Q':G_quarantine,\n",
    "    'q':Q_GLOBALINTXN,\n",
    "    'beta_Q':BETA_Q,\n",
    "    'isolation_time':14,\n",
    "    'initI_asym':INIT_EXPOSED # note that I'm putting them into the asymptomatic infectious group, to be similar to the other...\n",
    "}"
   ]
  },
  {
   "cell_type": "code",
   "execution_count": 41,
   "metadata": {},
   "outputs": [],
   "source": [
    "from epi_model import *"
   ]
  },
  {
   "cell_type": "code",
   "execution_count": 42,
   "metadata": {},
   "outputs": [],
   "source": [
    "nodes = sorted(G_baseline.nodes)\n",
    "edges = list(G_baseline.edges)\n",
    "net = unweightedNetwork(nodes, edges, 1)"
   ]
  },
  {
   "cell_type": "code",
   "execution_count": 43,
   "metadata": {},
   "outputs": [],
   "source": [
    "p = dict(params.covid_estimate)\n",
    "sim = simulations.SEIR_daily(net, p)"
   ]
  },
  {
   "cell_type": "code",
   "execution_count": 44,
   "metadata": {},
   "outputs": [],
   "source": [
    "model = ExtSEIRSNetworkModel(G=G_baseline, p=P_GLOBALINTXN,\n",
    "          beta=BETA, sigma=SIGMA, lamda=LAMDA, gamma=GAMMA) # a dummy for numks to resolve"
   ]
  },
  {
   "cell_type": "code",
   "execution_count": 45,
   "metadata": {},
   "outputs": [],
   "source": [
    "attrs_to_keep = [k for k in model.__dict__ if 'num' == k[:3]]\n",
    "attrs_to_keep += ['tseries']"
   ]
  },
  {
   "cell_type": "code",
   "execution_count": 46,
   "metadata": {},
   "outputs": [],
   "source": [
    "def friendHighDegRandTop3(sim, vaccinateN):\n",
    "    return sampling.friendHighDegRandTopN(sim, vaccinateN, N=3)\n",
    "def friendHighDegRandTop5(sim, vaccinateN):\n",
    "    return sampling.friendHighDegRandTopN(sim, vaccinateN, N=5)"
   ]
  },
  {
   "cell_type": "code",
   "execution_count": 47,
   "metadata": {},
   "outputs": [],
   "source": [
    "strats = [\n",
    "    sampling.friend,\n",
    "    sampling.friendHighDeg,\n",
    "    sampling.targeted,\n",
    "    sampling.none,\n",
    "    sampling.rand,\n",
    "    #sampling.friendHighDegClose,\n",
    "    #sampling.friendClose,\n",
    "    sampling.friendHighDegChain,\n",
    "    #sampling.friendWeightedChain,\n",
    "    friendHighDegRandTop3,\n",
    "    friendHighDegRandTop5,\n",
    "]"
   ]
  },
  {
   "cell_type": "code",
   "execution_count": 48,
   "metadata": {},
   "outputs": [],
   "source": [
    "models = defaultdict(list)"
   ]
  },
  {
   "cell_type": "code",
   "execution_count": 49,
   "metadata": {},
   "outputs": [],
   "source": [
    "N_PER = 50"
   ]
  },
  {
   "cell_type": "code",
   "execution_count": 50,
   "metadata": {},
   "outputs": [
    {
     "data": {
      "text/plain": [
       "78.4"
      ]
     },
     "execution_count": 50,
     "metadata": {},
     "output_type": "execute_result"
    }
   ],
   "source": [
    "len(G_baseline.nodes)*0.1"
   ]
  },
  {
   "cell_type": "code",
   "execution_count": 51,
   "metadata": {},
   "outputs": [
    {
     "name": "stdout",
     "output_type": "stream",
     "text": [
      "Starting friend\n",
      "friend finished after 14.0 seconds\n",
      "Starting friendHighDeg\n",
      "friendHighDeg finished after 13.4 seconds\n",
      "Starting targeted\n",
      "targeted finished after 13.6 seconds\n",
      "Starting none\n",
      "none finished after 14.5 seconds\n",
      "Starting rand\n",
      "rand finished after 14.4 seconds\n",
      "Starting friendHighDegChain\n",
      "friendHighDegChain finished after 14.6 seconds\n",
      "Starting friendHighDegRandTop3\n",
      "friendHighDegRandTop3 finished after 15.1 seconds\n",
      "Starting friendHighDegRandTop5\n",
      "friendHighDegRandTop5 finished after 15.1 seconds\n"
     ]
    }
   ],
   "source": [
    "from time import time\n",
    "\n",
    "for strat in strats:    \n",
    "    sname = strat.__name__\n",
    "    print('Starting', sname)\n",
    "    st = time()\n",
    "    \n",
    "    for i in range(N_PER - len(models[sname])):\n",
    "\n",
    "        ns_to_remove = strat(sim, int(len(G_baseline.nodes)*0.1))\n",
    "        \n",
    "        ALPHA = [1 if i not in ns_to_remove else 0 for i in range(Nn)]\n",
    "            \n",
    "        args = dict(base_args)\n",
    "        args['alpha'] = ALPHA\n",
    "            \n",
    "        model = ExtSEIRSNetworkModel(**args) \n",
    "\n",
    "        model.run(100,verbose=False)\n",
    "        models[sname].append({\n",
    "            k: getattr(model, k)\n",
    "            for k in attrs_to_keep\n",
    "        })\n",
    "    print( f'{sname} finished after {time() - st:0.1f} seconds' )"
   ]
  },
  {
   "cell_type": "code",
   "execution_count": 52,
   "metadata": {},
   "outputs": [],
   "source": [
    "xxx = model.A.todense()"
   ]
  },
  {
   "cell_type": "code",
   "execution_count": 53,
   "metadata": {},
   "outputs": [
    {
     "data": {
      "image/png": "[encoded data removed]",
      "text/plain": [
       "<Figure size 432x288 with 1 Axes>"
      ]
     },
     "metadata": {
      "needs_background": "light"
     },
     "output_type": "display_data"
    }
   ],
   "source": [
    "plt.hist(np.array(xxx[xxx>0]).flatten(), bins=40, log=True);"
   ]
  },
  {
   "cell_type": "code",
   "execution_count": 54,
   "metadata": {},
   "outputs": [
    {
     "data": {
      "text/plain": [
       "False"
      ]
     },
     "execution_count": 54,
     "metadata": {},
     "output_type": "execute_result"
    }
   ],
   "source": [
    "bool({})"
   ]
  },
  {
   "cell_type": "code",
   "execution_count": 55,
   "metadata": {},
   "outputs": [
    {
     "data": {
      "text/plain": [
       "[50, 50, 50, 50, 50, 50, 50, 50]"
      ]
     },
     "execution_count": 55,
     "metadata": {},
     "output_type": "execute_result"
    }
   ],
   "source": [
    "[len(m) for m in models.values()]"
   ]
  },
  {
   "cell_type": "code",
   "execution_count": 56,
   "metadata": {},
   "outputs": [
    {
     "data": {
      "image/png": "[encoded data removed]",
      "text/plain": [
       "<Figure size 432x288 with 1 Axes>"
      ]
     },
     "metadata": {},
     "output_type": "display_data"
    }
   ],
   "source": [
    "nx.draw(G, node_size=2, edge_color=(0.2,0.2,0.2,0.1))"
   ]
  },
  {
   "cell_type": "code",
   "execution_count": 57,
   "metadata": {},
   "outputs": [
    {
     "ename": "AttributeError",
     "evalue": "'ExtSEIRSNetworkModel' object has no attribute 'numI_'",
     "output_type": "error",
     "traceback": [
      "\u001b[1;31m---------------------------------------------------------------------------\u001b[0m",
      "\u001b[1;31mAttributeError\u001b[0m                            Traceback (most recent call last)",
      "\u001b[1;32m<ipython-input-57-07eeb918cbc5>\u001b[0m in \u001b[0;36m<module>\u001b[1;34m\u001b[0m\n\u001b[1;32m----> 1\u001b[1;33m \u001b[0mmodel\u001b[0m\u001b[1;33m.\u001b[0m\u001b[0mnumI_\u001b[0m\u001b[1;33m\u001b[0m\u001b[1;33m\u001b[0m\u001b[0m\n\u001b[0m",
      "\u001b[1;31mAttributeError\u001b[0m: 'ExtSEIRSNetworkModel' object has no attribute 'numI_'"
     ]
    }
   ],
   "source": [
    "model.numI_"
   ]
  },
  {
   "cell_type": "code",
   "execution_count": null,
   "metadata": {},
   "outputs": [],
   "source": [
    "for k in models:\n",
    "    for i in range(len(models[k])):\n",
    "        m = models[k][i]\n",
    "\n",
    "        plt.plot(m['tseries'], m['numI_asym'] + m['numI_pre'] + m['numI_sym'], label=i, linewidth=1, color='black', alpha=0.03)\n",
    "    #plt.legend()\n",
    "    plt.title(k)\n",
    "    plt.ylim(0,m['numNodes'])\n",
    "    plt.show()"
   ]
  },
  {
   "cell_type": "code",
   "execution_count": null,
   "metadata": {},
   "outputs": [],
   "source": [
    "for k in models:\n",
    "    for i in range(len(models[k])):\n",
    "        m = models[k][i]\n",
    "\n",
    "        plt.plot(m['tseries'], m['numNodes'] - m['numS'], label=i, linewidth=1, color='black', alpha=0.03)\n",
    "    #plt.legend()\n",
    "    plt.title(k)\n",
    "    plt.ylim(0,m['numNodes'])\n",
    "    plt.show()"
   ]
  },
  {
   "cell_type": "code",
   "execution_count": null,
   "metadata": {},
   "outputs": [],
   "source": [
    "def get_N(m, t):\n",
    "    latest = np.max( np.where( m['tseries'] <= t ) )\n",
    "    return m['numNodes'] - m['numS'][latest]"
   ]
  },
  {
   "cell_type": "code",
   "execution_count": null,
   "metadata": {},
   "outputs": [],
   "source": [
    "ts = np.arange(0,100, 0.2)\n",
    "plt.plot(\n",
    "    ts,\n",
    "    [get_N(m, t) for t in ts]\n",
    ")"
   ]
  },
  {
   "cell_type": "code",
   "execution_count": null,
   "metadata": {},
   "outputs": [],
   "source": [
    "ts = np.arange(0,100, 0.2)\n",
    "for k in models:\n",
    "    series = [np.mean( [get_N(m, t) for m in models[k]] ) for t in ts]\n",
    "    plt.plot( ts, series, label=k )\n",
    "plt.legend();"
   ]
  },
  {
   "cell_type": "code",
   "execution_count": null,
   "metadata": {},
   "outputs": [],
   "source": [
    "ts = np.arange(20,60, 1)\n",
    "\n",
    "means = {}\n",
    "for k in models:\n",
    "    means[k] = np.mean( [ (m['numNodes'] - m['numS'])[-1] for m in models[k] ]  )\n",
    "    \n",
    "for k in sorted(models, key=lambda x:means[x]):\n",
    "    series = [np.mean( [get_N(m, t) for m in models[k]] ) for t in ts]\n",
    "    plt.plot( ts, series, label=k )\n",
    "plt.legend();\n",
    "plt.ylim(80,94)\n",
    "plt.xlim(20,60)"
   ]
  },
  {
   "cell_type": "code",
   "execution_count": null,
   "metadata": {},
   "outputs": [],
   "source": [
    "ts = np.arange(20,60, 1)\n",
    "\n",
    "means = {}\n",
    "for k in models:\n",
    "    means[k] = np.mean( [ (m['numNodes'] - m['numS'])[-1] for m in models[k] ]  )\n",
    "    \n",
    "QUANTILE = 0.75\n",
    "    \n",
    "for k in sorted(models, key=lambda x:means[x]):\n",
    "    series = [np.mean( [get_N(m, t) for m in models[k]] ) for t in ts]\n",
    "    plt.plot( ts, series, label=k )\n",
    "    \n",
    "    smax = [np.quantile( [get_N(m, t) for m in models[k]], QUANTILE ) for t in ts]\n",
    "    smin = [np.quantile( [get_N(m, t) for m in models[k]], 1-QUANTILE ) for t in ts]\n",
    "    plt.plot(ts, smin)\n",
    "    plt.plot(ts, smax)\n",
    "    \n",
    "plt.legend();\n",
    "#plt.ylim(80,94)\n",
    "#plt.xlim(20,60)"
   ]
  },
  {
   "cell_type": "code",
   "execution_count": null,
   "metadata": {},
   "outputs": [],
   "source": [
    "ts = np.arange(20,60, 1)\n",
    "\n",
    "means = {}\n",
    "for k in models:\n",
    "    means[k] = np.mean( [ (m['numNodes'] - m['numS'])[-1] for m in models[k] ]  )\n",
    "    \n",
    "for k in sorted(models, key=lambda x:means[x]):\n",
    "    series = [np.max( [get_N(m, t) for m in models[k]] ) for t in ts]\n",
    "    plt.plot( ts, series, label=k )\n",
    "plt.legend();\n",
    "#plt.ylim(80,94)\n",
    "#plt.xlim(20,60)"
   ]
  },
  {
   "cell_type": "code",
   "execution_count": null,
   "metadata": {},
   "outputs": [],
   "source": [
    "ks = sorted(models)"
   ]
  },
  {
   "cell_type": "code",
   "execution_count": null,
   "metadata": {},
   "outputs": [],
   "source": [
    "means, stds = {}, {}\n",
    "for k in ks:\n",
    "    means[k] = np.mean( [ (m['numNodes'] - m['numS'])[-1] for m in models[k] ]  )\n",
    "    stds[k] = np.std( [ (m['numNodes'] - m['numS'])[-1] for m in models[k] ]  )"
   ]
  },
  {
   "cell_type": "code",
   "execution_count": null,
   "metadata": {},
   "outputs": [],
   "source": [
    "from scipy.stats import wilcoxon"
   ]
  },
  {
   "cell_type": "code",
   "execution_count": null,
   "metadata": {},
   "outputs": [],
   "source": [
    "wilcoxons = {}\n",
    "\n",
    "for k1 in ks:\n",
    "    for k2 in ks:\n",
    "        if k1 == k2:\n",
    "            val = np.nan\n",
    "        else:\n",
    "            val = wilcoxon( \n",
    "                [ (m['numNodes'] - m['numS'])[-1] for m in models[k1] ],\n",
    "                [ (m['numNodes'] - m['numS'])[-1] for m in models[k2] ] \n",
    "            ).pvalue\n",
    "        wilcoxons[(k1,k2)] = val"
   ]
  },
  {
   "cell_type": "code",
   "execution_count": null,
   "metadata": {},
   "outputs": [],
   "source": [
    "plt.hist( [x for x in wilcoxons.values()], bins=30 );"
   ]
  },
  {
   "cell_type": "code",
   "execution_count": null,
   "metadata": {},
   "outputs": [],
   "source": [
    "wilcox_mat = np.zeros((len(ks),len(ks)))"
   ]
  },
  {
   "cell_type": "code",
   "execution_count": null,
   "metadata": {},
   "outputs": [],
   "source": [
    "for (k1,k2), val in wilcoxons.items():\n",
    "    wilcox_mat[ \n",
    "        ks.index(k1),\n",
    "        ks.index(k2)\n",
    "    ] = val"
   ]
  },
  {
   "cell_type": "code",
   "execution_count": null,
   "metadata": {},
   "outputs": [],
   "source": [
    "plt.imshow(wilcox_mat)\n",
    "plt.xticks(range(len(ks)),ks,rotation='vertical')\n",
    "plt.yticks(range(len(ks)),ks);\n",
    "plt.colorbar();\n",
    "\n",
    "for ki1 in range(len(ks)):\n",
    "    for ki2 in range(len(ks)):\n",
    "        if wilcox_mat[ki1,ki2] < 0.05:\n",
    "            plt.text( ki1-0.25, ki2+0.5, \"*\", color='white', size=30 )"
   ]
  },
  {
   "cell_type": "code",
   "execution_count": null,
   "metadata": {},
   "outputs": [],
   "source": [
    "ks = sorted(models, key=lambda x:means[x])"
   ]
  },
  {
   "cell_type": "code",
   "execution_count": null,
   "metadata": {},
   "outputs": [],
   "source": [
    "ks.remove('none')"
   ]
  },
  {
   "cell_type": "code",
   "execution_count": null,
   "metadata": {},
   "outputs": [],
   "source": [
    "ks"
   ]
  },
  {
   "cell_type": "code",
   "execution_count": null,
   "metadata": {},
   "outputs": [],
   "source": [
    "stds"
   ]
  },
  {
   "cell_type": "code",
   "execution_count": null,
   "metadata": {},
   "outputs": [],
   "source": [
    "plt.errorbar?"
   ]
  },
  {
   "cell_type": "code",
   "execution_count": null,
   "metadata": {},
   "outputs": [],
   "source": [
    "marr = np.array([means[k] for k in ks])\n",
    "sarr = np.array([stds[k] for k in ks])\n",
    "N = len(models['none'])\n",
    "\n",
    "plt.bar(\n",
    "    ks,\n",
    "    marr\n",
    ")\n",
    "plt.errorbar(\n",
    "    ks,\n",
    "    marr,\n",
    "    yerr=sarr/np.sqrt(N),\n",
    "    color='black'\n",
    ")\n",
    "plt.ylim(605,620)\n",
    "plt.xticks(ks, rotation='vertical');"
   ]
  },
  {
   "cell_type": "code",
   "execution_count": null,
   "metadata": {},
   "outputs": [],
   "source": [
    "for k in models:\n",
    "    m = np.mean( [ (m['numNodes'] - m['numS'])[-1] for m in models[k] ]  )\n",
    "    print(f'{k}: {m:0.1f}')"
   ]
  }
 ],
 "metadata": {
  "kernelspec": {
   "display_name": "Python 3",
   "language": "python",
   "name": "python3"
  },
  "language_info": {
   "codemirror_mode": {
    "name": "ipython",
    "version": 3
   },
   "file_extension": ".py",
   "mimetype": "text/x-python",
   "name": "python",
   "nbconvert_exporter": "python",
   "pygments_lexer": "ipython3",
   "version": "3.7.5"
  }
 },
 "nbformat": 4,
 "nbformat_minor": 4
}
