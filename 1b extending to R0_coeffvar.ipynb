{
 "cells": [
  {
   "cell_type": "code",
   "execution_count": 1,
   "metadata": {},
   "outputs": [],
   "source": [
    "from simulation_manager import *"
   ]
  },
  {
   "cell_type": "code",
   "execution_count": 2,
   "metadata": {},
   "outputs": [],
   "source": [
    "from epi_model import *"
   ]
  },
  {
   "cell_type": "code",
   "execution_count": 3,
   "metadata": {},
   "outputs": [],
   "source": [
    "from simulation_helper import *"
   ]
  },
  {
   "cell_type": "code",
   "execution_count": 4,
   "metadata": {},
   "outputs": [],
   "source": [
    "argset = iter_args({\n",
    "    'strat': {x.__name__: x for x in strats},\n",
    "    'R0_mean': 2.5,\n",
    "    'VACCINATE_P': 0.20,\n",
    "    'INITIAL_INFECT': 20,\n",
    "    'R0_coeffvar': [0.2, 0.8, 1.4, 2.0, 2.5]\n",
    "})"
   ]
  },
  {
   "cell_type": "code",
   "execution_count": 5,
   "metadata": {},
   "outputs": [],
   "source": [
    "models_names = ['HS1', 'HS2', 'synthetic_3']"
   ]
  },
  {
   "cell_type": "code",
   "execution_count": 7,
   "metadata": {},
   "outputs": [
    {
     "name": "stdout",
     "output_type": "stream",
     "text": [
      "Loading from checkpoint HS1\n",
      "Loading from checkpoint HS2\n",
      "Loading from original synthetic_3\n"
     ]
    }
   ],
   "source": [
    "# when new\n",
    "managers = {} \n",
    "for name in models_names:\n",
    "    manager = simulation_manager()\n",
    "    \n",
    "    next_fn = Path(f\"simulation_results/{name}-R0_coeffvar.pickle\")\n",
    "    if next_fn.exists():\n",
    "        print(f\"Loading from checkpoint {name}\")\n",
    "        manager.load_models(name+\"-R0_coeffvar\")\n",
    "    else:\n",
    "        print(f\"Loading from original {name}\")    \n",
    "        manager.load_models(name)\n",
    "        \n",
    "    managers[name] = manager"
   ]
  },
  {
   "cell_type": "code",
   "execution_count": 8,
   "metadata": {},
   "outputs": [],
   "source": [
    "if False:\n",
    "    # clear everything lol...\n",
    "    for m in managers.values():\n",
    "        m.models = defaultdict(list)\n",
    "        m.base_arg_sets = {}"
   ]
  },
  {
   "cell_type": "code",
   "execution_count": 9,
   "metadata": {},
   "outputs": [],
   "source": [
    "from frozendict import frozendict as fzd"
   ]
  },
  {
   "cell_type": "code",
   "execution_count": 10,
   "metadata": {},
   "outputs": [
    {
     "data": {
      "text/plain": [
       "['HS1', 'HS2', 'synthetic_3']"
      ]
     },
     "execution_count": 10,
     "metadata": {},
     "output_type": "execute_result"
    }
   ],
   "source": [
    "list(managers)"
   ]
  },
  {
   "cell_type": "code",
   "execution_count": 15,
   "metadata": {},
   "outputs": [
    {
     "name": "stdout",
     "output_type": "stream",
     "text": [
      "[300, 300, 300, 300, 300, 300, 300, 300, 300, 300, 300, 300, 300, 300, 300, 300, 300, 300, 300, 300, 300, 300, 300, 300, 300, 300, 300, 300, 300, 300, 300, 300, 300, 300, 300, 300, 300, 300, 300, 300, 300, 300, 300, 300, 300, 300, 300, 300, 300, 300]\n",
      "[300, 300, 300, 300, 300, 300, 300, 300, 300, 300, 300, 300, 300, 300, 300, 300, 300, 300, 300, 300, 300, 300, 300, 300, 300, 300, 300, 300, 300, 300, 300, 300, 300, 300, 300, 300, 300, 300, 300, 300, 300, 300, 300, 300, 300, 300, 300, 300, 300, 300]\n",
      "[300, 300, 300, 300, 300, 300, 300, 300, 300, 300, 300, 300, 300, 300, 300, 300, 300, 300, 300, 300, 300, 300, 300, 300, 300, 300, 300, 300, 300, 300, 300, 300, 300, 300, 300, 300, 300, 300, 300, 300, 300, 300, 300, 300, 300, 300, 300, 300, 300, 300, 300, 300, 300, 300, 300, 300, 300, 300, 300, 300, 300, 300, 300, 300, 300, 300, 300, 300, 300, 300, 300, 300, 300, 300, 300, 300, 300, 300, 300, 300, 196, 190, 190, 190, 190, 190, 190, 190, 190, 190, 190, 190, 190, 190, 190, 190, 190, 190, 190, 190, 190, 190, 190, 190, 190, 190, 190, 190, 190, 190, 190, 190, 190, 190, 190, 190, 190, 190, 190, 190, 190, 190, 190, 190, 190, 190, 190, 190, 190, 190]\n"
     ]
    }
   ],
   "source": [
    "for m in managers.values():\n",
    "    print([len(y) for y in m.models.values()])"
   ]
  },
  {
   "cell_type": "code",
   "execution_count": null,
   "metadata": {},
   "outputs": [],
   "source": [
    "for mname, m in managers.items():\n",
    "    print(f'Starting on {mname}')\n",
    "    m.run_and_checkpoint(\n",
    "        argset, \n",
    "        N_PER=300, \n",
    "        interval=10, \n",
    "        verbose=False, \n",
    "        dump_name=mname+\"-R0_coeffvar\"\n",
    "    )"
   ]
  },
  {
   "cell_type": "code",
   "execution_count": 16,
   "metadata": {},
   "outputs": [],
   "source": [
    "for mname, m in managers.items():\n",
    "    m.dump_models(mname+\"-R0_coeffvar\")"
   ]
  },
  {
   "cell_type": "code",
   "execution_count": null,
   "metadata": {},
   "outputs": [],
   "source": [
    "if False:\n",
    "\n",
    "    # the annoying business of translating parameter dictionaries, because of the lack of defaults...\n",
    "    # it's always something...\n",
    "    for mname, m in managers.items():\n",
    "        todel = []\n",
    "        toset = []\n",
    "        for k,v in m.models.items():\n",
    "            if 'R0_coeffvar' not in k:\n",
    "                k2 = dict(k)\n",
    "                k2['R0_coeffvar'] = 0.2\n",
    "                k2 = fzd(k2)\n",
    "                toset.append((k2, v))\n",
    "                todel.append(k)\n",
    "\n",
    "        for k in todel:\n",
    "            del m.models[k]\n",
    "\n",
    "        for k2,v in toset:\n",
    "            m.models[k2] = v"
   ]
  }
 ],
 "metadata": {
  "kernelspec": {
   "display_name": "Python 3",
   "language": "python",
   "name": "python3"
  },
  "language_info": {
   "codemirror_mode": {
    "name": "ipython",
    "version": 3
   },
   "file_extension": ".py",
   "mimetype": "text/x-python",
   "name": "python",
   "nbconvert_exporter": "python",
   "pygments_lexer": "ipython3",
   "version": "3.7.5"
  }
 },
 "nbformat": 4,
 "nbformat_minor": 4
}
