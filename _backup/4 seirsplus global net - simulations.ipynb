{
 "cells": [
  {
   "cell_type": "markdown",
   "metadata": {},
   "source": [
    "# simulate a faster way..."
   ]
  },
  {
   "cell_type": "code",
   "execution_count": 6,
   "metadata": {},
   "outputs": [],
   "source": [
    "from epi_model import *"
   ]
  },
  {
   "cell_type": "code",
   "execution_count": 7,
   "metadata": {},
   "outputs": [],
   "source": [
    "from seirsplus import *"
   ]
  },
  {
   "cell_type": "code",
   "execution_count": 8,
   "metadata": {},
   "outputs": [],
   "source": [
    "G = nx.Graph()"
   ]
  },
  {
   "cell_type": "code",
   "execution_count": 9,
   "metadata": {},
   "outputs": [],
   "source": [
    "from csv import DictReader\n",
    "\n",
    "with open('seirsplus_network.csv', 'r', encoding='utf8') as inf:\n",
    "    rs = list(DictReader(inf))\n",
    "\n",
    "rs = [[int(y) for y in sorted(x.values())] for x in rs]"
   ]
  },
  {
   "cell_type": "code",
   "execution_count": 10,
   "metadata": {},
   "outputs": [],
   "source": [
    "nodes = sorted(set(x[0] for x in rs).union({x[1] for x in rs}))"
   ]
  },
  {
   "cell_type": "code",
   "execution_count": 11,
   "metadata": {},
   "outputs": [],
   "source": [
    "nm = {n:i for i,n in enumerate(nodes)}"
   ]
  },
  {
   "cell_type": "code",
   "execution_count": 12,
   "metadata": {},
   "outputs": [],
   "source": [
    "rs = [[nm[x[0]],nm[x[1]]] for x in rs]"
   ]
  },
  {
   "cell_type": "code",
   "execution_count": 13,
   "metadata": {},
   "outputs": [],
   "source": [
    "G.add_edges_from( rs )"
   ]
  },
  {
   "cell_type": "code",
   "execution_count": 14,
   "metadata": {},
   "outputs": [
    {
     "data": {
      "text/plain": [
       "7983"
      ]
     },
     "execution_count": 14,
     "metadata": {},
     "output_type": "execute_result"
    }
   ],
   "source": [
    "len(G.nodes)"
   ]
  },
  {
   "cell_type": "code",
   "execution_count": 15,
   "metadata": {},
   "outputs": [],
   "source": [
    "#beta = 1 / 0.2 - 1 # still a little unsure here"
   ]
  },
  {
   "cell_type": "code",
   "execution_count": 16,
   "metadata": {},
   "outputs": [],
   "source": [
    "from seirsplus.models import SEIRSNetworkModel"
   ]
  },
  {
   "cell_type": "code",
   "execution_count": 18,
   "metadata": {},
   "outputs": [],
   "source": [
    "m = SEIRSNetworkModel(\n",
    "        G,               #Network adjacency matrix (numpy array) or Networkx graph object.\n",
    "        beta=1/1.54,            #Rate of transmission (global interactions)\n",
    "        #beta_local=1/10,      #Rate(s) of transmission between adjacent individuals (optional)\n",
    "        sigma=1/4.5,           #Rate of progression to infectious state (inverse of latent period)             \n",
    "        gamma=1/3.34,           #Rate of recovery (inverse of symptomatic infectious period)           \n",
    "        mu_I=0.03,            #Rate of infection-related death\n",
    "        xi=0,              #Rate of re-susceptibility (upon recovery)\n",
    "        mu_0=0,            #Rate of baseline death\n",
    "        nu=0,              #Rate of baseline birth                        \n",
    "        p=0.5,               #Probability of individuals interacting with global population \n",
    ")"
   ]
  },
  {
   "cell_type": "code",
   "execution_count": 19,
   "metadata": {},
   "outputs": [],
   "source": [
    "# they initially infect 10/100,000\n",
    "# I should do something comparable to the schools..."
   ]
  },
  {
   "cell_type": "code",
   "execution_count": 20,
   "metadata": {},
   "outputs": [
    {
     "data": {
      "text/plain": [
       "7983"
      ]
     },
     "execution_count": 20,
     "metadata": {},
     "output_type": "execute_result"
    }
   ],
   "source": [
    "len(nodes)"
   ]
  },
  {
   "cell_type": "code",
   "execution_count": 21,
   "metadata": {},
   "outputs": [],
   "source": [
    "m.introduce_exposures( int(len(nodes)*0.2) )"
   ]
  },
  {
   "cell_type": "code",
   "execution_count": 22,
   "metadata": {},
   "outputs": [
    {
     "name": "stdout",
     "output_type": "stream",
     "text": [
      "With these parameters, it would take 6.2 hours to run. 0.3 days.\n",
      "Better start now!\n"
     ]
    }
   ],
   "source": [
    "#ttrun = 154 #seconds for 20k network, 10 days\n",
    "ttrun = 22.5 #seconds for 8k network, 10 days\n",
    "strategies = 5\n",
    "sims = 100\n",
    "infparms = 2\n",
    "\n",
    "t = ttrun * strategies * sims * infparms\n",
    "print(f\"With these parameters, it would take {t/3600:0.1f} hours to run. {t/(3600*24):0.1f} days.\")\n",
    "print(\"Better start now!\")"
   ]
  },
  {
   "cell_type": "code",
   "execution_count": 33,
   "metadata": {},
   "outputs": [
    {
     "name": "stdout",
     "output_type": "stream",
     "text": [
      "t = 0.00\n",
      "t = 10.00\n",
      "t = 20.01\n",
      "t = 30.31\n",
      "29.152416229248047\n"
     ]
    }
   ],
   "source": [
    "import time\n",
    "ts = time.time()\n",
    "m.run(50)\n",
    "te = time.time()\n",
    "print(te-ts)"
   ]
  },
  {
   "cell_type": "code",
   "execution_count": 34,
   "metadata": {},
   "outputs": [],
   "source": [
    "num_types = [k for k in m.__dict__ if 'num' == k[:3]]"
   ]
  },
  {
   "cell_type": "code",
   "execution_count": 35,
   "metadata": {},
   "outputs": [
    {
     "name": "stdout",
     "output_type": "stream",
     "text": [
      "numNodes 7983 7983\n",
      "numNodes_Q 7983 7983\n",
      "numS [7983. 6387. 6387. ...   43.   43.   43.] 46595356.0\n",
      "numE [   0. 1595. 1594. ...    0.    0.    0.] 24995109.0\n",
      "numI [0. 1. 2. ... 2. 1. 0.] 60056535.0\n",
      "numR [0. 0. 0. ... 0. 0. 0.] 0.0\n",
      "numF [0. 0. 0. ... 0. 0. 0.] 0.0\n",
      "numQ_E [0. 0. 0. ... 0. 0. 0.] 0.0\n",
      "numQ_I [0. 0. 0. ... 0. 0. 0.] 0.0\n",
      "numTested [0. 0. 0. ... 0. 0. 0.] 0.0\n",
      "numPositive [0. 0. 0. ... 0. 0. 0.] 0.0\n"
     ]
    }
   ],
   "source": [
    "for n in num_types:\n",
    "    print(n, getattr(m,n), np.sum(getattr(m,n)))"
   ]
  },
  {
   "cell_type": "code",
   "execution_count": 36,
   "metadata": {},
   "outputs": [
    {
     "data": {
      "text/plain": [
       "{'StoE': {'currentState': 1, 'newState': 2},\n",
       " 'EtoI': {'currentState': 2, 'newState': 3},\n",
       " 'ItoR': {'currentState': 3, 'newState': 4},\n",
       " 'ItoF': {'currentState': 3, 'newState': 5},\n",
       " 'RtoS': {'currentState': 4, 'newState': 1},\n",
       " 'EtoQE': {'currentState': 2, 'newState': 6},\n",
       " 'ItoQI': {'currentState': 3, 'newState': 7},\n",
       " 'QEtoQI': {'currentState': 6, 'newState': 7},\n",
       " 'QItoR': {'currentState': 7, 'newState': 4},\n",
       " 'QItoF': {'currentState': 7, 'newState': 5},\n",
       " '_toS': {'currentState': True, 'newState': 1}}"
      ]
     },
     "execution_count": 36,
     "metadata": {},
     "output_type": "execute_result"
    }
   ],
   "source": [
    "m.transitions"
   ]
  },
  {
   "cell_type": "code",
   "execution_count": 37,
   "metadata": {},
   "outputs": [
    {
     "data": {
      "text/plain": [
       "Counter({'StoE': 6344})"
      ]
     },
     "execution_count": 37,
     "metadata": {},
     "output_type": "execute_result"
    }
   ],
   "source": [
    "Counter( [x['infection_type'] for x in m.infectionsLog] )"
   ]
  },
  {
   "cell_type": "code",
   "execution_count": 44,
   "metadata": {},
   "outputs": [
    {
     "data": {
      "text/plain": [
       "[<matplotlib.lines.Line2D at 0x1e92c2290c8>]"
      ]
     },
     "execution_count": 44,
     "metadata": {},
     "output_type": "execute_result"
    },
    {
     "data": {
      "image/png": "[encoded data removed]",
      "text/plain": [
       "<Figure size 432x288 with 1 Axes>"
      ]
     },
     "metadata": {},
     "output_type": "display_data"
    }
   ],
   "source": [
    "plt.plot( (m.numNodes - m.numS)/m.numNodes )"
   ]
  },
  {
   "cell_type": "code",
   "execution_count": null,
   "metadata": {},
   "outputs": [],
   "source": [
    "inf_perc = (m.numNodes - m.numS)/m.numNodes"
   ]
  },
  {
   "cell_type": "code",
   "execution_count": 39,
   "metadata": {},
   "outputs": [
    {
     "data": {
      "text/plain": [
       "[<matplotlib.lines.Line2D at 0x1e92c31c188>]"
      ]
     },
     "execution_count": 39,
     "metadata": {},
     "output_type": "execute_result"
    },
    {
     "data": {
      "image/png": "[encoded data removed]",
      "text/plain": [
       "<Figure size 432x288 with 1 Axes>"
      ]
     },
     "metadata": {},
     "output_type": "display_data"
    }
   ],
   "source": [
    "plt.plot(m.total_num_infected())"
   ]
  },
  {
   "cell_type": "code",
   "execution_count": 40,
   "metadata": {},
   "outputs": [
    {
     "data": {
      "image/png": "[encoded data removed]",
      "text/plain": [
       "<Figure size 864x576 with 1 Axes>"
      ]
     },
     "metadata": {},
     "output_type": "display_data"
    },
    {
     "data": {
      "text/plain": [
       "(<Figure size 864x576 with 1 Axes>,\n",
       " <matplotlib.axes._subplots.AxesSubplot at 0x1e9282bd988>)"
      ]
     },
     "execution_count": 40,
     "metadata": {},
     "output_type": "execute_result"
    }
   ],
   "source": [
    "m.figure_basic()"
   ]
  },
  {
   "cell_type": "code",
   "execution_count": 41,
   "metadata": {},
   "outputs": [
    {
     "data": {
      "image/png": "[encoded data removed]",
      "text/plain": [
       "<Figure size 864x576 with 1 Axes>"
      ]
     },
     "metadata": {},
     "output_type": "display_data"
    },
    {
     "data": {
      "text/plain": [
       "(<Figure size 864x576 with 1 Axes>,\n",
       " <matplotlib.axes._subplots.AxesSubplot at 0x1e9283f57c8>)"
      ]
     },
     "execution_count": 41,
     "metadata": {},
     "output_type": "execute_result"
    }
   ],
   "source": [
    "m.figure_infections()"
   ]
  },
  {
   "cell_type": "markdown",
   "metadata": {},
   "source": [
    "# and repeat!"
   ]
  },
  {
   "cell_type": "code",
   "execution_count": 27,
   "metadata": {},
   "outputs": [],
   "source": [
    "from epi_model import *"
   ]
  },
  {
   "cell_type": "code",
   "execution_count": 28,
   "metadata": {},
   "outputs": [],
   "source": [
    "from seirsplus.models import SEIRSNetworkModel"
   ]
  },
  {
   "cell_type": "code",
   "execution_count": 29,
   "metadata": {},
   "outputs": [],
   "source": [
    "net = unweightedNetwork.from_csv('seirsplus_network.csv', 20)"
   ]
  },
  {
   "cell_type": "code",
   "execution_count": 30,
   "metadata": {},
   "outputs": [],
   "source": [
    "p = dict(params.covid_estimate)\n",
    "sim = simulations.SEIR_daily(net, p)"
   ]
  },
  {
   "cell_type": "code",
   "execution_count": 31,
   "metadata": {},
   "outputs": [],
   "source": [
    "strats = [\n",
    "    sampling.none,\n",
    "    sampling.rand,\n",
    "    sampling.friendHighDeg,\n",
    "    sampling.targeted,\n",
    "]"
   ]
  },
  {
   "cell_type": "code",
   "execution_count": 32,
   "metadata": {},
   "outputs": [],
   "source": [
    "beta = 1 / 0.2 - 1 # still a little unsure here"
   ]
  },
  {
   "cell_type": "code",
   "execution_count": 33,
   "metadata": {},
   "outputs": [],
   "source": [
    "from csv import DictReader\n",
    "\n",
    "with open('seirsplus_network.csv', 'r', encoding='utf8') as inf:\n",
    "    rs = list(DictReader(inf))\n",
    "\n",
    "rs = [[int(y) for y in sorted(x.values())] for x in rs]\n",
    "\n",
    "nodes = sorted(set(x[0] for x in rs).union({x[1] for x in rs}))\n",
    "\n",
    "nm = {n:i for i,n in enumerate(nodes)}\n",
    "\n",
    "rs = [[nm[x[0]],nm[x[1]]] for x in rs]\n",
    "\n",
    "G = nx.Graph()\n",
    "G.add_nodes_from( nodes )\n",
    "G.add_edges_from( rs )"
   ]
  },
  {
   "cell_type": "code",
   "execution_count": 34,
   "metadata": {},
   "outputs": [
    {
     "data": {
      "text/plain": [
       "Counter({1: 6387, 2: 1596})"
      ]
     },
     "execution_count": 34,
     "metadata": {},
     "output_type": "execute_result"
    }
   ],
   "source": [
    "Counter(m.X.flatten())"
   ]
  },
  {
   "cell_type": "code",
   "execution_count": 35,
   "metadata": {},
   "outputs": [
    {
     "data": {
      "text/plain": [
       "4"
      ]
     },
     "execution_count": 35,
     "metadata": {},
     "output_type": "execute_result"
    }
   ],
   "source": [
    "m.R"
   ]
  },
  {
   "cell_type": "code",
   "execution_count": 36,
   "metadata": {},
   "outputs": [
    {
     "data": {
      "text/plain": [
       "4"
      ]
     },
     "execution_count": 36,
     "metadata": {},
     "output_type": "execute_result"
    }
   ],
   "source": [
    "m.R"
   ]
  },
  {
   "cell_type": "code",
   "execution_count": 40,
   "metadata": {},
   "outputs": [
    {
     "name": "stdout",
     "output_type": "stream",
     "text": [
      "Sim 0\n",
      "Strat none\n",
      "Strat rand\n",
      "Strat friendHighDeg\n",
      "Strat targeted\n"
     ]
    }
   ],
   "source": [
    "NSIMS = 1\n",
    "ms = defaultdict(list)\n",
    "\n",
    "for i in range(NSIMS):\n",
    "    print('Sim',i)\n",
    "    \n",
    "    for strat in strats:\n",
    "        print('Strat',strat.__name__)\n",
    "        \n",
    "        Gsub = G.copy()\n",
    "        tovacc = strat(sim, int(0.1*len(G.nodes)))\n",
    "        Gsub.remove_nodes_from(tovacc)\n",
    "        Gsub.add_nodes_from(tovacc)\n",
    "        assert(len(Gsub.edges) != len(G.edges) or strat == sampling.none)\n",
    "\n",
    "        m = SEIRSNetworkModel(\n",
    "                Gsub,               #Network adjacency matrix (numpy array) or Networkx graph object.\n",
    "                beta=beta,            #Rate of transmission (global interactions)\n",
    "                #beta_local=1/10,      #Rate(s) of transmission between adjacent individuals (optional)\n",
    "                sigma=1/3,           #Rate of progression to infectious state (inverse of latent period)             \n",
    "                gamma=1/14,           #Rate of recovery (inverse of symptomatic infectious period)           \n",
    "                mu_I=0,            #Rate of infection-related death\n",
    "                xi=0,              #Rate of re-susceptibility (upon recovery)\n",
    "                mu_0=0,            #Rate of baseline death\n",
    "                nu=0,              #Rate of baseline birth                        \n",
    "                p=0,               #Probability of individuals interacting with global population \n",
    "        )\n",
    "            \n",
    "        m.introduce_exposures( int(len(G.nodes)*0.2) )\n",
    "\n",
    "        m.run(5, print_interval=None)\n",
    "        \n",
    "        ms[strat.__name__].append(\n",
    "            (m.tseries, m.numNodes - m.numS)\n",
    "            #(m.numNodes - m.numS)[-1] # total aggregate number infected after the period of time...\n",
    "        )"
   ]
  },
  {
   "cell_type": "code",
   "execution_count": 38,
   "metadata": {},
   "outputs": [
    {
     "data": {
      "text/plain": [
       "['none', 'rand', 'friendHighDeg', 'targeted']"
      ]
     },
     "execution_count": 38,
     "metadata": {},
     "output_type": "execute_result"
    }
   ],
   "source": [
    "list(ms)"
   ]
  },
  {
   "cell_type": "code",
   "execution_count": 74,
   "metadata": {},
   "outputs": [],
   "source": [
    "#np.sum( ms['friend'][0][:15000] - ms['friendHighDeg'][0][:15000] )"
   ]
  },
  {
   "cell_type": "code",
   "execution_count": 41,
   "metadata": {},
   "outputs": [
    {
     "data": {
      "text/plain": [
       "(750.0, 8000.0)"
      ]
     },
     "execution_count": 41,
     "metadata": {},
     "output_type": "execute_result"
    },
    {
     "data": {
      "image/png": "[encoded data removed]",
      "text/plain": [
       "<Figure size 432x288 with 1 Axes>"
      ]
     },
     "metadata": {
      "needs_background": "light"
     },
     "output_type": "display_data"
    }
   ],
   "source": [
    "for k,m in ms.items():\n",
    "    t, y = m[0]\n",
    "    plt.plot(t, y,label=k)\n",
    "plt.legend()\n",
    "#plt.xlim(0,2000)\n",
    "plt.ylim(750,len(G.nodes))"
   ]
  },
  {
   "cell_type": "markdown",
   "metadata": {},
   "source": [
    "# simulate the slow way"
   ]
  },
  {
   "cell_type": "code",
   "execution_count": 42,
   "metadata": {},
   "outputs": [],
   "source": [
    "from epi_model import *"
   ]
  },
  {
   "cell_type": "code",
   "execution_count": 44,
   "metadata": {},
   "outputs": [],
   "source": [
    "#net = unweightedNetwork.from_csv('seirsplus_network.csv', (15*3600 / 20)) # 15m per contact...\n",
    "#NEVER DO THIS. THIS CRASHED YOUR COMPUTER"
   ]
  },
  {
   "cell_type": "code",
   "execution_count": 46,
   "metadata": {},
   "outputs": [],
   "source": [
    "from datetime import datetime"
   ]
  },
  {
   "cell_type": "code",
   "execution_count": 47,
   "metadata": {},
   "outputs": [
    {
     "data": {
      "text/plain": [
       "0.0020053345578178567"
      ]
     },
     "execution_count": 47,
     "metadata": {},
     "output_type": "execute_result"
    }
   ],
   "source": [
    "params.daily_to_momentary(net, 0.2)"
   ]
  },
  {
   "cell_type": "code",
   "execution_count": 48,
   "metadata": {},
   "outputs": [],
   "source": [
    "p = dict(params.covid_estimate)\n",
    "sim = simulations.SEIR_daily(net, p)"
   ]
  },
  {
   "cell_type": "code",
   "execution_count": 49,
   "metadata": {},
   "outputs": [
    {
     "data": {
      "text/plain": [
       "7983"
      ]
     },
     "execution_count": 49,
     "metadata": {},
     "output_type": "execute_result"
    }
   ],
   "source": [
    "net.Nnodes"
   ]
  },
  {
   "cell_type": "code",
   "execution_count": 50,
   "metadata": {},
   "outputs": [],
   "source": [
    "strat = sampling.friendHighDeg\n",
    "tovacc = strat(sim, int(0.1*len(G.nodes)))\n",
    "nmap = {n:i for i,n in enumerate(G.nodes)}\n",
    "\n",
    "for who in tovacc:\n",
    "    sim.state_change(nmap[who], 'vacc')\n",
    "\n",
    "for who in sample([x for x in range(net.Nnodes)], int(0.2*net.Nnodes)):\n",
    "    sim.state_change(who, 'exp')    \n",
    "\n",
    "sim.run(5)"
   ]
  },
  {
   "cell_type": "code",
   "execution_count": 51,
   "metadata": {},
   "outputs": [
    {
     "data": {
      "text/plain": [
       "1690.0"
      ]
     },
     "execution_count": 51,
     "metadata": {},
     "output_type": "execute_result"
    }
   ],
   "source": [
    "sim.meas['rec'][-1] + sim.meas['inf'][-1] + sim.meas['exp'][-1]"
   ]
  },
  {
   "cell_type": "code",
   "execution_count": 52,
   "metadata": {},
   "outputs": [
    {
     "data": {
      "text/plain": [
       "['exp', 'inf', 'rec', 'sus', 'vacc']"
      ]
     },
     "execution_count": 52,
     "metadata": {},
     "output_type": "execute_result"
    }
   ],
   "source": [
    "sorted(sim.meas)"
   ]
  },
  {
   "cell_type": "code",
   "execution_count": 53,
   "metadata": {},
   "outputs": [
    {
     "data": {
      "text/plain": [
       "[0.0, 6.0, 20.0, 41.0, 59.0]"
      ]
     },
     "execution_count": 53,
     "metadata": {},
     "output_type": "execute_result"
    }
   ],
   "source": [
    "sim.meas['rec']"
   ]
  },
  {
   "cell_type": "code",
   "execution_count": 54,
   "metadata": {},
   "outputs": [
    {
     "data": {
      "text/plain": [
       "dict_keys(['none', 'rand', 'friendHighDeg', 'targeted'])"
      ]
     },
     "execution_count": 54,
     "metadata": {},
     "output_type": "execute_result"
    }
   ],
   "source": [
    "ms.keys()"
   ]
  },
  {
   "cell_type": "code",
   "execution_count": 56,
   "metadata": {},
   "outputs": [
    {
     "data": {
      "text/plain": [
       "array([1596., 1607., 1627., 1658., 1690.])"
      ]
     },
     "execution_count": 56,
     "metadata": {},
     "output_type": "execute_result"
    }
   ],
   "source": [
    "np.sum( [\n",
    "    np.array(sim.meas[K])\n",
    "    for K in ['inf','rec','exp']\n",
    "], axis=0 )"
   ]
  },
  {
   "cell_type": "code",
   "execution_count": 55,
   "metadata": {},
   "outputs": [
    {
     "data": {
      "text/plain": [
       "[<matplotlib.lines.Line2D at 0x1c9e9b82948>]"
      ]
     },
     "execution_count": 55,
     "metadata": {},
     "output_type": "execute_result"
    },
    {
     "data": {
      "image/png": "[encoded data removed]",
      "text/plain": [
       "<Figure size 432x288 with 1 Axes>"
      ]
     },
     "metadata": {
      "needs_background": "light"
     },
     "output_type": "display_data"
    }
   ],
   "source": [
    "t, y = ms['none'][0]\n",
    "plt.plot(t, y, label='continuous')\n",
    "\n",
    "plt.plot(\n",
    "    range(1,6),\n",
    "    np.sum( [\n",
    "        np.array(sim.meas[K])\n",
    "        for K in ['inf','rec','exp']\n",
    "    ], axis=0 )\n",
    ")"
   ]
  }
 ],
 "metadata": {
  "kernelspec": {
   "display_name": "Python 3",
   "language": "python",
   "name": "python3"
  },
  "language_info": {
   "codemirror_mode": {
    "name": "ipython",
    "version": 3
   },
   "file_extension": ".py",
   "mimetype": "text/x-python",
   "name": "python",
   "nbconvert_exporter": "python",
   "pygments_lexer": "ipython3",
   "version": "3.7.5"
  }
 },
 "nbformat": 4,
 "nbformat_minor": 4
}
