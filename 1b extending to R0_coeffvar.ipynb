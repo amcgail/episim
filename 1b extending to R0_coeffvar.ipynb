{
 "cells": [
  {
   "cell_type": "code",
   "execution_count": 1,
   "metadata": {},
   "outputs": [],
   "source": [
    "from simulation_manager import *"
   ]
  },
  {
   "cell_type": "code",
   "execution_count": 2,
   "metadata": {},
   "outputs": [],
   "source": [
    "from epi_model import *"
   ]
  },
  {
   "cell_type": "code",
   "execution_count": 3,
   "metadata": {},
   "outputs": [],
   "source": [
    "from simulation_helper import *"
   ]
  },
  {
   "cell_type": "code",
   "execution_count": 4,
   "metadata": {},
   "outputs": [],
   "source": [
    "argset = iter_args({\n",
    "    'strat': {x.__name__: x for x in strats},\n",
    "    'R0_mean': 2.5,\n",
    "    'VACCINATE_P': 0.20,\n",
    "    'INITIAL_INFECT': 20,\n",
    "    'R0_coeffvar': [0.2, 0.8, 1.4, 2.0, 2.5]\n",
    "})"
   ]
  },
  {
   "cell_type": "code",
   "execution_count": 5,
   "metadata": {},
   "outputs": [],
   "source": [
    "models_names = ['HS1', 'HS2', 'synthetic_3000']"
   ]
  },
  {
   "cell_type": "code",
   "execution_count": 6,
   "metadata": {},
   "outputs": [
    {
     "name": "stdout",
     "output_type": "stream",
     "text": [
      "Loading from checkpoint HS1\n",
      "Loading from checkpoint HS2\n",
      "Loading from checkpoint synthetic_3000\n"
     ]
    }
   ],
   "source": [
    "# when new\n",
    "managers = {} \n",
    "for name in models_names:\n",
    "    manager = simulation_manager()\n",
    "    \n",
    "    next_fn = Path(f\"simulation_results/{name}-R0_coeffvar.pickle\")\n",
    "    if next_fn.exists():\n",
    "        print(f\"Loading from checkpoint {name}\")\n",
    "        manager.load_models(name+\"-R0_coeffvar\")\n",
    "    else:\n",
    "        print(f\"Loading from original {name}\")    \n",
    "        manager.load_models(name)\n",
    "        \n",
    "    managers[name] = manager"
   ]
  },
  {
   "cell_type": "code",
   "execution_count": 14,
   "metadata": {},
   "outputs": [],
   "source": [
    "if True:\n",
    "    # clear everything lol...\n",
    "    for m in managers.values():\n",
    "        m.models = defaultdict(list)\n",
    "        m.base_arg_sets = {}"
   ]
  },
  {
   "cell_type": "code",
   "execution_count": 7,
   "metadata": {},
   "outputs": [],
   "source": [
    "from frozendict import frozendict as fzd"
   ]
  },
  {
   "cell_type": "code",
   "execution_count": 8,
   "metadata": {},
   "outputs": [
    {
     "data": {
      "text/plain": [
       "['HS1', 'HS2', 'synthetic_3000']"
      ]
     },
     "execution_count": 8,
     "metadata": {},
     "output_type": "execute_result"
    }
   ],
   "source": [
    "list(managers)"
   ]
  },
  {
   "cell_type": "code",
   "execution_count": 9,
   "metadata": {},
   "outputs": [
    {
     "name": "stdout",
     "output_type": "stream",
     "text": [
      "[300, 300, 300, 300, 300, 300, 300, 300, 300, 300, 300, 300, 300, 300, 300, 300, 300, 300, 300, 300, 300, 300, 300, 300, 300, 300, 300, 300, 300, 300, 300, 300, 300, 300, 300, 300, 300, 300, 300, 300, 300, 300, 300, 300, 300, 300, 300, 300, 300, 300]\n",
      "[300, 300, 300, 300, 300, 300, 300, 300, 300, 300, 300, 300, 300, 300, 300, 300, 300, 300, 300, 300, 300, 300, 300, 300, 300, 300, 300, 300, 300, 300, 300, 300, 300, 300, 300, 300, 300, 300, 300, 300, 300, 300, 300, 300, 300, 300, 300, 300, 300, 300]\n",
      "[40, 40, 40, 40, 40, 40, 40, 40, 40, 40, 40, 40, 40, 40, 40, 40, 40, 40, 40, 40, 40, 40, 40, 40, 40, 40, 40, 40, 40, 40, 40, 40, 40, 40, 40, 40, 40, 40, 40, 40, 40, 40, 40, 40, 40, 40, 40, 40, 40, 40]\n"
     ]
    }
   ],
   "source": [
    "for m in managers.values():\n",
    "    print([len(y) for y in m.models.values()])"
   ]
  },
  {
   "cell_type": "code",
   "execution_count": 10,
   "metadata": {},
   "outputs": [
    {
     "name": "stdout",
     "output_type": "stream",
     "text": [
      "Starting on HS1\n",
      "starting at 310\n"
     ]
    },
    {
     "name": "stderr",
     "output_type": "stream",
     "text": [
      "/Users/alecmcgail/envs/epi/lib/python3.8/site-packages/networkx/linalg/graphmatrix.py:187: FutureWarning: adjacency_matrix will return a scipy.sparse array instead of a matrix in Networkx 3.0.\n",
      "  return adjacency_matrix(G, nodelist, dtype, weight)\n"
     ]
    },
    {
     "name": "stdout",
     "output_type": "stream",
     "text": [
      "Checkpointing after 310/500 simulations\n",
      "Checkpointing after 320/500 simulations\n",
      "Checkpointing after 330/500 simulations\n",
      "Checkpointing after 340/500 simulations\n",
      "Checkpointing after 350/500 simulations\n",
      "Checkpointing after 360/500 simulations\n",
      "Checkpointing after 370/500 simulations\n",
      "Checkpointing after 380/500 simulations\n",
      "Checkpointing after 390/500 simulations\n",
      "Checkpointing after 400/500 simulations\n",
      "Checkpointing after 410/500 simulations\n",
      "Checkpointing after 420/500 simulations\n",
      "Checkpointing after 430/500 simulations\n",
      "Checkpointing after 440/500 simulations\n",
      "Checkpointing after 450/500 simulations\n",
      "Checkpointing after 460/500 simulations\n",
      "Checkpointing after 470/500 simulations\n",
      "Checkpointing after 480/500 simulations\n",
      "Checkpointing after 490/500 simulations\n",
      "Checkpointing after 500/500 simulations\n",
      "Starting on HS2\n",
      "starting at 310\n",
      "Checkpointing after 310/500 simulations\n",
      "Checkpointing after 320/500 simulations\n",
      "Checkpointing after 330/500 simulations\n",
      "Checkpointing after 340/500 simulations\n",
      "Checkpointing after 350/500 simulations\n",
      "Checkpointing after 360/500 simulations\n",
      "Checkpointing after 370/500 simulations\n",
      "Checkpointing after 380/500 simulations\n",
      "Checkpointing after 390/500 simulations\n",
      "Checkpointing after 400/500 simulations\n",
      "Checkpointing after 410/500 simulations\n",
      "Checkpointing after 420/500 simulations\n",
      "Checkpointing after 430/500 simulations\n",
      "Checkpointing after 440/500 simulations\n",
      "Checkpointing after 450/500 simulations\n",
      "Checkpointing after 460/500 simulations\n",
      "Checkpointing after 470/500 simulations\n",
      "Checkpointing after 480/500 simulations\n",
      "Checkpointing after 490/500 simulations\n",
      "Checkpointing after 500/500 simulations\n",
      "Starting on synthetic_3000\n",
      "starting at 50\n",
      "Checkpointing after 50/500 simulations\n",
      "Checkpointing after 60/500 simulations\n",
      "Checkpointing after 70/500 simulations\n",
      "Checkpointing after 80/500 simulations\n",
      "Checkpointing after 90/500 simulations\n",
      "Checkpointing after 100/500 simulations\n",
      "Checkpointing after 110/500 simulations\n",
      "Checkpointing after 120/500 simulations\n",
      "Checkpointing after 130/500 simulations\n",
      "Checkpointing after 140/500 simulations\n",
      "Checkpointing after 150/500 simulations\n",
      "Checkpointing after 160/500 simulations\n",
      "Checkpointing after 170/500 simulations\n",
      "Checkpointing after 180/500 simulations\n",
      "Checkpointing after 190/500 simulations\n",
      "Checkpointing after 200/500 simulations\n",
      "Checkpointing after 210/500 simulations\n",
      "Checkpointing after 220/500 simulations\n",
      "Checkpointing after 230/500 simulations\n",
      "Checkpointing after 240/500 simulations\n",
      "Checkpointing after 250/500 simulations\n",
      "Checkpointing after 260/500 simulations\n",
      "Checkpointing after 270/500 simulations\n",
      "Checkpointing after 280/500 simulations\n",
      "Checkpointing after 290/500 simulations\n",
      "Checkpointing after 300/500 simulations\n",
      "Checkpointing after 310/500 simulations\n",
      "Checkpointing after 320/500 simulations\n",
      "Checkpointing after 330/500 simulations\n",
      "Checkpointing after 340/500 simulations\n",
      "Checkpointing after 350/500 simulations\n",
      "Checkpointing after 360/500 simulations\n",
      "Checkpointing after 370/500 simulations\n",
      "Checkpointing after 380/500 simulations\n",
      "Checkpointing after 390/500 simulations\n",
      "Checkpointing after 400/500 simulations\n",
      "Checkpointing after 410/500 simulations\n",
      "Checkpointing after 420/500 simulations\n",
      "Checkpointing after 430/500 simulations\n",
      "Checkpointing after 440/500 simulations\n",
      "Checkpointing after 450/500 simulations\n",
      "Checkpointing after 460/500 simulations\n",
      "Checkpointing after 470/500 simulations\n",
      "Checkpointing after 480/500 simulations\n",
      "Checkpointing after 490/500 simulations\n",
      "Checkpointing after 500/500 simulations\n"
     ]
    }
   ],
   "source": [
    "for mname, m in managers.items():\n",
    "    print(f'Starting on {mname}')\n",
    "    m.run_and_checkpoint(\n",
    "        argset, \n",
    "        N_PER=500, \n",
    "        interval=10, \n",
    "        verbose=False, \n",
    "        dump_name=mname+\"-R0_coeffvar\"\n",
    "    )"
   ]
  },
  {
   "cell_type": "code",
   "execution_count": null,
   "metadata": {},
   "outputs": [],
   "source": [
    "if False:\n",
    "\n",
    "    # the annoying business of translating parameter dictionaries, because of the lack of defaults...\n",
    "    # it's always something...\n",
    "    for mname, m in managers.items():\n",
    "        todel = []\n",
    "        toset = []\n",
    "        for k,v in m.models.items():\n",
    "            if 'R0_coeffvar' not in k:\n",
    "                k2 = dict(k)\n",
    "                k2['R0_coeffvar'] = 0.2\n",
    "                k2 = fzd(k2)\n",
    "                toset.append((k2, v))\n",
    "                todel.append(k)\n",
    "\n",
    "        for k in todel:\n",
    "            del m.models[k]\n",
    "\n",
    "        for k2,v in toset:\n",
    "            m.models[k2] = v"
   ]
  }
 ],
 "metadata": {
  "kernelspec": {
   "display_name": "Python 3 (ipykernel)",
   "language": "python",
   "name": "python3"
  },
  "language_info": {
   "codemirror_mode": {
    "name": "ipython",
    "version": 3
   },
   "file_extension": ".py",
   "mimetype": "text/x-python",
   "name": "python",
   "nbconvert_exporter": "python",
   "pygments_lexer": "ipython3",
   "version": "3.8.9"
  }
 },
 "nbformat": 4,
 "nbformat_minor": 4
}
