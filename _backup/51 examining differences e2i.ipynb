{
 "cells": [
  {
   "cell_type": "code",
   "execution_count": 2,
   "metadata": {},
   "outputs": [],
   "source": [
    "from epi_model import *"
   ]
  },
  {
   "cell_type": "code",
   "execution_count": 3,
   "metadata": {},
   "outputs": [
    {
     "data": {
      "text/plain": [
       "0.0020360181630843435"
      ]
     },
     "execution_count": 3,
     "metadata": {},
     "output_type": "execute_result"
    }
   ],
   "source": [
    "net = temporalNetwork.load('high school')\n",
    "params.daily_to_momentary_fixing(net, 0.2)"
   ]
  },
  {
   "cell_type": "code",
   "execution_count": 4,
   "metadata": {},
   "outputs": [
    {
     "data": {
      "text/plain": [
       "0.001028683297533876"
      ]
     },
     "execution_count": 4,
     "metadata": {},
     "output_type": "execute_result"
    }
   ],
   "source": [
    "params.daily_to_momentary(net, 0.2)"
   ]
  },
  {
   "cell_type": "markdown",
   "metadata": {},
   "source": [
    "This notebook was borne of a realization that I was using the exponential function, instead of explicitly calculating the R^N (where N is very large, and N is close to 1)."
   ]
  },
  {
   "cell_type": "markdown",
   "metadata": {},
   "source": [
    "Turns out it *really* doesn't matter. These are so close in this case that it was all fine. Yay!"
   ]
  },
  {
   "cell_type": "code",
   "execution_count": 20,
   "metadata": {},
   "outputs": [],
   "source": [
    "from bulk_simulation_loader import *"
   ]
  },
  {
   "cell_type": "code",
   "execution_count": 2,
   "metadata": {},
   "outputs": [],
   "source": [
    "from pathlib import Path"
   ]
  },
  {
   "cell_type": "code",
   "execution_count": 3,
   "metadata": {},
   "outputs": [
    {
     "data": {
      "text/plain": [
       "[WindowsPath('simulation_results/full_run_9.pickle'),\n",
       " WindowsPath('simulation_results/full_run_9b.pickle')]"
      ]
     },
     "execution_count": 3,
     "metadata": {},
     "output_type": "execute_result"
    }
   ],
   "source": [
    "list(Path(\"simulation_results\").glob(\"*\"))"
   ]
  },
  {
   "cell_type": "code",
   "execution_count": 4,
   "metadata": {},
   "outputs": [],
   "source": [
    "a_fn = 'simulation_results/full_run_9.pickle'\n",
    "b_fn = 'simulation_results/full_run_9b.pickle'"
   ]
  },
  {
   "cell_type": "code",
   "execution_count": 5,
   "metadata": {},
   "outputs": [],
   "source": [
    "ams = load_simulation(a_fn)"
   ]
  },
  {
   "cell_type": "code",
   "execution_count": 6,
   "metadata": {},
   "outputs": [],
   "source": [
    "bms = load_simulation(b_fn)"
   ]
  },
  {
   "cell_type": "code",
   "execution_count": 11,
   "metadata": {},
   "outputs": [],
   "source": [
    "ks = list(ams.keys())"
   ]
  },
  {
   "cell_type": "code",
   "execution_count": 18,
   "metadata": {},
   "outputs": [],
   "source": [
    "import numpy as np"
   ]
  },
  {
   "cell_type": "code",
   "execution_count": 17,
   "metadata": {},
   "outputs": [],
   "source": [
    "def met_pl(x):\n",
    "    return np.mean( [met(z) for z in x] )\n",
    "\n",
    "def met(x):\n",
    "    return x['inf'][-1] + x['exp'][-1] + x['rec'][-1]"
   ]
  },
  {
   "cell_type": "code",
   "execution_count": 19,
   "metadata": {},
   "outputs": [
    {
     "name": "stdout",
     "output_type": "stream",
     "text": [
      "(0, 0.05, 0.05, 'friendHighDegRandTop3') 39.85 39.77\n",
      "(0, 0.1, 0.05, 'friendHighDegRandTop3') 67.975 69.165\n",
      "(0, 0.2, 0.05, 'friendHighDegRandTop3') 136.62 136.215\n",
      "(1, 0.05, 0.05, 'friendHighDegRandTop3') 101.285 102.975\n",
      "(1, 0.1, 0.05, 'friendHighDegRandTop3') 332.02 327.58\n",
      "(1, 0.2, 0.05, 'friendHighDegRandTop3') 636.415 636.285\n",
      "(0, 0.1, 0.05, 'friendHighDegRandTop5') 70.765 70.275\n",
      "(0, 0.2, 0.05, 'friendHighDegRandTop5') 138.235 138.77\n",
      "(0, 0.05, 0.05, 'friendHighDegRandTop5') 40.725 41.225\n",
      "(0, 0.1, 0.1, 'friendHighDegRandTop3') 59.015 58.825\n",
      "(0, 0.2, 0.1, 'friendHighDegRandTop3') 109.67 110.645\n",
      "(0, 0.05, 0.1, 'friendHighDegRandTop3') 38.015 37.02\n",
      "(0, 0.1, 0.1, 'friendHighDegRandTop5') 61.135 59.37\n",
      "(0, 0.2, 0.1, 'friendHighDegRandTop5') 114.585 114.38\n",
      "(0, 0.05, 0.1, 'friendHighDegRandTop5') 37.905 37.69\n",
      "(0, 0.1, 0.2, 'friendHighDegRandTop3') 44.94 44.875\n",
      "(0, 0.2, 0.2, 'friendHighDegRandTop3') 75.235 73.285\n",
      "(0, 0.05, 0.2, 'friendHighDegRandTop3') 31.715 31.435\n",
      "(0, 0.1, 0.2, 'friendHighDegRandTop5') 46.655 46.695\n",
      "(0, 0.2, 0.2, 'friendHighDegRandTop5') 78.82 78.95\n",
      "(0, 0.05, 0.2, 'friendHighDegRandTop5') 32.155 32.23\n",
      "(1, 0.05, 0.05, 'friendHighDegRandTop5') 102.915 102.36\n",
      "(1, 0.1, 0.05, 'friendHighDegRandTop5') 334.315 336.245\n",
      "(1, 0.2, 0.05, 'friendHighDegRandTop5') 637.92 638.24\n",
      "(1, 0.05, 0.1, 'friendHighDegRandTop3') 85.175 85.68\n",
      "(1, 0.1, 0.1, 'friendHighDegRandTop3') 274.04 274.94\n",
      "(1, 0.2, 0.1, 'friendHighDegRandTop3') 583.28 581.845\n",
      "(1, 0.05, 0.1, 'friendHighDegRandTop5') 84.52 89.86\n",
      "(1, 0.1, 0.1, 'friendHighDegRandTop5') 274.82 277.235\n",
      "(1, 0.2, 0.1, 'friendHighDegRandTop5') 582.67 584.61\n",
      "(1, 0.05, 0.2, 'friendHighDegRandTop3') 63.635 65.595\n",
      "(1, 0.1, 0.2, 'friendHighDegRandTop3') 179.055 179.0\n",
      "(1, 0.2, 0.2, 'friendHighDegRandTop3') 460.09 460.14\n",
      "(1, 0.05, 0.2, 'friendHighDegRandTop5') 63.545 62.025\n",
      "(1, 0.1, 0.2, 'friendHighDegRandTop5') 183.26 179.675\n",
      "(1, 0.2, 0.2, 'friendHighDegRandTop5') 460.14 458.02\n"
     ]
    }
   ],
   "source": [
    "for k in ks:\n",
    "    print(k, met_pl( ams[k] ), met_pl( bms[k] ))"
   ]
  }
 ],
 "metadata": {
  "kernelspec": {
   "display_name": "Python 3",
   "language": "python",
   "name": "python3"
  },
  "language_info": {
   "codemirror_mode": {
    "name": "ipython",
    "version": 3
   },
   "file_extension": ".py",
   "mimetype": "text/x-python",
   "name": "python",
   "nbconvert_exporter": "python",
   "pygments_lexer": "ipython3",
   "version": "3.7.5"
  }
 },
 "nbformat": 4,
 "nbformat_minor": 4
}
