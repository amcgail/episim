{
 "cells": [
  {
   "cell_type": "code",
   "execution_count": 1,
   "metadata": {},
   "outputs": [],
   "source": [
    "from bulk_simulation_helper import *"
   ]
  },
  {
   "cell_type": "code",
   "execution_count": 2,
   "metadata": {},
   "outputs": [],
   "source": [
    "from knowknow import *"
   ]
  },
  {
   "cell_type": "code",
   "execution_count": 3,
   "metadata": {},
   "outputs": [],
   "source": [
    "N_SIMULATIONS = 2"
   ]
  },
  {
   "cell_type": "code",
   "execution_count": 4,
   "metadata": {},
   "outputs": [],
   "source": [
    "strats = [\n",
    "    sampling.friend,\n",
    "    sampling.friendHighDeg,\n",
    "    sampling.targeted,\n",
    "]"
   ]
  },
  {
   "cell_type": "code",
   "execution_count": 5,
   "metadata": {},
   "outputs": [],
   "source": [
    "VACC_Ps = [0.05, 0.10, 0.20]"
   ]
  },
  {
   "cell_type": "code",
   "execution_count": 6,
   "metadata": {},
   "outputs": [],
   "source": [
    "argsx = cp(\n",
    "    [0.05, 0.1, 0.2], # S2E's\n",
    "    [0,1] # tneti's\n",
    ")"
   ]
  },
  {
   "cell_type": "code",
   "execution_count": null,
   "metadata": {},
   "outputs": [
    {
     "name": "stdout",
     "output_type": "stream",
     "text": [
      "loading network...loading network...\n",
      "loading network...\n",
      "\n",
      "loading network...\n",
      "loading network...loading network...\n",
      "\n",
      "Starting on  (0, 0.1, 0.05, 'friend') 2Starting on   simulations(0, 0.05, 0.05, 'friend')\n",
      " 2Starting on   simulations\n",
      "(0, 0.2, 0.05, 'friend') 2 simulations\n",
      "finished! (0, 0.1, 0.05, 'friend') 29.4 seconds\n",
      "Starting on  (0, 0.1, 0.05, 'friendHighDeg') 2 simulations\n",
      "finished! (0, 0.2, 0.05, 'friend') 30.0 seconds\n",
      "Starting on  (0, 0.2, 0.05, 'friendHighDeg') 2 simulations\n",
      "finished! (0, 0.05, 0.05, 'friend') 41.2 seconds\n",
      "Starting on  (0, 0.05, 0.05, 'friendHighDeg') 2 simulations\n",
      "finished! (0, 0.1, 0.05, 'friendHighDeg') 29.2 seconds\n",
      "Starting on  (0, 0.1, 0.05, 'targeted') 2 simulations\n",
      "finished! (0, 0.2, 0.05, 'friendHighDeg') 29.6 seconds\n",
      "Starting on  (0, 0.2, 0.05, 'targeted') 2 simulations\n",
      "finished! (0, 0.05, 0.05, 'friendHighDeg') 44.6 seconds\n",
      "Starting on  (0, 0.05, 0.05, 'targeted') 2 simulations\n",
      "finished! (0, 0.1, 0.05, 'targeted') 34.7 secondsStarting on \n",
      " Starting on (1, 0.1, 0.05, 'friend')  2(0, 0.1, 0.1, 'friend')  simulations2 \n",
      "finished!simulations \n",
      "(0, 0.2, 0.05, 'targeted') 36.0 seconds\n",
      "Starting on  (0, 0.2, 0.1, 'friend') 2 simulations\n",
      "Starting on  (1, 0.2, 0.05, 'friend') 2 simulations\n",
      "finished! (0, 0.1, 0.1, 'friend') 50.4 seconds\n",
      "Starting on  (0, 0.1, 0.1, 'friendHighDeg') 2 simulations\n",
      "finished! (0, 0.2, 0.1, 'friend') 53.0 seconds\n",
      "Starting on  (0, 0.2, 0.1, 'friendHighDeg') 2 simulations\n",
      "finished! (0, 0.05, 0.05, 'targeted') 75.9 seconds\n",
      "Starting on  (0, 0.05, 0.1, 'friend') 2 simulations\n",
      "Starting on  (1, 0.05, 0.05, 'friend') 2 simulations\n",
      "finished! (0, 0.1, 0.1, 'friendHighDeg') 60.6 seconds\n",
      "Starting on  (0, 0.1, 0.1, 'targeted') 2 simulations\n",
      "finished! (0, 0.2, 0.1, 'friendHighDeg') 62.6 seconds\n",
      "Starting on  (0, 0.2, 0.1, 'targeted') 2 simulations\n",
      "finished! (0, 0.05, 0.1, 'friend') 79.4 seconds\n",
      "Starting on  (0, 0.05, 0.1, 'friendHighDeg') 2 simulations\n",
      "finished! (0, 0.1, 0.1, 'targeted') 57.2 seconds\n",
      "Starting on  (0, 0.1, 0.2, 'friend') 2 simulations\n",
      "finished! (0, 0.2, 0.1, 'targeted') 57.1 seconds\n",
      "Starting on  (0, 0.2, 0.2, 'friend') 2 simulations\n",
      "finished! (0, 0.05, 0.1, 'friendHighDeg') 78.0 seconds\n",
      "Starting on  (0, 0.05, 0.1, 'targeted') 2 simulations\n",
      "finished! (0, 0.1, 0.2, 'friend') 61.2 seconds\n",
      "Starting on  (0, 0.1, 0.2, 'friendHighDeg') 2 simulations\n",
      "finished! (0, 0.2, 0.2, 'friend') 58.2 seconds\n",
      "Starting on  (0, 0.2, 0.2, 'friendHighDeg') 2 simulations\n",
      "finished! (0, 0.1, 0.2, 'friendHighDeg') 56.7 seconds\n",
      "Starting on  (0, 0.1, 0.2, 'targeted') 2 simulations\n",
      "finished! (0, 0.2, 0.2, 'friendHighDeg') 57.8 seconds\n",
      "Starting on  (0, 0.2, 0.2, 'targeted') 2 simulations\n",
      "finished! (0, 0.05, 0.1, 'targeted') 94.5 seconds\n",
      "Starting on  (0, 0.05, 0.2, 'friend') 2 simulations\n",
      "finished! (0, 0.1, 0.2, 'targeted') 55.2 seconds\n",
      "finished! (0, 0.2, 0.2, 'targeted') 59.5 seconds\n",
      "finished! (0, 0.05, 0.2, 'friend') 54.0 seconds\n",
      "Starting on  (0, 0.05, 0.2, 'friendHighDeg') 2 simulations\n",
      "finished! (0, 0.05, 0.2, 'friendHighDeg') 54.6 seconds\n",
      "Starting on  (0, 0.05, 0.2, 'targeted') 2 simulations\n",
      "finished! (0, 0.05, 0.2, 'targeted') 62.3 seconds\n",
      "finished! (1, 0.1, 0.05, 'friend') 1337.0 seconds\n",
      "Starting on  (1, 0.1, 0.05, 'friendHighDeg') 2 simulations\n",
      "finished! (1, 0.2, 0.05, 'friend') 1374.2 seconds\n",
      "Starting on  (1, 0.2, 0.05, 'friendHighDeg') 2 simulations\n"
     ]
    }
   ],
   "source": [
    "threads = []\n",
    "for S2E, tneti in argsx:\n",
    "    t = Thread(target=start_worker, args=(S2E, tneti, VACC_Ps, strats, N_SIMULATIONS))\n",
    "    t.start()\n",
    "    threads.append(t)\n",
    "        \n",
    "for t in threads:\n",
    "    t.join()"
   ]
  },
  {
   "cell_type": "code",
   "execution_count": null,
   "metadata": {},
   "outputs": [],
   "source": [
    "threads = []\n",
    "for S2E, tneti in argsx:\n",
    "    t = Thread(target=start_worker, args=(S2E, tneti, VACC_Ps, strats, N_SIMULATIONS))\n",
    "    t.start()\n",
    "    threads.append(t)\n",
    "        \n",
    "for t in threads:\n",
    "    t.join()"
   ]
  },
  {
   "cell_type": "code",
   "execution_count": null,
   "metadata": {},
   "outputs": [],
   "source": [
    "len(ms)"
   ]
  },
  {
   "cell_type": "code",
   "execution_count": null,
   "metadata": {},
   "outputs": [],
   "source": [
    "len(ms[list(ms.keys())[0]])"
   ]
  },
  {
   "cell_type": "code",
   "execution_count": null,
   "metadata": {},
   "outputs": [],
   "source": [
    "out_fn = make_file_name( 'full_run_1' )"
   ]
  },
  {
   "cell_type": "code",
   "execution_count": null,
   "metadata": {},
   "outputs": [],
   "source": [
    "if True:\n",
    "    import pickle\n",
    "    with open(out_fn, 'wb') as outf:\n",
    "        pickle.dump( ms, outf )"
   ]
  }
 ],
 "metadata": {
  "kernelspec": {
   "display_name": "Python 3",
   "language": "python",
   "name": "python3"
  },
  "language_info": {
   "codemirror_mode": {
    "name": "ipython",
    "version": 3
   },
   "file_extension": ".py",
   "mimetype": "text/x-python",
   "name": "python",
   "nbconvert_exporter": "python",
   "pygments_lexer": "ipython3",
   "version": "3.7.5"
  }
 },
 "nbformat": 4,
 "nbformat_minor": 4
}
