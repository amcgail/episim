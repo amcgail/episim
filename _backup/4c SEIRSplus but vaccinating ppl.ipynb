{
 "cells": [
  {
   "cell_type": "markdown",
   "metadata": {},
   "source": [
    "## Set basic parameters"
   ]
  },
  {
   "cell_type": "markdown",
   "metadata": {},
   "source": [
    "Set the total population size"
   ]
  },
  {
   "cell_type": "code",
   "execution_count": 1,
   "metadata": {},
   "outputs": [],
   "source": [
    "NN = 6000"
   ]
  },
  {
   "cell_type": "code",
   "execution_count": 2,
   "metadata": {},
   "outputs": [],
   "source": [
    "T = 100"
   ]
  },
  {
   "cell_type": "markdown",
   "metadata": {},
   "source": [
    "Here we set the initial prevalence to be 1% of the population."
   ]
  },
  {
   "cell_type": "code",
   "execution_count": 3,
   "metadata": {},
   "outputs": [],
   "source": [
    "INIT_EXPOSED = int(NN*0.05)\n",
    "INIT_VACCINATED = int(NN*0.20)\n",
    "N = NN"
   ]
  },
  {
   "cell_type": "markdown",
   "metadata": {},
   "source": [
    "-------"
   ]
  },
  {
   "cell_type": "markdown",
   "metadata": {},
   "source": [
    "# Extended SEIRS Community TTI Demo\n",
    "\n",
    "**In this demonstration we will explore the effect of testing, tracing, and isolation interventions on disease transmission in the setting of an age-stratified population with a realistic contact network structured by households and work/school communities.**\n",
    "\n",
    "This notebook provides a demonstration of the functionality of the [Extended SEIRS Network Model](https://github.com/ryansmcgee/seirsplus/wiki/Extended-SEIRS-Model-Description) and the [TTI Simulation Loop](https://github.com/ryansmcgee/seirsplus/wiki/TTI-Simulation-Loop). This notebook also offers a sandbox for starting to explore TTI scenarios of your own. \n",
    "For a more thorough walkthrough of the model, simulation loop, and use of this package, refer to the [SEIRS+ Wiki](https://github.com/ryansmcgee/seirsplus/wiki)."
   ]
  },
  {
   "cell_type": "markdown",
   "metadata": {},
   "source": [
    "### Installing and importing the model code\n",
    "\n",
    "All of the code needed to run the model is imported from the ```models``` module of this package.\n",
    "\n",
    "In this demo we will also use features from the `networks`, `sim_loops`, and `utilities` modules.\n",
    "\n",
    "#### Install the package using ```pip```\n",
    "The package can be installed on your machine by entering this in the command line:\n",
    "\n",
    "```pip install seirsplus```\n",
    "\n",
    "Then, the ```models```, `networks`, `sim_loops`, and `utilities` modules can be imported as shown here:"
   ]
  },
  {
   "cell_type": "code",
   "execution_count": 4,
   "metadata": {},
   "outputs": [],
   "source": [
    "from seirsplus.models import *\n",
    "from seirsplus.networks import *\n",
    "from seirsplus.sim_loops import *\n",
    "from seirsplus.utilities import *\n",
    "import networkx\n",
    "import matplotlib.pyplot as pyplot"
   ]
  },
  {
   "cell_type": "markdown",
   "metadata": {},
   "source": [
    "#### *Alternatively, manually copy the code to your machine*\n",
    "*You can use the model code without installing a package by copying the ```models.py``` module file to a directory on your machine. For some of the features used in this demo you will also need the `networks`, `sim_loops`, and `utilities` modules. In this case, the easiest way to use the modules is to place your scripts in the same directory as the modules, and import the modules as shown here:*\n",
    "```python\n",
    "from models import *\n",
    "from networks import *\n",
    "from sim_loops import *\n",
    "from utilities import *\n",
    "```"
   ]
  },
  {
   "cell_type": "markdown",
   "metadata": {},
   "source": [
    "-------\n",
    "\n",
    "## Specifying contact networks\n",
    "\n",
    "This package implements models epidemic dynamics for populations with a structured [contact network](Extended-SEIRS-Model-Description#contact-networks). Individuals are represented as nodes in a network, and parameters, contacts, and interventions can be specified on a targeted individual basis. A graph specifying the contact network must be specified, where each node represents an individual in the population and edges connect individuals who have regular interactions.\n",
    "\n",
    "This model also supports scenarios where individuals enter quarantine states in which their parameters and interactions may be different from baseline, and a separate graph defining the interactions for individuals in quarantine can be specified (i.e., the [quarantine contact network](Extended-SEIRS-Model-Description#quarantine-contacts)).\n",
    "\n",
    "**_Note:_** *Simulation time increases with network size. Small networks simulate quickly, but have more stochastic volatility. Networks with ~10,000 are large enough to produce per-capita population dynamics that are generally consistent with those of larger networks, but small enough to simulate quickly. We recommend using networks with ~10,000 nodes for prototyping parameters and scenarios, which can then be run on larger networks if more precision is required.*\n",
    "\n",
    "### Demographic Community Contact Network\n",
    "\n",
    "Here we use the [**demographic community network generator**](https://github.com/ryansmcgee/seirsplus/wiki/Network-Generation#demographic-community-network) defined in the SEIRS+ package. This function generates community-level contact networks with realistic network properties as well as age-stratification, households, and communities (e.g., schools, workplaces) that are calibrated to demographic statistics for a population of interest.\n",
    "\n",
    "Each node is assigned an age bracket (0-9, 10-19, … 70-79, 80+) according to population-level age distribution (e.g. from census data). [FARZ](https://github.com/ryansmcgee/seirsplus/wiki/network-generation#farz-networks) network layers are generated to represent the out-of-household regular contacts amongst individuals of certain age groups (i.e., children, adults, seniors). FARZ networks have a community structure, parameterized in this function such that half of an individuals connections are with members of their own community and half of their connections are with individuals from outside their own community. Separate FARZ network layers are generated for the 0-9 age group (communities can be thought of as primary schools), the 10-19 age group (communities can be thought of as secondary schools), the 20-59 age group (communities can be thought of as workplaces), and the 60+ age group. The degree distribution of these networks are broad with a heavy tail. The mean degree for each layer is calibrated to avaverage number of contacts by age group from [this study](https://journals.plos.org/plosmedicine/article?id=10.1371/journal.pmed.0050074).\n",
    "\n",
    "Nodes are divvied up into households, such that the distribution of household sizes and the household age demographics data provided to the function. All of the nodes in a household are strongly connected, which rivots together the layers for each age group. In the SEIRS+ network models, there is also a probability *p* of well-mixed [global interactions](https://github.com/ryansmcgee/seirsplus/wiki/Extended-SEIRS-Model-Description#global-transmission) (nodes interacting with a randomly drawn node from anywhere in the network), which is an avenue for both within- and between-age-group contacts. \n",
    "\n",
    "We also use the `distancing_scales` argument to generate a quarantine version of the network where a majority of the out-of-household edges have been removed. The distancing scale value of `0.7` is chosen so that ~95% of individuals have no more than a single out-of-household contact (edge) in the quarantine network."
   ]
  },
  {
   "cell_type": "code",
   "execution_count": 5,
   "metadata": {},
   "outputs": [
    {
     "name": "stdout",
     "output_type": "stream",
     "text": [
      "Generated overall age distribution:\n",
      "0-9: 0.1197\t(-0.0013 from target)\n",
      "10-19: 0.1160\t(-0.0150 from target)\n",
      "20-29: 0.1322\t(-0.0048 from target)\n",
      "30-39: 0.1380\t(0.0050 from target)\n",
      "40-49: 0.1255\t(0.0015 from target)\n",
      "50-59: 0.1380\t(0.0070 from target)\n",
      "60-69: 0.1207\t(0.0057 from target)\n",
      "70-79: 0.0748\t(0.0048 from target)\n",
      "80+: 0.0352\t(-0.0028 from target)\n",
      "\n",
      "Generated household size distribution:\n",
      "1: 0.2923\t(0.0085 from target)\n",
      "2: 0.3424\t(-0.0027 from target)\n",
      "3: 0.1562\t(0.0055 from target)\n",
      "4: 0.1281\t(0.0004 from target)\n",
      "5: 0.0490\t(-0.0088 from target)\n",
      "6: 0.0189\t(-0.0038 from target)\n",
      "7: 0.0132\t(0.0008 from target)\n",
      "Num households: 2491\n",
      "mean household size: 2.448393594\n",
      "\n",
      "Generating graph for 0-9...\n",
      "Generating graph for 10-19...\n",
      "Generating graph for 20-59...\n",
      "Generating graph for 60+...\n"
     ]
    }
   ],
   "source": [
    "demographic_graphs, individual_ageGroups, households = generate_demographic_contact_network(\n",
    "                                                            N=N, demographic_data=household_country_data('US'), \n",
    "                                                            distancing_scales=[0.7], isolation_groups=[])\n",
    "\n",
    "G_baseline   = demographic_graphs['baseline']\n",
    "G_quarantine = demographic_graphs['distancingScale0.7']\n",
    "\n",
    "households_indices = [household['indices'] for household in households]"
   ]
  },
  {
   "cell_type": "code",
   "execution_count": 6,
   "metadata": {},
   "outputs": [
    {
     "name": "stdout",
     "output_type": "stream",
     "text": [
      "Baseline:\n",
      "Degree: mean = 13.82, std = 13.84, 95% CI = (2.00, 52.00)\n",
      "        coeff var = 1.00\n",
      "Assortativity:    0.09\n",
      "Clustering coeff: 0.27\n",
      "\n"
     ]
    },
    {
     "data": {
      "image/png": "[encoded data removed]",
      "text/plain": [
       "<Figure size 432x288 with 1 Axes>"
      ]
     },
     "metadata": {
      "needs_background": "light"
     },
     "output_type": "display_data"
    }
   ],
   "source": [
    "network_info(G_baseline, \"Baseline\", plot=True)"
   ]
  },
  {
   "cell_type": "code",
   "execution_count": 7,
   "metadata": {},
   "outputs": [
    {
     "name": "stdout",
     "output_type": "stream",
     "text": [
      "Quarantine:\n",
      "Degree: mean = 2.24, std = 1.56, 95% CI = (0.00, 6.00)\n",
      "        coeff var = 0.70\n",
      "Assortativity:    0.96\n",
      "Clustering coeff: 0.58\n",
      "\n"
     ]
    },
    {
     "data": {
      "image/png": "[encoded data removed]",
      "text/plain": [
       "<Figure size 432x288 with 1 Axes>"
      ]
     },
     "metadata": {
      "needs_background": "light"
     },
     "output_type": "display_data"
    }
   ],
   "source": [
    "network_info(G_quarantine, \"Quarantine\", plot=True)"
   ]
  },
  {
   "cell_type": "markdown",
   "metadata": {},
   "source": [
    "-------"
   ]
  },
  {
   "cell_type": "markdown",
   "metadata": {},
   "source": [
    "## Specifying parameters\n",
    "\n",
    "**_The parameter values used in this notebook reflect rough estimates of parameter values for the COVID-19 epidemic (as of 9 Aug 2020)._**"
   ]
  },
  {
   "cell_type": "markdown",
   "metadata": {},
   "source": [
    "### Set disease progression rate parameters:"
   ]
  },
  {
   "cell_type": "markdown",
   "metadata": {},
   "source": [
    "Parameter values are assigned to members of the population on an individual basis. Parameter values can be [specified to the `ExtSEIRSNetworkModel`](https://github.com/ryansmcgee/seirsplus/wiki/ExtSEIRSNetworkModel-Class#specifying-parameters) by providing a list of values that gives the *N* values to assign to each individual. The population may be either homogeneous or heterogeneous for a given parameter at the user's discretion. \n",
    "\n",
    "**Here we generate distributions of values for each parameter, and some parameter value are specified in an age-stratified manner, thus specifying a realistically heterogeneous population.**"
   ]
  },
  {
   "cell_type": "markdown",
   "metadata": {},
   "source": [
    "Generate a distribution of expected latent periods (time in Exposed state) and presymptomatic periods (time in Pre-symptomatic infectious state). The `sigma` and `lamda` rates are calculated as the inverse of the expected exposed and pre-symptomatic periods assigned to each individual, respectively."
   ]
  },
  {
   "cell_type": "code",
   "execution_count": 8,
   "metadata": {},
   "outputs": [
    {
     "name": "stdout",
     "output_type": "stream",
     "text": [
      "latent period:  mean = 2.18, std = 1.07, 95% CI = (0.60, 4.69)\n",
      "\n",
      "pre-symptomatic period:  mean = 2.99, std = 1.79, 95% CI = (0.55, 7.46)\n",
      "\n",
      "total incubation period:  mean = 5.18, std = 2.10, 95% CI = (1.96, 10.06)\n",
      "\n"
     ]
    },
    {
     "data": {
      "image/png": "[encoded data removed]",
      "text/plain": [
       "<Figure size 432x288 with 1 Axes>"
      ]
     },
     "metadata": {
      "needs_background": "light"
     },
     "output_type": "display_data"
    }
   ],
   "source": [
    "latentPeriod_mean, latentPeriod_coeffvar = 3.0, 0.6\n",
    "SIGMA   = 1 / gamma_dist(latentPeriod_mean, latentPeriod_coeffvar, N)\n",
    "\n",
    "presymptomaticPeriod_mean, presymptomaticPeriod_coeffvar = 2.2, 0.5\n",
    "LAMDA   = 1 / gamma_dist(presymptomaticPeriod_mean, presymptomaticPeriod_coeffvar, N)\n",
    "\n",
    "dist_info([1/LAMDA, 1/SIGMA, 1/LAMDA+1/SIGMA], [\"latent period\", \"pre-symptomatic period\", \"total incubation period\"], plot=True, colors=['gold', 'darkorange', 'black'], reverse_plot=True)"
   ]
  },
  {
   "cell_type": "markdown",
   "metadata": {},
   "source": [
    "Generate a distribution of expected (a)symptomatic periods (time in symptomatic or asymptomatic state). The `gamma` rates are calculated as the inverse of the expected (a)symptomatic periods assigned to each individual. \n",
    "\n",
    "The expected total infectious period for each individual is the sum of their expected pre-symptomatic and (a)symptomatic periods."
   ]
  },
  {
   "cell_type": "code",
   "execution_count": 9,
   "metadata": {},
   "outputs": [
    {
     "name": "stdout",
     "output_type": "stream",
     "text": [
      "pre-symptomatic period:  mean = 2.18, std = 1.07, 95% CI = (0.60, 4.69)\n",
      "\n",
      "(a)symptomatic period:  mean = 3.99, std = 1.57, 95% CI = (1.48, 7.62)\n",
      "\n",
      "total infectious period:  mean = 6.17, std = 1.90, 95% CI = (3.05, 10.36)\n",
      "\n"
     ]
    },
    {
     "data": {
      "image/png": "[encoded data removed]",
      "text/plain": [
       "<Figure size 432x288 with 1 Axes>"
      ]
     },
     "metadata": {
      "needs_background": "light"
     },
     "output_type": "display_data"
    }
   ],
   "source": [
    "symptomaticPeriod_mean, symptomaticPeriod_coeffvar = 4.0, 0.4\n",
    "GAMMA   = 1 / gamma_dist(symptomaticPeriod_mean, symptomaticPeriod_coeffvar, N)\n",
    "\n",
    "infectiousPeriod = 1/LAMDA + 1/GAMMA\n",
    "\n",
    "dist_info([1/LAMDA, 1/GAMMA, 1/LAMDA+1/GAMMA], [\"pre-symptomatic period\", \"(a)symptomatic period\", \"total infectious period\"], plot=True, colors=['darkorange', 'crimson', 'black'], reverse_plot=True)"
   ]
  },
  {
   "cell_type": "markdown",
   "metadata": {},
   "source": [
    "Generate a distribution of expected onset-to-hospitalization periods (time in symptomatic state before entering hospitalized state for those with severe cases) and hospitalization-to-discharge periods (time in hospitalized state for those with non-fatal cases). The `eta` and `gamma_H` rates are calculated as the inverse of the expected onset-to-hospitalization periods and hospitalization-to-discharge periods assigned to each individual, respectively."
   ]
  },
  {
   "cell_type": "code",
   "execution_count": 10,
   "metadata": {},
   "outputs": [
    {
     "name": "stdout",
     "output_type": "stream",
     "text": [
      "onset-to-hospitalization period:  mean = 11.00, std = 4.92, 95% CI = (3.51, 22.38)\n",
      "\n",
      "hospitalization-to-discharge period:  mean = 11.01, std = 4.96, 95% CI = (3.51, 22.61)\n",
      "\n",
      "onset-to-discharge period:  mean = 22.01, std = 7.00, 95% CI = (10.48, 37.56)\n",
      "\n"
     ]
    },
    {
     "data": {
      "image/png": "[encoded data removed]",
      "text/plain": [
       "<Figure size 432x288 with 1 Axes>"
      ]
     },
     "metadata": {
      "needs_background": "light"
     },
     "output_type": "display_data"
    }
   ],
   "source": [
    "onsetToHospitalizationPeriod_mean, onsetToHospitalizationPeriod_coeffvar = 11.0, 0.45\n",
    "ETA     = 1 / gamma_dist(onsetToHospitalizationPeriod_mean, onsetToHospitalizationPeriod_coeffvar, N)\n",
    "\n",
    "hospitalizationToDischargePeriod_mean, hospitalizationToDischargePeriod_coeffvar = 11.0, 0.45\n",
    "GAMMA_H = 1 / gamma_dist(hospitalizationToDischargePeriod_mean, hospitalizationToDischargePeriod_coeffvar, N)\n",
    "\n",
    "dist_info([1/ETA, 1/GAMMA_H, 1/ETA+1/GAMMA_H], [\"onset-to-hospitalization period\", \"hospitalization-to-discharge period\", \"onset-to-discharge period\"], plot=True, colors=['crimson', 'violet', 'black'], reverse_plot=True)"
   ]
  },
  {
   "cell_type": "markdown",
   "metadata": {},
   "source": [
    "Generate a distribution of hospitalization-to-death periods (time in hospitalized state for those with fatal cases). The `mu_H` rates are calculated as the inverse of the expected hospitalization-to-death periods."
   ]
  },
  {
   "cell_type": "code",
   "execution_count": 11,
   "metadata": {},
   "outputs": [
    {
     "name": "stdout",
     "output_type": "stream",
     "text": [
      "onset-to-hospitalization period:  mean = 11.00, std = 4.92, 95% CI = (3.51, 22.38)\n",
      "\n",
      "hospitalization-to-death period:  mean = 6.96, std = 3.18, 95% CI = (2.15, 14.30)\n",
      "\n",
      "onset-to-death period:  mean = 17.95, std = 5.81, 95% CI = (8.29, 30.88)\n",
      "\n"
     ]
    },
    {
     "data": {
      "image/png": "[encoded data removed]",
      "text/plain": [
       "<Figure size 432x288 with 1 Axes>"
      ]
     },
     "metadata": {
      "needs_background": "light"
     },
     "output_type": "display_data"
    }
   ],
   "source": [
    "hospitalizationToDeathPeriod_mean, hospitalizationToDeathPeriod_coeffvar = 7.0, 0.45\n",
    "MU_H    = 1 / gamma_dist(hospitalizationToDeathPeriod_mean, hospitalizationToDeathPeriod_coeffvar, N)\n",
    "\n",
    "dist_info([1/ETA, 1/MU_H, 1/ETA+1/MU_H], [\"onset-to-hospitalization period\", \"hospitalization-to-death period\", \"onset-to-death period\"], plot=True, colors=['crimson', 'darkgray', 'black'], reverse_plot=True)"
   ]
  },
  {
   "cell_type": "markdown",
   "metadata": {},
   "source": [
    "### Set severity parameters"
   ]
  },
  {
   "cell_type": "markdown",
   "metadata": {},
   "source": [
    "Specify the percentage of cases that are asymptomatic. This percentage of case will progress from the pre-symptomatic state to the asymptomatic state, rather than to the symptomatic state."
   ]
  },
  {
   "cell_type": "code",
   "execution_count": 12,
   "metadata": {},
   "outputs": [],
   "source": [
    "PCT_ASYMPTOMATIC = 0.25"
   ]
  },
  {
   "cell_type": "markdown",
   "metadata": {},
   "source": [
    "Here we age-stratify our definition of asymptomatic rate by setting the percent of asymptomatic cases for children to be 80% while the rest of the adult population remains set at 25%.\n",
    "\n",
    "The `individual_ageGroups` variable is returned by the [`generate_demographic_contact_network()` function](https://github.com/ryansmcgee/seirsplus/wiki/Network-generation#demographic-community-network) and holds a list of the age group labels assigned to each individual. This is useful for assigning parameters in an age-group-dependent way as we do for the following severity parameters."
   ]
  },
  {
   "cell_type": "code",
   "execution_count": 13,
   "metadata": {},
   "outputs": [],
   "source": [
    "PCT_ASYMPTOMATIC = [0.8 if age in ['0-9', '10-19'] else PCT_ASYMPTOMATIC for age in individual_ageGroups]"
   ]
  },
  {
   "cell_type": "markdown",
   "metadata": {},
   "source": [
    "Here we specify age-stratified case hospitalization rates using rates taken from [Verity et al. (2020)](https://www.thelancet.com/journals/laninf/article/PIIS1473-3099(20)30243-7/fulltext)."
   ]
  },
  {
   "cell_type": "code",
   "execution_count": 14,
   "metadata": {},
   "outputs": [],
   "source": [
    "ageGroup_pctHospitalized = {'0-9':      0.0000,\n",
    "                            '10-19':    0.0004,\n",
    "                            '20-29':    0.0104,\n",
    "                            '30-39':    0.0343,\n",
    "                            '40-49':    0.0425,\n",
    "                            '50-59':    0.0816,\n",
    "                            '60-69':    0.118,\n",
    "                            '70-79':    0.166,\n",
    "                            '80+':      0.184 }\n",
    "PCT_HOSPITALIZED = [ageGroup_pctHospitalized[ageGroup] for ageGroup in individual_ageGroups]"
   ]
  },
  {
   "cell_type": "markdown",
   "metadata": {},
   "source": [
    "Here we specify fatality rates for hospitalized cases, again using rates taken from [Verity et al. (2020)](https://www.thelancet.com/journals/laninf/article/PIIS1473-3099(20)30243-7/fulltext)."
   ]
  },
  {
   "cell_type": "code",
   "execution_count": 15,
   "metadata": {},
   "outputs": [],
   "source": [
    "ageGroup_hospitalFatalityRate = {'0-9':     0.0000,\n",
    "                                 '10-19':   0.3627,\n",
    "                                 '20-29':   0.0577,\n",
    "                                 '30-39':   0.0426,\n",
    "                                 '40-49':   0.0694,\n",
    "                                 '50-59':   0.1532,\n",
    "                                 '60-69':   0.3381,\n",
    "                                 '70-79':   0.5187,\n",
    "                                 '80+':     0.7283 }\n",
    "PCT_FATALITY = [ageGroup_hospitalFatalityRate[ageGroup] for ageGroup in individual_ageGroups]"
   ]
  },
  {
   "cell_type": "markdown",
   "metadata": {},
   "source": [
    "### Set transmission parameters"
   ]
  },
  {
   "cell_type": "markdown",
   "metadata": {},
   "source": [
    "The [Extended SEIRS Network Model](https://github.com/ryansmcgee/seirsplus/wiki/Extended-SEIRS-Model-Description#stochastic-network-model-implementation) model considers two modes of disease transmission: a well-mixed mode of [global transmission](https://github.com/ryansmcgee/seirsplus/wiki/Extended-SEIRS-Model-Description#global-transmission) and a contact network based mode of [local transmission](https://github.com/ryansmcgee/seirsplus/wiki/Extended-SEIRS-Model-Description#local-transmission). The propensity for a given individual to become exposed due to global transmission depends on the mean transmissibility of all infectious individuals in the population; the propensity for a given individual to become exposed due to local transmission depends on the pairwise transmissibilities between the focal node and its infectious contacts in the network (see [Transmission](https://github.com/ryansmcgee/seirsplus/wiki/Extended-SEIRS-Model-Description#transmission) and [Model Equations](https://github.com/ryansmcgee/seirsplus/wiki/Extended-SEIRS-Model-Description#model-equations) for more information about these calculations). "
   ]
  },
  {
   "cell_type": "markdown",
   "metadata": {},
   "source": [
    "The transmissibility parameter *β* can be related to the basic reproduction number *R<sub>0</sub>* (i.e., the expected number of new infections generated by a single infectious individual in a completely susceptible population) by the standard formula: *β = R<sub>0</sub>𝛾*. *R<sub>0</sub>* is a more interpretable parameter, so we specify transmissibility in terms of *R<sub>0</sub>* and then calculate the corresponding *β* values.\n",
    "\n",
    "First, we generate a distribution of individual *R<sub>0</sub>* values (i.e., the expected number of new infections generated by a single *particular* infectious individual in a completely susceptible population). Of course, this means that transmissibility is heterogeneous in this population. The coefficient of variation is an important parameter for the individual *R<sub>0</sub>* distribution in that it tunes the degree of superspreading in the heterogeneous transmissibility. The distribution used in this example has a relatively low coefficient of variation, so most individuals have around the same degree of transmissibility. But a higher coefficient of variation (e.g., 2.0) would give a long right tail in idividual transmissibility representing a small number of individuals contributing many cases while the majority cases contribute less than 1 on average when they are infectious."
   ]
  },
  {
   "cell_type": "code",
   "execution_count": 16,
   "metadata": {},
   "outputs": [
    {
     "name": "stdout",
     "output_type": "stream",
     "text": [
      "Individual R0:  mean = 2.50, std = 0.50, 95% CI = (1.63, 3.55)\n",
      "\n"
     ]
    },
    {
     "data": {
      "image/png": "[encoded data removed]",
      "text/plain": [
       "<Figure size 432x288 with 1 Axes>"
      ]
     },
     "metadata": {
      "needs_background": "light"
     },
     "output_type": "display_data"
    }
   ],
   "source": [
    "R0_mean     = 2.5\n",
    "R0_coeffvar = 0.2\n",
    "\n",
    "R0 = gamma_dist(R0_mean, R0_coeffvar, N)\n",
    "\n",
    "dist_info(R0, \"Individual R0\", bin_size=0.1, plot=True, colors='crimson')"
   ]
  },
  {
   "cell_type": "markdown",
   "metadata": {},
   "source": [
    "Individuals are ultimately assigned an [*Individual Transmissibility Value*](https://github.com/ryansmcgee/seirsplus/wiki/ExtSEIRSNetworkModel-Class#transmissibility-parameters) (*β<sup>i</sup>*), which are stored in the `beta` attribute of the model object. \n",
    "\n",
    "The means of the Individual Transmissibility Values for infectious subpopulations are used to calculate the [global transmission](https://github.com/ryansmcgee/seirsplus/wiki/Extended-SEIRS-Model-Description#global-transmission) terms. Individual Transmissibility Values may also be used to generate the Pairwise Transmissibility Values used for [local transmission](https://github.com/ryansmcgee/seirsplus/wiki/Extended-SEIRS-Model-Description#local-transmission) terms, as we will specify in a few steps."
   ]
  },
  {
   "cell_type": "code",
   "execution_count": 17,
   "metadata": {},
   "outputs": [],
   "source": [
    "BETA = 1/infectiousPeriod * R0"
   ]
  },
  {
   "cell_type": "markdown",
   "metadata": {},
   "source": [
    "Individuals can be assigned different Individual Transmissibility Values for use when they are asymptomatic and quarantine states. \n",
    "\n",
    "Here we set the transmissibility of quarantined individuals such that the mean effective reproduction number for quarantined individuals is about 0.3. This supposes that individuals have different behavior, hygiene, etc. when they are quarantining relative to baseline."
   ]
  },
  {
   "cell_type": "code",
   "execution_count": 18,
   "metadata": {},
   "outputs": [],
   "source": [
    "BETA_Q = BETA * (0.3/R0_mean)"
   ]
  },
  {
   "cell_type": "markdown",
   "metadata": {},
   "source": [
    "Now we specify how we would like the [*Pairwise Transmissibility Values*](https://github.com/ryansmcgee/seirsplus/wiki/ExtSEIRSNetworkModel-Class#transmissibility-parameters) (*β<sup>i</sup>*), which define the local transmissibility for each pair of close contacts, to be calculated. There are [multiple ways to specify these pairwise transmissibilities](https://github.com/ryansmcgee/seirsplus/wiki/ExtSEIRSNetworkModel-Class#pairwise-transmissibility-values) (such as providing a matrix), but here we will set the `beta_pairwise_mode` argument of the `ExtSEIRSNetworkModel` constructor to `'infected'`, which will direct the model to automatically generate a matrix of Pairwise Transmissibility Values such that the transmissibility of each infectious-susceptible interaction is equal to the infected individual's transmissiblity."
   ]
  },
  {
   "cell_type": "code",
   "execution_count": 19,
   "metadata": {},
   "outputs": [],
   "source": [
    "BETA_PAIRWISE_MODE  = 'infected'"
   ]
  },
  {
   "cell_type": "markdown",
   "metadata": {},
   "source": [
    "Here we designate that we would like the model to automatically calculate [Connectivity Correction Factors](https://github.com/ryansmcgee/seirsplus/wiki/Extended-SEIRS-Model-Description#connectivity-correction-factor) for each pair of interacting close contacts. This pairwise factor is optional, but it can be used to weight the transmissibility of interactions according to the connectivity of the interacting individuals. Here we choose to weight interactions according to a ratio of the pair's mean degree to the population's mean degree (see [Specifying connectivity Correction Factors](https://github.com/ryansmcgee/seirsplus/wiki/ExtSEIRSNetworkModel-Class#connectivity-correction-factors) for more information). \n",
    "\n",
    "Using this definition, when two individuals whose average degree is an order of magnitude greater than the average degree of the population overall, then the propensity of exposure in their interaction is weighted to be twice that of two averagely-connected individuals. "
   ]
  },
  {
   "cell_type": "code",
   "execution_count": 20,
   "metadata": {},
   "outputs": [],
   "source": [
    "DELTA_PAIRWISE_MODE = 'mean'"
   ]
  },
  {
   "cell_type": "markdown",
   "metadata": {},
   "source": [
    "Here we set individual susceptibilities (default susceptibility is 1). \n",
    "\n",
    "In particular, we specify that children are half as susceptible as adults."
   ]
  },
  {
   "cell_type": "code",
   "execution_count": 21,
   "metadata": {},
   "outputs": [],
   "source": [
    "ALPHA = [0.5 if age in ['0-9', '10-19'] else 1.0 for age in individual_ageGroups]"
   ]
  },
  {
   "cell_type": "markdown",
   "metadata": {},
   "source": [
    "In the stochastic network model, an individual comes into contact with a random individual from the population at large (e.g., in a public space) with probability *p* or with an individual from their set of close contacts with probability *(1-p)*. Transmission that occurs between an individual and the population at large is referred to as [global transmission](https://github.com/ryansmcgee/seirsplus/wiki/Extended-SEIRS-Model-Description#global-transmission), and transmission between an individual and one of their close contacts (network neighbors) is referred to as [local transmission](https://github.com/ryansmcgee/seirsplus/wiki/Extended-SEIRS-Model-Description#local-transmission). The parameter *p* defines the locality of the network: for *p=0* an individual only interacts with their close contacts, while *p=1* represents a uniformly mixed population.\n",
    "\n",
    "Here we set *p* to reflect 20% of interactions being with incidental or casual contacts outside their set of close contacts."
   ]
  },
  {
   "cell_type": "code",
   "execution_count": 22,
   "metadata": {},
   "outputs": [],
   "source": [
    "P_GLOBALINTXN = 0.2 #AHHH DO I WANT THIS?!"
   ]
  },
  {
   "cell_type": "markdown",
   "metadata": {},
   "source": [
    "The parameter *q* (down)weights the rate of interactions with the population at large while one is in quarantine relative to baseline.\n",
    "\n",
    "Here we set *q* to 0.05, which supposes that global interactions are quite rare (but nonzero) for quarantined individuals."
   ]
  },
  {
   "cell_type": "code",
   "execution_count": 23,
   "metadata": {},
   "outputs": [],
   "source": [
    "Q_GLOBALINTXN = 0.05"
   ]
  },
  {
   "cell_type": "markdown",
   "metadata": {},
   "source": [
    "### Set Testing, Tracing, & Isolation (TTI) intervention protocol parameters:"
   ]
  },
  {
   "cell_type": "markdown",
   "metadata": {},
   "source": [
    "Here we specify the parameters that govern the Testing, Tracing, and Isolation protocol that is implemented by the [TTI Simulation Loop](https://github.com/ryansmcgee/seirsplus/wiki/TTI-Simulation-Loop). The implementation of this TTI protocol and the interpretation of these parameters is desribed in detail on the [TTI Simulation Loop wiki page](https://github.com/ryansmcgee/seirsplus/wiki/TTI-Simulation-Loop) (but these parameters are briefly explained as code comments below)."
   ]
  },
  {
   "cell_type": "code",
   "execution_count": 24,
   "metadata": {},
   "outputs": [],
   "source": [
    "INTERVENTION_START_PCT_INFECTED = 1/100\n",
    "AVERAGE_INTRODUCTIONS_PER_DAY   = 0\n",
    "\n",
    "TESTING_CADENCE                 = 'everyday'    # how often to do tracing testing and random testing\n",
    "PCT_TESTED_PER_DAY              = 1/10          # max daily test allotment defined as a percent of population size\n",
    "TEST_FALSENEG_RATE              = 'temporal'    # test false negative rate, will use FN rate that varies with disease time\n",
    "MAX_PCT_TESTS_FOR_SYMPTOMATICS  = 1.0           # max percent of daily test allotment to use on self-reporting symptomatics\n",
    "MAX_PCT_TESTS_FOR_TRACES        = 1.0           # max percent of daily test allotment to use on contact traces\n",
    "RANDOM_TESTING_DEGREE_BIAS      = 0             # magnitude of degree bias in random selections for testing, none here\n",
    "\n",
    "PCT_CONTACTS_TO_TRACE           = 0.5           # percentage of primary cases' contacts that are traced\n",
    "TRACING_LAG                     = 2             # number of cadence testing days between primary tests and tracing tests\n",
    "\n",
    "ISOLATION_LAG_SYMPTOMATIC       = 1             # number of days between onset of symptoms and self-isolation of symptomatics\n",
    "ISOLATION_LAG_POSITIVE          = 2             # test turn-around time (TAT): number of days between administration of test and isolation of positive cases\n",
    "ISOLATION_LAG_CONTACT           = 0             # number of days between a contact being traced and that contact self-isolating\n"
   ]
  },
  {
   "cell_type": "markdown",
   "metadata": {},
   "source": [
    "### Set intervention compliance parameters"
   ]
  },
  {
   "cell_type": "markdown",
   "metadata": {},
   "source": [
    "First, we specify the compliance rates (i.e., the percentage of individuals who are compliant) for each intervention type. See the [TTI Simulation Loop](https://github.com/ryansmcgee/seirsplus/wiki/TTI-Simulation-Loop) documentation for more information about compliance."
   ]
  },
  {
   "cell_type": "code",
   "execution_count": 25,
   "metadata": {},
   "outputs": [],
   "source": [
    "TESTING_COMPLIANCE_RATE_SYMPTOMATIC                  = 0.5\n",
    "TESTING_COMPLIANCE_RATE_TRACED                       = 1.0\n",
    "TESTING_COMPLIANCE_RATE_RANDOM                       = 0.8\n",
    "\n",
    "TRACING_COMPLIANCE_RATE                              = 0.8\n",
    "\n",
    "ISOLATION_COMPLIANCE_RATE_SYMPTOMATIC_INDIVIDUAL     = 0.3\n",
    "ISOLATION_COMPLIANCE_RATE_SYMPTOMATIC_GROUPMATE      = 0.0\n",
    "ISOLATION_COMPLIANCE_RATE_POSITIVE_INDIVIDUAL        = 0.8\n",
    "ISOLATION_COMPLIANCE_RATE_POSITIVE_GROUPMATE         = 0.8\n",
    "ISOLATION_COMPLIANCE_RATE_POSITIVE_CONTACT           = 0.8\n",
    "ISOLATION_COMPLIANCE_RATE_POSITIVE_CONTACTGROUPMATE  = 0.0"
   ]
  },
  {
   "cell_type": "markdown",
   "metadata": {},
   "source": [
    "Now, we randomly assign a `True/False` compliance to each individual according to the rates set above. Individuals whose compliance is set to `True` for a given intervention will participate in that intervention, individuals set to `False` will not."
   ]
  },
  {
   "cell_type": "code",
   "execution_count": 26,
   "metadata": {},
   "outputs": [],
   "source": [
    "TESTING_COMPLIANCE_RANDOM                        = (numpy.random.rand(N) < TESTING_COMPLIANCE_RATE_RANDOM)\n",
    "TESTING_COMPLIANCE_TRACED                        = (numpy.random.rand(N) < TESTING_COMPLIANCE_RATE_TRACED)\n",
    "TESTING_COMPLIANCE_SYMPTOMATIC                   = (numpy.random.rand(N) < TESTING_COMPLIANCE_RATE_SYMPTOMATIC)\n",
    "\n",
    "TRACING_COMPLIANCE                               = (numpy.random.rand(N) < TRACING_COMPLIANCE_RATE)\n",
    "\n",
    "ISOLATION_COMPLIANCE_SYMPTOMATIC_INDIVIDUAL      = (numpy.random.rand(N) < ISOLATION_COMPLIANCE_RATE_SYMPTOMATIC_INDIVIDUAL)\n",
    "ISOLATION_COMPLIANCE_SYMPTOMATIC_GROUPMATE       = (numpy.random.rand(N) < ISOLATION_COMPLIANCE_RATE_SYMPTOMATIC_GROUPMATE)\n",
    "ISOLATION_COMPLIANCE_POSITIVE_INDIVIDUAL         = (numpy.random.rand(N) < ISOLATION_COMPLIANCE_RATE_POSITIVE_INDIVIDUAL)\n",
    "ISOLATION_COMPLIANCE_POSITIVE_GROUPMATE          = (numpy.random.rand(N) < ISOLATION_COMPLIANCE_RATE_POSITIVE_GROUPMATE)\n",
    "ISOLATION_COMPLIANCE_POSITIVE_CONTACT            = (numpy.random.rand(N) < ISOLATION_COMPLIANCE_RATE_POSITIVE_CONTACT)\n",
    "ISOLATION_COMPLIANCE_POSITIVE_CONTACTGROUPMATE   = (numpy.random.rand(N) < ISOLATION_COMPLIANCE_RATE_POSITIVE_CONTACTGROUPMATE)"
   ]
  },
  {
   "cell_type": "code",
   "execution_count": 27,
   "metadata": {},
   "outputs": [],
   "source": [
    "ALPHA_SAVE = list(ALPHA)"
   ]
  },
  {
   "cell_type": "markdown",
   "metadata": {},
   "source": [
    "-------"
   ]
  },
  {
   "cell_type": "markdown",
   "metadata": {},
   "source": [
    "# start experimenting"
   ]
  },
  {
   "cell_type": "code",
   "execution_count": 28,
   "metadata": {},
   "outputs": [],
   "source": [
    "from epi_model import *"
   ]
  },
  {
   "cell_type": "code",
   "execution_count": 29,
   "metadata": {},
   "outputs": [],
   "source": [
    "nodes = sorted(G_baseline.nodes)\n",
    "edges = list(G_baseline.edges)\n",
    "net = unweightedNetwork(nodes, edges, 1)"
   ]
  },
  {
   "cell_type": "code",
   "execution_count": 30,
   "metadata": {},
   "outputs": [],
   "source": [
    "p = dict(params.covid_estimate)\n",
    "sim = simulations.SEIR_daily(net, p)"
   ]
  },
  {
   "cell_type": "code",
   "execution_count": 31,
   "metadata": {},
   "outputs": [
    {
     "data": {
      "text/plain": [
       "6000"
      ]
     },
     "execution_count": 31,
     "metadata": {},
     "output_type": "execute_result"
    }
   ],
   "source": [
    "len(G_baseline.nodes)"
   ]
  },
  {
   "cell_type": "code",
   "execution_count": 32,
   "metadata": {},
   "outputs": [],
   "source": [
    "strats = [\n",
    "    sampling.rand,\n",
    "    sampling.targeted,\n",
    "    sampling.friend,\n",
    "    sampling.friendHighDeg,\n",
    "    sampling.none,\n",
    "]"
   ]
  },
  {
   "cell_type": "code",
   "execution_count": 33,
   "metadata": {},
   "outputs": [],
   "source": [
    "overwrite = True"
   ]
  },
  {
   "cell_type": "code",
   "execution_count": 34,
   "metadata": {},
   "outputs": [],
   "source": [
    "with open('4c seirs args.pickle', 'wb') as outf:\n",
    "    base_args = {\n",
    "        'G': G_baseline,\n",
    "        'p': P_GLOBALINTXN,\n",
    "        'beta': BETA,\n",
    "        'sigma': SIGMA,\n",
    "        'lamda': LAMDA,\n",
    "        'gamma': GAMMA,\n",
    "        'gamma_asym': GAMMA,\n",
    "        'eta':ETA,\n",
    "        'gamma_H':GAMMA_H,\n",
    "        'mu_H':MU_H,\n",
    "        'a':PCT_ASYMPTOMATIC,\n",
    "        'h':PCT_HOSPITALIZED,\n",
    "        'f':PCT_FATALITY,\n",
    "        'alpha':ALPHA,\n",
    "        'beta_pairwise_mode':BETA_PAIRWISE_MODE,\n",
    "        'delta_pairwise_mode':DELTA_PAIRWISE_MODE,\n",
    "        'G_Q':G_quarantine,\n",
    "        'q':0,\n",
    "        'beta_Q':BETA_Q,\n",
    "        'isolation_time':14,\n",
    "        'initI_asym':INIT_EXPOSED # note that I'm putting them into the asymptomatic infectious group, to be similar to the other...\n",
    "    }\n",
    "    pickle.dump(base_args,outf)"
   ]
  },
  {
   "cell_type": "code",
   "execution_count": 35,
   "metadata": {},
   "outputs": [],
   "source": [
    "model = ExtSEIRSNetworkModel(G=G_baseline, p=P_GLOBALINTXN,\n",
    "          beta=BETA, sigma=SIGMA, lamda=LAMDA, gamma=GAMMA) # a dummy for numks to resolve"
   ]
  },
  {
   "cell_type": "code",
   "execution_count": 36,
   "metadata": {},
   "outputs": [],
   "source": [
    "attrs_to_keep = [k for k in model.__dict__ if 'num' == k[:3]]\n",
    "attrs_to_keep += ['tseries']"
   ]
  },
  {
   "cell_type": "code",
   "execution_count": 37,
   "metadata": {},
   "outputs": [],
   "source": [
    "\"\"\"seirsplus\n",
    "\n",
    "ExtSEIRSNetworkModel.__module__.__file__\n",
    "\n",
    "from seirsplus import models\n",
    "print(models.__file__)\"\"\";"
   ]
  },
  {
   "cell_type": "code",
   "execution_count": 38,
   "metadata": {},
   "outputs": [],
   "source": [
    "models = defaultdict(list)"
   ]
  },
  {
   "cell_type": "code",
   "execution_count": 39,
   "metadata": {},
   "outputs": [],
   "source": [
    "N_PER = 5"
   ]
  },
  {
   "cell_type": "code",
   "execution_count": 40,
   "metadata": {},
   "outputs": [
    {
     "name": "stdout",
     "output_type": "stream",
     "text": [
      "6000 6000\n"
     ]
    }
   ],
   "source": [
    "print(\n",
    "    np.sum(np.array(ALPHA) > 0),\n",
    "    np.sum(np.array(ALPHA_SAVE) > 0)\n",
    ")"
   ]
  },
  {
   "cell_type": "code",
   "execution_count": 41,
   "metadata": {},
   "outputs": [],
   "source": [
    "delks = [k for k in models if k != 'rand']\n",
    "for k in delks:\n",
    "    del models[k]"
   ]
  },
  {
   "cell_type": "code",
   "execution_count": 42,
   "metadata": {},
   "outputs": [
    {
     "name": "stdout",
     "output_type": "stream",
     "text": [
      "t = 0.00\n",
      "t = 10.00\n",
      "t = 20.00\n",
      "t = 30.00\n",
      "t = 40.00\n",
      "t = 50.03\n",
      "t = 60.02\n",
      "t = 70.05\n",
      "t = 80.04\n",
      "t = 90.12\n",
      "t = 100.43\n",
      "43.55528020858765\n",
      "t = 0.00\n",
      "t = 10.01\n",
      "t = 20.00\n",
      "t = 30.00\n",
      "t = 40.00\n",
      "t = 50.01\n",
      "t = 60.02\n",
      "t = 70.04\n",
      "t = 80.13\n",
      "t = 90.21\n",
      "t = 100.03\n",
      "43.772948026657104\n",
      "t = 0.02\n",
      "t = 10.00\n",
      "t = 20.00\n",
      "t = 30.00\n",
      "t = 40.00\n",
      "t = 50.00\n",
      "t = 60.06\n",
      "t = 70.03\n",
      "t = 80.04\n",
      "t = 90.07\n",
      "45.11217951774597\n",
      "t = 0.01\n",
      "t = 10.00\n",
      "t = 20.00\n",
      "t = 30.01\n",
      "t = 40.00\n",
      "t = 50.03\n",
      "t = 60.00\n",
      "t = 70.13\n",
      "t = 80.08\n",
      "t = 90.11\n",
      "t = 100.01\n",
      "47.61279845237732\n",
      "t = 0.01\n",
      "t = 10.00\n",
      "t = 20.00\n",
      "t = 30.00\n",
      "t = 40.00\n",
      "t = 50.00\n",
      "t = 60.01\n",
      "t = 70.07\n",
      "t = 80.12\n",
      "t = 90.13\n",
      "43.57944130897522\n",
      "t = 0.00\n",
      "t = 10.00\n",
      "t = 20.01\n",
      "t = 30.00\n",
      "t = 40.01\n",
      "t = 50.01\n",
      "t = 60.03\n",
      "t = 70.01\n",
      "t = 80.06\n",
      "t = 90.00\n",
      "t = 100.07\n",
      "30.591261625289917\n",
      "t = 0.00\n",
      "t = 10.00\n",
      "t = 20.00\n",
      "t = 30.00\n",
      "t = 40.01\n",
      "t = 50.03\n",
      "t = 60.04\n",
      "t = 70.03\n",
      "t = 80.10\n",
      "t = 90.07\n",
      "t = 100.09\n",
      "31.301956176757812\n",
      "t = 0.00\n",
      "t = 10.00\n",
      "t = 20.00\n",
      "t = 30.00\n",
      "t = 40.00\n",
      "t = 50.00\n",
      "t = 60.00\n",
      "t = 70.01\n",
      "t = 80.02\n",
      "t = 90.09\n",
      "t = 100.01\n",
      "33.24671912193298\n",
      "t = 0.00\n",
      "t = 10.01\n",
      "t = 20.00\n",
      "t = 30.00\n",
      "t = 40.01\n",
      "t = 50.01\n",
      "t = 60.00\n",
      "t = 70.02\n",
      "t = 80.05\n",
      "t = 90.03\n",
      "t = 100.04\n",
      "36.68764019012451\n",
      "t = 0.01\n",
      "t = 10.01\n",
      "t = 20.00\n",
      "t = 30.00\n",
      "t = 40.00\n",
      "t = 50.00\n",
      "t = 60.00\n",
      "t = 70.00\n",
      "t = 80.02\n",
      "t = 90.01\n",
      "t = 100.02\n",
      "34.77045130729675\n",
      "t = 0.01\n",
      "t = 10.00\n",
      "t = 20.00\n",
      "t = 30.01\n",
      "t = 40.00\n",
      "t = 50.02\n",
      "t = 60.03\n",
      "t = 70.08\n",
      "t = 80.01\n",
      "t = 90.50\n",
      "t = 100.25\n",
      "44.344552993774414\n",
      "t = 0.00\n",
      "t = 10.02\n",
      "t = 20.00\n",
      "t = 30.00\n",
      "t = 40.00\n",
      "t = 50.01\n",
      "t = 60.02\n",
      "t = 70.01\n",
      "t = 80.02\n",
      "t = 90.01\n",
      "t = 100.02\n",
      "43.98252010345459\n",
      "t = 0.00\n",
      "t = 10.01\n",
      "t = 20.00\n",
      "t = 30.00\n",
      "t = 40.00\n",
      "t = 50.00\n",
      "t = 60.05\n",
      "t = 70.00\n",
      "t = 80.00\n",
      "t = 90.04\n",
      "t = 100.67\n",
      "42.976670265197754\n",
      "t = 0.00\n",
      "t = 10.00\n",
      "t = 20.00\n",
      "t = 30.01\n",
      "t = 40.00\n",
      "t = 50.01\n",
      "t = 60.00\n",
      "t = 70.01\n",
      "t = 80.12\n",
      "t = 90.02\n",
      "t = 100.38\n",
      "43.02761459350586\n",
      "t = 0.00\n",
      "t = 10.01\n",
      "t = 20.00\n",
      "t = 30.00\n",
      "t = 40.00\n",
      "t = 50.01\n",
      "t = 60.01\n",
      "t = 70.02\n",
      "t = 80.03\n",
      "t = 90.19\n",
      "t = 100.26\n",
      "45.020545959472656\n",
      "t = 0.00\n",
      "t = 10.00\n",
      "t = 20.00\n",
      "t = 30.00\n",
      "t = 40.01\n",
      "t = 50.00\n",
      "t = 60.01\n",
      "t = 70.01\n",
      "t = 80.02\n",
      "t = 90.01\n",
      "t = 100.13\n",
      "38.33041524887085\n",
      "t = 0.00\n",
      "t = 10.00\n",
      "t = 20.00\n",
      "t = 30.00\n",
      "t = 40.00\n",
      "t = 50.00\n",
      "t = 60.00\n",
      "t = 70.06\n",
      "t = 80.03\n",
      "t = 90.25\n",
      "t = 100.22\n",
      "39.07883596420288\n",
      "t = 0.00\n",
      "t = 10.00\n",
      "t = 20.00\n",
      "t = 30.00\n",
      "t = 40.00\n",
      "t = 50.01\n",
      "t = 60.03\n",
      "t = 70.05\n",
      "t = 80.03\n",
      "t = 90.02\n",
      "t = 100.25\n",
      "37.07280373573303\n",
      "t = 0.02\n",
      "t = 10.00\n",
      "t = 20.00\n",
      "t = 30.00\n",
      "t = 40.00\n",
      "t = 50.01\n",
      "t = 60.01\n",
      "t = 70.01\n",
      "t = 80.08\n",
      "t = 90.50\n",
      "t = 100.05\n",
      "37.95844078063965\n",
      "t = 0.00\n",
      "t = 10.01\n",
      "t = 20.00\n",
      "t = 30.00\n",
      "t = 40.01\n",
      "t = 50.04\n",
      "t = 60.03\n",
      "t = 70.01\n",
      "t = 80.11\n",
      "t = 90.02\n",
      "t = 100.04\n",
      "39.06777238845825\n",
      "t = 0.00\n",
      "t = 10.00\n",
      "t = 20.00\n",
      "t = 30.00\n",
      "t = 40.00\n",
      "t = 50.01\n",
      "t = 60.01\n",
      "t = 70.02\n",
      "t = 80.41\n",
      "t = 90.07\n",
      "t = 100.54\n",
      "50.82463216781616\n",
      "t = 0.01\n",
      "t = 10.00\n",
      "t = 20.00\n",
      "t = 30.00\n",
      "t = 40.00\n",
      "t = 50.00\n",
      "t = 60.03\n",
      "t = 70.01\n",
      "t = 80.04\n",
      "t = 90.59\n",
      "51.04392337799072\n",
      "t = 0.01\n",
      "t = 10.00\n",
      "t = 20.00\n",
      "t = 30.00\n",
      "t = 40.01\n",
      "t = 50.01\n",
      "t = 60.03\n",
      "t = 70.10\n",
      "t = 80.03\n",
      "t = 90.06\n",
      "t = 100.48\n",
      "50.286332845687866\n",
      "t = 0.01\n",
      "t = 10.00\n",
      "t = 20.00\n",
      "t = 30.00\n",
      "t = 40.00\n",
      "t = 50.08\n",
      "t = 60.02\n",
      "t = 70.07\n",
      "t = 80.02\n",
      "t = 90.36\n",
      "t = 100.46\n",
      "51.36298608779907\n",
      "t = 0.00\n",
      "t = 10.01\n",
      "t = 20.00\n",
      "t = 30.00\n",
      "t = 40.01\n",
      "t = 50.00\n",
      "t = 60.00\n",
      "t = 70.02\n",
      "t = 80.04\n",
      "t = 90.17\n",
      "t = 100.02\n",
      "51.01377749443054\n"
     ]
    }
   ],
   "source": [
    "from time import time\n",
    "\n",
    "for strat in strats:    \n",
    "    sname = strat.__name__\n",
    "    \n",
    "    for i in range(N_PER - len(models[sname])):\n",
    "\n",
    "        ns_to_remove = strat(sim, 600)\n",
    "        \n",
    "        ALPHA = list(ALPHA_SAVE)\n",
    "        for vi in ns_to_remove:\n",
    "            ALPHA[vi] = 0\n",
    "            \n",
    "        args = dict(base_args)\n",
    "        args['alpha'] = ALPHA\n",
    "            \n",
    "        model = ExtSEIRSNetworkModel(**args) \n",
    "\n",
    "        st = time()\n",
    "        model.run(100)\n",
    "        models[sname].append({\n",
    "            k: getattr(model, k)\n",
    "            for k in attrs_to_keep\n",
    "        })\n",
    "        print( time() - st )"
   ]
  },
  {
   "cell_type": "code",
   "execution_count": 43,
   "metadata": {},
   "outputs": [
    {
     "data": {
      "text/plain": [
       "0.05"
      ]
     },
     "execution_count": 43,
     "metadata": {},
     "output_type": "execute_result"
    }
   ],
   "source": [
    "300/6000"
   ]
  },
  {
   "cell_type": "code",
   "execution_count": 44,
   "metadata": {},
   "outputs": [
    {
     "data": {
      "text/plain": [
       "array([5700., 5699., 5698., ..., 2147., 2147., 2147.])"
      ]
     },
     "execution_count": 44,
     "metadata": {},
     "output_type": "execute_result"
    }
   ],
   "source": [
    "models['rand'][0]['numS']"
   ]
  },
  {
   "cell_type": "code",
   "execution_count": 45,
   "metadata": {},
   "outputs": [
    {
     "data": {
      "text/plain": [
       "[5, 5, 5, 5, 5]"
      ]
     },
     "execution_count": 45,
     "metadata": {},
     "output_type": "execute_result"
    }
   ],
   "source": [
    "[len(m) for m in models.values()]"
   ]
  },
  {
   "cell_type": "code",
   "execution_count": 48,
   "metadata": {},
   "outputs": [
    {
     "data": {
      "image/png": "[encoded data removed]",
      "text/plain": [
       "<Figure size 432x288 with 1 Axes>"
      ]
     },
     "metadata": {
      "needs_background": "light"
     },
     "output_type": "display_data"
    },
    {
     "data": {
      "image/png": "[encoded data removed]",
      "text/plain": [
       "<Figure size 432x288 with 1 Axes>"
      ]
     },
     "metadata": {
      "needs_background": "light"
     },
     "output_type": "display_data"
    },
    {
     "data": {
      "image/png": "[encoded data removed]",
      "text/plain": [
       "<Figure size 432x288 with 1 Axes>"
      ]
     },
     "metadata": {
      "needs_background": "light"
     },
     "output_type": "display_data"
    },
    {
     "data": {
      "image/png": "[encoded data removed]",
      "text/plain": [
       "<Figure size 432x288 with 1 Axes>"
      ]
     },
     "metadata": {
      "needs_background": "light"
     },
     "output_type": "display_data"
    },
    {
     "data": {
      "image/png": "[encoded data removed]",
      "text/plain": [
       "<Figure size 432x288 with 1 Axes>"
      ]
     },
     "metadata": {
      "needs_background": "light"
     },
     "output_type": "display_data"
    }
   ],
   "source": [
    "for k in models:\n",
    "    for i in range(len(models[k])):\n",
    "        m = models[k][i]\n",
    "\n",
    "        plt.plot(m['tseries'], m['numNodes'] - m['numS'], label=i, linewidth=1, color='black', alpha=0.3)\n",
    "    #plt.legend()\n",
    "    plt.title(k)\n",
    "    plt.ylim(0,6000)\n",
    "    plt.show()"
   ]
  },
  {
   "cell_type": "code",
   "execution_count": 47,
   "metadata": {},
   "outputs": [
    {
     "ename": "RuntimeError",
     "evalue": "No active exception to reraise",
     "output_type": "error",
     "traceback": [
      "\u001b[1;31m---------------------------------------------------------------------------\u001b[0m",
      "\u001b[1;31mRuntimeError\u001b[0m                              Traceback (most recent call last)",
      "\u001b[1;32m<ipython-input-47-9c9a2cba73bf>\u001b[0m in \u001b[0;36m<module>\u001b[1;34m\u001b[0m\n\u001b[1;32m----> 1\u001b[1;33m \u001b[1;32mraise\u001b[0m\u001b[1;33m\u001b[0m\u001b[1;33m\u001b[0m\u001b[0m\n\u001b[0m",
      "\u001b[1;31mRuntimeError\u001b[0m: No active exception to reraise"
     ]
    }
   ],
   "source": [
    "raise"
   ]
  },
  {
   "cell_type": "code",
   "execution_count": null,
   "metadata": {},
   "outputs": [],
   "source": [
    "for i in range(10):\n",
    "    for k in models:\n",
    "        m = models[k][i]\n",
    "\n",
    "        plt.plot(m['tseries'], m['numNodes'] - m['numS'], label=k)\n",
    "    plt.legend()\n",
    "    plt.show()"
   ]
  },
  {
   "cell_type": "code",
   "execution_count": null,
   "metadata": {},
   "outputs": [],
   "source": [
    "[len(m) for m in models.values()]"
   ]
  },
  {
   "cell_type": "code",
   "execution_count": null,
   "metadata": {},
   "outputs": [],
   "source": [
    "with open('4c seirs.pickle', 'wb') as outf:\n",
    "    pickle.dump(models, outf)"
   ]
  },
  {
   "cell_type": "code",
   "execution_count": null,
   "metadata": {},
   "outputs": [],
   "source": [
    "finals = {\n",
    "    k: [(m['numNodes'] - m['numS'])[-1] for m in ms]\n",
    "    for k,ms in models.items()\n",
    "}"
   ]
  },
  {
   "cell_type": "code",
   "execution_count": null,
   "metadata": {},
   "outputs": [],
   "source": [
    "for k,vs in finals.items():\n",
    "    print(f\"{k}:   \\t\\t{np.mean(vs)/10000:0.3%} +/- {np.std(vs)/10000:0.01%}\")"
   ]
  },
  {
   "cell_type": "code",
   "execution_count": null,
   "metadata": {},
   "outputs": [],
   "source": [
    "finals.keys()"
   ]
  },
  {
   "cell_type": "code",
   "execution_count": null,
   "metadata": {},
   "outputs": [],
   "source": [
    "f\"{np.mean(finals['rand']) - np.mean(finals['friendHighDeg']):0.1f}\""
   ]
  },
  {
   "cell_type": "code",
   "execution_count": null,
   "metadata": {},
   "outputs": [],
   "source": [
    "n1s = np.array(finals['friend'])\n",
    "n2s = np.array(finals['friendHighDeg'])\n",
    "\n",
    "m1 = np.mean(n1s)\n",
    "m2 = np.mean(n2s)\n",
    "\n",
    "s1 = np.std(finals['friend'])\n",
    "s2 = np.std(finals['friendHighDeg'])\n",
    "\n",
    "#s12 = np.std(n1s - n2s) wrong...\n",
    "s12 = np.sqrt( s1**2 + s2**2 )\n",
    "\n",
    "f\"{m1-m2:0.1f} people have been saved... +/- {s12:0.1f}\" # how actually does this work?"
   ]
  },
  {
   "cell_type": "code",
   "execution_count": null,
   "metadata": {},
   "outputs": [],
   "source": []
  }
 ],
 "metadata": {
  "kernelspec": {
   "display_name": "Python 3",
   "language": "python",
   "name": "python3"
  },
  "language_info": {
   "codemirror_mode": {
    "name": "ipython",
    "version": 3
   },
   "file_extension": ".py",
   "mimetype": "text/x-python",
   "name": "python",
   "nbconvert_exporter": "python",
   "pygments_lexer": "ipython3",
   "version": "3.7.5"
  }
 },
 "nbformat": 4,
 "nbformat_minor": 4
}
