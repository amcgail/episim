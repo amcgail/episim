{
 "cells": [
  {
   "cell_type": "code",
   "execution_count": 1,
   "id": "b964a3c6-cc3c-4380-b520-0d578fdae63a",
   "metadata": {},
   "outputs": [],
   "source": [
    "from epi_model import *"
   ]
  },
  {
   "cell_type": "code",
   "execution_count": 2,
   "id": "d1fd77dd-7d97-4335-ad03-579dd3f406c8",
   "metadata": {},
   "outputs": [
    {
     "ename": "NameError",
     "evalue": "name 'a' is not defined",
     "output_type": "error",
     "traceback": [
      "\u001b[0;31m---------------------------------------------------------------------------\u001b[0m",
      "\u001b[0;31mNameError\u001b[0m                                 Traceback (most recent call last)",
      "Input \u001b[0;32mIn [2]\u001b[0m, in \u001b[0;36m<cell line: 1>\u001b[0;34m()\u001b[0m\n\u001b[1;32m      1\u001b[0m ct \u001b[38;5;241m=\u001b[39m Counter(\n\u001b[1;32m      2\u001b[0m     (a,t)\n\u001b[1;32m      3\u001b[0m     \u001b[38;5;28;01mfor\u001b[39;00m (a,b,t)\n\u001b[0;32m----> 4\u001b[0m     \u001b[38;5;129;01min\u001b[39;00m \u001b[43ma\u001b[49m\u001b[38;5;241m.\u001b[39medgelist\n\u001b[1;32m      5\u001b[0m ) \u001b[38;5;241m+\u001b[39m Counter(\n\u001b[1;32m      6\u001b[0m     (b,t)\n\u001b[1;32m      7\u001b[0m     \u001b[38;5;28;01mfor\u001b[39;00m (a,b,t)\n\u001b[1;32m      8\u001b[0m     \u001b[38;5;129;01min\u001b[39;00m a\u001b[38;5;241m.\u001b[39medgelist\n\u001b[1;32m      9\u001b[0m )\n",
      "\u001b[0;31mNameError\u001b[0m: name 'a' is not defined"
     ]
    }
   ],
   "source": [
    "ct = Counter(\n",
    "    (a,t)\n",
    "    for (a,b,t)\n",
    "    in a.edgelist\n",
    ") + Counter(\n",
    "    (b,t)\n",
    "    for (a,b,t)\n",
    "    in a.edgelist\n",
    ")"
   ]
  },
  {
   "cell_type": "code",
   "execution_count": 27,
   "id": "9f0a3d16-bc63-4be2-9f31-b4eb03d360fc",
   "metadata": {},
   "outputs": [
    {
     "data": {
      "text/plain": [
       "((0, 44), 2)"
      ]
     },
     "execution_count": 27,
     "metadata": {},
     "output_type": "execute_result"
    }
   ],
   "source": [
    "list(ct.items())[0]"
   ]
  },
  {
   "cell_type": "code",
   "execution_count": 20,
   "id": "ff2cabef-1c51-43b7-a8bb-7e92f2aa2034",
   "metadata": {},
   "outputs": [
    {
     "data": {
      "text/plain": [
       "[((459, 557), 508),\n",
       " ((557, 459), 507),\n",
       " ((137, 187), 421),\n",
       " ((187, 137), 421),\n",
       " ((378, 179), 408),\n",
       " ((179, 378), 406),\n",
       " ((567, 25), 391),\n",
       " ((25, 567), 390),\n",
       " ((604, 235), 386),\n",
       " ((235, 604), 383),\n",
       " ((299, 386), 369),\n",
       " ((386, 299), 368),\n",
       " ((238, 194), 356),\n",
       " ((194, 238), 355),\n",
       " ((777, 586), 354),\n",
       " ((586, 777), 352),\n",
       " ((171, 211), 351),\n",
       " ((211, 171), 351),\n",
       " ((185, 365), 341),\n",
       " ((365, 185), 341)]"
      ]
     },
     "execution_count": 20,
     "metadata": {},
     "output_type": "execute_result"
    }
   ],
   "source": [
    "ct.most_common(20)"
   ]
  },
  {
   "cell_type": "code",
   "execution_count": 24,
   "id": "42cbef7e-6b22-4791-9c8e-2ebfe03aed99",
   "metadata": {},
   "outputs": [
    {
     "data": {
      "text/plain": [
       "(0, 44)"
      ]
     },
     "execution_count": 24,
     "metadata": {},
     "output_type": "execute_result"
    }
   ],
   "source": [
    "list(ct)[0]"
   ]
  },
  {
   "cell_type": "code",
   "execution_count": 30,
   "id": "f803652e-988a-43dd-bed8-121f70735598",
   "metadata": {},
   "outputs": [
    {
     "data": {
      "image/png": "[encoded data removed]",
      "text/plain": [
       "<Figure size 432x288 with 1 Axes>"
      ]
     },
     "metadata": {
      "needs_background": "light"
     },
     "output_type": "display_data"
    }
   ],
   "source": [
    "plt.hist( [v for v in ct.values()], bins=100 );"
   ]
  },
  {
   "cell_type": "code",
   "execution_count": 31,
   "id": "858b2b1a-083f-4a95-82ef-477ce9bf6f64",
   "metadata": {},
   "outputs": [],
   "source": [
    "ctt = Counter( ct.values() )"
   ]
  },
  {
   "cell_type": "code",
   "execution_count": 36,
   "id": "490055c0-2bc5-4d55-95a9-2ed2938c0ecb",
   "metadata": {},
   "outputs": [
    {
     "data": {
      "text/plain": [
       "0.3343372240910009"
      ]
     },
     "execution_count": 36,
     "metadata": {},
     "output_type": "execute_result"
    }
   ],
   "source": [
    "ctt[1] / sum(ctt.values())"
   ]
  },
  {
   "cell_type": "code",
   "execution_count": 41,
   "id": "b78c47d4-6db1-4b00-98ae-b41c5779bdde",
   "metadata": {},
   "outputs": [
    {
     "data": {
      "text/plain": [
       "0.3343372240910009"
      ]
     },
     "execution_count": 41,
     "metadata": {},
     "output_type": "execute_result"
    }
   ],
   "source": [
    "sum(ctt[ii] for ii in range(1,2)) / sum(ctt.values())"
   ]
  },
  {
   "cell_type": "code",
   "execution_count": 14,
   "id": "eff94286-701d-433f-9345-2de694d50665",
   "metadata": {},
   "outputs": [
    {
     "ename": "ValueError",
     "evalue": "too many values to unpack (expected 3)",
     "output_type": "error",
     "traceback": [
      "\u001b[0;31m---------------------------------------------------------------------------\u001b[0m",
      "\u001b[0;31mValueError\u001b[0m                                Traceback (most recent call last)",
      "Input \u001b[0;32mIn [14]\u001b[0m, in \u001b[0;36m<cell line: 1>\u001b[0;34m()\u001b[0m\n\u001b[1;32m      1\u001b[0m \u001b[38;5;28;01mfor\u001b[39;00m typ \u001b[38;5;129;01min\u001b[39;00m [\u001b[38;5;124m'\u001b[39m\u001b[38;5;124mhigh school\u001b[39m\u001b[38;5;124m'\u001b[39m,\u001b[38;5;124m'\u001b[39m\u001b[38;5;124mhigh school2\u001b[39m\u001b[38;5;124m'\u001b[39m, \u001b[38;5;124m'\u001b[39m\u001b[38;5;124mprimary school\u001b[39m\u001b[38;5;124m'\u001b[39m]:\n\u001b[0;32m----> 3\u001b[0m     a \u001b[38;5;241m=\u001b[39m \u001b[43mtemporalNetwork\u001b[49m\u001b[38;5;241;43m.\u001b[39;49m\u001b[43mload\u001b[49m\u001b[43m(\u001b[49m\u001b[43mtyp\u001b[49m\u001b[43m)\u001b[49m\n\u001b[1;32m      4\u001b[0m     wtd \u001b[38;5;241m=\u001b[39m a\u001b[38;5;241m.\u001b[39mto_weighted()\n\u001b[1;32m      6\u001b[0m     \u001b[38;5;28;01mimport\u001b[39;00m \u001b[38;5;21;01mcsv\u001b[39;00m\n",
      "File \u001b[0;32m~/Documents/GitHub/episim/epi_model/networks.py:275\u001b[0m, in \u001b[0;36mtemporalNetwork.load\u001b[0;34m(cls, dataset)\u001b[0m\n\u001b[1;32m    272\u001b[0m \u001b[38;5;28;01melse\u001b[39;00m:\n\u001b[1;32m    273\u001b[0m     \u001b[38;5;28;01mraise\u001b[39;00m \u001b[38;5;167;01mException\u001b[39;00m(\u001b[38;5;124m'\u001b[39m\u001b[38;5;124mdataset not found...\u001b[39m\u001b[38;5;124m'\u001b[39m)\n\u001b[0;32m--> 275\u001b[0m \u001b[38;5;28;01mreturn\u001b[39;00m \u001b[43mtemporalNetwork\u001b[49m\u001b[43m(\u001b[49m\n\u001b[1;32m    276\u001b[0m \u001b[43m    \u001b[49m\u001b[43medgelist\u001b[49m\u001b[43m \u001b[49m\u001b[38;5;241;43m=\u001b[39;49m\u001b[43m \u001b[49m\u001b[43medgelist\u001b[49m\u001b[43m,\u001b[49m\n\u001b[1;32m    277\u001b[0m \u001b[43m    \u001b[49m\u001b[43mtime_start\u001b[49m\u001b[43m \u001b[49m\u001b[38;5;241;43m=\u001b[39;49m\u001b[43m \u001b[49m\u001b[43mtime_start\u001b[49m\u001b[43m,\u001b[49m\n\u001b[1;32m    278\u001b[0m \u001b[43m    \u001b[49m\u001b[43mnode_attr\u001b[49m\u001b[43m \u001b[49m\u001b[38;5;241;43m=\u001b[39;49m\u001b[43m \u001b[49m\u001b[43mnode_attr\u001b[49m\u001b[43m,\u001b[49m\n\u001b[1;32m    279\u001b[0m \u001b[43m\u001b[49m\u001b[43m)\u001b[49m\n",
      "File \u001b[0;32m~/Documents/GitHub/episim/epi_model/networks.py:147\u001b[0m, in \u001b[0;36mtemporalNetwork.__init__\u001b[0;34m(self, edgelist, time_start, node_attr)\u001b[0m\n\u001b[1;32m    144\u001b[0m \u001b[38;5;28mself\u001b[39m\u001b[38;5;241m.\u001b[39mtime_start \u001b[38;5;241m=\u001b[39m time_start\n\u001b[1;32m    145\u001b[0m \u001b[38;5;28mself\u001b[39m\u001b[38;5;241m.\u001b[39mnode_attr \u001b[38;5;241m=\u001b[39m node_attr\n\u001b[0;32m--> 147\u001b[0m \u001b[38;5;28;43mself\u001b[39;49m\u001b[38;5;241;43m.\u001b[39;49m\u001b[43mexecute_preprocessing\u001b[49m\u001b[43m(\u001b[49m\u001b[43m)\u001b[49m\n\u001b[1;32m    148\u001b[0m \u001b[38;5;28mself\u001b[39m\u001b[38;5;241m.\u001b[39mweighted \u001b[38;5;241m=\u001b[39m \u001b[38;5;28mself\u001b[39m\u001b[38;5;241m.\u001b[39mto_weighted()\n\u001b[1;32m    150\u001b[0m \u001b[38;5;28mself\u001b[39m\u001b[38;5;241m.\u001b[39mnodes \u001b[38;5;241m=\u001b[39m \u001b[38;5;28mlist\u001b[39m(\u001b[38;5;28mself\u001b[39m\u001b[38;5;241m.\u001b[39mG\u001b[38;5;241m.\u001b[39mnodes)\n",
      "File \u001b[0;32m~/Documents/GitHub/episim/epi_model/networks.py:323\u001b[0m, in \u001b[0;36mtemporalNetwork.execute_preprocessing\u001b[0;34m(self)\u001b[0m\n\u001b[1;32m    320\u001b[0m \u001b[38;5;28mself\u001b[39m\u001b[38;5;241m.\u001b[39mday_breaks \u001b[38;5;241m=\u001b[39m [\u001b[38;5;28mint\u001b[39m(x) \u001b[38;5;28;01mfor\u001b[39;00m x \u001b[38;5;129;01min\u001b[39;00m \u001b[38;5;28mself\u001b[39m\u001b[38;5;241m.\u001b[39mday_breaks]\n\u001b[1;32m    322\u001b[0m \u001b[38;5;66;03m# this is necessary to check whether the network is directed intiitally\u001b[39;00m\n\u001b[0;32m--> 323\u001b[0m edgelist_counter \u001b[38;5;241m=\u001b[39m Counter([\n\u001b[1;32m    324\u001b[0m     \u001b[38;5;28mtuple\u001b[39m([t]\u001b[38;5;241m+\u001b[39m\u001b[38;5;28msorted\u001b[39m([u,v]))\n\u001b[1;32m    325\u001b[0m     \u001b[38;5;28;01mfor\u001b[39;00m t,u,v \u001b[38;5;129;01min\u001b[39;00m \u001b[38;5;28mself\u001b[39m\u001b[38;5;241m.\u001b[39medgelist\n\u001b[1;32m    326\u001b[0m ])\n\u001b[1;32m    328\u001b[0m \u001b[38;5;28;01mif\u001b[39;00m \u001b[38;5;28many\u001b[39m(x\u001b[38;5;241m%\u001b[39m\u001b[38;5;241m2\u001b[39m\u001b[38;5;241m!=\u001b[39m\u001b[38;5;241m0\u001b[39m \u001b[38;5;28;01mfor\u001b[39;00m x \u001b[38;5;129;01min\u001b[39;00m edgelist_counter\u001b[38;5;241m.\u001b[39mvalues()):\n\u001b[1;32m    329\u001b[0m     \u001b[38;5;66;03m# ensure the network is undirected!\u001b[39;00m\n\u001b[1;32m    330\u001b[0m     edgelist \u001b[38;5;241m=\u001b[39m np\u001b[38;5;241m.\u001b[39marray(\u001b[38;5;28mself\u001b[39m\u001b[38;5;241m.\u001b[39medgelist, dtype\u001b[38;5;241m=\u001b[39m\u001b[38;5;28mint\u001b[39m)\n",
      "File \u001b[0;32m~/Documents/GitHub/episim/epi_model/networks.py:325\u001b[0m, in \u001b[0;36m<listcomp>\u001b[0;34m(.0)\u001b[0m\n\u001b[1;32m    320\u001b[0m \u001b[38;5;28mself\u001b[39m\u001b[38;5;241m.\u001b[39mday_breaks \u001b[38;5;241m=\u001b[39m [\u001b[38;5;28mint\u001b[39m(x) \u001b[38;5;28;01mfor\u001b[39;00m x \u001b[38;5;129;01min\u001b[39;00m \u001b[38;5;28mself\u001b[39m\u001b[38;5;241m.\u001b[39mday_breaks]\n\u001b[1;32m    322\u001b[0m \u001b[38;5;66;03m# this is necessary to check whether the network is directed intiitally\u001b[39;00m\n\u001b[1;32m    323\u001b[0m edgelist_counter \u001b[38;5;241m=\u001b[39m Counter([\n\u001b[1;32m    324\u001b[0m     \u001b[38;5;28mtuple\u001b[39m([t]\u001b[38;5;241m+\u001b[39m\u001b[38;5;28msorted\u001b[39m([u,v]))\n\u001b[0;32m--> 325\u001b[0m     \u001b[38;5;28;01mfor\u001b[39;00m t,u,v \u001b[38;5;129;01min\u001b[39;00m \u001b[38;5;28mself\u001b[39m\u001b[38;5;241m.\u001b[39medgelist\n\u001b[1;32m    326\u001b[0m ])\n\u001b[1;32m    328\u001b[0m \u001b[38;5;28;01mif\u001b[39;00m \u001b[38;5;28many\u001b[39m(x\u001b[38;5;241m%\u001b[39m\u001b[38;5;241m2\u001b[39m\u001b[38;5;241m!=\u001b[39m\u001b[38;5;241m0\u001b[39m \u001b[38;5;28;01mfor\u001b[39;00m x \u001b[38;5;129;01min\u001b[39;00m edgelist_counter\u001b[38;5;241m.\u001b[39mvalues()):\n\u001b[1;32m    329\u001b[0m     \u001b[38;5;66;03m# ensure the network is undirected!\u001b[39;00m\n\u001b[1;32m    330\u001b[0m     edgelist \u001b[38;5;241m=\u001b[39m np\u001b[38;5;241m.\u001b[39marray(\u001b[38;5;28mself\u001b[39m\u001b[38;5;241m.\u001b[39medgelist, dtype\u001b[38;5;241m=\u001b[39m\u001b[38;5;28mint\u001b[39m)\n",
      "\u001b[0;31mValueError\u001b[0m: too many values to unpack (expected 3)"
     ]
    }
   ],
   "source": [
    "for typ in ['high school','high school2', 'primary school']:\n",
    "\n",
    "    a = temporalNetwork.load(typ)\n",
    "    wtd = a.to_weighted()\n",
    "    \n",
    "    import csv\n",
    "    with open(f'{typ}.csv', 'w') as outf:\n",
    "        w = csv.writer(outf)\n",
    "        w.writerows([(a,b,int(c)) for a,b,c in wtd.edgelist])"
   ]
  },
  {
   "cell_type": "code",
   "execution_count": 3,
   "id": "39129f67-1cf9-4073-a190-6668b8e79f37",
   "metadata": {},
   "outputs": [],
   "source": [
    "a = temporalNetwork.load('high school')"
   ]
  },
  {
   "cell_type": "code",
   "execution_count": 4,
   "id": "1d9ce414-98fc-4843-8848-f6eb14074414",
   "metadata": {},
   "outputs": [],
   "source": [
    "wtd = a.to_weighted()"
   ]
  },
  {
   "cell_type": "code",
   "execution_count": 30,
   "id": "1fb81399-2e4b-4bbd-9c87-13e0f680283e",
   "metadata": {},
   "outputs": [],
   "source": [
    "import csv\n",
    "with open('weak.csv', 'w') as outf:\n",
    "    w = csv.writer(outf)\n",
    "    w.writerows(el1)\n",
    "    \n",
    "with open('strong.csv', 'w') as outf:\n",
    "    w = csv.writer(outf)\n",
    "    w.writerows(el2)"
   ]
  },
  {
   "cell_type": "code",
   "execution_count": 12,
   "id": "30e0f92b-4f47-447e-b0a4-2b840ab86c41",
   "metadata": {},
   "outputs": [],
   "source": [
    "import networkx as nx"
   ]
  },
  {
   "cell_type": "markdown",
   "id": "f236fc57-30ad-406c-90a7-21745ba812a6",
   "metadata": {},
   "source": [
    "# network of weak ties, network of strong ties"
   ]
  },
  {
   "cell_type": "code",
   "execution_count": 69,
   "id": "527516e8-41d6-423d-a22e-21fc45b61748",
   "metadata": {},
   "outputs": [
    {
     "data": {
      "text/plain": [
       "35"
      ]
     },
     "execution_count": 69,
     "metadata": {},
     "output_type": "execute_result"
    }
   ],
   "source": [
    "max(dtot)"
   ]
  },
  {
   "cell_type": "code",
   "execution_count": 68,
   "id": "b9ad1d89-03e1-4776-bb53-a9e1ab6d2ce2",
   "metadata": {},
   "outputs": [
    {
     "name": "stdout",
     "output_type": "stream",
     "text": [
      "10 60\n",
      "9.0 -> 11.3 (25.9%). 70% have fwgftt (71%>=), average egonet diff 0.8. 325 nodes, 2920 edges, 25\n",
      "1.9 -> 2.5 (31.3%). 54% have fwgftt (75%>=), average egonet diff 0.5. 235 nodes, 454 edges, 6\n",
      "\n"
     ]
    }
   ],
   "source": [
    "for A,B in [(10,60)]:\n",
    "    print(A,B)\n",
    "\n",
    "    # each are 20s...\n",
    "\n",
    "    r_weak = ( 2 * 60 / 20, A * 60 / 20 )\n",
    "    r_strong = ( B * 60 / 20, float('inf') )\n",
    "\n",
    "    el1 = [\n",
    "        (a,b,int(w))\n",
    "        for a,b,w in wtd.edgelist\n",
    "        if r_weak[0] <= w <= r_weak[1]\n",
    "    ]\n",
    "\n",
    "    el2 = [\n",
    "        (a,b,int(w))\n",
    "        for a,b,w in wtd.edgelist\n",
    "        if r_strong[0] <= w <= r_strong[1]\n",
    "    ]\n",
    "\n",
    "    for el in [el1,el2]:\n",
    "\n",
    "        G = nx.Graph()\n",
    "\n",
    "        G.add_edges_from([\n",
    "            (a,b) for\n",
    "            a,b,_ in el\n",
    "        ])\n",
    "\n",
    "        dd = dict(G.degree)\n",
    "        d = np.array(list(dd.values()))\n",
    "        a,b = ( d.mean(), (d ** 2).sum() / d.sum() )\n",
    "        \n",
    "        ab = []\n",
    "        for n in G.nodes:\n",
    "            nb = list(nx.neighbors(G,n))\n",
    "            mn = np.mean([ dd[ii] for ii in nb ])\n",
    "\n",
    "            ab.append( (dd[n], mn) )\n",
    "        \n",
    "        pct = np.sum([ b>a for a,b in ab ]) / len(ab)\n",
    "        pct2 = np.sum([ b>=a for a,b in ab ]) / len(ab)\n",
    "        avg = np.mean([ b/a-1 for a,b in ab ])\n",
    "        \n",
    "        print(f\"{a:0.1f} -> {b:0.1f} ({b/a-1:0.1%}). {pct:0.0%} have fwgftt ({pct2:0.0%}>=), average egonet diff {avg:0.1f}. {len(d)} nodes, {len(el)} edges, {max(d)}\")\n",
    "    print()\n",
    "\n"
   ]
  },
  {
   "cell_type": "code",
   "execution_count": 64,
   "id": "1cc0e0b1-235a-45af-89dc-f9558370e197",
   "metadata": {},
   "outputs": [
    {
     "name": "stdout",
     "output_type": "stream",
     "text": [
      "10\n",
      "9.0 -> 11.3 (25.9%). 70% have fwgftt (71%>=), average egonet diff 0.8. 325 nodes, 2920 edges, 25\n",
      "5.8 -> 7.6 (31.4%). 70% have fwgftt (71%>=), average egonet diff 0.8. 315 nodes, 1834 edges, 17\n",
      "\n",
      "15\n",
      "10.4 -> 12.9 (24.4%). 69% have fwgftt (69%>=), average egonet diff 0.7. 325 nodes, 3382 edges, 28\n",
      "4.4 -> 6.0 (35.1%). 70% have fwgftt (74%>=), average egonet diff 0.9. 311 nodes, 1374 edges, 15\n",
      "\n",
      "20\n",
      "11.1 -> 13.8 (23.8%). 67% have fwgftt (67%>=), average egonet diff 0.7. 325 nodes, 3618 edges, 30\n",
      "3.7 -> 5.1 (38.0%). 67% have fwgftt (73%>=), average egonet diff 1.0. 299 nodes, 1110 edges, 12\n",
      "\n",
      "25\n",
      "11.6 -> 14.3 (23.6%). 68% have fwgftt (69%>=), average egonet diff 0.6. 325 nodes, 3760 edges, 32\n",
      "3.3 -> 4.6 (37.7%). 65% have fwgftt (74%>=), average egonet diff 0.9. 292 nodes, 970 edges, 11\n",
      "\n",
      "30\n",
      "11.9 -> 14.7 (23.2%). 67% have fwgftt (68%>=), average egonet diff 0.6. 325 nodes, 3880 edges, 32\n",
      "3.0 -> 4.1 (38.3%). 62% have fwgftt (74%>=), average egonet diff 0.8. 284 nodes, 846 edges, 10\n",
      "\n",
      "35\n",
      "12.2 -> 15.1 (23.6%). 68% have fwgftt (68%>=), average egonet diff 0.7. 325 nodes, 3962 edges, 33\n",
      "2.8 -> 3.7 (35.8%). 61% have fwgftt (73%>=), average egonet diff 0.7. 277 nodes, 762 edges, 8\n",
      "\n",
      "40\n",
      "12.4 -> 15.3 (23.2%). 67% have fwgftt (68%>=), average egonet diff 0.7. 325 nodes, 4042 edges, 33\n",
      "2.6 -> 3.5 (34.5%). 60% have fwgftt (76%>=), average egonet diff 0.7. 267 nodes, 692 edges, 8\n",
      "\n",
      "45\n",
      "12.6 -> 15.6 (23.3%). 67% have fwgftt (68%>=), average egonet diff 0.6. 326 nodes, 4118 edges, 33\n",
      "2.4 -> 3.2 (32.6%). 56% have fwgftt (73%>=), average egonet diff 0.6. 255 nodes, 606 edges, 7\n",
      "\n",
      "50\n",
      "12.8 -> 15.8 (23.3%). 67% have fwgftt (68%>=), average egonet diff 0.6. 326 nodes, 4172 edges, 34\n",
      "2.2 -> 3.0 (33.4%). 57% have fwgftt (74%>=), average egonet diff 0.6. 249 nodes, 552 edges, 7\n",
      "\n",
      "55\n",
      "13.0 -> 16.1 (23.4%). 67% have fwgftt (68%>=), average egonet diff 0.6. 326 nodes, 4244 edges, 34\n",
      "2.1 -> 2.7 (32.1%). 58% have fwgftt (74%>=), average egonet diff 0.5. 237 nodes, 490 edges, 7\n",
      "\n"
     ]
    }
   ],
   "source": [
    "for A in range(10,60,5):\n",
    "    print(A)\n",
    "\n",
    "    # each are 20s...\n",
    "\n",
    "    r_weak = ( 2 * 60 / 20, A * 60 / 20 )\n",
    "    r_strong = ( A * 60 / 20, float('inf') )\n",
    "\n",
    "    el1 = [\n",
    "        (a,b,int(w))\n",
    "        for a,b,w in wtd.edgelist\n",
    "        if r_weak[0] <= w <= r_weak[1]\n",
    "    ]\n",
    "\n",
    "    el2 = [\n",
    "        (a,b,int(w))\n",
    "        for a,b,w in wtd.edgelist\n",
    "        if r_strong[0] <= w <= r_strong[1]\n",
    "    ]\n",
    "\n",
    "    for el in [el1,el2]:\n",
    "\n",
    "        G = nx.Graph()\n",
    "\n",
    "        G.add_edges_from([\n",
    "            (a,b) for\n",
    "            a,b,_ in el\n",
    "        ])\n",
    "\n",
    "        dd = dict(G.degree)\n",
    "        d = np.array(list(dd.values()))\n",
    "        a,b = ( d.mean(), (d ** 2).sum() / d.sum() )\n",
    "        \n",
    "        ab = []\n",
    "        for n in G.nodes:\n",
    "            nb = list(nx.neighbors(G,n))\n",
    "            mn = np.mean([ dd[ii] for ii in nb ])\n",
    "\n",
    "            ab.append( (dd[n], mn) )\n",
    "        \n",
    "        pct = np.sum([ b>a for a,b in ab ]) / len(ab)\n",
    "        pct2 = np.sum([ b>=a for a,b in ab ]) / len(ab)\n",
    "        avg = np.mean([ b/a-1 for a,b in ab ])\n",
    "        \n",
    "        print(f\"{a:0.1f} -> {b:0.1f} ({b/a-1:0.1%}). {pct:0.0%} have fwgftt ({pct2:0.0%}>=), average egonet diff {avg:0.1f}. {len(d)} nodes, {len(el)} edges, {max(d)}\")\n",
    "    print()\n",
    "\n"
   ]
  },
  {
   "cell_type": "markdown",
   "id": "c05ea5a3-dac0-41b3-ae52-21b22a80fbd5",
   "metadata": {},
   "source": [
    "# always evaluate in the entire graph"
   ]
  },
  {
   "cell_type": "code",
   "execution_count": 67,
   "id": "5c5c8664-434d-4621-8b75-5a1cace3df83",
   "metadata": {},
   "outputs": [],
   "source": [
    "Gtot = nx.Graph()\n",
    "Gtot.add_edges_from([\n",
    "    (a,b) for\n",
    "    a,b,t in wtd.edgelist\n",
    "    if t >= 2*60/20\n",
    "])\n",
    "ddtot = dict(Gtot.degree)\n",
    "dtot = np.array([ddtot[x] for x in sorted(ddtot)])"
   ]
  },
  {
   "cell_type": "code",
   "execution_count": null,
   "id": "5f29a893-46bc-400d-b0b3-f49bdeea5148",
   "metadata": {},
   "outputs": [
    {
     "name": "stdout",
     "output_type": "stream",
     "text": [
      "10\n",
      "weak: 5.8 -> 6.6 (13.1%). 62% have fwgftt (63%>=), average egonet diff inf. 315 nodes, 2920 edges\n",
      "strong: 5.8 -> 7.6 (31.4%). 70% have fwgftt (71%>=), average egonet diff 0.8. 315 nodes, 1834 edges\n",
      "\n",
      "15\n",
      "weak: 5.8 -> 6.7 (15.6%). 64% have fwgftt (65%>=), average egonet diff inf. 315 nodes, 3382 edges\n",
      "strong: 5.8 -> 7.6 (31.1%). 66% have fwgftt (69%>=), average egonet diff 0.8. 315 nodes, 1374 edges\n",
      "\n",
      "20\n",
      "weak: 5.8 -> 6.8 (16.5%). 65% have fwgftt (66%>=), average egonet diff inf. 315 nodes, 3618 edges\n",
      "strong: 5.8 -> 7.7 (32.1%). 65% have fwgftt (69%>=), average egonet diff 0.7. 315 nodes, 1110 edges\n",
      "\n",
      "25\n",
      "weak: 5.8 -> 6.8 (17.1%). 65% have fwgftt (66%>=), average egonet diff inf. 315 nodes, 3760 edges\n",
      "strong: 5.8 -> 7.7 (31.6%). 63% have fwgftt (67%>=), average egonet diff 0.7. 315 nodes, 970 edges\n",
      "\n",
      "30\n",
      "weak: 5.8 -> 6.9 (17.7%). 65% have fwgftt (66%>=), average egonet diff inf. 315 nodes, 3880 edges\n",
      "strong: 5.8 -> 7.6 (31.2%). 61% have fwgftt (67%>=), average egonet diff 0.6. 315 nodes, 846 edges\n",
      "\n",
      "35\n",
      "weak: 5.8 -> 6.9 (18.3%). 65% have fwgftt (66%>=), average egonet diff inf. 315 nodes, 3962 edges\n",
      "strong: 5.8 -> 7.6 (29.7%). 60% have fwgftt (66%>=), average egonet diff 0.6. 315 nodes, 762 edges\n",
      "\n",
      "40\n",
      "weak: 5.8 -> 6.9 (18.6%). 66% have fwgftt (66%>=), average egonet diff inf. 315 nodes, 4042 edges\n",
      "strong: 5.8 -> 7.5 (29.0%). 60% have fwgftt (66%>=), average egonet diff 0.6. 315 nodes, 692 edges\n",
      "\n",
      "45\n",
      "weak: 5.8 -> 6.9 (18.8%). 66% have fwgftt (67%>=), average egonet diff inf. 315 nodes, 4118 edges\n",
      "strong: 5.8 -> 7.5 (29.2%). 58% have fwgftt (65%>=), average egonet diff 0.5. 315 nodes, 606 edges\n",
      "\n",
      "50\n",
      "weak: 5.8 -> 6.9 (18.9%). 66% have fwgftt (67%>=), average egonet diff inf. 315 nodes, 4172 edges\n",
      "strong: 5.8 -> 7.5 (29.6%). 57% have fwgftt (65%>=), average egonet diff 0.5. 315 nodes, 552 edges\n",
      "\n",
      "55\n",
      "weak: 5.8 -> 6.9 (19.3%). 67% have fwgftt (67%>=), average egonet diff inf. 315 nodes, 4244 edges\n",
      "strong: 5.8 -> 7.5 (28.0%). 55% have fwgftt (63%>=), average egonet diff 0.4. 315 nodes, 490 edges\n",
      "\n"
     ]
    },
    {
     "name": "stderr",
     "output_type": "stream",
     "text": [
      "/var/folders/p5/2p583dmn5fg70h33tc5c2hy80000gn/T/ipykernel_74701/8688367.py:51: RuntimeWarning: divide by zero encountered in double_scalars\n",
      "  avg = np.mean([ b/a-1 for a,b in ab ])\n"
     ]
    }
   ],
   "source": [
    "for A in range(10,60,5):\n",
    "    print(A)\n",
    "\n",
    "    # each are 20s...\n",
    "\n",
    "    r_weak = ( 2 * 60 / 20, A * 60 / 20 )\n",
    "    r_strong = ( A * 60 / 20, float('inf') )\n",
    "\n",
    "    el1 = [\n",
    "        (a,b,int(w))\n",
    "        for a,b,w in wtd.edgelist\n",
    "        if r_weak[0] <= w <= r_weak[1]\n",
    "    ]\n",
    "\n",
    "    el2 = [\n",
    "        (a,b,int(w))\n",
    "        for a,b,w in wtd.edgelist\n",
    "        if r_strong[0] <= w <= r_strong[1]\n",
    "    ]\n",
    "\n",
    "    for name, el in zip(['weak','strong'],[el1,el2]):\n",
    "\n",
    "        G = nx.Graph()\n",
    "\n",
    "        G.add_edges_from([\n",
    "            (a,b) for\n",
    "            a,b,_ in el\n",
    "        ])\n",
    "\n",
    "        dd = dict(G.degree)\n",
    "        d = np.array([dd[ii] if ii in dd else 0 for ii in sorted(ddtot)])\n",
    "        a,b = ( dtot.mean(), (d * dtot).sum() / d.sum() )\n",
    "        \n",
    "        ab = []\n",
    "        for n in G.nodes:\n",
    "            nb = list(nx.neighbors(G,n))\n",
    "            mn = np.mean([ ddtot[ii] if ii in ddtot else 0 for ii in nb ])\n",
    "            ab.append( (ddtot[n] if n in ddtot else 0, mn) )\n",
    "        \n",
    "        pct = np.sum([ b>a for a,b in ab ]) / len(ab)\n",
    "        pct2 = np.sum([ b>=a for a,b in ab ]) / len(ab)\n",
    "        avg = np.mean([ b/a-1 for a,b in ab ])\n",
    "        \n",
    "        print(f\"{name}: {a:0.1f} -> {b:0.1f} ({b/a-1:0.1%}). {pct:0.0%} have fwgftt ({pct2:0.0%}>=), average egonet diff {avg:0.1f}. {len(d)} nodes, {len(el)} edges\")\n",
    "    print()"
   ]
  }
 ],
 "metadata": {
  "kernelspec": {
   "display_name": "Python 3 (ipykernel)",
   "language": "python",
   "name": "python3"
  },
  "language_info": {
   "codemirror_mode": {
    "name": "ipython",
    "version": 3
   },
   "file_extension": ".py",
   "mimetype": "text/x-python",
   "name": "python",
   "nbconvert_exporter": "python",
   "pygments_lexer": "ipython3",
   "version": "3.8.9"
  }
 },
 "nbformat": 4,
 "nbformat_minor": 5
}
