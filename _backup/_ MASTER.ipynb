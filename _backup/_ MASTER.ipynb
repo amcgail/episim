{
 "cells": [
  {
   "cell_type": "code",
   "execution_count": 4,
   "metadata": {},
   "outputs": [
    {
     "name": "stderr",
     "output_type": "stream",
     "text": [
      "[NbConvertApp] Converting notebook 2 exec sims 1.ipynb to notebook\n",
      "[NbConvertApp] Executing notebook with kernel: python3\n",
      "[NbConvertApp] ERROR | Error while converting '2 exec sims 1.ipynb'\n",
      "Traceback (most recent call last):\n",
      "  File \"c:\\users\\amcga\\envs\\citation-deaths\\lib\\site-packages\\nbconvert\\nbconvertapp.py\", line 410, in export_single_notebook\n",
      "    output, resources = self.exporter.from_filename(notebook_filename, resources=resources)\n",
      "  File \"c:\\users\\amcga\\envs\\citation-deaths\\lib\\site-packages\\nbconvert\\exporters\\exporter.py\", line 179, in from_filename\n",
      "    return self.from_file(f, resources=resources, **kw)\n",
      "  File \"c:\\users\\amcga\\envs\\citation-deaths\\lib\\site-packages\\nbconvert\\exporters\\exporter.py\", line 197, in from_file\n",
      "    return self.from_notebook_node(nbformat.read(file_stream, as_version=4), resources=resources, **kw)\n",
      "  File \"c:\\users\\amcga\\envs\\citation-deaths\\lib\\site-packages\\nbconvert\\exporters\\notebook.py\", line 32, in from_notebook_node\n",
      "    nb_copy, resources = super(NotebookExporter, self).from_notebook_node(nb, resources, **kw)\n",
      "  File \"c:\\users\\amcga\\envs\\citation-deaths\\lib\\site-packages\\nbconvert\\exporters\\exporter.py\", line 139, in from_notebook_node\n",
      "    nb_copy, resources = self._preprocess(nb_copy, resources)\n",
      "  File \"c:\\users\\amcga\\envs\\citation-deaths\\lib\\site-packages\\nbconvert\\exporters\\exporter.py\", line 316, in _preprocess\n",
      "    nbc, resc = preprocessor(nbc, resc)\n",
      "  File \"c:\\users\\amcga\\envs\\citation-deaths\\lib\\site-packages\\nbconvert\\preprocessors\\base.py\", line 47, in __call__\n",
      "    return self.preprocess(nb, resources)\n",
      "  File \"c:\\users\\amcga\\envs\\citation-deaths\\lib\\site-packages\\nbconvert\\preprocessors\\execute.py\", line 405, in preprocess\n",
      "    nb, resources = super(ExecutePreprocessor, self).preprocess(nb, resources)\n",
      "  File \"c:\\users\\amcga\\envs\\citation-deaths\\lib\\site-packages\\nbconvert\\preprocessors\\base.py\", line 69, in preprocess\n",
      "    nb.cells[index], resources = self.preprocess_cell(cell, resources, index)\n",
      "  File \"c:\\users\\amcga\\envs\\citation-deaths\\lib\\site-packages\\nbconvert\\preprocessors\\execute.py\", line 448, in preprocess_cell\n",
      "    raise CellExecutionError.from_cell_and_msg(cell, out)\n",
      "nbconvert.preprocessors.execute.CellExecutionError: An error occurred while executing the following cell:\n",
      "------------------\n",
      "if True:\n",
      "    import pickle\n",
      "    with open(outfn, 'wb') as outf:\n",
      "        pickle.dump( ms, outf )\n",
      "------------------\n",
      "\n",
      "\u001b[1;31m---------------------------------------------------------------------------\u001b[0m\n",
      "\u001b[1;31mNameError\u001b[0m                                 Traceback (most recent call last)\n",
      "\u001b[1;32m<ipython-input-9-eb0b8de62276>\u001b[0m in \u001b[0;36m<module>\u001b[1;34m\u001b[0m\n",
      "\u001b[0;32m      1\u001b[0m \u001b[1;32mif\u001b[0m \u001b[1;32mTrue\u001b[0m\u001b[1;33m:\u001b[0m\u001b[1;33m\u001b[0m\u001b[1;33m\u001b[0m\u001b[0m\n",
      "\u001b[0;32m      2\u001b[0m     \u001b[1;32mimport\u001b[0m \u001b[0mpickle\u001b[0m\u001b[1;33m\u001b[0m\u001b[1;33m\u001b[0m\u001b[0m\n",
      "\u001b[1;32m----> 3\u001b[1;33m     \u001b[1;32mwith\u001b[0m \u001b[0mopen\u001b[0m\u001b[1;33m(\u001b[0m\u001b[0moutfn\u001b[0m\u001b[1;33m,\u001b[0m \u001b[1;34m'wb'\u001b[0m\u001b[1;33m)\u001b[0m \u001b[1;32mas\u001b[0m \u001b[0moutf\u001b[0m\u001b[1;33m:\u001b[0m\u001b[1;33m\u001b[0m\u001b[1;33m\u001b[0m\u001b[0m\n",
      "\u001b[0m\u001b[0;32m      4\u001b[0m         \u001b[0mpickle\u001b[0m\u001b[1;33m.\u001b[0m\u001b[0mdump\u001b[0m\u001b[1;33m(\u001b[0m \u001b[0mms\u001b[0m\u001b[1;33m,\u001b[0m \u001b[0moutf\u001b[0m \u001b[1;33m)\u001b[0m\u001b[1;33m\u001b[0m\u001b[1;33m\u001b[0m\u001b[0m\n",
      "\n",
      "\u001b[1;31mNameError\u001b[0m: name 'outfn' is not defined\n",
      "NameError: name 'outfn' is not defined\n",
      "\n",
      "[NbConvertApp] Converting notebook 2 exec sims 2.ipynb to notebook\n",
      "[NbConvertApp] Executing notebook with kernel: python3\n",
      "[NbConvertApp] ERROR | Error while converting '2 exec sims 2.ipynb'\n",
      "Traceback (most recent call last):\n",
      "  File \"c:\\users\\amcga\\envs\\citation-deaths\\lib\\site-packages\\nbconvert\\nbconvertapp.py\", line 410, in export_single_notebook\n",
      "    output, resources = self.exporter.from_filename(notebook_filename, resources=resources)\n",
      "  File \"c:\\users\\amcga\\envs\\citation-deaths\\lib\\site-packages\\nbconvert\\exporters\\exporter.py\", line 179, in from_filename\n",
      "    return self.from_file(f, resources=resources, **kw)\n",
      "  File \"c:\\users\\amcga\\envs\\citation-deaths\\lib\\site-packages\\nbconvert\\exporters\\exporter.py\", line 197, in from_file\n",
      "    return self.from_notebook_node(nbformat.read(file_stream, as_version=4), resources=resources, **kw)\n",
      "  File \"c:\\users\\amcga\\envs\\citation-deaths\\lib\\site-packages\\nbconvert\\exporters\\notebook.py\", line 32, in from_notebook_node\n",
      "    nb_copy, resources = super(NotebookExporter, self).from_notebook_node(nb, resources, **kw)\n",
      "  File \"c:\\users\\amcga\\envs\\citation-deaths\\lib\\site-packages\\nbconvert\\exporters\\exporter.py\", line 139, in from_notebook_node\n",
      "    nb_copy, resources = self._preprocess(nb_copy, resources)\n",
      "  File \"c:\\users\\amcga\\envs\\citation-deaths\\lib\\site-packages\\nbconvert\\exporters\\exporter.py\", line 316, in _preprocess\n",
      "    nbc, resc = preprocessor(nbc, resc)\n",
      "  File \"c:\\users\\amcga\\envs\\citation-deaths\\lib\\site-packages\\nbconvert\\preprocessors\\base.py\", line 47, in __call__\n",
      "    return self.preprocess(nb, resources)\n",
      "  File \"c:\\users\\amcga\\envs\\citation-deaths\\lib\\site-packages\\nbconvert\\preprocessors\\execute.py\", line 405, in preprocess\n",
      "    nb, resources = super(ExecutePreprocessor, self).preprocess(nb, resources)\n",
      "  File \"c:\\users\\amcga\\envs\\citation-deaths\\lib\\site-packages\\nbconvert\\preprocessors\\base.py\", line 69, in preprocess\n",
      "    nb.cells[index], resources = self.preprocess_cell(cell, resources, index)\n",
      "  File \"c:\\users\\amcga\\envs\\citation-deaths\\lib\\site-packages\\nbconvert\\preprocessors\\execute.py\", line 448, in preprocess_cell\n",
      "    raise CellExecutionError.from_cell_and_msg(cell, out)\n",
      "nbconvert.preprocessors.execute.CellExecutionError: An error occurred while executing the following cell:\n",
      "------------------\n",
      "if True:\n",
      "    import pickle\n",
      "    with open(outfn, 'wb') as outf:\n",
      "        pickle.dump( ms, outf )\n",
      "------------------\n",
      "\n",
      "\u001b[1;31m---------------------------------------------------------------------------\u001b[0m\n",
      "\u001b[1;31mNameError\u001b[0m                                 Traceback (most recent call last)\n",
      "\u001b[1;32m<ipython-input-9-eb0b8de62276>\u001b[0m in \u001b[0;36m<module>\u001b[1;34m\u001b[0m\n",
      "\u001b[0;32m      1\u001b[0m \u001b[1;32mif\u001b[0m \u001b[1;32mTrue\u001b[0m\u001b[1;33m:\u001b[0m\u001b[1;33m\u001b[0m\u001b[1;33m\u001b[0m\u001b[0m\n",
      "\u001b[0;32m      2\u001b[0m     \u001b[1;32mimport\u001b[0m \u001b[0mpickle\u001b[0m\u001b[1;33m\u001b[0m\u001b[1;33m\u001b[0m\u001b[0m\n",
      "\u001b[1;32m----> 3\u001b[1;33m     \u001b[1;32mwith\u001b[0m \u001b[0mopen\u001b[0m\u001b[1;33m(\u001b[0m\u001b[0moutfn\u001b[0m\u001b[1;33m,\u001b[0m \u001b[1;34m'wb'\u001b[0m\u001b[1;33m)\u001b[0m \u001b[1;32mas\u001b[0m \u001b[0moutf\u001b[0m\u001b[1;33m:\u001b[0m\u001b[1;33m\u001b[0m\u001b[1;33m\u001b[0m\u001b[0m\n",
      "\u001b[0m\u001b[0;32m      4\u001b[0m         \u001b[0mpickle\u001b[0m\u001b[1;33m.\u001b[0m\u001b[0mdump\u001b[0m\u001b[1;33m(\u001b[0m \u001b[0mms\u001b[0m\u001b[1;33m,\u001b[0m \u001b[0moutf\u001b[0m \u001b[1;33m)\u001b[0m\u001b[1;33m\u001b[0m\u001b[1;33m\u001b[0m\u001b[0m\n",
      "\n",
      "\u001b[1;31mNameError\u001b[0m: name 'outfn' is not defined\n",
      "NameError: name 'outfn' is not defined\n",
      "\n"
     ]
    }
   ],
   "source": [
    "!jupyter-nbconvert --inplace --execute \"2 exec sims 1.ipynb\"\n",
    "!jupyter-nbconvert --inplace --execute \"2 exec sims 2.ipynb\""
   ]
  },
  {
   "cell_type": "code",
   "execution_count": null,
   "metadata": {},
   "outputs": [],
   "source": [
    "!jupyter-nbconvert --inplace \"2 exec sims 3.ipynb\"\n",
    "!jupyter-nbconvert --inplace \"2 exec sims 4.ipynb\""
   ]
  },
  {
   "cell_type": "code",
   "execution_count": null,
   "metadata": {},
   "outputs": [],
   "source": [
    "!jupyter-nbconvert --inplace \"2 exec sims 5.ipynb\"\n",
    "!jupyter-nbconvert --inplace \"2 exec sims 6.ipynb\""
   ]
  },
  {
   "cell_type": "code",
   "execution_count": null,
   "metadata": {},
   "outputs": [],
   "source": [
    "!jupyter-nbconvert --inplace \"2 exec sims 7.ipynb\"\n",
    "!jupyter-nbconvert --inplace \"2 exec sims 8.ipynb\""
   ]
  },
  {
   "cell_type": "code",
   "execution_count": null,
   "metadata": {},
   "outputs": [],
   "source": [
    "!jupyter-nbconvert --inplace \"2 exec sims 9.ipynb\""
   ]
  }
 ],
 "metadata": {
  "kernelspec": {
   "display_name": "Python 3",
   "language": "python",
   "name": "python3"
  },
  "language_info": {
   "codemirror_mode": {
    "name": "ipython",
    "version": 3
   },
   "file_extension": ".py",
   "mimetype": "text/x-python",
   "name": "python",
   "nbconvert_exporter": "python",
   "pygments_lexer": "ipython3",
   "version": "3.7.5"
  }
 },
 "nbformat": 4,
 "nbformat_minor": 4
}
