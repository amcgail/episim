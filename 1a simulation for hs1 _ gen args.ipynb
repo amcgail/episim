{
 "cells": [
  {
   "cell_type": "code",
   "execution_count": 1,
   "metadata": {},
   "outputs": [],
   "source": [
    "from simulation_manager import *"
   ]
  },
  {
   "cell_type": "code",
   "execution_count": 2,
   "metadata": {},
   "outputs": [],
   "source": [
    "from epi_model import *"
   ]
  },
  {
   "cell_type": "code",
   "execution_count": 3,
   "metadata": {},
   "outputs": [],
   "source": [
    "from simulation_helper import *"
   ]
  },
  {
   "cell_type": "code",
   "execution_count": 10,
   "metadata": {},
   "outputs": [],
   "source": [
    "manager = simulation_manager(generate_network=False)\n",
    "\n",
    "manager.load_models('HS1_genargs')\n",
    "#manager.load_net('high school 1')\n",
    "\n",
    "manager.run_and_checkpoint(\n",
    "    argset2, # only need to worry a lot about R0\n",
    "    N_PER=300, \n",
    "    interval=30, \n",
    "    verbose=False,\n",
    "    generate_new=True,\n",
    "    dump_name='HS1_genargs'\n",
    ")"
   ]
  },
  {
   "cell_type": "code",
   "execution_count": null,
   "metadata": {},
   "outputs": [],
   "source": [
    "manager.dump_models('HS1_genargs')"
   ]
  },
  {
   "cell_type": "code",
   "execution_count": null,
   "metadata": {},
   "outputs": [],
   "source": [
    "manager.summarize_models()"
   ]
  },
  {
   "cell_type": "code",
   "execution_count": 4,
   "metadata": {},
   "outputs": [
    {
     "name": "stdout",
     "output_type": "stream",
     "text": [
      "starting at 30\n",
      "Checkpointing after 30/300 simulations\n",
      "Checkpointing after 60/300 simulations\n",
      "Checkpointing after 90/300 simulations\n",
      "Checkpointing after 120/300 simulations\n",
      "Checkpointing after 150/300 simulations\n",
      "Checkpointing after 180/300 simulations\n",
      "Checkpointing after 210/300 simulations\n",
      "Checkpointing after 240/300 simulations\n",
      "Checkpointing after 270/300 simulations\n",
      "Checkpointing after 300/300 simulations\n"
     ]
    }
   ],
   "source": [
    "manager = simulation_manager(generate_network=False)\n",
    "\n",
    "#manager.load_models('HS2_genargs')\n",
    "manager.load_net('high school 2')\n",
    "\n",
    "manager.run_and_checkpoint(\n",
    "    argset2, # only need to worry a lot about R0\n",
    "    N_PER=300, \n",
    "    interval=30, \n",
    "    verbose=False,\n",
    "    generate_new=True,\n",
    "    dump_name='HS2_genargs'\n",
    ")"
   ]
  }
 ],
 "metadata": {
  "kernelspec": {
   "display_name": "Python 3",
   "language": "python",
   "name": "python3"
  },
  "language_info": {
   "codemirror_mode": {
    "name": "ipython",
    "version": 3
   },
   "file_extension": ".py",
   "mimetype": "text/x-python",
   "name": "python",
   "nbconvert_exporter": "python",
   "pygments_lexer": "ipython3",
   "version": "3.7.5"
  }
 },
 "nbformat": 4,
 "nbformat_minor": 4
}
