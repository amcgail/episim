{
 "cells": [
  {
   "cell_type": "code",
   "execution_count": 1,
   "metadata": {},
   "outputs": [],
   "source": [
    "from bulk_simulation_helper import *"
   ]
  },
  {
   "cell_type": "code",
   "execution_count": 2,
   "metadata": {},
   "outputs": [],
   "source": [
    "out_fn = make_file_name( 'full_run_8' )"
   ]
  },
  {
   "cell_type": "code",
   "execution_count": 3,
   "metadata": {},
   "outputs": [],
   "source": [
    "strats = [\n",
    "    sampling.friendWeighted\n",
    "]"
   ]
  },
  {
   "cell_type": "code",
   "execution_count": 4,
   "metadata": {},
   "outputs": [],
   "source": [
    "VACC_Ps = [0.05, 0.10, 0.20]"
   ]
  },
  {
   "cell_type": "code",
   "execution_count": 5,
   "metadata": {},
   "outputs": [],
   "source": [
    "argsx = cp(\n",
    "    [0.05, 0.1, 0.2], # S2E's\n",
    "    [0,1] # tneti's\n",
    ")"
   ]
  },
  {
   "cell_type": "code",
   "execution_count": 6,
   "metadata": {},
   "outputs": [
    {
     "name": "stdout",
     "output_type": "stream",
     "text": [
      "loading network...loading network...\n",
      "\n",
      "loading network...loading network...\n",
      "\n",
      "loading network...\n",
      "loading network...\n",
      "Starting on  (0, 0.05, 0.05, 'friendWeighted')\n",
      "Starting on  (0, 0.2, 0.05, 'friendWeighted')\n"
     ]
    },
    {
     "name": "stderr",
     "output_type": "stream",
     "text": [
      "Exception in thread Thread-6:\n",
      "Traceback (most recent call last):\n",
      "  File \"C:\\Program Files (x86)\\Microsoft Visual Studio\\Shared\\Python37_64\\lib\\threading.py\", line 926, in _bootstrap_inner\n",
      "    self.run()\n",
      "  File \"C:\\Program Files (x86)\\Microsoft Visual Studio\\Shared\\Python37_64\\lib\\threading.py\", line 870, in run\n",
      "    self._target(*self._args, **self._kwargs)\n",
      "  File \"C:\\Users\\amcga\\GitHub\\episim\\bulk_simulation_helper.py\", line 38, in start_worker\n",
      "    to_vacc = strat(sim, vaccinateN=N_T_VACC)\n",
      "  File \"C:\\Users\\amcga\\GitHub\\episim\\epi_model\\sampling.py\", line 275, in friendWeighted\n",
      "    p2 = np.choice(p2s, p=p2w)\n",
      "  File \"c:\\users\\amcga\\envs\\citation-deaths\\lib\\site-packages\\numpy\\__init__.py\", line 304, in __getattr__\n",
      "    \"{!r}\".format(__name__, attr))\n",
      "AttributeError: module 'numpy' has no attribute 'choice'\n",
      "\n",
      "Exception in thread Thread-10:\n",
      "Traceback (most recent call last):\n",
      "  File \"C:\\Program Files (x86)\\Microsoft Visual Studio\\Shared\\Python37_64\\lib\\threading.py\", line 926, in _bootstrap_inner\n",
      "    self.run()\n",
      "  File \"C:\\Program Files (x86)\\Microsoft Visual Studio\\Shared\\Python37_64\\lib\\threading.py\", line 870, in run\n",
      "    self._target(*self._args, **self._kwargs)\n",
      "  File \"C:\\Users\\amcga\\GitHub\\episim\\bulk_simulation_helper.py\", line 38, in start_worker\n",
      "    to_vacc = strat(sim, vaccinateN=N_T_VACC)\n",
      "  File \"C:\\Users\\amcga\\GitHub\\episim\\epi_model\\sampling.py\", line 275, in friendWeighted\n",
      "    p2 = np.choice(p2s, p=p2w)\n",
      "  File \"c:\\users\\amcga\\envs\\citation-deaths\\lib\\site-packages\\numpy\\__init__.py\", line 304, in __getattr__\n",
      "    \"{!r}\".format(__name__, attr))\n",
      "AttributeError: module 'numpy' has no attribute 'choice'\n",
      "\n"
     ]
    },
    {
     "name": "stdout",
     "output_type": "stream",
     "text": [
      "Starting on  (0, 0.1, 0.05, 'friendWeighted')\n"
     ]
    },
    {
     "name": "stderr",
     "output_type": "stream",
     "text": [
      "Exception in thread Thread-8:\n",
      "Traceback (most recent call last):\n",
      "  File \"C:\\Program Files (x86)\\Microsoft Visual Studio\\Shared\\Python37_64\\lib\\threading.py\", line 926, in _bootstrap_inner\n",
      "    self.run()\n",
      "  File \"C:\\Program Files (x86)\\Microsoft Visual Studio\\Shared\\Python37_64\\lib\\threading.py\", line 870, in run\n",
      "    self._target(*self._args, **self._kwargs)\n",
      "  File \"C:\\Users\\amcga\\GitHub\\episim\\bulk_simulation_helper.py\", line 38, in start_worker\n",
      "    to_vacc = strat(sim, vaccinateN=N_T_VACC)\n",
      "  File \"C:\\Users\\amcga\\GitHub\\episim\\epi_model\\sampling.py\", line 275, in friendWeighted\n",
      "    p2 = np.choice(p2s, p=p2w)\n",
      "  File \"c:\\users\\amcga\\envs\\citation-deaths\\lib\\site-packages\\numpy\\__init__.py\", line 304, in __getattr__\n",
      "    \"{!r}\".format(__name__, attr))\n",
      "AttributeError: module 'numpy' has no attribute 'choice'\n",
      "\n"
     ]
    },
    {
     "name": "stdout",
     "output_type": "stream",
     "text": [
      "Starting on  (1, 0.05, 0.05, 'friendWeighted')\n"
     ]
    },
    {
     "name": "stderr",
     "output_type": "stream",
     "text": [
      "Exception in thread Thread-7:\n",
      "Traceback (most recent call last):\n",
      "  File \"C:\\Program Files (x86)\\Microsoft Visual Studio\\Shared\\Python37_64\\lib\\threading.py\", line 926, in _bootstrap_inner\n",
      "    self.run()\n",
      "  File \"C:\\Program Files (x86)\\Microsoft Visual Studio\\Shared\\Python37_64\\lib\\threading.py\", line 870, in run\n",
      "    self._target(*self._args, **self._kwargs)\n",
      "  File \"C:\\Users\\amcga\\GitHub\\episim\\bulk_simulation_helper.py\", line 38, in start_worker\n",
      "    to_vacc = strat(sim, vaccinateN=N_T_VACC)\n",
      "  File \"C:\\Users\\amcga\\GitHub\\episim\\epi_model\\sampling.py\", line 275, in friendWeighted\n",
      "    p2 = np.choice(p2s, p=p2w)\n",
      "  File \"c:\\users\\amcga\\envs\\citation-deaths\\lib\\site-packages\\numpy\\__init__.py\", line 304, in __getattr__\n",
      "    \"{!r}\".format(__name__, attr))\n",
      "AttributeError: module 'numpy' has no attribute 'choice'\n",
      "\n"
     ]
    },
    {
     "name": "stdout",
     "output_type": "stream",
     "text": [
      "Starting on  (1, 0.1, 0.05, 'friendWeighted')\n"
     ]
    },
    {
     "name": "stderr",
     "output_type": "stream",
     "text": [
      "Exception in thread Thread-9:\n",
      "Traceback (most recent call last):\n",
      "  File \"C:\\Program Files (x86)\\Microsoft Visual Studio\\Shared\\Python37_64\\lib\\threading.py\", line 926, in _bootstrap_inner\n",
      "    self.run()\n",
      "  File \"C:\\Program Files (x86)\\Microsoft Visual Studio\\Shared\\Python37_64\\lib\\threading.py\", line 870, in run\n",
      "    self._target(*self._args, **self._kwargs)\n",
      "  File \"C:\\Users\\amcga\\GitHub\\episim\\bulk_simulation_helper.py\", line 38, in start_worker\n",
      "    to_vacc = strat(sim, vaccinateN=N_T_VACC)\n",
      "  File \"C:\\Users\\amcga\\GitHub\\episim\\epi_model\\sampling.py\", line 275, in friendWeighted\n",
      "    p2 = np.choice(p2s, p=p2w)\n",
      "  File \"c:\\users\\amcga\\envs\\citation-deaths\\lib\\site-packages\\numpy\\__init__.py\", line 304, in __getattr__\n",
      "    \"{!r}\".format(__name__, attr))\n",
      "AttributeError: module 'numpy' has no attribute 'choice'\n",
      "\n"
     ]
    },
    {
     "name": "stdout",
     "output_type": "stream",
     "text": [
      "Starting on  (1, 0.2, 0.05, 'friendWeighted')\n"
     ]
    },
    {
     "name": "stderr",
     "output_type": "stream",
     "text": [
      "Exception in thread Thread-11:\n",
      "Traceback (most recent call last):\n",
      "  File \"C:\\Program Files (x86)\\Microsoft Visual Studio\\Shared\\Python37_64\\lib\\threading.py\", line 926, in _bootstrap_inner\n",
      "    self.run()\n",
      "  File \"C:\\Program Files (x86)\\Microsoft Visual Studio\\Shared\\Python37_64\\lib\\threading.py\", line 870, in run\n",
      "    self._target(*self._args, **self._kwargs)\n",
      "  File \"C:\\Users\\amcga\\GitHub\\episim\\bulk_simulation_helper.py\", line 38, in start_worker\n",
      "    to_vacc = strat(sim, vaccinateN=N_T_VACC)\n",
      "  File \"C:\\Users\\amcga\\GitHub\\episim\\epi_model\\sampling.py\", line 275, in friendWeighted\n",
      "    p2 = np.choice(p2s, p=p2w)\n",
      "  File \"c:\\users\\amcga\\envs\\citation-deaths\\lib\\site-packages\\numpy\\__init__.py\", line 304, in __getattr__\n",
      "    \"{!r}\".format(__name__, attr))\n",
      "AttributeError: module 'numpy' has no attribute 'choice'\n",
      "\n"
     ]
    }
   ],
   "source": [
    "threads = []\n",
    "for S2E, tneti in argsx:\n",
    "    t = Thread(target=start_worker, args=(S2E, tneti, VACC_Ps, strats))\n",
    "    t.start()\n",
    "    threads.append(t)\n",
    "        \n",
    "for t in threads:\n",
    "    t.join()"
   ]
  },
  {
   "cell_type": "code",
   "execution_count": 7,
   "metadata": {},
   "outputs": [
    {
     "data": {
      "text/plain": [
       "0"
      ]
     },
     "execution_count": 7,
     "metadata": {},
     "output_type": "execute_result"
    }
   ],
   "source": [
    "len(ms[list(ms.keys())[0]])"
   ]
  },
  {
   "cell_type": "code",
   "execution_count": 8,
   "metadata": {},
   "outputs": [
    {
     "data": {
      "text/plain": [
       "6"
      ]
     },
     "execution_count": 8,
     "metadata": {},
     "output_type": "execute_result"
    }
   ],
   "source": [
    "len(ms)"
   ]
  },
  {
   "cell_type": "code",
   "execution_count": 9,
   "metadata": {},
   "outputs": [],
   "source": [
    "if True:\n",
    "    import pickle\n",
    "    with open(out_fn, 'wb') as outf:\n",
    "        pickle.dump( ms, outf )"
   ]
  }
 ],
 "metadata": {
  "kernelspec": {
   "display_name": "Python 3",
   "language": "python",
   "name": "python3"
  },
  "language_info": {
   "codemirror_mode": {
    "name": "ipython",
    "version": 3
   },
   "file_extension": ".py",
   "mimetype": "text/x-python",
   "name": "python",
   "nbconvert_exporter": "python",
   "pygments_lexer": "ipython3",
   "version": "3.7.5"
  }
 },
 "nbformat": 4,
 "nbformat_minor": 4
}
