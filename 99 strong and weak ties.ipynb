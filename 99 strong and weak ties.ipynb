{
 "cells": [
  {
   "cell_type": "code",
   "execution_count": 1,
   "id": "b964a3c6-cc3c-4380-b520-0d578fdae63a",
   "metadata": {},
   "outputs": [],
   "source": [
    "from epi_model import *"
   ]
  },
  {
   "cell_type": "code",
   "execution_count": 27,
   "id": "9f0a3d16-bc63-4be2-9f31-b4eb03d360fc",
   "metadata": {},
   "outputs": [
    {
     "data": {
      "text/plain": [
       "((0, 44), 2)"
      ]
     },
     "execution_count": 27,
     "metadata": {},
     "output_type": "execute_result"
    }
   ],
   "source": [
    "list(ct.items())[0]"
   ]
  },
  {
   "cell_type": "code",
   "execution_count": 19,
   "id": "d1fd77dd-7d97-4335-ad03-579dd3f406c8",
   "metadata": {},
   "outputs": [],
   "source": [
    "ct = Counter(\n",
    "    (a,t)\n",
    "    for (a,b,t)\n",
    "    in a.edgelist\n",
    ") + Counter(\n",
    "    (b,t)\n",
    "    for (a,b,t)\n",
    "    in a.edgelist\n",
    ")"
   ]
  },
  {
   "cell_type": "code",
   "execution_count": 20,
   "id": "ff2cabef-1c51-43b7-a8bb-7e92f2aa2034",
   "metadata": {},
   "outputs": [
    {
     "data": {
      "text/plain": [
       "[((459, 557), 508),\n",
       " ((557, 459), 507),\n",
       " ((137, 187), 421),\n",
       " ((187, 137), 421),\n",
       " ((378, 179), 408),\n",
       " ((179, 378), 406),\n",
       " ((567, 25), 391),\n",
       " ((25, 567), 390),\n",
       " ((604, 235), 386),\n",
       " ((235, 604), 383),\n",
       " ((299, 386), 369),\n",
       " ((386, 299), 368),\n",
       " ((238, 194), 356),\n",
       " ((194, 238), 355),\n",
       " ((777, 586), 354),\n",
       " ((586, 777), 352),\n",
       " ((171, 211), 351),\n",
       " ((211, 171), 351),\n",
       " ((185, 365), 341),\n",
       " ((365, 185), 341)]"
      ]
     },
     "execution_count": 20,
     "metadata": {},
     "output_type": "execute_result"
    }
   ],
   "source": [
    "ct.most_common(20)"
   ]
  },
  {
   "cell_type": "code",
   "execution_count": 24,
   "id": "42cbef7e-6b22-4791-9c8e-2ebfe03aed99",
   "metadata": {},
   "outputs": [
    {
     "data": {
      "text/plain": [
       "(0, 44)"
      ]
     },
     "execution_count": 24,
     "metadata": {},
     "output_type": "execute_result"
    }
   ],
   "source": [
    "list(ct)[0]"
   ]
  },
  {
   "cell_type": "code",
   "execution_count": 30,
   "id": "f803652e-988a-43dd-bed8-121f70735598",
   "metadata": {},
   "outputs": [
    {
     "data": {
      "image/png": "[encoded data removed]",
      "text/plain": [
       "<Figure size 432x288 with 1 Axes>"
      ]
     },
     "metadata": {
      "needs_background": "light"
     },
     "output_type": "display_data"
    }
   ],
   "source": [
    "plt.hist( [v for v in ct.values()], bins=100 );"
   ]
  },
  {
   "cell_type": "code",
   "execution_count": 31,
   "id": "858b2b1a-083f-4a95-82ef-477ce9bf6f64",
   "metadata": {},
   "outputs": [],
   "source": [
    "ctt = Counter( ct.values() )"
   ]
  },
  {
   "cell_type": "code",
   "execution_count": 36,
   "id": "490055c0-2bc5-4d55-95a9-2ed2938c0ecb",
   "metadata": {},
   "outputs": [
    {
     "data": {
      "text/plain": [
       "0.3343372240910009"
      ]
     },
     "execution_count": 36,
     "metadata": {},
     "output_type": "execute_result"
    }
   ],
   "source": [
    "ctt[1] / sum(ctt.values())"
   ]
  },
  {
   "cell_type": "code",
   "execution_count": 41,
   "id": "b78c47d4-6db1-4b00-98ae-b41c5779bdde",
   "metadata": {},
   "outputs": [
    {
     "data": {
      "text/plain": [
       "0.3343372240910009"
      ]
     },
     "execution_count": 41,
     "metadata": {},
     "output_type": "execute_result"
    }
   ],
   "source": [
    "sum(ctt[ii] for ii in range(1,2)) / sum(ctt.values())"
   ]
  },
  {
   "cell_type": "code",
   "execution_count": 14,
   "id": "eff94286-701d-433f-9345-2de694d50665",
   "metadata": {},
   "outputs": [
    {
     "ename": "ValueError",
     "evalue": "too many values to unpack (expected 3)",
     "output_type": "error",
     "traceback": [
      "\u001b[0;31m---------------------------------------------------------------------------\u001b[0m",
      "\u001b[0;31mValueError\u001b[0m                                Traceback (most recent call last)",
      "Input \u001b[0;32mIn [14]\u001b[0m, in \u001b[0;36m<cell line: 1>\u001b[0;34m()\u001b[0m\n\u001b[1;32m      1\u001b[0m \u001b[38;5;28;01mfor\u001b[39;00m typ \u001b[38;5;129;01min\u001b[39;00m [\u001b[38;5;124m'\u001b[39m\u001b[38;5;124mhigh school\u001b[39m\u001b[38;5;124m'\u001b[39m,\u001b[38;5;124m'\u001b[39m\u001b[38;5;124mhigh school2\u001b[39m\u001b[38;5;124m'\u001b[39m, \u001b[38;5;124m'\u001b[39m\u001b[38;5;124mprimary school\u001b[39m\u001b[38;5;124m'\u001b[39m]:\n\u001b[0;32m----> 3\u001b[0m     a \u001b[38;5;241m=\u001b[39m \u001b[43mtemporalNetwork\u001b[49m\u001b[38;5;241;43m.\u001b[39;49m\u001b[43mload\u001b[49m\u001b[43m(\u001b[49m\u001b[43mtyp\u001b[49m\u001b[43m)\u001b[49m\n\u001b[1;32m      4\u001b[0m     wtd \u001b[38;5;241m=\u001b[39m a\u001b[38;5;241m.\u001b[39mto_weighted()\n\u001b[1;32m      6\u001b[0m     \u001b[38;5;28;01mimport\u001b[39;00m \u001b[38;5;21;01mcsv\u001b[39;00m\n",
      "File \u001b[0;32m~/Documents/GitHub/episim/epi_model/networks.py:275\u001b[0m, in \u001b[0;36mtemporalNetwork.load\u001b[0;34m(cls, dataset)\u001b[0m\n\u001b[1;32m    272\u001b[0m \u001b[38;5;28;01melse\u001b[39;00m:\n\u001b[1;32m    273\u001b[0m     \u001b[38;5;28;01mraise\u001b[39;00m \u001b[38;5;167;01mException\u001b[39;00m(\u001b[38;5;124m'\u001b[39m\u001b[38;5;124mdataset not found...\u001b[39m\u001b[38;5;124m'\u001b[39m)\n\u001b[0;32m--> 275\u001b[0m \u001b[38;5;28;01mreturn\u001b[39;00m \u001b[43mtemporalNetwork\u001b[49m\u001b[43m(\u001b[49m\n\u001b[1;32m    276\u001b[0m \u001b[43m    \u001b[49m\u001b[43medgelist\u001b[49m\u001b[43m \u001b[49m\u001b[38;5;241;43m=\u001b[39;49m\u001b[43m \u001b[49m\u001b[43medgelist\u001b[49m\u001b[43m,\u001b[49m\n\u001b[1;32m    277\u001b[0m \u001b[43m    \u001b[49m\u001b[43mtime_start\u001b[49m\u001b[43m \u001b[49m\u001b[38;5;241;43m=\u001b[39;49m\u001b[43m \u001b[49m\u001b[43mtime_start\u001b[49m\u001b[43m,\u001b[49m\n\u001b[1;32m    278\u001b[0m \u001b[43m    \u001b[49m\u001b[43mnode_attr\u001b[49m\u001b[43m \u001b[49m\u001b[38;5;241;43m=\u001b[39;49m\u001b[43m \u001b[49m\u001b[43mnode_attr\u001b[49m\u001b[43m,\u001b[49m\n\u001b[1;32m    279\u001b[0m \u001b[43m\u001b[49m\u001b[43m)\u001b[49m\n",
      "File \u001b[0;32m~/Documents/GitHub/episim/epi_model/networks.py:147\u001b[0m, in \u001b[0;36mtemporalNetwork.__init__\u001b[0;34m(self, edgelist, time_start, node_attr)\u001b[0m\n\u001b[1;32m    144\u001b[0m \u001b[38;5;28mself\u001b[39m\u001b[38;5;241m.\u001b[39mtime_start \u001b[38;5;241m=\u001b[39m time_start\n\u001b[1;32m    145\u001b[0m \u001b[38;5;28mself\u001b[39m\u001b[38;5;241m.\u001b[39mnode_attr \u001b[38;5;241m=\u001b[39m node_attr\n\u001b[0;32m--> 147\u001b[0m \u001b[38;5;28;43mself\u001b[39;49m\u001b[38;5;241;43m.\u001b[39;49m\u001b[43mexecute_preprocessing\u001b[49m\u001b[43m(\u001b[49m\u001b[43m)\u001b[49m\n\u001b[1;32m    148\u001b[0m \u001b[38;5;28mself\u001b[39m\u001b[38;5;241m.\u001b[39mweighted \u001b[38;5;241m=\u001b[39m \u001b[38;5;28mself\u001b[39m\u001b[38;5;241m.\u001b[39mto_weighted()\n\u001b[1;32m    150\u001b[0m \u001b[38;5;28mself\u001b[39m\u001b[38;5;241m.\u001b[39mnodes \u001b[38;5;241m=\u001b[39m \u001b[38;5;28mlist\u001b[39m(\u001b[38;5;28mself\u001b[39m\u001b[38;5;241m.\u001b[39mG\u001b[38;5;241m.\u001b[39mnodes)\n",
      "File \u001b[0;32m~/Documents/GitHub/episim/epi_model/networks.py:323\u001b[0m, in \u001b[0;36mtemporalNetwork.execute_preprocessing\u001b[0;34m(self)\u001b[0m\n\u001b[1;32m    320\u001b[0m \u001b[38;5;28mself\u001b[39m\u001b[38;5;241m.\u001b[39mday_breaks \u001b[38;5;241m=\u001b[39m [\u001b[38;5;28mint\u001b[39m(x) \u001b[38;5;28;01mfor\u001b[39;00m x \u001b[38;5;129;01min\u001b[39;00m \u001b[38;5;28mself\u001b[39m\u001b[38;5;241m.\u001b[39mday_breaks]\n\u001b[1;32m    322\u001b[0m \u001b[38;5;66;03m# this is necessary to check whether the network is directed intiitally\u001b[39;00m\n\u001b[0;32m--> 323\u001b[0m edgelist_counter \u001b[38;5;241m=\u001b[39m Counter([\n\u001b[1;32m    324\u001b[0m     \u001b[38;5;28mtuple\u001b[39m([t]\u001b[38;5;241m+\u001b[39m\u001b[38;5;28msorted\u001b[39m([u,v]))\n\u001b[1;32m    325\u001b[0m     \u001b[38;5;28;01mfor\u001b[39;00m t,u,v \u001b[38;5;129;01min\u001b[39;00m \u001b[38;5;28mself\u001b[39m\u001b[38;5;241m.\u001b[39medgelist\n\u001b[1;32m    326\u001b[0m ])\n\u001b[1;32m    328\u001b[0m \u001b[38;5;28;01mif\u001b[39;00m \u001b[38;5;28many\u001b[39m(x\u001b[38;5;241m%\u001b[39m\u001b[38;5;241m2\u001b[39m\u001b[38;5;241m!=\u001b[39m\u001b[38;5;241m0\u001b[39m \u001b[38;5;28;01mfor\u001b[39;00m x \u001b[38;5;129;01min\u001b[39;00m edgelist_counter\u001b[38;5;241m.\u001b[39mvalues()):\n\u001b[1;32m    329\u001b[0m     \u001b[38;5;66;03m# ensure the network is undirected!\u001b[39;00m\n\u001b[1;32m    330\u001b[0m     edgelist \u001b[38;5;241m=\u001b[39m np\u001b[38;5;241m.\u001b[39marray(\u001b[38;5;28mself\u001b[39m\u001b[38;5;241m.\u001b[39medgelist, dtype\u001b[38;5;241m=\u001b[39m\u001b[38;5;28mint\u001b[39m)\n",
      "File \u001b[0;32m~/Documents/GitHub/episim/epi_model/networks.py:325\u001b[0m, in \u001b[0;36m<listcomp>\u001b[0;34m(.0)\u001b[0m\n\u001b[1;32m    320\u001b[0m \u001b[38;5;28mself\u001b[39m\u001b[38;5;241m.\u001b[39mday_breaks \u001b[38;5;241m=\u001b[39m [\u001b[38;5;28mint\u001b[39m(x) \u001b[38;5;28;01mfor\u001b[39;00m x \u001b[38;5;129;01min\u001b[39;00m \u001b[38;5;28mself\u001b[39m\u001b[38;5;241m.\u001b[39mday_breaks]\n\u001b[1;32m    322\u001b[0m \u001b[38;5;66;03m# this is necessary to check whether the network is directed intiitally\u001b[39;00m\n\u001b[1;32m    323\u001b[0m edgelist_counter \u001b[38;5;241m=\u001b[39m Counter([\n\u001b[1;32m    324\u001b[0m     \u001b[38;5;28mtuple\u001b[39m([t]\u001b[38;5;241m+\u001b[39m\u001b[38;5;28msorted\u001b[39m([u,v]))\n\u001b[0;32m--> 325\u001b[0m     \u001b[38;5;28;01mfor\u001b[39;00m t,u,v \u001b[38;5;129;01min\u001b[39;00m \u001b[38;5;28mself\u001b[39m\u001b[38;5;241m.\u001b[39medgelist\n\u001b[1;32m    326\u001b[0m ])\n\u001b[1;32m    328\u001b[0m \u001b[38;5;28;01mif\u001b[39;00m \u001b[38;5;28many\u001b[39m(x\u001b[38;5;241m%\u001b[39m\u001b[38;5;241m2\u001b[39m\u001b[38;5;241m!=\u001b[39m\u001b[38;5;241m0\u001b[39m \u001b[38;5;28;01mfor\u001b[39;00m x \u001b[38;5;129;01min\u001b[39;00m edgelist_counter\u001b[38;5;241m.\u001b[39mvalues()):\n\u001b[1;32m    329\u001b[0m     \u001b[38;5;66;03m# ensure the network is undirected!\u001b[39;00m\n\u001b[1;32m    330\u001b[0m     edgelist \u001b[38;5;241m=\u001b[39m np\u001b[38;5;241m.\u001b[39marray(\u001b[38;5;28mself\u001b[39m\u001b[38;5;241m.\u001b[39medgelist, dtype\u001b[38;5;241m=\u001b[39m\u001b[38;5;28mint\u001b[39m)\n",
      "\u001b[0;31mValueError\u001b[0m: too many values to unpack (expected 3)"
     ]
    }
   ],
   "source": [
    "for typ in ['high school','high school2', 'primary school']:\n",
    "\n",
    "    a = temporalNetwork.load(typ)\n",
    "    wtd = a.to_weighted()\n",
    "    \n",
    "    import csv\n",
    "    with open(f'{typ}.csv', 'w') as outf:\n",
    "        w = csv.writer(outf)\n",
    "        w.writerows([(a,b,int(c)) for a,b,c in wtd.edgelist])"
   ]
  },
  {
   "cell_type": "code",
   "execution_count": null,
   "id": "39129f67-1cf9-4073-a190-6668b8e79f37",
   "metadata": {},
   "outputs": [],
   "source": [
    "a = temporalNetwork.load('high school')"
   ]
  },
  {
   "cell_type": "code",
   "execution_count": null,
   "id": "1d9ce414-98fc-4843-8848-f6eb14074414",
   "metadata": {},
   "outputs": [],
   "source": [
    "wtd = a.to_weighted()"
   ]
  },
  {
   "cell_type": "code",
   "execution_count": 5,
   "id": "2207f162-d55e-4578-b697-4bf36d5d7fc5",
   "metadata": {},
   "outputs": [],
   "source": [
    "# each are 20s...\n",
    "\n",
    "r_weak = ( 2 * 60 / 20, 20 * 60 / 20 )\n",
    "r_strong = ( 60 * 60 / 20, float('inf') )"
   ]
  },
  {
   "cell_type": "code",
   "execution_count": 11,
   "id": "d9ac13ef-6ed5-4d44-8341-443673b6588f",
   "metadata": {},
   "outputs": [
    {
     "ename": "AttributeError",
     "evalue": "'_csv.writer' object has no attribute 'edgelist'",
     "output_type": "error",
     "traceback": [
      "\u001b[0;31m---------------------------------------------------------------------------\u001b[0m",
      "\u001b[0;31mAttributeError\u001b[0m                            Traceback (most recent call last)",
      "Input \u001b[0;32mIn [11]\u001b[0m, in \u001b[0;36m<cell line: 1>\u001b[0;34m()\u001b[0m\n\u001b[1;32m      1\u001b[0m el1 \u001b[38;5;241m=\u001b[39m [\n\u001b[1;32m      2\u001b[0m     (a,b,w)\n\u001b[0;32m----> 3\u001b[0m     \u001b[38;5;28;01mfor\u001b[39;00m a,b,w \u001b[38;5;129;01min\u001b[39;00m \u001b[43mw\u001b[49m\u001b[38;5;241;43m.\u001b[39;49m\u001b[43medgelist\u001b[49m\n\u001b[1;32m      4\u001b[0m     \u001b[38;5;28;01mif\u001b[39;00m r_weak[\u001b[38;5;241m0\u001b[39m] \u001b[38;5;241m<\u001b[39m\u001b[38;5;241m=\u001b[39m w \u001b[38;5;241m<\u001b[39m\u001b[38;5;241m=\u001b[39m r_weak[\u001b[38;5;241m1\u001b[39m]\n\u001b[1;32m      5\u001b[0m ]\n",
      "\u001b[0;31mAttributeError\u001b[0m: '_csv.writer' object has no attribute 'edgelist'"
     ]
    }
   ],
   "source": [
    "el1 = [\n",
    "    (a,b,w)\n",
    "    for a,b,w in wtd.edgelist\n",
    "    if r_weak[0] <= w <= r_weak[1]\n",
    "]"
   ]
  },
  {
   "cell_type": "code",
   "execution_count": null,
   "id": "ba0cf0c7-d941-4f90-80c6-44e92188c605",
   "metadata": {},
   "outputs": [],
   "source": [
    "el2 = [\n",
    "    (a,b,int(w))\n",
    "    for a,b,w in w.edgelist\n",
    "    if r_strong[0] <= w <= r_strong[1]\n",
    "]"
   ]
  },
  {
   "cell_type": "code",
   "execution_count": 9,
   "id": "7ceba3d1-a7b4-4b6c-a238-0ca02572c7e9",
   "metadata": {},
   "outputs": [
    {
     "data": {
      "text/plain": [
       "(3618, 454)"
      ]
     },
     "execution_count": 9,
     "metadata": {},
     "output_type": "execute_result"
    }
   ],
   "source": [
    "len(el1), len(el2)"
   ]
  },
  {
   "cell_type": "code",
   "execution_count": 10,
   "id": "1fb81399-2e4b-4bbd-9c87-13e0f680283e",
   "metadata": {},
   "outputs": [],
   "source": [
    "import csv\n",
    "with open('weak.csv', 'w') as outf:\n",
    "    w = csv.writer(outf)\n",
    "    w.writerows(el1)\n",
    "    \n",
    "with open('strong.csv', 'w') as outf:\n",
    "    w = csv.writer(outf)\n",
    "    w.writerows(el2)"
   ]
  },
  {
   "cell_type": "code",
   "execution_count": 6,
   "id": "16a8d905-e220-41ea-94e6-7f391d6d27c2",
   "metadata": {},
   "outputs": [
    {
     "data": {
      "text/plain": [
       "(454,\n",
       " {640: 182.0,\n",
       "  520: 2.0,\n",
       "  866: 12.0,\n",
       "  874: 64.0,\n",
       "  156: 10.0,\n",
       "  502: 7.0,\n",
       "  54: 1.0,\n",
       "  576: 2.0,\n",
       "  605: 12.0,\n",
       "  869: 5.0,\n",
       "  691: 1.0,\n",
       "  642: 8.0,\n",
       "  658: 2.0,\n",
       "  159: 13.0,\n",
       "  1412: 19.0,\n",
       "  525: 3.0,\n",
       "  201: 1.0,\n",
       "  245: 2.0,\n",
       "  687: 1.0,\n",
       "  634: 1.0,\n",
       "  420: 4.0,\n",
       "  38: 1.0,\n",
       "  243: 8.0,\n",
       "  1212: 18.0,\n",
       "  134: 1.0,\n",
       "  582: 1.0})"
      ]
     },
     "execution_count": 6,
     "metadata": {},
     "output_type": "execute_result"
    }
   ],
   "source": [
    "list(w.ego_edges.items())[0]"
   ]
  },
  {
   "cell_type": "code",
   "execution_count": null,
   "id": "03fbf581-147f-4778-b803-af868911ad2c",
   "metadata": {},
   "outputs": [],
   "source": []
  }
 ],
 "metadata": {
  "kernelspec": {
   "display_name": "Python 3 (ipykernel)",
   "language": "python",
   "name": "python3"
  },
  "language_info": {
   "codemirror_mode": {
    "name": "ipython",
    "version": 3
   },
   "file_extension": ".py",
   "mimetype": "text/x-python",
   "name": "python",
   "nbconvert_exporter": "python",
   "pygments_lexer": "ipython3",
   "version": "3.8.9"
  }
 },
 "nbformat": 4,
 "nbformat_minor": 5
}
