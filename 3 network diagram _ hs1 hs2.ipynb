{
 "cells": [
  {
   "cell_type": "code",
   "execution_count": 1,
   "metadata": {},
   "outputs": [],
   "source": [
    "import sys; sys.path.append(\"..\")\n",
    "from epi_model import *"
   ]
  },
  {
   "cell_type": "code",
   "execution_count": 2,
   "metadata": {},
   "outputs": [],
   "source": [
    "a = temporalNetwork.load('high school').range(1,2)"
   ]
  },
  {
   "cell_type": "code",
   "execution_count": 3,
   "metadata": {},
   "outputs": [
    {
     "data": {
      "image/png": "[encoded data removed]",
      "text/plain": [
       "<Figure size 432x288 with 1 Axes>"
      ]
     },
     "metadata": {
      "needs_background": "light"
     },
     "output_type": "display_data"
    }
   ],
   "source": [
    "plt.hist([t for t,u,v in a.edgelist], bins=50);"
   ]
  },
  {
   "cell_type": "code",
   "execution_count": 4,
   "metadata": {},
   "outputs": [
    {
     "data": {
      "text/plain": [
       "[]"
      ]
     },
     "execution_count": 4,
     "metadata": {},
     "output_type": "execute_result"
    }
   ],
   "source": [
    "[(t,u,v) for t,u,v in a.edgelist if t > 2500][:5]"
   ]
  },
  {
   "cell_type": "code",
   "execution_count": 5,
   "metadata": {},
   "outputs": [
    {
     "data": {
      "text/plain": [
       "[(0, 640, 874), (0, 874, 640), (0, 376, 513), (0, 513, 376), (0, 20, 513)]"
      ]
     },
     "execution_count": 5,
     "metadata": {},
     "output_type": "execute_result"
    }
   ],
   "source": [
    "[(t,u,v) for t,u,v in a.edgelist][:5]"
   ]
  },
  {
   "cell_type": "code",
   "execution_count": 6,
   "metadata": {},
   "outputs": [
    {
     "data": {
      "text/plain": [
       "[]"
      ]
     },
     "execution_count": 6,
     "metadata": {},
     "output_type": "execute_result"
    }
   ],
   "source": [
    "[(t,u,v) for t,u,v in a.edgelist if t > 3000][:5]"
   ]
  },
  {
   "cell_type": "code",
   "execution_count": 7,
   "metadata": {},
   "outputs": [],
   "source": [
    "ccc = a.node_attr['class']\n",
    "\n",
    "classes = {\n",
    "    c: [k for k,v in ccc.items() if v==c]\n",
    "    for c in set(ccc.values())\n",
    "}"
   ]
  },
  {
   "cell_type": "code",
   "execution_count": 8,
   "metadata": {},
   "outputs": [],
   "source": [
    "css = a.node_attr['class']"
   ]
  },
  {
   "cell_type": "code",
   "execution_count": 9,
   "metadata": {},
   "outputs": [],
   "source": [
    "nds = sorted(a.node_attr['class'])"
   ]
  },
  {
   "cell_type": "code",
   "execution_count": 10,
   "metadata": {},
   "outputs": [],
   "source": [
    "class_map = a.node_attr['class']"
   ]
  },
  {
   "cell_type": "code",
   "execution_count": 11,
   "metadata": {},
   "outputs": [],
   "source": [
    "C_DIST = 3"
   ]
  },
  {
   "cell_type": "code",
   "execution_count": 12,
   "metadata": {},
   "outputs": [],
   "source": [
    "wt = Counter()\n",
    "wt += Counter(u for t,u,v in a.edgelist)\n",
    "wt += Counter(v for t,u,v in a.edgelist)"
   ]
  },
  {
   "cell_type": "code",
   "execution_count": 13,
   "metadata": {},
   "outputs": [
    {
     "name": "stdout",
     "output_type": "stream",
     "text": [
      "-0.7184012884338045 0.6279749773327605 -1.0 0.5647984735138474 2BIO1\n",
      "-0.5474402788296489 0.43857392441846077 -0.771209419298258 1.0 2BIO2\n",
      "-0.6597285792176552 0.6832363851229875 -0.587141590461963 1.0 2BIO3\n",
      "-0.688914932228172 0.6293894229586198 -0.9999999999999999 0.8307475342664059 MP\n",
      "-1.0 0.98632956058084 -0.6187202454476174 0.7832299081460091 MP*1\n",
      "-0.5128833741178321 0.571303195312527 -0.5531236827701331 1.0 MP*2\n",
      "{1412: array([0.02712614, 0.24833266]), 1543: array([-0.24748384, -0.21353143]), 1805: array([0.09796955, 0.247514  ]), 1423: array([-0.07636822, -0.19923495]), 1295: array([-0.13501587,  0.08244908]), 1819: array([-0.36656249, -0.4286912 ]), 1828: array([0.29709612, 0.05382155]), 1320: array([-0.40924059,  0.01217339]), 1067: array([0.1000814 , 0.01876091]), 1324: array([ 0.1252773 , -0.07365207]), 1201: array([ 0.28060521, -0.14293973]), 1332: array([0.21118521, 0.19952506]), 1204: array([ 0.09747938, -0.32993071]), 1336: array([-0.03103051,  0.19868132]), 1594: array([ 0.23231946, -0.00783427]), 1339: array([-0.11404988,  0.13554027]), 1212: array([0.26297251, 0.13689417]), 1342: array([ 0.12343303, -0.19871051]), 1214: array([ 0.23972557, -0.10370849]), 1216: array([0.02917798, 0.05646348]), 1345: array([ 0.02729907, -0.01687902]), 1218: array([-0.1981567 ,  0.01973931]), 1228: array([-0.1661648 ,  0.22244474]), 1485: array([ 0.3252556 , -0.50537531]), 1870: array([0.5713032 , 0.43378578]), 1359: array([ 0.05047895, -0.24341972]), 1232: array([-0.2602321 ,  0.29936115]), 1237: array([ 0.42895207, -0.0647811 ]), 1238: array([-0.32256722, -0.27447744]), 1366: array([-0.0823826 , -0.55312368]), 1894: array([0.10518079, 0.47186621]), 1512: array([-0.06620467,  0.04278324]), 1260: array([-0.39649837, -0.29561836]), 1518: array([-0.11234926, -0.11001823]), 1519: array([-0.15433632,  1.        ]), 1784: array([-0.51288337, -0.26697246]), 1401: array([0.01860825, 0.14876238])}\n",
      "-1.0 0.7142531569446016 -0.7442847110451286 0.7752711969849246 PC\n",
      "-1.0 0.6804772413100453 -0.7711628865658307 0.7733706419477552 PC*\n",
      "-0.8889543906518105 1.0 -0.9075176137555714 0.8291818255888852 PSI*\n"
     ]
    }
   ],
   "source": [
    "pos = {}\n",
    "\n",
    "wts3 = Counter()\n",
    "\n",
    "for i,c in enumerate(sorted(classes)):\n",
    "    gnodes = [ k for k,v in class_map.items() if v==c ]\n",
    "    \n",
    "    G = nx.Graph()\n",
    "    \n",
    "    wts = Counter([(u,v) for t,u,v in a.edgelist if (u in gnodes and v in gnodes)])\n",
    "    wts2 = Counter([u for t,u,v in a.edgelist if (u in gnodes and v in gnodes)])\n",
    "    wts2 += Counter([v for t,u,v in a.edgelist if (u in gnodes and v in gnodes)])\n",
    "    \n",
    "    #G.add_nodes_from([k for k in gnodes if wts2[k] > 0])\n",
    "    G.add_nodes_from({k for k in gnodes if wt[k]})\n",
    "    G.add_weighted_edges_from([(u,v, wts[(u,v)]) for (u,v) in wts])\n",
    "    pos_class = nx.spring_layout(G, k=0.5)\n",
    "    \n",
    "    shift_v = np.array( [\n",
    "        np.cos((i/len(classes)) * 2 * np.pi),\n",
    "        np.sin((i/len(classes)) * 2 * np.pi),\n",
    "    ] ) * C_DIST\n",
    "    #shift_v = np.array([C_DIST,0]) * i\n",
    "    \n",
    "    x_mx, x_mn = max(v[0] for v in pos_class.values()), min(v[0] for v in pos_class.values())\n",
    "    y_mx, y_mn = max(v[1] for v in pos_class.values()), min(v[1] for v in pos_class.values())\n",
    "    \n",
    "    print(x_mn, x_mx, y_mn, y_mx, c)\n",
    "    if c == 'MP*2':\n",
    "        print(pos_class)\n",
    "\n",
    "    for k,v in pos_class.items():\n",
    "        v[0] = (v[0] - x_mn) / ((x_mx-x_mn)/2) + -1\n",
    "        v[1] = (v[1] - y_mn) / ((y_mx-y_mn)/2) + -1\n",
    "        \n",
    "        pos[k] = v*0.5 + shift_v"
   ]
  },
  {
   "cell_type": "code",
   "execution_count": 14,
   "metadata": {},
   "outputs": [
    {
     "data": {
      "text/plain": [
       "88522"
      ]
     },
     "execution_count": 14,
     "metadata": {},
     "output_type": "execute_result"
    }
   ],
   "source": [
    "len([x for x in a.edgelist if css[x[1]]==css[x[2]]])"
   ]
  },
  {
   "cell_type": "code",
   "execution_count": 15,
   "metadata": {},
   "outputs": [],
   "source": [
    "G = nx.Graph()\n",
    "wts = Counter([(u,v) for t,u,v in a.edgelist])\n",
    "G.add_weighted_edges_from([(u,v, wts[(u,v)]) for (u,v) in wts])\n",
    "#G.add_weighted_edges_from([(u,v, wts[(u,v)]) for (u,v) in wts if a.node_attr['class'][u]==a.node_attr['class'][v]])"
   ]
  },
  {
   "cell_type": "code",
   "execution_count": 16,
   "metadata": {},
   "outputs": [
    {
     "data": {
      "text/plain": [
       "1"
      ]
     },
     "execution_count": 16,
     "metadata": {},
     "output_type": "execute_result"
    }
   ],
   "source": [
    "sum( k not in G.nodes for k,v in a.node_attr['class'].items() if v == 'MP*2' )"
   ]
  },
  {
   "cell_type": "code",
   "execution_count": 17,
   "metadata": {},
   "outputs": [],
   "source": [
    "CUTOFF = 10 # 15 segments * 20s = 5 minutes"
   ]
  },
  {
   "cell_type": "code",
   "execution_count": 18,
   "metadata": {},
   "outputs": [],
   "source": [
    "from matplotlib.patches import ConnectionStyle"
   ]
  },
  {
   "cell_type": "code",
   "execution_count": 19,
   "metadata": {},
   "outputs": [],
   "source": [
    "#{k for k,v in a.node_attr['class'].items() if v == 'MP*2'}.difference({z for z in G.nodes if a.node_attr['class'][z] == 'MP*2'})"
   ]
  },
  {
   "cell_type": "code",
   "execution_count": 21,
   "metadata": {},
   "outputs": [
    {
     "data": {
      "image/png": "[encoded data removed]",
      "text/plain": [
       "<Figure size 720x720 with 1 Axes>"
      ]
     },
     "metadata": {},
     "output_type": "display_data"
    }
   ],
   "source": [
    "fig,ax = plt.subplots(figsize=(10,10))\n",
    "\n",
    "#edges,weights = zip(*[((e1,e2),w) for (e1,e2),w in nx.get_edge_attributes(G,'weight').items()])\n",
    "edges,weights = zip(*[((e1,e2),w) for (e1,e2),w in nx.get_edge_attributes(G,'weight').items() if w >= CUTOFF])\n",
    "#edges,weights = zip(*[((e1,e2),w) for (e1,e2),w in nx.get_edge_attributes(G,'weight').items() if a.node_attr['class'][e1]==a.node_attr['class'][e2]])\n",
    "\n",
    "weights = np.array(weights)\n",
    "weights = weights / np.max(weights)\n",
    "\n",
    "weights = np.log(weights)\n",
    "weights = weights + -np.min(weights)\n",
    "weights = weights / weights.max()\n",
    "\n",
    "#node_color='b', , \n",
    "#arcs.set_color([(0,0,0,w/3) for w in weights])\n",
    "nx.draw_networkx_nodes(G, pos, node_size=1, node_color='black')\n",
    "\n",
    "for i,c in enumerate(sorted(classes)):\n",
    "    shift_v = np.array( [\n",
    "        np.cos((i/len(classes)) * 2 * np.pi),\n",
    "        np.sin((i/len(classes)) * 2 * np.pi),\n",
    "    ] ) * C_DIST\n",
    "        \n",
    "    # draw the circles\n",
    "    circ = plt.Circle(shift_v, 1, color='b', alpha=0.05)\n",
    "    circ2 = plt.Circle(shift_v, 1, fc='none', ec='#DDD', alpha=0.5)\n",
    "    plt.text( shift_v[0], shift_v[1]+1.1, c, horizontalalignment='center', backgroundcolor='#FFF' )\n",
    "    ax.add_patch(circ)\n",
    "    ax.add_patch(circ2)\n",
    "    \n",
    "    \n",
    "arcs = nx.draw_networkx_edges(G, pos, edgelist=edges, node_size=1, edge_color=weights, width=1, edge_cmap=plt.cm.Blues)\n",
    "#plt.scatter(x,y)\n",
    "    \n",
    "plt.savefig('classes_diagram_limited.png', dpi=300)"
   ]
  },
  {
   "cell_type": "code",
   "execution_count": 22,
   "metadata": {},
   "outputs": [],
   "source": [
    "from importlib import reload"
   ]
  },
  {
   "cell_type": "code",
   "execution_count": 25,
   "metadata": {},
   "outputs": [],
   "source": [
    "import episim"
   ]
  },
  {
   "cell_type": "markdown",
   "metadata": {},
   "source": [
    "# the other one"
   ]
  },
  {
   "cell_type": "code",
   "execution_count": 28,
   "metadata": {},
   "outputs": [],
   "source": [
    "b = temporalNetwork.load('high school2')"
   ]
  },
  {
   "cell_type": "code",
   "execution_count": 29,
   "metadata": {},
   "outputs": [],
   "source": [
    "G = nx.Graph()\n",
    "wts = Counter([(u,v) for t,u,v in b.edgelist])\n",
    "G.add_weighted_edges_from([(u,v, wts[(u,v)]) for (u,v) in wts])\n",
    "#G.add_weighted_edges_from([(u,v, wts[(u,v)]) for (u,v) in wts if a.node_attr['class'][u]==a.node_attr['class'][v]])"
   ]
  },
  {
   "cell_type": "code",
   "execution_count": 30,
   "metadata": {},
   "outputs": [
    {
     "data": {
      "text/plain": [
       "['role']"
      ]
     },
     "execution_count": 30,
     "metadata": {},
     "output_type": "execute_result"
    }
   ],
   "source": [
    "list(b.node_attr)"
   ]
  },
  {
   "cell_type": "code",
   "execution_count": 31,
   "metadata": {},
   "outputs": [],
   "source": [
    "ccc = b.node_attr['role']\n",
    "\n",
    "classes = {\n",
    "    c: [k for k,v in ccc.items() if v==c]\n",
    "    for c in set(ccc.values())\n",
    "}"
   ]
  },
  {
   "cell_type": "code",
   "execution_count": 32,
   "metadata": {},
   "outputs": [],
   "source": [
    "css = b.node_attr['role']"
   ]
  },
  {
   "cell_type": "code",
   "execution_count": 33,
   "metadata": {},
   "outputs": [],
   "source": [
    "nds = sorted(b.node_attr['role'])"
   ]
  },
  {
   "cell_type": "code",
   "execution_count": 34,
   "metadata": {},
   "outputs": [],
   "source": [
    "class_map = b.node_attr['role']"
   ]
  },
  {
   "cell_type": "code",
   "execution_count": 35,
   "metadata": {},
   "outputs": [],
   "source": [
    "C_DIST = 3"
   ]
  },
  {
   "cell_type": "code",
   "execution_count": 36,
   "metadata": {},
   "outputs": [],
   "source": [
    "q8 = np.quantile( np.array(list(wts.values())), 0.8 )"
   ]
  },
  {
   "cell_type": "code",
   "execution_count": 37,
   "metadata": {},
   "outputs": [
    {
     "data": {
      "image/png": "[encoded data removed]",
      "text/plain": [
       "<Figure size 432x288 with 1 Axes>"
      ]
     },
     "metadata": {
      "needs_background": "light"
     },
     "output_type": "display_data"
    }
   ],
   "source": [
    "plt.hist( list(wts.values()) );"
   ]
  },
  {
   "cell_type": "code",
   "execution_count": 38,
   "metadata": {},
   "outputs": [],
   "source": [
    "G = nx.Graph()\n",
    "wts = Counter([(u,v) for t,u,v in b.edgelist])\n",
    "Ns = Counter([u for t,u,v in b.edgelist])\n",
    "G.add_nodes_from(list(Ns))\n",
    "G.add_weighted_edges_from([(u,v,w) for (u,v),w in wts.items() if w>=q8])"
   ]
  },
  {
   "cell_type": "code",
   "execution_count": 39,
   "metadata": {},
   "outputs": [
    {
     "data": {
      "text/plain": [
       "790"
      ]
     },
     "execution_count": 39,
     "metadata": {},
     "output_type": "execute_result"
    }
   ],
   "source": [
    "len(nds)"
   ]
  },
  {
   "cell_type": "code",
   "execution_count": 40,
   "metadata": {},
   "outputs": [
    {
     "data": {
      "text/plain": [
       "310"
      ]
     },
     "execution_count": 40,
     "metadata": {},
     "output_type": "execute_result"
    }
   ],
   "source": [
    "len(pos)"
   ]
  },
  {
   "cell_type": "code",
   "execution_count": 41,
   "metadata": {},
   "outputs": [],
   "source": [
    "def doit(x):\n",
    "    if x < 0:\n",
    "        return -np.power(-x, 0.2)\n",
    "    else: return np.power(x, 0.2)"
   ]
  },
  {
   "cell_type": "code",
   "execution_count": 42,
   "metadata": {},
   "outputs": [],
   "source": [
    "pos_l = {\n",
    "    k: [doit(v[0]), doit(v[1])]\n",
    "    for k,v in pos.items()\n",
    "}"
   ]
  },
  {
   "cell_type": "code",
   "execution_count": 43,
   "metadata": {},
   "outputs": [
    {
     "data": {
      "text/plain": [
       "(array([142., 103.,  72.,  65.,  53.,  46.,  29.,  34.,  14.,  13.]),\n",
       " array([0. , 0.1, 0.2, 0.3, 0.4, 0.5, 0.6, 0.7, 0.8, 0.9, 1. ]),\n",
       " <BarContainer object of 10 artists>)"
      ]
     },
     "execution_count": 43,
     "metadata": {},
     "output_type": "execute_result"
    },
    {
     "data": {
      "image/png": "[encoded data removed]",
      "text/plain": [
       "<Figure size 432x288 with 1 Axes>"
      ]
     },
     "metadata": {
      "needs_background": "light"
     },
     "output_type": "display_data"
    }
   ],
   "source": [
    "plt.hist(weights)"
   ]
  },
  {
   "cell_type": "code",
   "execution_count": 44,
   "metadata": {},
   "outputs": [
    {
     "ename": "NameError",
     "evalue": "name 'pos_spring' is not defined",
     "output_type": "error",
     "traceback": [
      "\u001b[0;31m---------------------------------------------------------------------------\u001b[0m",
      "\u001b[0;31mNameError\u001b[0m                                 Traceback (most recent call last)",
      "Input \u001b[0;32mIn [44]\u001b[0m, in \u001b[0;36m<cell line: 1>\u001b[0;34m()\u001b[0m\n\u001b[0;32m----> 1\u001b[0m pos_x \u001b[38;5;241m=\u001b[39m np\u001b[38;5;241m.\u001b[39margsort( [x \u001b[38;5;28;01mfor\u001b[39;00m x,y \u001b[38;5;129;01min\u001b[39;00m \u001b[43mpos_spring\u001b[49m\u001b[38;5;241m.\u001b[39mvalues()] )\n\u001b[1;32m      2\u001b[0m pos_y \u001b[38;5;241m=\u001b[39m np\u001b[38;5;241m.\u001b[39margsort( [y \u001b[38;5;28;01mfor\u001b[39;00m x,y \u001b[38;5;129;01min\u001b[39;00m pos_spring\u001b[38;5;241m.\u001b[39mvalues()] )\n",
      "\u001b[0;31mNameError\u001b[0m: name 'pos_spring' is not defined"
     ]
    }
   ],
   "source": [
    "pos_x = np.argsort( [x for x,y in pos_spring.values()] )\n",
    "pos_y = np.argsort( [y for x,y in pos_spring.values()] )"
   ]
  },
  {
   "cell_type": "code",
   "execution_count": null,
   "metadata": {},
   "outputs": [],
   "source": [
    "pos_sorted = {k:[pos_x[i],pos_y[i]] for i,k in enumerate(pos_spring.keys())}\n",
    "# really didn't work. blows apart X and Y correlations. or I did it wrong"
   ]
  },
  {
   "cell_type": "code",
   "execution_count": null,
   "metadata": {},
   "outputs": [],
   "source": [
    "pos_start = {}\n",
    "teach_i = 0\n",
    "teach_N = Counter(b.node_attr['role'].values())['teacher']\n",
    "\n",
    "fixed = []\n",
    "\n",
    "for k in G.nodes:\n",
    "    if k not in b.node_attr['role']:\n",
    "        pos_start[k] = [random(), random()]        \n",
    "    else:\n",
    "        role = b.node_attr['role'][k]\n",
    "        if role != 'teacher':\n",
    "            pos_start[k] = [random(), random()]\n",
    "        else:\n",
    "            pos_start[k] = [2*teach_i/teach_N - 1 + 1/(teach_N/2), 0]\n",
    "            teach_i += 1\n",
    "            fixed.append(k)\n",
    "        \n",
    "pos_spring_mod = nx.spring_layout(G, k=0.5, pos=pos_start, fixed=fixed)"
   ]
  },
  {
   "cell_type": "code",
   "execution_count": null,
   "metadata": {},
   "outputs": [],
   "source": [
    "teach_i"
   ]
  },
  {
   "cell_type": "code",
   "execution_count": null,
   "metadata": {},
   "outputs": [],
   "source": [
    "pos = pos_spring_mod"
   ]
  },
  {
   "cell_type": "code",
   "execution_count": null,
   "metadata": {},
   "outputs": [],
   "source": [
    "CUTOFF = 150"
   ]
  },
  {
   "cell_type": "code",
   "execution_count": null,
   "metadata": {},
   "outputs": [],
   "source": [
    "Counter(b.node_attr['role'].values())"
   ]
  },
  {
   "cell_type": "code",
   "execution_count": null,
   "metadata": {},
   "outputs": [],
   "source": [
    "fig,ax = plt.subplots(figsize=(10,10))\n",
    "\n",
    "edges,weights = zip(*[((e1,e2),w) for (e1,e2),w in nx.get_edge_attributes(G,'weight').items() if w>=CUTOFF])\n",
    "\n",
    "weights = np.array(weights)\n",
    "weights = np.argsort(weights)\n",
    "\n",
    "#weights = np.log(weights)\n",
    "#weights = weights + -np.min(weights)\n",
    "#weights = weights / weights.max()\n",
    "\n",
    "#node_color='b', , \n",
    "#arcs.set_color([(0,0,0,w/3) for w in weights])\n",
    "nx.draw_networkx_nodes(G, pos, node_size=1, node_color='black')\n",
    "\n",
    "nx.draw_networkx_nodes(G, pos, node_size=20, node_color='black', nodelist=[x for x in G.nodes if b.node_attr['role'][x] == 'teacher'])\n",
    "nx.draw_networkx_nodes(G, pos, node_size=20, node_color='orange', nodelist=[x for x in G.nodes if b.node_attr['role'][x] == 'staff'])\n",
    "\n",
    "#edges2,weights2 = zip(*[((e1,e2),w) for (e1,e2),w in nx.get_edge_attributes(G,'weight').items() if True and 'teacher' in [b.node_attr['role'][e1], b.node_attr['role'][e2]]])\n",
    "#arcs = nx.draw_networkx_edges(G, pos, edgelist=edges2, edge_color=weights2, width=1, edge_cmap=plt.cm.Greys, alpha=1)\n",
    "#edges3,weights3 = zip(*[((e1,e2),w) for (e1,e2),w in nx.get_edge_attributes(G,'weight').items() if w >= 40 and 'teacher' in [b.node_attr['role'][e1], b.node_attr['role'][e2]]])\n",
    "#arcs = nx.draw_networkx_edges(G, pos, edgelist=edges3, edge_color='black', width=1, edge_cmap=None, alpha=0.05)\n",
    "\n",
    "arcs = nx.draw_networkx_edges(G, pos, edgelist=edges, node_size=1, edge_color=weights, width=2, edge_cmap=plt.cm.Blues, alpha=1)\n",
    "    \n",
    "plt.savefig('classes_diagram_limited.2.png', dpi=300)\n",
    "plt.xlim((-1, 1))\n",
    "plt.ylim((-1, 1))\n",
    "if False:\n",
    "    plt.xlim((\n",
    "        min(x[0] for x in pos.values()),\n",
    "        max(x[0] for x in pos.values())\n",
    "    ))\n",
    "    plt.ylim((\n",
    "        min(x[1] for x in pos.values()),\n",
    "        max(x[1] for x in pos.values())\n",
    "    ))"
   ]
  },
  {
   "cell_type": "code",
   "execution_count": null,
   "metadata": {},
   "outputs": [],
   "source": [
    "pos = pos_spring"
   ]
  },
  {
   "cell_type": "code",
   "execution_count": null,
   "metadata": {},
   "outputs": [],
   "source": [
    "CUTOFF = 180\n",
    "CUTOFF2 = 80"
   ]
  },
  {
   "cell_type": "code",
   "execution_count": null,
   "metadata": {},
   "outputs": [],
   "source": [
    "fig,ax = plt.subplots(figsize=(10,10))\n",
    "\n",
    "edges,weights = zip(*[((e1,e2),w) for (e1,e2),w in nx.get_edge_attributes(G,'weight').items() if w>=CUTOFF])\n",
    "\n",
    "weights = np.array(weights)\n",
    "weights = np.argsort(weights)\n",
    "\n",
    "#weights = np.log(weights)\n",
    "#weights = weights + -np.min(weights)\n",
    "#weights = weights / weights.max()\n",
    "\n",
    "#node_color='b', , \n",
    "#arcs.set_color([(0,0,0,w/3) for w in weights])\n",
    "nx.draw_networkx_nodes(G, pos, node_size=1, node_color='black')\n",
    "\n",
    "nx.draw_networkx_nodes(G, pos, node_size=20, node_color='white', edgecolors='black', linewidths=1, nodelist=[x for x in G.nodes if b.node_attr['role'][x] == 'teacher'])\n",
    "nx.draw_networkx_nodes(G, pos, node_size=20, node_color='orange', edgecolors='black', linewidths=1, nodelist=[x for x in G.nodes if b.node_attr['role'][x] == 'staff'])\n",
    "\n",
    "edgesA,weightsA = zip(*[((e1,e2),w) for (e1,e2),w in nx.get_edge_attributes(G,'weight').items() if w >= 110])\n",
    "nx.draw_networkx_edges(G, pos, edgelist=edgesA, node_size=1, edge_color=np.log(np.array(weightsA)+1/10), width=1, edge_cmap=plt.cm.Greys, alpha=1)\n",
    "\n",
    "#edges2,weights2 = zip(*[((e1,e2),w) for (e1,e2),w in nx.get_edge_attributes(G,'weight').items() if w >= CUTOFF2 and 'teacher' in [b.node_attr['role'][e1], b.node_attr['role'][e2]]])\n",
    "#arcs = nx.draw_networkx_edges(G, pos, edgelist=edges2, edge_color=weights2, width=1, edge_cmap=plt.cm.Greys, alpha=1)\n",
    "#edges3,weights3 = zip(*[((e1,e2),w) for (e1,e2),w in nx.get_edge_attributes(G,'weight').items() if w >= CUTOFF2 and 'teacher' in [b.node_attr['role'][e1], b.node_attr['role'][e2]]])\n",
    "#arcs = nx.draw_networkx_edges(G, pos, edgelist=edges3, edge_color='black', width=1, edge_cmap=None, alpha=0.05)\n",
    "\n",
    "arcs = nx.draw_networkx_edges(G, pos, edgelist=edges, node_size=1, edge_color=weights, width=2, edge_cmap=plt.cm.Blues, alpha=1)\n",
    "    \n",
    "plt.xlim((-0.3, 0.35))\n",
    "plt.ylim((-0.45, 0.3))\n",
    "\n",
    "plt.savefig('classes_diagram_limited.2.png', dpi=300)\n",
    "if False:\n",
    "    plt.xlim((\n",
    "        min(x[0] for x in pos.values()),\n",
    "        max(x[0] for x in pos.values())\n",
    "    ))\n",
    "    plt.ylim((\n",
    "        min(x[1] for x in pos.values()),\n",
    "        max(x[1] for x in pos.values())\n",
    "    ))"
   ]
  },
  {
   "cell_type": "markdown",
   "metadata": {},
   "source": [
    "# same network for hs1"
   ]
  },
  {
   "cell_type": "code",
   "execution_count": null,
   "metadata": {},
   "outputs": [],
   "source": [
    "a = temporalNetwork.load('high school').range(1,2)"
   ]
  },
  {
   "cell_type": "code",
   "execution_count": null,
   "metadata": {},
   "outputs": [],
   "source": [
    "G = nx.Graph()\n",
    "wts = Counter([(u,v) for t,u,v in a.edgelist])\n",
    "G.add_weighted_edges_from([(u,v, wts[(u,v)]) for (u,v) in wts])\n",
    "#G.add_weighted_edges_from([(u,v, wts[(u,v)]) for (u,v) in wts if a.node_attr['class'][u]==a.node_attr['class'][v]])"
   ]
  },
  {
   "cell_type": "code",
   "execution_count": null,
   "metadata": {},
   "outputs": [],
   "source": [
    "pos = nx.spring_layout(G, k=0.5)"
   ]
  },
  {
   "cell_type": "code",
   "execution_count": null,
   "metadata": {},
   "outputs": [],
   "source": [
    "CUTOFF = 15"
   ]
  },
  {
   "cell_type": "code",
   "execution_count": null,
   "metadata": {},
   "outputs": [],
   "source": [
    "classes"
   ]
  },
  {
   "cell_type": "code",
   "execution_count": null,
   "metadata": {},
   "outputs": [],
   "source": [
    "colors = ['blue', 'blue', 'blue', 'orange', 'orange', 'orange', 'yellow', 'yellow', 'yellow']\n",
    "colors_gr = ['#777', '#888', '#999', '#AAA', '#BBB', '#CCC', '#DDD', '#EEE', '#FFF']\n",
    "classes = sorted(set(a.node_attr['class'].values()))\n",
    "len(classes), len(colors)"
   ]
  },
  {
   "cell_type": "code",
   "execution_count": null,
   "metadata": {},
   "outputs": [],
   "source": [
    "len(edges)"
   ]
  },
  {
   "cell_type": "code",
   "execution_count": null,
   "metadata": {},
   "outputs": [],
   "source": [
    "len(edgesA)"
   ]
  },
  {
   "cell_type": "code",
   "execution_count": null,
   "metadata": {},
   "outputs": [],
   "source": [
    "len(edgesA)"
   ]
  },
  {
   "cell_type": "code",
   "execution_count": null,
   "metadata": {},
   "outputs": [],
   "source": [
    "fig,ax = plt.subplots(figsize=(10,10))\n",
    "\n",
    "edges,weights = zip(*[((e1,e2),w) for (e1,e2),w in nx.get_edge_attributes(G,'weight').items() if w>=CUTOFF])\n",
    "\n",
    "weights = np.array(weights)\n",
    "weights = np.argsort(weights)\n",
    "\n",
    "#weights = np.log(weights)\n",
    "#weights = weights + -np.min(weights)\n",
    "#weights = weights / weights.max()\n",
    "\n",
    "#node_color='b', , \n",
    "#arcs.set_color([(0,0,0,w/3) for w in weights])\n",
    "nx.draw_networkx_nodes(G, pos, node_size=1, node_color='black')\n",
    "\n",
    "for ci,c in enumerate(colors):\n",
    "    class_nodes = [x for x in G.nodes if classes.index(a.node_attr['class'][x]) == ci]\n",
    "    #col = plt.cm.gray(ci)\n",
    "    #col = [list(col)]\n",
    "    \n",
    "    nx.draw_networkx_nodes(G, pos, node_size=20, node_color=colors[ci], nodelist=class_nodes, linewidths=1, edgecolors='black')\n",
    "#nx.draw_networkx_nodes(G, pos, node_size=20, node_color='orange', nodelist=[x for x in G.nodes if b.node_attr['role'][x] == 'staff'])\n",
    "\n",
    "#edges2,weights2 = zip(*[((e1,e2),w) for (e1,e2),w in nx.get_edge_attributes(G,'weight').items() if True and 'teacher' in [b.node_attr['role'][e1], b.node_attr['role'][e2]]])\n",
    "#arcs = nx.draw_networkx_edges(G, pos, edgelist=edges2, edge_color=weights2, width=1, edge_cmap=plt.cm.Greys, alpha=1)\n",
    "#edges3,weights3 = zip(*[((e1,e2),w) for (e1,e2),w in nx.get_edge_attributes(G,'weight').items() if w >= 40 and 'teacher' in [b.node_attr['role'][e1], b.node_attr['role'][e2]]])\n",
    "#arcs = nx.draw_networkx_edges(G, pos, edgelist=edges3, edge_color='black', width=1, edge_cmap=None, alpha=0.05)\n",
    "\n",
    "\n",
    "edgesA,weightsA = zip(*[((e1,e2),w) for (e1,e2),w in nx.get_edge_attributes(G,'weight').items()])\n",
    "\n",
    "nx.draw_networkx_edges(G, pos, edgelist=edgesA, node_size=1, edge_color=np.log(np.array(weightsA)+1/10), width=1, edge_cmap=plt.cm.Greys, alpha=1)\n",
    "nx.draw_networkx_edges(G, pos, edgelist=edges, node_size=1, edge_color=weights, width=2, edge_cmap=plt.cm.Blues, alpha=1)\n",
    "\n",
    "    \n",
    "#plt.xlim((-0.3, 0.35))\n",
    "#plt.ylim((-0.45, 0.3))\n",
    "\n",
    "plt.savefig('classes_diagram_limited.1.png', dpi=300)\n",
    "if False:\n",
    "    plt.xlim((\n",
    "        min(x[0] for x in pos.values()),\n",
    "        max(x[0] for x in pos.values())\n",
    "    ))\n",
    "    plt.ylim((\n",
    "        min(x[1] for x in pos.values()),\n",
    "        max(x[1] for x in pos.values())\n",
    "    ))"
   ]
  },
  {
   "cell_type": "code",
   "execution_count": null,
   "metadata": {},
   "outputs": [],
   "source": [
    "fig,ax = plt.subplots(figsize=(10,10))\n",
    "\n",
    "edges,weights = zip(*[((e1,e2),w) for (e1,e2),w in nx.get_edge_attributes(G,'weight').items() if w>=CUTOFF])\n",
    "\n",
    "weights = np.array(weights)\n",
    "weights = np.argsort(weights)\n",
    "\n",
    "#weights = np.log(weights)\n",
    "#weights = weights + -np.min(weights)\n",
    "#weights = weights / weights.max()\n",
    "\n",
    "#node_color='b', , \n",
    "#arcs.set_color([(0,0,0,w/3) for w in weights])\n",
    "nx.draw_networkx_nodes(G, pos, node_size=1, node_color='black')\n",
    "\n",
    "for ci,c in enumerate(colors):\n",
    "    class_nodes = [x for x in G.nodes if classes.index(a.node_attr['class'][x]) == ci]\n",
    "    #col = plt.cm.gray(ci)\n",
    "    #col = [list(col)]\n",
    "    \n",
    "    nx.draw_networkx_nodes(G, pos, node_size=20, node_color=colors[ci], nodelist=class_nodes, linewidths=1, edgecolors='black')\n",
    "#nx.draw_networkx_nodes(G, pos, node_size=20, node_color='orange', nodelist=[x for x in G.nodes if b.node_attr['role'][x] == 'staff'])\n",
    "\n",
    "#edges2,weights2 = zip(*[((e1,e2),w) for (e1,e2),w in nx.get_edge_attributes(G,'weight').items() if True and 'teacher' in [b.node_attr['role'][e1], b.node_attr['role'][e2]]])\n",
    "#arcs = nx.draw_networkx_edges(G, pos, edgelist=edges2, edge_color=weights2, width=1, edge_cmap=plt.cm.Greys, alpha=1)\n",
    "#edges3,weights3 = zip(*[((e1,e2),w) for (e1,e2),w in nx.get_edge_attributes(G,'weight').items() if w >= 40 and 'teacher' in [b.node_attr['role'][e1], b.node_attr['role'][e2]]])\n",
    "#arcs = nx.draw_networkx_edges(G, pos, edgelist=edges3, edge_color='black', width=1, edge_cmap=None, alpha=0.05)\n",
    "\n",
    "\n",
    "edgesA,weightsA = zip(*[((e1,e2),w) for (e1,e2),w in nx.get_edge_attributes(G,'weight').items()])\n",
    "\n",
    "nx.draw_networkx_edges(G, pos, edgelist=edgesA, node_size=1, edge_color=np.log(np.array(weightsA)+1/10), width=1, edge_cmap=plt.cm.Greys, alpha=1)\n",
    "nx.draw_networkx_edges(G, pos, edgelist=edges, node_size=1, edge_color=weights, width=2, edge_cmap=plt.cm.Blues, alpha=1)\n",
    "\n",
    "    \n",
    "#plt.xlim((-0.3, 0.35))\n",
    "#plt.ylim((-0.45, 0.3))\n",
    "\n",
    "plt.savefig('classes_diagram_limited.1.png', dpi=300)\n",
    "if False:\n",
    "    plt.xlim((\n",
    "        min(x[0] for x in pos.values()),\n",
    "        max(x[0] for x in pos.values())\n",
    "    ))\n",
    "    plt.ylim((\n",
    "        min(x[1] for x in pos.values()),\n",
    "        max(x[1] for x in pos.values())\n",
    "    ))"
   ]
  }
 ],
 "metadata": {
  "kernelspec": {
   "display_name": "Python 3 (ipykernel)",
   "language": "python",
   "name": "python3"
  },
  "language_info": {
   "codemirror_mode": {
    "name": "ipython",
    "version": 3
   },
   "file_extension": ".py",
   "mimetype": "text/x-python",
   "name": "python",
   "nbconvert_exporter": "python",
   "pygments_lexer": "ipython3",
   "version": "3.8.9"
  }
 },
 "nbformat": 4,
 "nbformat_minor": 4
}
