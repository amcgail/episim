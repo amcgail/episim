{
 "cells": [
  {
   "cell_type": "code",
   "execution_count": 1,
   "metadata": {},
   "outputs": [],
   "source": [
    "from bulk_simulation_helper import *"
   ]
  },
  {
   "cell_type": "code",
   "execution_count": 2,
   "metadata": {},
   "outputs": [],
   "source": [
    "out_fn = make_file_name( 'full_run_9' )"
   ]
  },
  {
   "cell_type": "code",
   "execution_count": 3,
   "metadata": {},
   "outputs": [],
   "source": [
    "def friendHighDegRandTop3(sim, vaccinateN):\n",
    "    return friendHighDegRandTopN(sim, vaccinateN, N=3)\n",
    "def friendHighDegRandTop5(sim, vaccinateN):\n",
    "    return friendHighDegRandTopN(sim, vaccinateN, N=5)\n",
    "\n",
    "strats = [\n",
    "    friendHighDegRandTop3,\n",
    "    friendHighDegRandTop5,\n",
    "]"
   ]
  },
  {
   "cell_type": "code",
   "execution_count": 4,
   "metadata": {},
   "outputs": [],
   "source": [
    "VACC_Ps = [0.05, 0.10, 0.20]"
   ]
  },
  {
   "cell_type": "code",
   "execution_count": 5,
   "metadata": {},
   "outputs": [],
   "source": [
    "argsx = cp(\n",
    "    [0.05, 0.1, 0.2], # S2E's\n",
    "    [0,1] # tneti's\n",
    ")"
   ]
  },
  {
   "cell_type": "code",
   "execution_count": 6,
   "metadata": {},
   "outputs": [
    {
     "name": "stdout",
     "output_type": "stream",
     "text": [
      "loading network...\n",
      "loading network...\n",
      "loading network...\n",
      "loading network...\n",
      "loading network...\n",
      "loading network...\n"
     ]
    },
    {
     "name": "stderr",
     "output_type": "stream",
     "text": [
      "Exception in thread Thread-7:\n",
      "Traceback (most recent call last):\n",
      "  File \"c:\\users\\am2873\\appdata\\local\\programs\\python\\python39\\lib\\threading.py\", line 950, in _bootstrap_inner\n",
      "    self.run()\n",
      "  File \"c:\\users\\am2873\\appdata\\local\\programs\\python\\python39\\lib\\threading.py\", line 888, in run\n",
      "    self._target(*self._args, **self._kwargs)\n",
      "  File \"C:\\Users\\am2873\\GitHub\\episim\\bulk_simulation_helper.py\", line 21, in start_worker\n",
      "Exception in thread Thread-11    p['s2e'] = params.daily_to_momentary(tnet, S2E)\n",
      "  File \"C:\\Users\\am2873\\GitHub\\episim\\epi_model\\params.py\", line 28, in daily_to_momentary\n",
      ":\n",
      "Traceback (most recent call last):\n",
      "  File \"c:\\users\\am2873\\appdata\\local\\programs\\python\\python39\\lib\\threading.py\", line 950, in _bootstrap_inner\n",
      "    from scipy.optimize import fsolve\n",
      "ModuleNotFoundError: No module named 'scipy'\n",
      "    self.run()\n",
      "  File \"c:\\users\\am2873\\appdata\\local\\programs\\python\\python39\\lib\\threading.py\", line 888, in run\n",
      "Exception in thread Thread-9:\n",
      "Traceback (most recent call last):\n",
      "  File \"c:\\users\\am2873\\appdata\\local\\programs\\python\\python39\\lib\\threading.py\", line 950, in _bootstrap_inner\n",
      "    self._target(*self._args, **self._kwargs)\n",
      "  File \"C:\\Users\\am2873\\GitHub\\episim\\bulk_simulation_helper.py\", line 21, in start_worker\n",
      "    self.run()\n",
      "  File \"c:\\users\\am2873\\appdata\\local\\programs\\python\\python39\\lib\\threading.py\", line 888, in run\n",
      "    p['s2e'] = params.daily_to_momentary(tnet, S2E)\n",
      "  File \"C:\\Users\\am2873\\GitHub\\episim\\epi_model\\params.py\", line 28, in daily_to_momentary\n",
      "    self._target(*self._args, **self._kwargs)\n",
      "  File \"C:\\Users\\am2873\\GitHub\\episim\\bulk_simulation_helper.py\", line 21, in start_worker\n",
      "    from scipy.optimize import fsolve\n",
      "ModuleNotFoundError: No module named 'scipy'\n",
      "    p['s2e'] = params.daily_to_momentary(tnet, S2E)\n",
      "  File \"C:\\Users\\am2873\\GitHub\\episim\\epi_model\\params.py\", line 28, in daily_to_momentary\n",
      "    from scipy.optimize import fsolve\n",
      "ModuleNotFoundError: No module named 'scipy'\n",
      "Exception in thread Thread-10:\n",
      "Traceback (most recent call last):\n",
      "  File \"c:\\users\\am2873\\appdata\\local\\programs\\python\\python39\\lib\\threading.py\", line 950, in _bootstrap_inner\n",
      "    self.run()\n",
      "  File \"c:\\users\\am2873\\appdata\\local\\programs\\python\\python39\\lib\\threading.py\", line 888, in run\n",
      "    self._target(*self._args, **self._kwargs)\n",
      "  File \"C:\\Users\\am2873\\GitHub\\episim\\bulk_simulation_helper.py\", line 21, in start_worker\n",
      "    p['s2e'] = params.daily_to_momentary(tnet, S2E)\n",
      "  File \"C:\\Users\\am2873\\GitHub\\episim\\epi_model\\params.py\", line 28, in daily_to_momentary\n",
      "Exception in thread Thread-8:\n",
      "Traceback (most recent call last):\n",
      "  File \"c:\\users\\am2873\\appdata\\local\\programs\\python\\python39\\lib\\threading.py\", line 950, in _bootstrap_inner\n",
      "        self.run()\n",
      "  File \"c:\\users\\am2873\\appdata\\local\\programs\\python\\python39\\lib\\threading.py\", line 888, in run\n",
      "from scipy.optimize import fsolve\n",
      "ModuleNotFoundError:     self._target(*self._args, **self._kwargs)\n",
      "  File \"C:\\Users\\am2873\\GitHub\\episim\\bulk_simulation_helper.py\", line 21, in start_worker\n",
      "No module named 'scipy'\n",
      "    p['s2e'] = params.daily_to_momentary(tnet, S2E)\n",
      "  File \"C:\\Users\\am2873\\GitHub\\episim\\epi_model\\params.py\", line 28, in daily_to_momentary\n",
      "    Exception in thread from scipy.optimize import fsolve\n",
      "ModuleNotFoundError: No module named 'scipy'\n",
      "Thread-12:\n",
      "Traceback (most recent call last):\n",
      "  File \"c:\\users\\am2873\\appdata\\local\\programs\\python\\python39\\lib\\threading.py\", line 950, in _bootstrap_inner\n",
      "    self.run()\n",
      "  File \"c:\\users\\am2873\\appdata\\local\\programs\\python\\python39\\lib\\threading.py\", line 888, in run\n",
      "    self._target(*self._args, **self._kwargs)\n",
      "  File \"C:\\Users\\am2873\\GitHub\\episim\\bulk_simulation_helper.py\", line 21, in start_worker\n",
      "    p['s2e'] = params.daily_to_momentary(tnet, S2E)\n",
      "  File \"C:\\Users\\am2873\\GitHub\\episim\\epi_model\\params.py\", line 28, in daily_to_momentary\n",
      "    from scipy.optimize import fsolve\n",
      "ModuleNotFoundError: No module named 'scipy'\n"
     ]
    }
   ],
   "source": [
    "threads = []\n",
    "for S2E, tneti in argsx:\n",
    "    t = Thread(target=start_worker, args=(S2E, tneti, VACC_Ps, strats))\n",
    "    t.start()\n",
    "    threads.append(t)\n",
    "        \n",
    "for t in threads:\n",
    "    t.join()"
   ]
  },
  {
   "cell_type": "code",
   "execution_count": 7,
   "metadata": {},
   "outputs": [
    {
     "ename": "IndexError",
     "evalue": "list index out of range",
     "output_type": "error",
     "traceback": [
      "\u001b[1;31m---------------------------------------------------------------------------\u001b[0m",
      "\u001b[1;31mIndexError\u001b[0m                                Traceback (most recent call last)",
      "\u001b[1;32m~\\AppData\\Local\\Temp/ipykernel_4012/627241783.py\u001b[0m in \u001b[0;36m<module>\u001b[1;34m\u001b[0m\n\u001b[1;32m----> 1\u001b[1;33m \u001b[0mlen\u001b[0m\u001b[1;33m(\u001b[0m\u001b[0mms\u001b[0m\u001b[1;33m[\u001b[0m\u001b[0mlist\u001b[0m\u001b[1;33m(\u001b[0m\u001b[0mms\u001b[0m\u001b[1;33m.\u001b[0m\u001b[0mkeys\u001b[0m\u001b[1;33m(\u001b[0m\u001b[1;33m)\u001b[0m\u001b[1;33m)\u001b[0m\u001b[1;33m[\u001b[0m\u001b[1;36m0\u001b[0m\u001b[1;33m]\u001b[0m\u001b[1;33m]\u001b[0m\u001b[1;33m)\u001b[0m\u001b[1;33m\u001b[0m\u001b[1;33m\u001b[0m\u001b[0m\n\u001b[0m",
      "\u001b[1;31mIndexError\u001b[0m: list index out of range"
     ]
    }
   ],
   "source": [
    "len(ms[list(ms.keys())[0]])"
   ]
  },
  {
   "cell_type": "code",
   "execution_count": null,
   "metadata": {},
   "outputs": [],
   "source": [
    "len(ms)"
   ]
  },
  {
   "cell_type": "code",
   "execution_count": null,
   "metadata": {},
   "outputs": [],
   "source": [
    "if True:\n",
    "    import pickle\n",
    "    with open(out_fn, 'wb') as outf:\n",
    "        pickle.dump( ms, outf )"
   ]
  }
 ],
 "metadata": {
  "kernelspec": {
   "display_name": "Python 3 (ipykernel)",
   "language": "python",
   "name": "python3"
  },
  "language_info": {
   "codemirror_mode": {
    "name": "ipython",
    "version": 3
   },
   "file_extension": ".py",
   "mimetype": "text/x-python",
   "name": "python",
   "nbconvert_exporter": "python",
   "pygments_lexer": "ipython3",
   "version": "3.9.0"
  }
 },
 "nbformat": 4,
 "nbformat_minor": 4
}
